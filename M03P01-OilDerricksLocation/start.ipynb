{
 "cells": [
  {
   "cell_type": "markdown",
   "metadata": {},
   "source": [
    "# Выбор локации для скважины"
   ]
  },
  {
   "cell_type": "markdown",
   "metadata": {},
   "source": [
    "Допустим, вы работаете в добывающей компании «ГлавРосГосНефть». Нужно решить, где бурить новую скважину.\n",
    "\n",
    "Вам предоставлены пробы нефти в трёх регионах: в каждом 10 000 месторождений, где измерили качество нефти и объём её запасов. Постройте модель машинного обучения, которая поможет определить регион, где добыча принесёт наибольшую прибыль. Проанализируйте возможную прибыль и риски техникой *Bootstrap.*\n",
    "\n",
    "Шаги для выбора локации:\n",
    "\n",
    "- В избранном регионе ищут месторождения, для каждого определяют значения признаков;\n",
    "- Строят модель и оценивают объём запасов;\n",
    "- Выбирают месторождения с самым высокими оценками значений. Количество месторождений зависит от бюджета компании и стоимости разработки одной скважины;\n",
    "- Прибыль равна суммарной прибыли отобранных месторождений."
   ]
  },
  {
   "cell_type": "markdown",
   "metadata": {},
   "source": [
    "Загрузка необходимых библиотек:"
   ]
  },
  {
   "cell_type": "code",
   "execution_count": 1,
   "metadata": {},
   "outputs": [
    {
     "name": "stderr",
     "output_type": "stream",
     "text": [
      "WARNING: Ignoring invalid distribution -atplotlib (w:\\_practicumyandex\\practicum\\practicum_env\\lib\\site-packages)\n",
      "WARNING: Ignoring invalid distribution -atplotlib (w:\\_practicumyandex\\practicum\\practicum_env\\lib\\site-packages)\n",
      "WARNING: Ignoring invalid distribution -atplotlib (w:\\_practicumyandex\\practicum\\practicum_env\\lib\\site-packages)\n",
      "WARNING: Ignoring invalid distribution -atplotlib (w:\\_practicumyandex\\practicum\\practicum_env\\lib\\site-packages)\n",
      "WARNING: Ignoring invalid distribution -atplotlib (w:\\_practicumyandex\\practicum\\practicum_env\\lib\\site-packages)\n",
      "WARNING: Ignoring invalid distribution -atplotlib (w:\\_practicumyandex\\practicum\\practicum_env\\lib\\site-packages)\n",
      "WARNING: Ignoring invalid distribution -atplotlib (w:\\_practicumyandex\\practicum\\practicum_env\\lib\\site-packages)\n",
      "WARNING: Ignoring invalid distribution -atplotlib (w:\\_practicumyandex\\practicum\\practicum_env\\lib\\site-packages)\n",
      "WARNING: Ignoring invalid distribution -atplotlib (w:\\_practicumyandex\\practicum\\practicum_env\\lib\\site-packages)\n",
      "WARNING: Ignoring invalid distribution -atplotlib (w:\\_practicumyandex\\practicum\\practicum_env\\lib\\site-packages)\n"
     ]
    }
   ],
   "source": [
    "!pip install -q phik==0.11.1\n",
    "!pip install -q scikit-learn==1.1.3\n",
    "!pip install -q catboost\n",
    "!pip install -q shap\n",
    "!pip install -q optuna "
   ]
  },
  {
   "cell_type": "code",
   "execution_count": 3,
   "metadata": {},
   "outputs": [],
   "source": [
    "import pandas as pd\n",
    "import seaborn as sns\n",
    "import numpy as np\n",
    "import matplotlib.pyplot as plt\n",
    "from scipy.stats import shapiro\n",
    "from scipy import stats as st\n",
    "import phik"
   ]
  },
  {
   "cell_type": "markdown",
   "metadata": {},
   "source": [
    "## Загрузка и подготовка данных"
   ]
  },
  {
   "cell_type": "markdown",
   "metadata": {},
   "source": [
    "Чтение исходных данных в таблицы:"
   ]
  },
  {
   "cell_type": "code",
   "execution_count": 5,
   "metadata": {},
   "outputs": [],
   "source": [
    "try:\n",
    "    derrick1area = pd.read_csv('geo_data_0.csv')\n",
    "    derrick2area = pd.read_csv('geo_data_1.csv')\n",
    "    derrick3area = pd.read_csv('geo_data_2.csv')\n",
    "except:\n",
    "    derrick1area = pd.read_csv('/datasets/geo_data_0.csv')\n",
    "    derrick2area = pd.read_csv('/datasets/geo_data_1.csv')\n",
    "    derrick3area = pd.read_csv('/datasets/geo_data_2.csv')"
   ]
  },
  {
   "cell_type": "markdown",
   "metadata": {},
   "source": [
    "Выполним небольшую предобработку данных, хотя данные не разнообразны и скорее всего проблем нет."
   ]
  },
  {
   "cell_type": "code",
   "execution_count": 6,
   "metadata": {},
   "outputs": [],
   "source": [
    "table_set = [derrick1area, derrick2area, derrick3area]\n",
    "table_names =  ['группа скажин-1', 'группа скажин-2', 'группа скажин-3']"
   ]
  },
  {
   "cell_type": "code",
   "execution_count": 7,
   "metadata": {},
   "outputs": [
    {
     "data": {
      "text/html": [
       "<div>\n",
       "<style scoped>\n",
       "    .dataframe tbody tr th:only-of-type {\n",
       "        vertical-align: middle;\n",
       "    }\n",
       "\n",
       "    .dataframe tbody tr th {\n",
       "        vertical-align: top;\n",
       "    }\n",
       "\n",
       "    .dataframe thead th {\n",
       "        text-align: right;\n",
       "    }\n",
       "</style>\n",
       "<table border=\"1\" class=\"dataframe\">\n",
       "  <thead>\n",
       "    <tr style=\"text-align: right;\">\n",
       "      <th></th>\n",
       "      <th>id</th>\n",
       "      <th>f0</th>\n",
       "      <th>f1</th>\n",
       "      <th>f2</th>\n",
       "      <th>product</th>\n",
       "    </tr>\n",
       "  </thead>\n",
       "  <tbody>\n",
       "    <tr>\n",
       "      <th>5282</th>\n",
       "      <td>5k6sX</td>\n",
       "      <td>-0.239412</td>\n",
       "      <td>1.101276</td>\n",
       "      <td>-2.293092</td>\n",
       "      <td>133.534396</td>\n",
       "    </tr>\n",
       "    <tr>\n",
       "      <th>75025</th>\n",
       "      <td>VK0gO</td>\n",
       "      <td>0.867475</td>\n",
       "      <td>0.168868</td>\n",
       "      <td>3.299960</td>\n",
       "      <td>78.676128</td>\n",
       "    </tr>\n",
       "    <tr>\n",
       "      <th>95501</th>\n",
       "      <td>O5fHc</td>\n",
       "      <td>-0.902717</td>\n",
       "      <td>0.601422</td>\n",
       "      <td>-1.688709</td>\n",
       "      <td>78.375600</td>\n",
       "    </tr>\n",
       "  </tbody>\n",
       "</table>\n",
       "</div>"
      ],
      "text/plain": [
       "          id        f0        f1        f2     product\n",
       "5282   5k6sX -0.239412  1.101276 -2.293092  133.534396\n",
       "75025  VK0gO  0.867475  0.168868  3.299960   78.676128\n",
       "95501  O5fHc -0.902717  0.601422 -1.688709   78.375600"
      ]
     },
     "metadata": {},
     "output_type": "display_data"
    },
    {
     "data": {
      "text/html": [
       "<div>\n",
       "<style scoped>\n",
       "    .dataframe tbody tr th:only-of-type {\n",
       "        vertical-align: middle;\n",
       "    }\n",
       "\n",
       "    .dataframe tbody tr th {\n",
       "        vertical-align: top;\n",
       "    }\n",
       "\n",
       "    .dataframe thead th {\n",
       "        text-align: right;\n",
       "    }\n",
       "</style>\n",
       "<table border=\"1\" class=\"dataframe\">\n",
       "  <thead>\n",
       "    <tr style=\"text-align: right;\">\n",
       "      <th></th>\n",
       "      <th>id</th>\n",
       "      <th>f0</th>\n",
       "      <th>f1</th>\n",
       "      <th>f2</th>\n",
       "      <th>product</th>\n",
       "    </tr>\n",
       "  </thead>\n",
       "  <tbody>\n",
       "    <tr>\n",
       "      <th>41700</th>\n",
       "      <td>ltPJD</td>\n",
       "      <td>14.12147</td>\n",
       "      <td>-5.751657</td>\n",
       "      <td>-0.006526</td>\n",
       "      <td>0.000000</td>\n",
       "    </tr>\n",
       "    <tr>\n",
       "      <th>98058</th>\n",
       "      <td>KQM0v</td>\n",
       "      <td>-4.25627</td>\n",
       "      <td>2.057889</td>\n",
       "      <td>0.012264</td>\n",
       "      <td>3.179103</td>\n",
       "    </tr>\n",
       "    <tr>\n",
       "      <th>24644</th>\n",
       "      <td>zWGHr</td>\n",
       "      <td>5.15873</td>\n",
       "      <td>-4.656169</td>\n",
       "      <td>1.996458</td>\n",
       "      <td>53.906522</td>\n",
       "    </tr>\n",
       "  </tbody>\n",
       "</table>\n",
       "</div>"
      ],
      "text/plain": [
       "          id        f0        f1        f2    product\n",
       "41700  ltPJD  14.12147 -5.751657 -0.006526   0.000000\n",
       "98058  KQM0v  -4.25627  2.057889  0.012264   3.179103\n",
       "24644  zWGHr   5.15873 -4.656169  1.996458  53.906522"
      ]
     },
     "metadata": {},
     "output_type": "display_data"
    },
    {
     "data": {
      "text/html": [
       "<div>\n",
       "<style scoped>\n",
       "    .dataframe tbody tr th:only-of-type {\n",
       "        vertical-align: middle;\n",
       "    }\n",
       "\n",
       "    .dataframe tbody tr th {\n",
       "        vertical-align: top;\n",
       "    }\n",
       "\n",
       "    .dataframe thead th {\n",
       "        text-align: right;\n",
       "    }\n",
       "</style>\n",
       "<table border=\"1\" class=\"dataframe\">\n",
       "  <thead>\n",
       "    <tr style=\"text-align: right;\">\n",
       "      <th></th>\n",
       "      <th>id</th>\n",
       "      <th>f0</th>\n",
       "      <th>f1</th>\n",
       "      <th>f2</th>\n",
       "      <th>product</th>\n",
       "    </tr>\n",
       "  </thead>\n",
       "  <tbody>\n",
       "    <tr>\n",
       "      <th>33560</th>\n",
       "      <td>0rPZI</td>\n",
       "      <td>0.634436</td>\n",
       "      <td>-1.359932</td>\n",
       "      <td>8.031346</td>\n",
       "      <td>121.303249</td>\n",
       "    </tr>\n",
       "    <tr>\n",
       "      <th>49357</th>\n",
       "      <td>QkYGx</td>\n",
       "      <td>0.549825</td>\n",
       "      <td>0.092766</td>\n",
       "      <td>-1.183060</td>\n",
       "      <td>105.582962</td>\n",
       "    </tr>\n",
       "    <tr>\n",
       "      <th>77079</th>\n",
       "      <td>qfQB1</td>\n",
       "      <td>-0.613297</td>\n",
       "      <td>3.198540</td>\n",
       "      <td>2.385271</td>\n",
       "      <td>133.344769</td>\n",
       "    </tr>\n",
       "  </tbody>\n",
       "</table>\n",
       "</div>"
      ],
      "text/plain": [
       "          id        f0        f1        f2     product\n",
       "33560  0rPZI  0.634436 -1.359932  8.031346  121.303249\n",
       "49357  QkYGx  0.549825  0.092766 -1.183060  105.582962\n",
       "77079  qfQB1 -0.613297  3.198540  2.385271  133.344769"
      ]
     },
     "metadata": {},
     "output_type": "display_data"
    }
   ],
   "source": [
    "[display(item.sample(3)) for item in table_set];   "
   ]
  },
  {
   "cell_type": "markdown",
   "metadata": {},
   "source": [
    " - Все таблицы содержат одинаковые столбцы, в том числе id номер скважины;\n",
    " - Все основные данные числовые непрерывные."
   ]
  },
  {
   "cell_type": "code",
   "execution_count": 9,
   "metadata": {},
   "outputs": [
    {
     "name": "stdout",
     "output_type": "stream",
     "text": [
      "<class 'pandas.core.frame.DataFrame'>\n",
      "RangeIndex: 100000 entries, 0 to 99999\n",
      "Data columns (total 5 columns):\n",
      " #   Column   Non-Null Count   Dtype  \n",
      "---  ------   --------------   -----  \n",
      " 0   id       100000 non-null  object \n",
      " 1   f0       100000 non-null  float64\n",
      " 2   f1       100000 non-null  float64\n",
      " 3   f2       100000 non-null  float64\n",
      " 4   product  100000 non-null  float64\n",
      "dtypes: float64(4), object(1)\n",
      "memory usage: 3.8+ MB\n",
      "<class 'pandas.core.frame.DataFrame'>\n",
      "RangeIndex: 100000 entries, 0 to 99999\n",
      "Data columns (total 5 columns):\n",
      " #   Column   Non-Null Count   Dtype  \n",
      "---  ------   --------------   -----  \n",
      " 0   id       100000 non-null  object \n",
      " 1   f0       100000 non-null  float64\n",
      " 2   f1       100000 non-null  float64\n",
      " 3   f2       100000 non-null  float64\n",
      " 4   product  100000 non-null  float64\n",
      "dtypes: float64(4), object(1)\n",
      "memory usage: 3.8+ MB\n",
      "<class 'pandas.core.frame.DataFrame'>\n",
      "RangeIndex: 100000 entries, 0 to 99999\n",
      "Data columns (total 5 columns):\n",
      " #   Column   Non-Null Count   Dtype  \n",
      "---  ------   --------------   -----  \n",
      " 0   id       100000 non-null  object \n",
      " 1   f0       100000 non-null  float64\n",
      " 2   f1       100000 non-null  float64\n",
      " 3   f2       100000 non-null  float64\n",
      " 4   product  100000 non-null  float64\n",
      "dtypes: float64(4), object(1)\n",
      "memory usage: 3.8+ MB\n"
     ]
    }
   ],
   "source": [
    "[item.info() for item in table_set];"
   ]
  },
  {
   "cell_type": "markdown",
   "metadata": {},
   "source": [
    " - Пропусков в данных нет"
   ]
  },
  {
   "cell_type": "markdown",
   "metadata": {},
   "source": [
    "Проверим данные на наличие явных дубликатов:"
   ]
  },
  {
   "cell_type": "code",
   "execution_count": 22,
   "metadata": {},
   "outputs": [
    {
     "name": "stdout",
     "output_type": "stream",
     "text": [
      "Количество дубликатов по таблицам: \" группа скажин-1 \" 0\n",
      "Количество дубликатов по таблицам: \" группа скажин-2 \" 0\n",
      "Количество дубликатов по таблицам: \" группа скажин-3 \" 0\n"
     ]
    }
   ],
   "source": [
    "[print('Количество дубликатов по таблицам:', '\"', table_names[i], '\"' ,item.duplicated().sum()) for i, item in enumerate(table_set)]; "
   ]
  },
  {
   "cell_type": "markdown",
   "metadata": {},
   "source": [
    " - Явных дубликатов нет"
   ]
  },
  {
   "cell_type": "markdown",
   "metadata": {},
   "source": [
    "Возможно оставить индексацию по номеру, а можно перейти к индексации по 'id' - что имеет больше смысла (в том числе сразу исключаем id из списка признаков при обучении модели - это не проблема но что тянуть)"
   ]
  },
  {
   "cell_type": "code",
   "execution_count": 25,
   "metadata": {},
   "outputs": [],
   "source": [
    "[item.set_index('id', inplace=True) for item in table_set];"
   ]
  },
  {
   "cell_type": "markdown",
   "metadata": {},
   "source": [
    "Проверим на дубликаты в данных еще раз без учета 'id' потому, что он не является значимым признаком, а чтобы не переобучить модель на тренеровочной выборке их не должно быть. Хотя на выборки делим позже, но проверить сейчас нам ничего не мешает."
   ]
  },
  {
   "cell_type": "code",
   "execution_count": 26,
   "metadata": {},
   "outputs": [
    {
     "name": "stdout",
     "output_type": "stream",
     "text": [
      "Количество дубликатов по таблицам: \" группа скажин-1 \" 0\n",
      "Количество дубликатов по таблицам: \" группа скажин-2 \" 0\n",
      "Количество дубликатов по таблицам: \" группа скажин-3 \" 0\n"
     ]
    }
   ],
   "source": [
    "[print('Количество дубликатов по таблицам:', '\"', table_names[i], '\"' ,item.duplicated().sum()) for i, item in enumerate(table_set)]; "
   ]
  },
  {
   "cell_type": "markdown",
   "metadata": {},
   "source": [
    " - Явных дубликатов нет"
   ]
  },
  {
   "cell_type": "code",
   "execution_count": null,
   "metadata": {},
   "outputs": [],
   "source": []
  },
  {
   "cell_type": "code",
   "execution_count": null,
   "metadata": {},
   "outputs": [],
   "source": []
  },
  {
   "cell_type": "code",
   "execution_count": null,
   "metadata": {},
   "outputs": [],
   "source": []
  },
  {
   "cell_type": "code",
   "execution_count": null,
   "metadata": {},
   "outputs": [],
   "source": []
  },
  {
   "cell_type": "code",
   "execution_count": null,
   "metadata": {},
   "outputs": [],
   "source": []
  },
  {
   "cell_type": "markdown",
   "metadata": {},
   "source": [
    "**Вывод:** Данные загружены и обработаны, противоречий нет, не выявлено наличие Nan или иных дефектов."
   ]
  },
  {
   "cell_type": "markdown",
   "metadata": {},
   "source": [
    "## Обучение и проверка модели"
   ]
  },
  {
   "cell_type": "code",
   "execution_count": null,
   "metadata": {},
   "outputs": [],
   "source": []
  },
  {
   "cell_type": "markdown",
   "metadata": {},
   "source": [
    "## Подготовка к расчёту прибыли"
   ]
  },
  {
   "cell_type": "code",
   "execution_count": null,
   "metadata": {},
   "outputs": [],
   "source": []
  },
  {
   "cell_type": "markdown",
   "metadata": {},
   "source": [
    "## Расчёт прибыли и рисков "
   ]
  },
  {
   "cell_type": "code",
   "execution_count": null,
   "metadata": {},
   "outputs": [],
   "source": []
  },
  {
   "cell_type": "markdown",
   "metadata": {},
   "source": [
    "## Чек-лист готовности проекта"
   ]
  },
  {
   "cell_type": "markdown",
   "metadata": {},
   "source": [
    "Поставьте 'x' в выполненных пунктах. Далее нажмите Shift+Enter."
   ]
  },
  {
   "cell_type": "markdown",
   "metadata": {},
   "source": [
    "- [x]  Jupyter Notebook открыт\n",
    "- [ ]  Весь код выполняется без ошибок\n",
    "- [ ]  Ячейки с кодом расположены в порядке исполнения\n",
    "- [ ]  Выполнен шаг 1: данные подготовлены\n",
    "- [ ]  Выполнен шаг 2: модели обучены и проверены\n",
    "    - [ ]  Данные корректно разбиты на обучающую и валидационную выборки\n",
    "    - [ ]  Модели обучены, предсказания сделаны\n",
    "    - [ ]  Предсказания и правильные ответы на валидационной выборке сохранены\n",
    "    - [ ]  На экране напечатаны результаты\n",
    "    - [ ]  Сделаны выводы\n",
    "- [ ]  Выполнен шаг 3: проведена подготовка к расчёту прибыли\n",
    "    - [ ]  Для всех ключевых значений созданы константы Python\n",
    "    - [ ]  Посчитано минимальное среднее количество продукта в месторождениях региона, достаточное для разработки\n",
    "    - [ ]  По предыдущему пункту сделаны выводы\n",
    "    - [ ]  Написана функция расчёта прибыли\n",
    "- [ ]  Выполнен шаг 4: посчитаны риски и прибыль\n",
    "    - [ ]  Проведена процедура *Bootstrap*\n",
    "    - [ ]  Все параметры бутстрепа соответствуют условию\n",
    "    - [ ]  Найдены все нужные величины\n",
    "    - [ ]  Предложен регион для разработки месторождения\n",
    "    - [ ]  Выбор региона обоснован"
   ]
  },
  {
   "cell_type": "code",
   "execution_count": null,
   "metadata": {},
   "outputs": [],
   "source": []
  }
 ],
 "metadata": {
  "kernelspec": {
   "display_name": "Python 3 (ipykernel)",
   "language": "python",
   "name": "python3"
  },
  "language_info": {
   "codemirror_mode": {
    "name": "ipython",
    "version": 3
   },
   "file_extension": ".py",
   "mimetype": "text/x-python",
   "name": "python",
   "nbconvert_exporter": "python",
   "pygments_lexer": "ipython3",
   "version": "3.9.7"
  },
  "toc": {
   "base_numbering": 1,
   "nav_menu": {},
   "number_sections": true,
   "sideBar": true,
   "skip_h1_title": true,
   "title_cell": "Table of Contents",
   "title_sidebar": "Contents",
   "toc_cell": false,
   "toc_position": {},
   "toc_section_display": true,
   "toc_window_display": false
  }
 },
 "nbformat": 4,
 "nbformat_minor": 4
}
