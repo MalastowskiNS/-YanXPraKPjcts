{
 "cells": [
  {
   "cell_type": "markdown",
   "metadata": {},
   "source": [
    "# Выбор локации для скважины"
   ]
  },
  {
   "cell_type": "markdown",
   "metadata": {},
   "source": [
    "Допустим, вы работаете в добывающей компании «ГлавРосГосНефть». Нужно решить, где бурить новую скважину.\n",
    "\n",
    "Вам предоставлены пробы нефти в трёх регионах: в каждом 10 000 месторождений, где измерили качество нефти и объём её запасов. Постройте модель машинного обучения, которая поможет определить регион, где добыча принесёт наибольшую прибыль. Проанализируйте возможную прибыль и риски техникой *Bootstrap.*\n",
    "\n",
    "Шаги для выбора локации:\n",
    "\n",
    "- В избранном регионе ищут месторождения, для каждого определяют значения признаков;\n",
    "- Строят модель и оценивают объём запасов;\n",
    "- Выбирают месторождения с самым высокими оценками значений. Количество месторождений зависит от бюджета компании и стоимости разработки одной скважины;\n",
    "- Прибыль равна суммарной прибыли отобранных месторождений."
   ]
  },
  {
   "cell_type": "markdown",
   "metadata": {},
   "source": [
    "Загрузка необходимых библиотек:"
   ]
  },
  {
   "cell_type": "code",
   "execution_count": 3,
   "metadata": {},
   "outputs": [
    {
     "name": "stderr",
     "output_type": "stream",
     "text": [
      "WARNING: Ignoring invalid distribution -atplotlib (w:\\_practicumyandex\\practicum\\practicum_env\\lib\\site-packages)\n",
      "WARNING: Ignoring invalid distribution -atplotlib (w:\\_practicumyandex\\practicum\\practicum_env\\lib\\site-packages)\n",
      "WARNING: Ignoring invalid distribution -atplotlib (w:\\_practicumyandex\\practicum\\practicum_env\\lib\\site-packages)\n",
      "WARNING: Ignoring invalid distribution -atplotlib (w:\\_practicumyandex\\practicum\\practicum_env\\lib\\site-packages)\n",
      "WARNING: Ignoring invalid distribution -atplotlib (w:\\_practicumyandex\\practicum\\practicum_env\\lib\\site-packages)\n",
      "WARNING: Ignoring invalid distribution -atplotlib (w:\\_practicumyandex\\practicum\\practicum_env\\lib\\site-packages)\n",
      "WARNING: Ignoring invalid distribution -atplotlib (w:\\_practicumyandex\\practicum\\practicum_env\\lib\\site-packages)\n",
      "WARNING: Ignoring invalid distribution -atplotlib (w:\\_practicumyandex\\practicum\\practicum_env\\lib\\site-packages)\n",
      "WARNING: Ignoring invalid distribution -atplotlib (w:\\_practicumyandex\\practicum\\practicum_env\\lib\\site-packages)\n",
      "WARNING: Ignoring invalid distribution -atplotlib (w:\\_practicumyandex\\practicum\\practicum_env\\lib\\site-packages)\n",
      "WARNING: Ignoring invalid distribution -atplotlib (w:\\_practicumyandex\\practicum\\practicum_env\\lib\\site-packages)\n",
      "WARNING: Ignoring invalid distribution -atplotlib (w:\\_practicumyandex\\practicum\\practicum_env\\lib\\site-packages)\n"
     ]
    }
   ],
   "source": [
    "!pip install -q phik==0.11.1\n",
    "!pip install -q scikit-learn==1.1.3\n",
    "!pip install -q catboost\n",
    "!pip install -q shap\n",
    "!pip install -q optuna \n",
    "!pip install -q vega"
   ]
  },
  {
   "cell_type": "code",
   "execution_count": 4,
   "metadata": {},
   "outputs": [],
   "source": [
    "import pandas as pd\n",
    "import seaborn as sns\n",
    "import numpy as np\n",
    "\n",
    "import matplotlib.pyplot as plt\n",
    "from scipy.stats import shapiro\n",
    "from scipy import stats as st\n",
    "import phik"
   ]
  },
  {
   "cell_type": "code",
   "execution_count": 220,
   "metadata": {},
   "outputs": [],
   "source": [
    "# подготовка данных\n",
    "from sklearn.model_selection import train_test_split, cross_val_score\n",
    "# модели\n",
    "from sklearn.linear_model import LogisticRegression, LinearRegression, Ridge, Lasso\n",
    "from catboost import CatBoostClassifier, CatBoostRegressor\n",
    "from sklearn.tree import DecisionTreeClassifier, DecisionTreeRegressor\n",
    "from sklearn.neighbors import KNeighborsClassifier\n",
    "from sklearn.ensemble import RandomForestRegressor\n",
    "from sklearn.svm import SVC\n",
    "from optuna.integration import OptunaSearchCV\n",
    "from optuna import distributions, visualization\n",
    "from sklearn.dummy import DummyRegressor, DummyClassifier\n",
    "import optuna\n",
    "# pipeline\n",
    "from sklearn.pipeline import Pipeline\n",
    "from sklearn.compose import ColumnTransformer\n",
    "from sklearn.impute import SimpleImputer\n",
    "from sklearn.preprocessing import StandardScaler, OneHotEncoder, MinMaxScaler, OrdinalEncoder, RobustScaler, QuantileTransformer, LabelEncoder\n",
    "from sklearn.model_selection import RandomizedSearchCV\n",
    "# метрики регрессии\n",
    "from sklearn.metrics import roc_auc_score, accuracy_score, confusion_matrix, precision_score, recall_score, mean_absolute_error\n",
    "# загружаем функцию для оценки значимости признаков при классификации \n",
    "import shap"
   ]
  },
  {
   "cell_type": "markdown",
   "metadata": {},
   "source": [
    "## Загрузка и подготовка данных"
   ]
  },
  {
   "cell_type": "markdown",
   "metadata": {},
   "source": [
    "Чтение исходных данных в таблицы:"
   ]
  },
  {
   "cell_type": "code",
   "execution_count": 5,
   "metadata": {},
   "outputs": [],
   "source": [
    "try:\n",
    "    derrick1area = pd.read_csv('geo_data_0.csv')\n",
    "    derrick2area = pd.read_csv('geo_data_1.csv')\n",
    "    derrick3area = pd.read_csv('geo_data_2.csv')\n",
    "except:\n",
    "    derrick1area = pd.read_csv('/datasets/geo_data_0.csv')\n",
    "    derrick2area = pd.read_csv('/datasets/geo_data_1.csv')\n",
    "    derrick3area = pd.read_csv('/datasets/geo_data_2.csv')"
   ]
  },
  {
   "cell_type": "markdown",
   "metadata": {},
   "source": [
    "Выполним небольшую предобработку данных, хотя данные не разнообразны и скорее всего проблем нет."
   ]
  },
  {
   "cell_type": "code",
   "execution_count": 6,
   "metadata": {},
   "outputs": [],
   "source": [
    "table_set = [derrick1area, derrick2area, derrick3area]\n",
    "table_names =  ['группа скажин-1', 'группа скажин-2', 'группа скажин-3']"
   ]
  },
  {
   "cell_type": "code",
   "execution_count": 7,
   "metadata": {},
   "outputs": [
    {
     "data": {
      "text/html": [
       "<div>\n",
       "<style scoped>\n",
       "    .dataframe tbody tr th:only-of-type {\n",
       "        vertical-align: middle;\n",
       "    }\n",
       "\n",
       "    .dataframe tbody tr th {\n",
       "        vertical-align: top;\n",
       "    }\n",
       "\n",
       "    .dataframe thead th {\n",
       "        text-align: right;\n",
       "    }\n",
       "</style>\n",
       "<table border=\"1\" class=\"dataframe\">\n",
       "  <thead>\n",
       "    <tr style=\"text-align: right;\">\n",
       "      <th></th>\n",
       "      <th>id</th>\n",
       "      <th>f0</th>\n",
       "      <th>f1</th>\n",
       "      <th>f2</th>\n",
       "      <th>product</th>\n",
       "    </tr>\n",
       "  </thead>\n",
       "  <tbody>\n",
       "    <tr>\n",
       "      <th>74013</th>\n",
       "      <td>QgF3q</td>\n",
       "      <td>1.902064</td>\n",
       "      <td>0.164996</td>\n",
       "      <td>2.343126</td>\n",
       "      <td>139.017676</td>\n",
       "    </tr>\n",
       "    <tr>\n",
       "      <th>64936</th>\n",
       "      <td>CS7J6</td>\n",
       "      <td>1.288268</td>\n",
       "      <td>-0.388358</td>\n",
       "      <td>7.720459</td>\n",
       "      <td>148.659328</td>\n",
       "    </tr>\n",
       "    <tr>\n",
       "      <th>83926</th>\n",
       "      <td>qm4hn</td>\n",
       "      <td>0.240526</td>\n",
       "      <td>-0.153789</td>\n",
       "      <td>-1.771338</td>\n",
       "      <td>62.371270</td>\n",
       "    </tr>\n",
       "  </tbody>\n",
       "</table>\n",
       "</div>"
      ],
      "text/plain": [
       "          id        f0        f1        f2     product\n",
       "74013  QgF3q  1.902064  0.164996  2.343126  139.017676\n",
       "64936  CS7J6  1.288268 -0.388358  7.720459  148.659328\n",
       "83926  qm4hn  0.240526 -0.153789 -1.771338   62.371270"
      ]
     },
     "metadata": {},
     "output_type": "display_data"
    },
    {
     "data": {
      "text/html": [
       "<div>\n",
       "<style scoped>\n",
       "    .dataframe tbody tr th:only-of-type {\n",
       "        vertical-align: middle;\n",
       "    }\n",
       "\n",
       "    .dataframe tbody tr th {\n",
       "        vertical-align: top;\n",
       "    }\n",
       "\n",
       "    .dataframe thead th {\n",
       "        text-align: right;\n",
       "    }\n",
       "</style>\n",
       "<table border=\"1\" class=\"dataframe\">\n",
       "  <thead>\n",
       "    <tr style=\"text-align: right;\">\n",
       "      <th></th>\n",
       "      <th>id</th>\n",
       "      <th>f0</th>\n",
       "      <th>f1</th>\n",
       "      <th>f2</th>\n",
       "      <th>product</th>\n",
       "    </tr>\n",
       "  </thead>\n",
       "  <tbody>\n",
       "    <tr>\n",
       "      <th>10317</th>\n",
       "      <td>zqV7O</td>\n",
       "      <td>-4.798981</td>\n",
       "      <td>-6.217620</td>\n",
       "      <td>3.996943</td>\n",
       "      <td>110.992147</td>\n",
       "    </tr>\n",
       "    <tr>\n",
       "      <th>42605</th>\n",
       "      <td>gPfVP</td>\n",
       "      <td>9.634902</td>\n",
       "      <td>-5.152943</td>\n",
       "      <td>3.994324</td>\n",
       "      <td>107.813044</td>\n",
       "    </tr>\n",
       "    <tr>\n",
       "      <th>4217</th>\n",
       "      <td>dK6LJ</td>\n",
       "      <td>-5.872097</td>\n",
       "      <td>0.064513</td>\n",
       "      <td>4.998300</td>\n",
       "      <td>137.945408</td>\n",
       "    </tr>\n",
       "  </tbody>\n",
       "</table>\n",
       "</div>"
      ],
      "text/plain": [
       "          id        f0        f1        f2     product\n",
       "10317  zqV7O -4.798981 -6.217620  3.996943  110.992147\n",
       "42605  gPfVP  9.634902 -5.152943  3.994324  107.813044\n",
       "4217   dK6LJ -5.872097  0.064513  4.998300  137.945408"
      ]
     },
     "metadata": {},
     "output_type": "display_data"
    },
    {
     "data": {
      "text/html": [
       "<div>\n",
       "<style scoped>\n",
       "    .dataframe tbody tr th:only-of-type {\n",
       "        vertical-align: middle;\n",
       "    }\n",
       "\n",
       "    .dataframe tbody tr th {\n",
       "        vertical-align: top;\n",
       "    }\n",
       "\n",
       "    .dataframe thead th {\n",
       "        text-align: right;\n",
       "    }\n",
       "</style>\n",
       "<table border=\"1\" class=\"dataframe\">\n",
       "  <thead>\n",
       "    <tr style=\"text-align: right;\">\n",
       "      <th></th>\n",
       "      <th>id</th>\n",
       "      <th>f0</th>\n",
       "      <th>f1</th>\n",
       "      <th>f2</th>\n",
       "      <th>product</th>\n",
       "    </tr>\n",
       "  </thead>\n",
       "  <tbody>\n",
       "    <tr>\n",
       "      <th>46209</th>\n",
       "      <td>3yMWq</td>\n",
       "      <td>1.414958</td>\n",
       "      <td>1.579373</td>\n",
       "      <td>1.798071</td>\n",
       "      <td>163.597299</td>\n",
       "    </tr>\n",
       "    <tr>\n",
       "      <th>82375</th>\n",
       "      <td>6X9WN</td>\n",
       "      <td>1.299101</td>\n",
       "      <td>-2.277118</td>\n",
       "      <td>-2.761174</td>\n",
       "      <td>33.341222</td>\n",
       "    </tr>\n",
       "    <tr>\n",
       "      <th>90588</th>\n",
       "      <td>MZGKm</td>\n",
       "      <td>-0.146767</td>\n",
       "      <td>-0.302262</td>\n",
       "      <td>-6.416051</td>\n",
       "      <td>48.472349</td>\n",
       "    </tr>\n",
       "  </tbody>\n",
       "</table>\n",
       "</div>"
      ],
      "text/plain": [
       "          id        f0        f1        f2     product\n",
       "46209  3yMWq  1.414958  1.579373  1.798071  163.597299\n",
       "82375  6X9WN  1.299101 -2.277118 -2.761174   33.341222\n",
       "90588  MZGKm -0.146767 -0.302262 -6.416051   48.472349"
      ]
     },
     "metadata": {},
     "output_type": "display_data"
    }
   ],
   "source": [
    "[display(item.sample(3)) for item in table_set];   "
   ]
  },
  {
   "cell_type": "markdown",
   "metadata": {},
   "source": [
    " - Все таблицы содержат одинаковые столбцы, в том числе id номер скважины;\n",
    " - Все основные данные числовые непрерывные."
   ]
  },
  {
   "cell_type": "code",
   "execution_count": 8,
   "metadata": {},
   "outputs": [
    {
     "name": "stdout",
     "output_type": "stream",
     "text": [
      "<class 'pandas.core.frame.DataFrame'>\n",
      "RangeIndex: 100000 entries, 0 to 99999\n",
      "Data columns (total 5 columns):\n",
      " #   Column   Non-Null Count   Dtype  \n",
      "---  ------   --------------   -----  \n",
      " 0   id       100000 non-null  object \n",
      " 1   f0       100000 non-null  float64\n",
      " 2   f1       100000 non-null  float64\n",
      " 3   f2       100000 non-null  float64\n",
      " 4   product  100000 non-null  float64\n",
      "dtypes: float64(4), object(1)\n",
      "memory usage: 3.8+ MB\n",
      "<class 'pandas.core.frame.DataFrame'>\n",
      "RangeIndex: 100000 entries, 0 to 99999\n",
      "Data columns (total 5 columns):\n",
      " #   Column   Non-Null Count   Dtype  \n",
      "---  ------   --------------   -----  \n",
      " 0   id       100000 non-null  object \n",
      " 1   f0       100000 non-null  float64\n",
      " 2   f1       100000 non-null  float64\n",
      " 3   f2       100000 non-null  float64\n",
      " 4   product  100000 non-null  float64\n",
      "dtypes: float64(4), object(1)\n",
      "memory usage: 3.8+ MB\n",
      "<class 'pandas.core.frame.DataFrame'>\n",
      "RangeIndex: 100000 entries, 0 to 99999\n",
      "Data columns (total 5 columns):\n",
      " #   Column   Non-Null Count   Dtype  \n",
      "---  ------   --------------   -----  \n",
      " 0   id       100000 non-null  object \n",
      " 1   f0       100000 non-null  float64\n",
      " 2   f1       100000 non-null  float64\n",
      " 3   f2       100000 non-null  float64\n",
      " 4   product  100000 non-null  float64\n",
      "dtypes: float64(4), object(1)\n",
      "memory usage: 3.8+ MB\n"
     ]
    }
   ],
   "source": [
    "[item.info() for item in table_set];"
   ]
  },
  {
   "cell_type": "markdown",
   "metadata": {},
   "source": [
    " - Пропусков в данных нет"
   ]
  },
  {
   "cell_type": "markdown",
   "metadata": {},
   "source": [
    "Проверим данные на наличие явных дубликатов:"
   ]
  },
  {
   "cell_type": "code",
   "execution_count": 9,
   "metadata": {},
   "outputs": [
    {
     "name": "stdout",
     "output_type": "stream",
     "text": [
      "Количество дубликатов по таблицам: \" группа скажин-1 \" 0\n",
      "Количество дубликатов по таблицам: \" группа скажин-2 \" 0\n",
      "Количество дубликатов по таблицам: \" группа скажин-3 \" 0\n"
     ]
    }
   ],
   "source": [
    "[print('Количество дубликатов по таблицам:', '\"', table_names[i], '\"' ,item.duplicated().sum()) for i, item in enumerate(table_set)]; "
   ]
  },
  {
   "cell_type": "markdown",
   "metadata": {},
   "source": [
    " - Явных дубликатов нет"
   ]
  },
  {
   "cell_type": "markdown",
   "metadata": {},
   "source": [
    "Возможно оставить индексацию по номеру, а можно перейти к индексации по 'id' - что имеет больше смысла (в том числе сразу исключаем id из списка признаков при обучении модели - это не проблема но что тянуть)"
   ]
  },
  {
   "cell_type": "code",
   "execution_count": 41,
   "metadata": {},
   "outputs": [
    {
     "ename": "KeyError",
     "evalue": "\"None of ['id'] are in the columns\"",
     "output_type": "error",
     "traceback": [
      "\u001b[1;31m---------------------------------------------------------------------------\u001b[0m",
      "\u001b[1;31mKeyError\u001b[0m                                  Traceback (most recent call last)",
      "Cell \u001b[1;32mIn[41], line 1\u001b[0m\n\u001b[1;32m----> 1\u001b[0m [item\u001b[38;5;241m.\u001b[39mset_index(\u001b[38;5;124m'\u001b[39m\u001b[38;5;124mid\u001b[39m\u001b[38;5;124m'\u001b[39m, inplace\u001b[38;5;241m=\u001b[39m\u001b[38;5;28;01mTrue\u001b[39;00m) \u001b[38;5;28;01mfor\u001b[39;00m item \u001b[38;5;129;01min\u001b[39;00m table_set];\n",
      "Cell \u001b[1;32mIn[41], line 1\u001b[0m, in \u001b[0;36m<listcomp>\u001b[1;34m(.0)\u001b[0m\n\u001b[1;32m----> 1\u001b[0m [\u001b[43mitem\u001b[49m\u001b[38;5;241;43m.\u001b[39;49m\u001b[43mset_index\u001b[49m\u001b[43m(\u001b[49m\u001b[38;5;124;43m'\u001b[39;49m\u001b[38;5;124;43mid\u001b[39;49m\u001b[38;5;124;43m'\u001b[39;49m\u001b[43m,\u001b[49m\u001b[43m \u001b[49m\u001b[43minplace\u001b[49m\u001b[38;5;241;43m=\u001b[39;49m\u001b[38;5;28;43;01mTrue\u001b[39;49;00m\u001b[43m)\u001b[49m \u001b[38;5;28;01mfor\u001b[39;00m item \u001b[38;5;129;01min\u001b[39;00m table_set];\n",
      "File \u001b[1;32mW:\\_PracticumYandex\\practicum\\practicum_env\\lib\\site-packages\\pandas\\util\\_decorators.py:331\u001b[0m, in \u001b[0;36mdeprecate_nonkeyword_arguments.<locals>.decorate.<locals>.wrapper\u001b[1;34m(*args, **kwargs)\u001b[0m\n\u001b[0;32m    325\u001b[0m \u001b[38;5;28;01mif\u001b[39;00m \u001b[38;5;28mlen\u001b[39m(args) \u001b[38;5;241m>\u001b[39m num_allow_args:\n\u001b[0;32m    326\u001b[0m     warnings\u001b[38;5;241m.\u001b[39mwarn(\n\u001b[0;32m    327\u001b[0m         msg\u001b[38;5;241m.\u001b[39mformat(arguments\u001b[38;5;241m=\u001b[39m_format_argument_list(allow_args)),\n\u001b[0;32m    328\u001b[0m         \u001b[38;5;167;01mFutureWarning\u001b[39;00m,\n\u001b[0;32m    329\u001b[0m         stacklevel\u001b[38;5;241m=\u001b[39mfind_stack_level(),\n\u001b[0;32m    330\u001b[0m     )\n\u001b[1;32m--> 331\u001b[0m \u001b[38;5;28;01mreturn\u001b[39;00m func(\u001b[38;5;241m*\u001b[39margs, \u001b[38;5;241m*\u001b[39m\u001b[38;5;241m*\u001b[39mkwargs)\n",
      "File \u001b[1;32mW:\\_PracticumYandex\\practicum\\practicum_env\\lib\\site-packages\\pandas\\core\\frame.py:6012\u001b[0m, in \u001b[0;36mDataFrame.set_index\u001b[1;34m(self, keys, drop, append, inplace, verify_integrity)\u001b[0m\n\u001b[0;32m   6009\u001b[0m                 missing\u001b[38;5;241m.\u001b[39mappend(col)\n\u001b[0;32m   6011\u001b[0m \u001b[38;5;28;01mif\u001b[39;00m missing:\n\u001b[1;32m-> 6012\u001b[0m     \u001b[38;5;28;01mraise\u001b[39;00m \u001b[38;5;167;01mKeyError\u001b[39;00m(\u001b[38;5;124mf\u001b[39m\u001b[38;5;124m\"\u001b[39m\u001b[38;5;124mNone of \u001b[39m\u001b[38;5;132;01m{\u001b[39;00mmissing\u001b[38;5;132;01m}\u001b[39;00m\u001b[38;5;124m are in the columns\u001b[39m\u001b[38;5;124m\"\u001b[39m)\n\u001b[0;32m   6014\u001b[0m \u001b[38;5;28;01mif\u001b[39;00m inplace:\n\u001b[0;32m   6015\u001b[0m     frame \u001b[38;5;241m=\u001b[39m \u001b[38;5;28mself\u001b[39m\n",
      "\u001b[1;31mKeyError\u001b[0m: \"None of ['id'] are in the columns\""
     ]
    }
   ],
   "source": [
    "[item.set_index('id', inplace=True) for item in table_set];"
   ]
  },
  {
   "cell_type": "code",
   "execution_count": 42,
   "metadata": {},
   "outputs": [],
   "source": [
    "table_set = [derrick1area, derrick2area, derrick3area];"
   ]
  },
  {
   "cell_type": "markdown",
   "metadata": {},
   "source": [
    "Проверим на дубликаты в данных еще раз без учета 'id' потому, что он не является значимым признаком, а чтобы не переобучить модель на тренеровочной выборке их не должно быть. Хотя на выборки делим позже, но проверить сейчас нам ничего не мешает."
   ]
  },
  {
   "cell_type": "code",
   "execution_count": 11,
   "metadata": {},
   "outputs": [
    {
     "name": "stdout",
     "output_type": "stream",
     "text": [
      "Количество дубликатов по таблицам: \" группа скажин-1 \" 0\n",
      "Количество дубликатов по таблицам: \" группа скажин-2 \" 0\n",
      "Количество дубликатов по таблицам: \" группа скажин-3 \" 0\n"
     ]
    }
   ],
   "source": [
    "[print('Количество дубликатов по таблицам:', '\"', table_names[i], '\"' ,item.duplicated().sum()) for i, item in enumerate(table_set)]; "
   ]
  },
  {
   "cell_type": "markdown",
   "metadata": {},
   "source": [
    " - Явных дубликатов нет"
   ]
  },
  {
   "cell_type": "markdown",
   "metadata": {},
   "source": [
    "Исследуем распределение признаков скважин по месторождениям."
   ]
  },
  {
   "cell_type": "code",
   "execution_count": 30,
   "metadata": {},
   "outputs": [
    {
     "data": {
      "image/png": "[encoded data removed]",
      "text/plain": [
       "<Figure size 1800x432 with 3 Axes>"
      ]
     },
     "metadata": {
      "needs_background": "light"
     },
     "output_type": "display_data"
    }
   ],
   "source": [
    "cols = ['f0', 'f1', 'f2']\n",
    "n = len(cols)\n",
    "fig, ax = plt.subplots(1, n, figsize=(25, 6))\n",
    "fig.suptitle('Диграмма разброса')\n",
    "boxprops = dict(facecolor = \"lightblue\")\n",
    "for i, col in enumerate(cols):\n",
    "    dic = {}\n",
    "    for j in range(3):\n",
    "        dic[table_names[j]]=table_set[j][col]\n",
    "    ax[i].boxplot(dic.values(), patch_artist = True, boxprops= boxprops)\n",
    "    ax[i].set_xticklabels(dic.keys())\n",
    "    ax[i].set_title('Диаграммма разбоса параметра: '+ cols[i])\n",
    "    ax[i].grid()\n",
    "plt.show()"
   ]
  },
  {
   "cell_type": "markdown",
   "metadata": {},
   "source": [
    "Интересно, что все группы скважин различаются, при этом группа 1 и группа 3 более \"похожи\" друг на друга."
   ]
  },
  {
   "cell_type": "markdown",
   "metadata": {},
   "source": [
    "Посмотрим что с целевым признаком:"
   ]
  },
  {
   "cell_type": "code",
   "execution_count": 53,
   "metadata": {},
   "outputs": [
    {
     "data": {
      "image/png": "[encoded data removed]",
      "text/plain": [
       "<Figure size 1800x432 with 1 Axes>"
      ]
     },
     "metadata": {
      "needs_background": "light"
     },
     "output_type": "display_data"
    }
   ],
   "source": [
    "cols = 'product'\n",
    "fig, ax = plt.subplots(1, 1, figsize=(25, 6))\n",
    "fig.suptitle('Диграмма разброса')\n",
    "boxprops = dict(facecolor = \"lightblue\")\n",
    "dic = {}\n",
    "for j in range(3):\n",
    "    dic[table_names[j]]=table_set[j][cols]\n",
    "ax.boxplot(dic.values(), patch_artist = True, boxprops= boxprops)\n",
    "ax.set_xticklabels(dic.keys())\n",
    "ax.set_title('Диаграммма разбоса параметра: '+ cols)\n",
    "ax.grid()\n",
    "plt.show()"
   ]
  },
  {
   "cell_type": "markdown",
   "metadata": {},
   "source": [
    "- В принципе можно сразу сказать, что в среднем произодство для второй группы скважин будет ниже чем для первой и третьей;\n",
    "- Первая и третья группа как по распределению признаков так и целевого значения похожи - нужно посмотреть что сможет спрогнозировать модель."
   ]
  },
  {
   "cell_type": "code",
   "execution_count": 54,
   "metadata": {},
   "outputs": [
    {
     "data": {
      "text/html": [
       "<div>\n",
       "<style scoped>\n",
       "    .dataframe tbody tr th:only-of-type {\n",
       "        vertical-align: middle;\n",
       "    }\n",
       "\n",
       "    .dataframe tbody tr th {\n",
       "        vertical-align: top;\n",
       "    }\n",
       "\n",
       "    .dataframe thead th {\n",
       "        text-align: right;\n",
       "    }\n",
       "</style>\n",
       "<table border=\"1\" class=\"dataframe\">\n",
       "  <thead>\n",
       "    <tr style=\"text-align: right;\">\n",
       "      <th></th>\n",
       "      <th>f0</th>\n",
       "      <th>f1</th>\n",
       "      <th>f2</th>\n",
       "      <th>product</th>\n",
       "    </tr>\n",
       "  </thead>\n",
       "  <tbody>\n",
       "    <tr>\n",
       "      <th>count</th>\n",
       "      <td>100000.000000</td>\n",
       "      <td>100000.000000</td>\n",
       "      <td>100000.000000</td>\n",
       "      <td>100000.000000</td>\n",
       "    </tr>\n",
       "    <tr>\n",
       "      <th>mean</th>\n",
       "      <td>0.500419</td>\n",
       "      <td>0.250143</td>\n",
       "      <td>2.502647</td>\n",
       "      <td>92.500000</td>\n",
       "    </tr>\n",
       "    <tr>\n",
       "      <th>std</th>\n",
       "      <td>0.871832</td>\n",
       "      <td>0.504433</td>\n",
       "      <td>3.248248</td>\n",
       "      <td>44.288691</td>\n",
       "    </tr>\n",
       "    <tr>\n",
       "      <th>min</th>\n",
       "      <td>-1.408605</td>\n",
       "      <td>-0.848218</td>\n",
       "      <td>-12.088328</td>\n",
       "      <td>0.000000</td>\n",
       "    </tr>\n",
       "    <tr>\n",
       "      <th>25%</th>\n",
       "      <td>-0.072580</td>\n",
       "      <td>-0.200881</td>\n",
       "      <td>0.287748</td>\n",
       "      <td>56.497507</td>\n",
       "    </tr>\n",
       "    <tr>\n",
       "      <th>50%</th>\n",
       "      <td>0.502360</td>\n",
       "      <td>0.250252</td>\n",
       "      <td>2.515969</td>\n",
       "      <td>91.849972</td>\n",
       "    </tr>\n",
       "    <tr>\n",
       "      <th>75%</th>\n",
       "      <td>1.073581</td>\n",
       "      <td>0.700646</td>\n",
       "      <td>4.715088</td>\n",
       "      <td>128.564089</td>\n",
       "    </tr>\n",
       "    <tr>\n",
       "      <th>max</th>\n",
       "      <td>2.362331</td>\n",
       "      <td>1.343769</td>\n",
       "      <td>16.003790</td>\n",
       "      <td>185.364347</td>\n",
       "    </tr>\n",
       "  </tbody>\n",
       "</table>\n",
       "</div>"
      ],
      "text/plain": [
       "                  f0             f1             f2        product\n",
       "count  100000.000000  100000.000000  100000.000000  100000.000000\n",
       "mean        0.500419       0.250143       2.502647      92.500000\n",
       "std         0.871832       0.504433       3.248248      44.288691\n",
       "min        -1.408605      -0.848218     -12.088328       0.000000\n",
       "25%        -0.072580      -0.200881       0.287748      56.497507\n",
       "50%         0.502360       0.250252       2.515969      91.849972\n",
       "75%         1.073581       0.700646       4.715088     128.564089\n",
       "max         2.362331       1.343769      16.003790     185.364347"
      ]
     },
     "metadata": {},
     "output_type": "display_data"
    },
    {
     "data": {
      "text/html": [
       "<div>\n",
       "<style scoped>\n",
       "    .dataframe tbody tr th:only-of-type {\n",
       "        vertical-align: middle;\n",
       "    }\n",
       "\n",
       "    .dataframe tbody tr th {\n",
       "        vertical-align: top;\n",
       "    }\n",
       "\n",
       "    .dataframe thead th {\n",
       "        text-align: right;\n",
       "    }\n",
       "</style>\n",
       "<table border=\"1\" class=\"dataframe\">\n",
       "  <thead>\n",
       "    <tr style=\"text-align: right;\">\n",
       "      <th></th>\n",
       "      <th>f0</th>\n",
       "      <th>f1</th>\n",
       "      <th>f2</th>\n",
       "      <th>product</th>\n",
       "    </tr>\n",
       "  </thead>\n",
       "  <tbody>\n",
       "    <tr>\n",
       "      <th>count</th>\n",
       "      <td>100000.000000</td>\n",
       "      <td>100000.000000</td>\n",
       "      <td>100000.000000</td>\n",
       "      <td>100000.000000</td>\n",
       "    </tr>\n",
       "    <tr>\n",
       "      <th>mean</th>\n",
       "      <td>1.141296</td>\n",
       "      <td>-4.796579</td>\n",
       "      <td>2.494541</td>\n",
       "      <td>68.825000</td>\n",
       "    </tr>\n",
       "    <tr>\n",
       "      <th>std</th>\n",
       "      <td>8.965932</td>\n",
       "      <td>5.119872</td>\n",
       "      <td>1.703572</td>\n",
       "      <td>45.944423</td>\n",
       "    </tr>\n",
       "    <tr>\n",
       "      <th>min</th>\n",
       "      <td>-31.609576</td>\n",
       "      <td>-26.358598</td>\n",
       "      <td>-0.018144</td>\n",
       "      <td>0.000000</td>\n",
       "    </tr>\n",
       "    <tr>\n",
       "      <th>25%</th>\n",
       "      <td>-6.298551</td>\n",
       "      <td>-8.267985</td>\n",
       "      <td>1.000021</td>\n",
       "      <td>26.953261</td>\n",
       "    </tr>\n",
       "    <tr>\n",
       "      <th>50%</th>\n",
       "      <td>1.153055</td>\n",
       "      <td>-4.813172</td>\n",
       "      <td>2.011479</td>\n",
       "      <td>57.085625</td>\n",
       "    </tr>\n",
       "    <tr>\n",
       "      <th>75%</th>\n",
       "      <td>8.621015</td>\n",
       "      <td>-1.332816</td>\n",
       "      <td>3.999904</td>\n",
       "      <td>107.813044</td>\n",
       "    </tr>\n",
       "    <tr>\n",
       "      <th>max</th>\n",
       "      <td>29.421755</td>\n",
       "      <td>18.734063</td>\n",
       "      <td>5.019721</td>\n",
       "      <td>137.945408</td>\n",
       "    </tr>\n",
       "  </tbody>\n",
       "</table>\n",
       "</div>"
      ],
      "text/plain": [
       "                  f0             f1             f2        product\n",
       "count  100000.000000  100000.000000  100000.000000  100000.000000\n",
       "mean        1.141296      -4.796579       2.494541      68.825000\n",
       "std         8.965932       5.119872       1.703572      45.944423\n",
       "min       -31.609576     -26.358598      -0.018144       0.000000\n",
       "25%        -6.298551      -8.267985       1.000021      26.953261\n",
       "50%         1.153055      -4.813172       2.011479      57.085625\n",
       "75%         8.621015      -1.332816       3.999904     107.813044\n",
       "max        29.421755      18.734063       5.019721     137.945408"
      ]
     },
     "metadata": {},
     "output_type": "display_data"
    },
    {
     "data": {
      "text/html": [
       "<div>\n",
       "<style scoped>\n",
       "    .dataframe tbody tr th:only-of-type {\n",
       "        vertical-align: middle;\n",
       "    }\n",
       "\n",
       "    .dataframe tbody tr th {\n",
       "        vertical-align: top;\n",
       "    }\n",
       "\n",
       "    .dataframe thead th {\n",
       "        text-align: right;\n",
       "    }\n",
       "</style>\n",
       "<table border=\"1\" class=\"dataframe\">\n",
       "  <thead>\n",
       "    <tr style=\"text-align: right;\">\n",
       "      <th></th>\n",
       "      <th>f0</th>\n",
       "      <th>f1</th>\n",
       "      <th>f2</th>\n",
       "      <th>product</th>\n",
       "    </tr>\n",
       "  </thead>\n",
       "  <tbody>\n",
       "    <tr>\n",
       "      <th>count</th>\n",
       "      <td>100000.000000</td>\n",
       "      <td>100000.000000</td>\n",
       "      <td>100000.000000</td>\n",
       "      <td>100000.000000</td>\n",
       "    </tr>\n",
       "    <tr>\n",
       "      <th>mean</th>\n",
       "      <td>0.002023</td>\n",
       "      <td>-0.002081</td>\n",
       "      <td>2.495128</td>\n",
       "      <td>95.000000</td>\n",
       "    </tr>\n",
       "    <tr>\n",
       "      <th>std</th>\n",
       "      <td>1.732045</td>\n",
       "      <td>1.730417</td>\n",
       "      <td>3.473445</td>\n",
       "      <td>44.749921</td>\n",
       "    </tr>\n",
       "    <tr>\n",
       "      <th>min</th>\n",
       "      <td>-8.760004</td>\n",
       "      <td>-7.084020</td>\n",
       "      <td>-11.970335</td>\n",
       "      <td>0.000000</td>\n",
       "    </tr>\n",
       "    <tr>\n",
       "      <th>25%</th>\n",
       "      <td>-1.162288</td>\n",
       "      <td>-1.174820</td>\n",
       "      <td>0.130359</td>\n",
       "      <td>59.450441</td>\n",
       "    </tr>\n",
       "    <tr>\n",
       "      <th>50%</th>\n",
       "      <td>0.009424</td>\n",
       "      <td>-0.009482</td>\n",
       "      <td>2.484236</td>\n",
       "      <td>94.925613</td>\n",
       "    </tr>\n",
       "    <tr>\n",
       "      <th>75%</th>\n",
       "      <td>1.158535</td>\n",
       "      <td>1.163678</td>\n",
       "      <td>4.858794</td>\n",
       "      <td>130.595027</td>\n",
       "    </tr>\n",
       "    <tr>\n",
       "      <th>max</th>\n",
       "      <td>7.238262</td>\n",
       "      <td>7.844801</td>\n",
       "      <td>16.739402</td>\n",
       "      <td>190.029838</td>\n",
       "    </tr>\n",
       "  </tbody>\n",
       "</table>\n",
       "</div>"
      ],
      "text/plain": [
       "                  f0             f1             f2        product\n",
       "count  100000.000000  100000.000000  100000.000000  100000.000000\n",
       "mean        0.002023      -0.002081       2.495128      95.000000\n",
       "std         1.732045       1.730417       3.473445      44.749921\n",
       "min        -8.760004      -7.084020     -11.970335       0.000000\n",
       "25%        -1.162288      -1.174820       0.130359      59.450441\n",
       "50%         0.009424      -0.009482       2.484236      94.925613\n",
       "75%         1.158535       1.163678       4.858794     130.595027\n",
       "max         7.238262       7.844801      16.739402     190.029838"
      ]
     },
     "metadata": {},
     "output_type": "display_data"
    }
   ],
   "source": [
    "[display(item.describe()) for item in table_set];  "
   ]
  },
  {
   "cell_type": "markdown",
   "metadata": {},
   "source": [
    "Здесь интересны скважины с нулевой производительностью:"
   ]
  },
  {
   "cell_type": "code",
   "execution_count": 82,
   "metadata": {},
   "outputs": [
    {
     "data": {
      "text/html": [
       "<div>\n",
       "<style scoped>\n",
       "    .dataframe tbody tr th:only-of-type {\n",
       "        vertical-align: middle;\n",
       "    }\n",
       "\n",
       "    .dataframe tbody tr th {\n",
       "        vertical-align: top;\n",
       "    }\n",
       "\n",
       "    .dataframe thead th {\n",
       "        text-align: right;\n",
       "    }\n",
       "</style>\n",
       "<table border=\"1\" class=\"dataframe\">\n",
       "  <thead>\n",
       "    <tr style=\"text-align: right;\">\n",
       "      <th></th>\n",
       "      <th>f0</th>\n",
       "      <th>f1</th>\n",
       "      <th>f2</th>\n",
       "      <th>product</th>\n",
       "    </tr>\n",
       "    <tr>\n",
       "      <th>id</th>\n",
       "      <th></th>\n",
       "      <th></th>\n",
       "      <th></th>\n",
       "      <th></th>\n",
       "    </tr>\n",
       "  </thead>\n",
       "  <tbody>\n",
       "    <tr>\n",
       "      <th>zCM5W</th>\n",
       "      <td>-0.702064</td>\n",
       "      <td>0.375992</td>\n",
       "      <td>0.236572</td>\n",
       "      <td>0.0</td>\n",
       "    </tr>\n",
       "  </tbody>\n",
       "</table>\n",
       "</div>"
      ],
      "text/plain": [
       "             f0        f1        f2  product\n",
       "id                                          \n",
       "zCM5W -0.702064  0.375992  0.236572      0.0"
      ]
     },
     "metadata": {},
     "output_type": "display_data"
    },
    {
     "data": {
      "text/html": [
       "<div>\n",
       "<style scoped>\n",
       "    .dataframe tbody tr th:only-of-type {\n",
       "        vertical-align: middle;\n",
       "    }\n",
       "\n",
       "    .dataframe tbody tr th {\n",
       "        vertical-align: top;\n",
       "    }\n",
       "\n",
       "    .dataframe thead th {\n",
       "        text-align: right;\n",
       "    }\n",
       "</style>\n",
       "<table border=\"1\" class=\"dataframe\">\n",
       "  <thead>\n",
       "    <tr style=\"text-align: right;\">\n",
       "      <th></th>\n",
       "      <th>f0</th>\n",
       "      <th>f1</th>\n",
       "      <th>f2</th>\n",
       "      <th>product</th>\n",
       "    </tr>\n",
       "    <tr>\n",
       "      <th>id</th>\n",
       "      <th></th>\n",
       "      <th></th>\n",
       "      <th></th>\n",
       "      <th></th>\n",
       "    </tr>\n",
       "  </thead>\n",
       "  <tbody>\n",
       "    <tr>\n",
       "      <th>OXyvW</th>\n",
       "      <td>16.320755</td>\n",
       "      <td>-0.562946</td>\n",
       "      <td>-0.001783</td>\n",
       "      <td>0.0</td>\n",
       "    </tr>\n",
       "    <tr>\n",
       "      <th>igmai</th>\n",
       "      <td>6.695604</td>\n",
       "      <td>-0.749449</td>\n",
       "      <td>-0.007630</td>\n",
       "      <td>0.0</td>\n",
       "    </tr>\n",
       "    <tr>\n",
       "      <th>Qjy5w</th>\n",
       "      <td>21.418478</td>\n",
       "      <td>-5.134490</td>\n",
       "      <td>-0.002836</td>\n",
       "      <td>0.0</td>\n",
       "    </tr>\n",
       "    <tr>\n",
       "      <th>G6WCj</th>\n",
       "      <td>6.822701</td>\n",
       "      <td>3.104979</td>\n",
       "      <td>-0.000723</td>\n",
       "      <td>0.0</td>\n",
       "    </tr>\n",
       "    <tr>\n",
       "      <th>MzQhL</th>\n",
       "      <td>6.750150</td>\n",
       "      <td>-11.893512</td>\n",
       "      <td>-0.001601</td>\n",
       "      <td>0.0</td>\n",
       "    </tr>\n",
       "  </tbody>\n",
       "</table>\n",
       "</div>"
      ],
      "text/plain": [
       "              f0         f1        f2  product\n",
       "id                                            \n",
       "OXyvW  16.320755  -0.562946 -0.001783      0.0\n",
       "igmai   6.695604  -0.749449 -0.007630      0.0\n",
       "Qjy5w  21.418478  -5.134490 -0.002836      0.0\n",
       "G6WCj   6.822701   3.104979 -0.000723      0.0\n",
       "MzQhL   6.750150 -11.893512 -0.001601      0.0"
      ]
     },
     "metadata": {},
     "output_type": "display_data"
    },
    {
     "data": {
      "text/html": [
       "<div>\n",
       "<style scoped>\n",
       "    .dataframe tbody tr th:only-of-type {\n",
       "        vertical-align: middle;\n",
       "    }\n",
       "\n",
       "    .dataframe tbody tr th {\n",
       "        vertical-align: top;\n",
       "    }\n",
       "\n",
       "    .dataframe thead th {\n",
       "        text-align: right;\n",
       "    }\n",
       "</style>\n",
       "<table border=\"1\" class=\"dataframe\">\n",
       "  <thead>\n",
       "    <tr style=\"text-align: right;\">\n",
       "      <th></th>\n",
       "      <th>f0</th>\n",
       "      <th>f1</th>\n",
       "      <th>f2</th>\n",
       "      <th>product</th>\n",
       "    </tr>\n",
       "    <tr>\n",
       "      <th>id</th>\n",
       "      <th></th>\n",
       "      <th></th>\n",
       "      <th></th>\n",
       "      <th></th>\n",
       "    </tr>\n",
       "  </thead>\n",
       "  <tbody>\n",
       "    <tr>\n",
       "      <th>qeefd</th>\n",
       "      <td>-0.865596</td>\n",
       "      <td>-1.615247</td>\n",
       "      <td>-4.126441</td>\n",
       "      <td>0.0</td>\n",
       "    </tr>\n",
       "  </tbody>\n",
       "</table>\n",
       "</div>"
      ],
      "text/plain": [
       "             f0        f1        f2  product\n",
       "id                                          \n",
       "qeefd -0.865596 -1.615247 -4.126441      0.0"
      ]
     },
     "metadata": {},
     "output_type": "display_data"
    }
   ],
   "source": [
    "[display(item.loc[item['product']==0].head(5)) for item in table_set];"
   ]
  },
  {
   "cell_type": "markdown",
   "metadata": {},
   "source": [
    "Интересно, что у всех значений \"product\" = 0, значения \"f2\" во второй группе скважин тоже около нуля - построим распределение \"f2\"."
   ]
  },
  {
   "cell_type": "code",
   "execution_count": 99,
   "metadata": {},
   "outputs": [
    {
     "data": {
      "image/png": "[encoded data removed]",
      "text/plain": [
       "<Figure size 1080x432 with 2 Axes>"
      ]
     },
     "metadata": {
      "needs_background": "light"
     },
     "output_type": "display_data"
    }
   ],
   "source": [
    "fig, ax = plt.subplots(1, 2, figsize=(15, 6))\n",
    "fig.suptitle('Гистограмма распределения')\n",
    "[sns.histplot(data=derrick2area.loc[derrick2area['product']==0], x='f2', ax=ax[i], color='tab:blue') for i in range(2)]\n",
    "sns.histplot(data=derrick2area, x='f2', color='tab:orange', ax=ax[0])\n",
    "sns.histplot(data=derrick2area.loc[derrick2area['product']<1], x='f2', color='tab:orange', ax=ax[1])\n",
    "[ax[i].set_title('Параметр f2:') for i in range(2)]\n",
    "ax[0].legend(title='product', loc='upper left', labels=['product = 0', 'product = any'])\n",
    "ax[1].legend(title='product', loc='upper left', labels=['product = 0', 'product <1'])\n",
    "plt.show()"
   ]
  },
  {
   "cell_type": "code",
   "execution_count": 243,
   "metadata": {},
   "outputs": [
    {
     "data": {
      "text/plain": [
       "<Axes: xlabel='f0', ylabel='product'>"
      ]
     },
     "execution_count": 243,
     "metadata": {},
     "output_type": "execute_result"
    },
    {
     "data": {
      "image/png": "[encoded data removed]",
      "text/plain": [
       "<Figure size 432x288 with 1 Axes>"
      ]
     },
     "metadata": {
      "needs_background": "light"
     },
     "output_type": "display_data"
    }
   ],
   "source": [
    "sns.scatterplot(data=derrick1area, x='f0', y='product', alpha=0.5)"
   ]
  },
  {
   "cell_type": "code",
   "execution_count": 235,
   "metadata": {},
   "outputs": [
    {
     "data": {
      "text/plain": [
       "<Axes: xlabel='product', ylabel='Count'>"
      ]
     },
     "execution_count": 235,
     "metadata": {},
     "output_type": "execute_result"
    },
    {
     "data": {
      "image/png": "[encoded data removed]",
      "text/plain": [
       "<Figure size 432x288 with 1 Axes>"
      ]
     },
     "metadata": {
      "needs_background": "light"
     },
     "output_type": "display_data"
    }
   ],
   "source": [
    "sns.histplot(data=derrick2area, x='product', color='tab:orange')"
   ]
  },
  {
   "cell_type": "markdown",
   "metadata": {},
   "source": [
    "Таким образом:\n",
    "\n",
    "   - для второй группы обнаружено значительное количество скважин(примерно 1/6) с нулевой производительностью;\n",
    "   - параметр \"f2\" распределен практически дискретно и концентрируется в районе целочисленных значений(в отличии от группы 1 и 3);\n",
    "   - существует соответствие между равенством нулю \"product\" и значениями \"f2\" в районе 0.\n",
    "    \n"
   ]
  },
  {
   "cell_type": "markdown",
   "metadata": {},
   "source": [
    "Было бы неплохо уточнить у заказчика - \"почему так ?\" или хотя бы обратить его внимание  на этот факт. Но пока лишь констатируем данную закономерность и продолжим анализ и построение модели."
   ]
  },
  {
   "cell_type": "markdown",
   "metadata": {},
   "source": [
    "Так как поставлено условием использование линейной регрессионной модели, целесообразно проверить наличие мультиколлинеарности признаков, которых три для каждой группы скважин:"
   ]
  },
  {
   "cell_type": "code",
   "execution_count": 130,
   "metadata": {},
   "outputs": [],
   "source": [
    "def heatplot_tab(data, ax , name):\n",
    "    corr_market = data.phik_matrix(interval_cols= ['f0', 'f1', 'f2']);\n",
    "    sns.heatmap(\n",
    "        corr_market,        \n",
    "        cmap='RdBu_r',                \n",
    "        annot=True,\n",
    "        ax=ax,\n",
    "        vmin=-1, vmax=1              \n",
    "        );\n",
    "    ax.set_title('Тепловая карта коэффициентов корреляции phik для : ' + name)"
   ]
  },
  {
   "cell_type": "code",
   "execution_count": 131,
   "metadata": {},
   "outputs": [
    {
     "data": {
      "image/png": "[encoded data removed]",
      "text/plain": [
       "<Figure size 1800x432 with 6 Axes>"
      ]
     },
     "metadata": {
      "needs_background": "light"
     },
     "output_type": "display_data"
    }
   ],
   "source": [
    "fig, ax = plt.subplots(1, 3, figsize=(25, 6))\n",
    "fig.suptitle('Гистограмма распределения')\n",
    "[heatplot_tab(item[['f0', 'f1', 'f2']], ax[i], table_names[i]) for i, item in enumerate(table_set)];\n",
    "plt.show();"
   ]
  },
  {
   "cell_type": "markdown",
   "metadata": {},
   "source": [
    " - Только для первой группы скважин наблюдается сильная взаимосвязь параметра \"f0\" и \"f1\" в остальных случая все хорошо (даже идеально для группы 3 - что противоестественно 😀);\n",
    " - Считает, что мультиколлинеарность соответствует значениям более 0.9 - поэтому удалять признаки не будем."
   ]
  },
  {
   "cell_type": "markdown",
   "metadata": {},
   "source": [
    "**Выводы:** \n",
    " - Данные загружены и обработаны, противоречий нет, не выявлено наличие Nan или иных дефектов;\n",
    " - Корреляция между параметрами находится на приемлемом уровне;\n",
    " - Отмечена особенность в данных для второй группы скважин."
   ]
  },
  {
   "cell_type": "markdown",
   "metadata": {},
   "source": [
    "## Обучение и проверка модели"
   ]
  },
  {
   "cell_type": "markdown",
   "metadata": {},
   "source": [
    "Выделим признаки и целевой параметр 'product':"
   ]
  },
  {
   "cell_type": "code",
   "execution_count": 152,
   "metadata": {},
   "outputs": [],
   "source": [
    "argument_col = derrick1area.columns\n",
    "target = 'product'\n",
    "argument_col = argument_col[~np.isin(argument_col, target)]"
   ]
  },
  {
   "cell_type": "markdown",
   "metadata": {},
   "source": [
    "### Создание pipeline для модели линейной регрессии"
   ]
  },
  {
   "cell_type": "code",
   "execution_count": 145,
   "metadata": {},
   "outputs": [],
   "source": [
    "def prediction_model(X_num, NumScaler, model_step):\n",
    "    RANDOM_STATE = 42\n",
    "    # выбор масшабирования\n",
    "    if NumScaler == 'Standart':\n",
    "        Scaler = StandardScaler()\n",
    "    elif NumScaler == 'Robust': \n",
    "        Scaler = RobustScaler()    \n",
    "    elif NumScaler == 'Quantile': \n",
    "        Scaler = QuantileTransformer()\n",
    "    else:\n",
    "        Scaler = MinMaxScaler()\n",
    "    # обработка входных данных\n",
    "    num_features = X_num.tolist()\n",
    "    # преобразование численных признаков\n",
    "    num_steps = [('SimpleImputer_num', SimpleImputer(missing_values=np.nan, strategy='median')),\n",
    "                 ('Scaler', Scaler)]\n",
    "    num_transformer = Pipeline(num_steps)\n",
    "    # создаём общий пайплайн для подготовки данных\n",
    "    data_preprocessor = ColumnTransformer(\n",
    "    transformers=[\n",
    "        ('num', num_transformer, num_features)],        \n",
    "          remainder='passthrough')\n",
    "    # создаём итоговый пайплайн по шагам\n",
    "    step_prep = ('preprocessor', data_preprocessor)\n",
    "    # выбор модели \n",
    "    if   model_step == 'LinearRegression':\n",
    "        step_sol  = ('model', LinearRegression(n_jobs=-1))\n",
    "    elif model_step == 'DummyRegressor':\n",
    "        step_sol  = ('model', DummyRegressor(strategy=\"mean\"))\n",
    "    # собираем шаги модели\n",
    "    pipe_final = Pipeline([step_prep, step_sol])\n",
    "    return pipe_final"
   ]
  },
  {
   "cell_type": "markdown",
   "metadata": {},
   "source": [
    "Например можно получить такую модель"
   ]
  },
  {
   "cell_type": "code",
   "execution_count": 153,
   "metadata": {},
   "outputs": [
    {
     "data": {
      "text/html": [
       "<style>#sk-container-id-3 {color: black;background-color: white;}#sk-container-id-3 pre{padding: 0;}#sk-container-id-3 div.sk-toggleable {background-color: white;}#sk-container-id-3 label.sk-toggleable__label {cursor: pointer;display: block;width: 100%;margin-bottom: 0;padding: 0.3em;box-sizing: border-box;text-align: center;}#sk-container-id-3 label.sk-toggleable__label-arrow:before {content: \"▸\";float: left;margin-right: 0.25em;color: #696969;}#sk-container-id-3 label.sk-toggleable__label-arrow:hover:before {color: black;}#sk-container-id-3 div.sk-estimator:hover label.sk-toggleable__label-arrow:before {color: black;}#sk-container-id-3 div.sk-toggleable__content {max-height: 0;max-width: 0;overflow: hidden;text-align: left;background-color: #f0f8ff;}#sk-container-id-3 div.sk-toggleable__content pre {margin: 0.2em;color: black;border-radius: 0.25em;background-color: #f0f8ff;}#sk-container-id-3 input.sk-toggleable__control:checked~div.sk-toggleable__content {max-height: 200px;max-width: 100%;overflow: auto;}#sk-container-id-3 input.sk-toggleable__control:checked~label.sk-toggleable__label-arrow:before {content: \"▾\";}#sk-container-id-3 div.sk-estimator input.sk-toggleable__control:checked~label.sk-toggleable__label {background-color: #d4ebff;}#sk-container-id-3 div.sk-label input.sk-toggleable__control:checked~label.sk-toggleable__label {background-color: #d4ebff;}#sk-container-id-3 input.sk-hidden--visually {border: 0;clip: rect(1px 1px 1px 1px);clip: rect(1px, 1px, 1px, 1px);height: 1px;margin: -1px;overflow: hidden;padding: 0;position: absolute;width: 1px;}#sk-container-id-3 div.sk-estimator {font-family: monospace;background-color: #f0f8ff;border: 1px dotted black;border-radius: 0.25em;box-sizing: border-box;margin-bottom: 0.5em;}#sk-container-id-3 div.sk-estimator:hover {background-color: #d4ebff;}#sk-container-id-3 div.sk-parallel-item::after {content: \"\";width: 100%;border-bottom: 1px solid gray;flex-grow: 1;}#sk-container-id-3 div.sk-label:hover label.sk-toggleable__label {background-color: #d4ebff;}#sk-container-id-3 div.sk-serial::before {content: \"\";position: absolute;border-left: 1px solid gray;box-sizing: border-box;top: 0;bottom: 0;left: 50%;z-index: 0;}#sk-container-id-3 div.sk-serial {display: flex;flex-direction: column;align-items: center;background-color: white;padding-right: 0.2em;padding-left: 0.2em;position: relative;}#sk-container-id-3 div.sk-item {position: relative;z-index: 1;}#sk-container-id-3 div.sk-parallel {display: flex;align-items: stretch;justify-content: center;background-color: white;position: relative;}#sk-container-id-3 div.sk-item::before, #sk-container-id-3 div.sk-parallel-item::before {content: \"\";position: absolute;border-left: 1px solid gray;box-sizing: border-box;top: 0;bottom: 0;left: 50%;z-index: -1;}#sk-container-id-3 div.sk-parallel-item {display: flex;flex-direction: column;z-index: 1;position: relative;background-color: white;}#sk-container-id-3 div.sk-parallel-item:first-child::after {align-self: flex-end;width: 50%;}#sk-container-id-3 div.sk-parallel-item:last-child::after {align-self: flex-start;width: 50%;}#sk-container-id-3 div.sk-parallel-item:only-child::after {width: 0;}#sk-container-id-3 div.sk-dashed-wrapped {border: 1px dashed gray;margin: 0 0.4em 0.5em 0.4em;box-sizing: border-box;padding-bottom: 0.4em;background-color: white;}#sk-container-id-3 div.sk-label label {font-family: monospace;font-weight: bold;display: inline-block;line-height: 1.2em;}#sk-container-id-3 div.sk-label-container {text-align: center;}#sk-container-id-3 div.sk-container {/* jupyter's `normalize.less` sets `[hidden] { display: none; }` but bootstrap.min.css set `[hidden] { display: none !important; }` so we also need the `!important` here to be able to override the default hidden behavior on the sphinx rendered scikit-learn.org. See: https://github.com/scikit-learn/scikit-learn/issues/21755 */display: inline-block !important;position: relative;}#sk-container-id-3 div.sk-text-repr-fallback {display: none;}</style><div id=\"sk-container-id-3\" class=\"sk-top-container\"><div class=\"sk-text-repr-fallback\"><pre>Pipeline(steps=[(&#x27;preprocessor&#x27;,\n",
       "                 ColumnTransformer(remainder=&#x27;passthrough&#x27;,\n",
       "                                   transformers=[(&#x27;num&#x27;,\n",
       "                                                  Pipeline(steps=[(&#x27;SimpleImputer_num&#x27;,\n",
       "                                                                   SimpleImputer(strategy=&#x27;median&#x27;)),\n",
       "                                                                  (&#x27;Scaler&#x27;,\n",
       "                                                                   MinMaxScaler())]),\n",
       "                                                  [&#x27;f0&#x27;, &#x27;f1&#x27;, &#x27;f2&#x27;])])),\n",
       "                (&#x27;model&#x27;, LinearRegression(n_jobs=-1))])</pre><b>In a Jupyter environment, please rerun this cell to show the HTML representation or trust the notebook. <br />On GitHub, the HTML representation is unable to render, please try loading this page with nbviewer.org.</b></div><div class=\"sk-container\" hidden><div class=\"sk-item sk-dashed-wrapped\"><div class=\"sk-label-container\"><div class=\"sk-label sk-toggleable\"><input class=\"sk-toggleable__control sk-hidden--visually\" id=\"sk-estimator-id-17\" type=\"checkbox\" ><label for=\"sk-estimator-id-17\" class=\"sk-toggleable__label sk-toggleable__label-arrow\">Pipeline</label><div class=\"sk-toggleable__content\"><pre>Pipeline(steps=[(&#x27;preprocessor&#x27;,\n",
       "                 ColumnTransformer(remainder=&#x27;passthrough&#x27;,\n",
       "                                   transformers=[(&#x27;num&#x27;,\n",
       "                                                  Pipeline(steps=[(&#x27;SimpleImputer_num&#x27;,\n",
       "                                                                   SimpleImputer(strategy=&#x27;median&#x27;)),\n",
       "                                                                  (&#x27;Scaler&#x27;,\n",
       "                                                                   MinMaxScaler())]),\n",
       "                                                  [&#x27;f0&#x27;, &#x27;f1&#x27;, &#x27;f2&#x27;])])),\n",
       "                (&#x27;model&#x27;, LinearRegression(n_jobs=-1))])</pre></div></div></div><div class=\"sk-serial\"><div class=\"sk-item sk-dashed-wrapped\"><div class=\"sk-label-container\"><div class=\"sk-label sk-toggleable\"><input class=\"sk-toggleable__control sk-hidden--visually\" id=\"sk-estimator-id-18\" type=\"checkbox\" ><label for=\"sk-estimator-id-18\" class=\"sk-toggleable__label sk-toggleable__label-arrow\">preprocessor: ColumnTransformer</label><div class=\"sk-toggleable__content\"><pre>ColumnTransformer(remainder=&#x27;passthrough&#x27;,\n",
       "                  transformers=[(&#x27;num&#x27;,\n",
       "                                 Pipeline(steps=[(&#x27;SimpleImputer_num&#x27;,\n",
       "                                                  SimpleImputer(strategy=&#x27;median&#x27;)),\n",
       "                                                 (&#x27;Scaler&#x27;, MinMaxScaler())]),\n",
       "                                 [&#x27;f0&#x27;, &#x27;f1&#x27;, &#x27;f2&#x27;])])</pre></div></div></div><div class=\"sk-parallel\"><div class=\"sk-parallel-item\"><div class=\"sk-item\"><div class=\"sk-label-container\"><div class=\"sk-label sk-toggleable\"><input class=\"sk-toggleable__control sk-hidden--visually\" id=\"sk-estimator-id-19\" type=\"checkbox\" ><label for=\"sk-estimator-id-19\" class=\"sk-toggleable__label sk-toggleable__label-arrow\">num</label><div class=\"sk-toggleable__content\"><pre>[&#x27;f0&#x27;, &#x27;f1&#x27;, &#x27;f2&#x27;]</pre></div></div></div><div class=\"sk-serial\"><div class=\"sk-item\"><div class=\"sk-serial\"><div class=\"sk-item\"><div class=\"sk-estimator sk-toggleable\"><input class=\"sk-toggleable__control sk-hidden--visually\" id=\"sk-estimator-id-20\" type=\"checkbox\" ><label for=\"sk-estimator-id-20\" class=\"sk-toggleable__label sk-toggleable__label-arrow\">SimpleImputer</label><div class=\"sk-toggleable__content\"><pre>SimpleImputer(strategy=&#x27;median&#x27;)</pre></div></div></div><div class=\"sk-item\"><div class=\"sk-estimator sk-toggleable\"><input class=\"sk-toggleable__control sk-hidden--visually\" id=\"sk-estimator-id-21\" type=\"checkbox\" ><label for=\"sk-estimator-id-21\" class=\"sk-toggleable__label sk-toggleable__label-arrow\">MinMaxScaler</label><div class=\"sk-toggleable__content\"><pre>MinMaxScaler()</pre></div></div></div></div></div></div></div></div><div class=\"sk-parallel-item\"><div class=\"sk-item\"><div class=\"sk-label-container\"><div class=\"sk-label sk-toggleable\"><input class=\"sk-toggleable__control sk-hidden--visually\" id=\"sk-estimator-id-22\" type=\"checkbox\" ><label for=\"sk-estimator-id-22\" class=\"sk-toggleable__label sk-toggleable__label-arrow\">remainder</label><div class=\"sk-toggleable__content\"><pre></pre></div></div></div><div class=\"sk-serial\"><div class=\"sk-item\"><div class=\"sk-estimator sk-toggleable\"><input class=\"sk-toggleable__control sk-hidden--visually\" id=\"sk-estimator-id-23\" type=\"checkbox\" ><label for=\"sk-estimator-id-23\" class=\"sk-toggleable__label sk-toggleable__label-arrow\">passthrough</label><div class=\"sk-toggleable__content\"><pre>passthrough</pre></div></div></div></div></div></div></div></div><div class=\"sk-item\"><div class=\"sk-estimator sk-toggleable\"><input class=\"sk-toggleable__control sk-hidden--visually\" id=\"sk-estimator-id-24\" type=\"checkbox\" ><label for=\"sk-estimator-id-24\" class=\"sk-toggleable__label sk-toggleable__label-arrow\">LinearRegression</label><div class=\"sk-toggleable__content\"><pre>LinearRegression(n_jobs=-1)</pre></div></div></div></div></div></div></div>"
      ],
      "text/plain": [
       "Pipeline(steps=[('preprocessor',\n",
       "                 ColumnTransformer(remainder='passthrough',\n",
       "                                   transformers=[('num',\n",
       "                                                  Pipeline(steps=[('SimpleImputer_num',\n",
       "                                                                   SimpleImputer(strategy='median')),\n",
       "                                                                  ('Scaler',\n",
       "                                                                   MinMaxScaler())]),\n",
       "                                                  ['f0', 'f1', 'f2'])])),\n",
       "                ('model', LinearRegression(n_jobs=-1))])"
      ]
     },
     "execution_count": 153,
     "metadata": {},
     "output_type": "execute_result"
    }
   ],
   "source": [
    "lin_model = prediction_model(argument_col, 'Min/Max', 'LinearRegression')\n",
    "lin_model"
   ]
  },
  {
   "cell_type": "code",
   "execution_count": 229,
   "metadata": {},
   "outputs": [],
   "source": [
    "dummy_test_model = prediction_model(argument_col, 'Min/Max', 'DummyRegressor')"
   ]
  },
  {
   "cell_type": "code",
   "execution_count": null,
   "metadata": {},
   "outputs": [],
   "source": []
  },
  {
   "cell_type": "markdown",
   "metadata": {},
   "source": [
    "### Формирование обучающих и валидационных выборок в соотношении 75:25"
   ]
  },
  {
   "cell_type": "code",
   "execution_count": 169,
   "metadata": {},
   "outputs": [],
   "source": [
    "RANDOM_STATE = 42\n",
    "TEST_SIZE = 0.25"
   ]
  },
  {
   "cell_type": "code",
   "execution_count": 174,
   "metadata": {},
   "outputs": [],
   "source": [
    "def spliting (arguments, target):\n",
    "    Xtrain, Xtest, Ytrain, Ytest = train_test_split(arguments, target, test_size=TEST_SIZE, random_state=RANDOM_STATE)\n",
    "    return Xtrain, Xtest, Ytrain, Ytest"
   ]
  },
  {
   "cell_type": "code",
   "execution_count": 175,
   "metadata": {},
   "outputs": [],
   "source": [
    "Xtrain1a, Xtest1a, Ytrain1a, Ytest1a = spliting(derrick1area[argument_col], derrick1area[target])\n",
    "Xtrain2a, Xtest2a, Ytrain2a, Ytest2a = spliting(derrick2area[argument_col], derrick2area[target])\n",
    "Xtrain3a, Xtest3a, Ytrain3a, Ytest3a = spliting(derrick3area[argument_col], derrick3area[target])"
   ]
  },
  {
   "cell_type": "code",
   "execution_count": 215,
   "metadata": {},
   "outputs": [],
   "source": [
    "Xtrain = [Xtrain1a, Xtrain2a, Xtrain3a]\n",
    "Xtest  = [Xtest1a, Xtest2a, Xtest3a]\n",
    "Ytrain = [Ytrain1a, Ytrain2a, Ytrain3a]\n",
    "Ytest  = [Ytest1a, Ytest2a, Ytest3a]"
   ]
  },
  {
   "cell_type": "code",
   "execution_count": 232,
   "metadata": {},
   "outputs": [
    {
     "data": {
      "text/html": [
       "<div>\n",
       "<style scoped>\n",
       "    .dataframe tbody tr th:only-of-type {\n",
       "        vertical-align: middle;\n",
       "    }\n",
       "\n",
       "    .dataframe tbody tr th {\n",
       "        vertical-align: top;\n",
       "    }\n",
       "\n",
       "    .dataframe thead th {\n",
       "        text-align: right;\n",
       "    }\n",
       "</style>\n",
       "<table border=\"1\" class=\"dataframe\">\n",
       "  <thead>\n",
       "    <tr style=\"text-align: right;\">\n",
       "      <th></th>\n",
       "      <th>Модель</th>\n",
       "      <th>Метрика R2</th>\n",
       "      <th>Метрика RMSE</th>\n",
       "      <th>Метрика RMSE(Dummy)</th>\n",
       "    </tr>\n",
       "  </thead>\n",
       "  <tbody>\n",
       "    <tr>\n",
       "      <th>группа скажин-1</th>\n",
       "      <td>LinearRegression(n_jobs=-1)</td>\n",
       "      <td>0.272829</td>\n",
       "      <td>5.572045</td>\n",
       "      <td>6.135782</td>\n",
       "    </tr>\n",
       "    <tr>\n",
       "      <th>группа скажин-2</th>\n",
       "      <td>LinearRegression(n_jobs=-1)</td>\n",
       "      <td>0.999625</td>\n",
       "      <td>0.846766</td>\n",
       "      <td>6.348551</td>\n",
       "    </tr>\n",
       "    <tr>\n",
       "      <th>группа скажин-3</th>\n",
       "      <td>LinearRegression(n_jobs=-1)</td>\n",
       "      <td>0.196347</td>\n",
       "      <td>5.735587</td>\n",
       "      <td>6.150650</td>\n",
       "    </tr>\n",
       "  </tbody>\n",
       "</table>\n",
       "</div>"
      ],
      "text/plain": [
       "                                      Модель  Метрика R2  Метрика RMSE  \\\n",
       "группа скажин-1  LinearRegression(n_jobs=-1)    0.272829      5.572045   \n",
       "группа скажин-2  LinearRegression(n_jobs=-1)    0.999625      0.846766   \n",
       "группа скажин-3  LinearRegression(n_jobs=-1)    0.196347      5.735587   \n",
       "\n",
       "                 Метрика RMSE(Dummy)  \n",
       "группа скажин-1             6.135782  \n",
       "группа скажин-2             6.348551  \n",
       "группа скажин-3             6.150650  "
      ]
     },
     "execution_count": 232,
     "metadata": {},
     "output_type": "execute_result"
    }
   ],
   "source": [
    "metrics = []\n",
    "for i, model in enumerate(table_names):\n",
    "    lin_model.fit(Xtrain[i], Ytrain[i])\n",
    "    Ytest_predict = lin_model.predict(Xtest[i])\n",
    "    r2_score  =  lin_model.score(Xtest[i], Ytest[i])\n",
    "    rmse_score =  np.sqrt(mean_absolute_error(Ytest[i], Ytest_predict))\n",
    "    \n",
    "    dummy_test_model.fit(Xtrain[i], Ytrain[i])\n",
    "    Ytest_predict_dummy =  dummy_test_model.predict(Xtest[i])\n",
    "    rmse_score_dummy    =  np.sqrt(mean_absolute_error(Ytest[i], Ytest_predict_dummy))\n",
    "    \n",
    "    metrics.append([str(lin_model.get_params()['model']), r2_score, rmse_score, rmse_score_dummy])\n",
    "metrics = pd.DataFrame(metrics)\n",
    "metrics.columns = ['Модель', 'Метрика R2', 'Метрика RMSE', 'Метрика RMSE(Dummy)']\n",
    "metrics.index  = table_names\n",
    "metrics"
   ]
  },
  {
   "cell_type": "code",
   "execution_count": 173,
   "metadata": {},
   "outputs": [],
   "source": []
  },
  {
   "cell_type": "code",
   "execution_count": null,
   "metadata": {},
   "outputs": [],
   "source": []
  },
  {
   "cell_type": "code",
   "execution_count": null,
   "metadata": {},
   "outputs": [],
   "source": []
  },
  {
   "cell_type": "code",
   "execution_count": null,
   "metadata": {},
   "outputs": [],
   "source": []
  },
  {
   "cell_type": "code",
   "execution_count": null,
   "metadata": {},
   "outputs": [],
   "source": []
  },
  {
   "cell_type": "code",
   "execution_count": null,
   "metadata": {},
   "outputs": [],
   "source": []
  },
  {
   "cell_type": "code",
   "execution_count": null,
   "metadata": {},
   "outputs": [],
   "source": []
  },
  {
   "cell_type": "code",
   "execution_count": null,
   "metadata": {},
   "outputs": [],
   "source": []
  },
  {
   "cell_type": "code",
   "execution_count": null,
   "metadata": {},
   "outputs": [],
   "source": []
  },
  {
   "cell_type": "code",
   "execution_count": null,
   "metadata": {},
   "outputs": [],
   "source": []
  },
  {
   "cell_type": "code",
   "execution_count": null,
   "metadata": {},
   "outputs": [],
   "source": [
    "lin_model.fit(X_train, y_train)\n",
    "y_test_predict = lin_model.predict(X_test)"
   ]
  },
  {
   "cell_type": "code",
   "execution_count": null,
   "metadata": {},
   "outputs": [],
   "source": []
  },
  {
   "cell_type": "code",
   "execution_count": null,
   "metadata": {},
   "outputs": [],
   "source": []
  },
  {
   "cell_type": "code",
   "execution_count": null,
   "metadata": {},
   "outputs": [],
   "source": [
    "metrics = []\n",
    "for i, model in enumerate(table_names):\n",
    "    lin_model.fit(X_train, y_train)\n",
    "    \n",
    "\n",
    "    \n",
    "    params   = param_grid_choose(model, max_depth_tree, min_samples_split, min_samples_leaf, max_features, alpha, learning_rate, n_estimators, max_depth)\n",
    "    searcher = searcher_choose('RandomizedSearchCV', test_reg_model, params, smape_scorer)\n",
    "    searcher.fit(X_train, y_train)\n",
    "    train_score = searcher.best_score_\n",
    "    y_test_pred = searcher.predict(X_test)\n",
    "    test_score  = smape(y_test, y_test_pred)\n",
    "    metrics.append([-train_score, test_score, str(searcher.best_estimator_.get_params()['model'])])\n",
    "    print (model+' done')\n",
    "metrics = pd.DataFrame(metrics)\n",
    "metrics.columns = ['SMAPE-train ', 'SMAPE-test', '1']\n",
    "metrics.index  = model_list\n",
    "metrics"
   ]
  },
  {
   "cell_type": "code",
   "execution_count": null,
   "metadata": {},
   "outputs": [],
   "source": []
  },
  {
   "cell_type": "code",
   "execution_count": null,
   "metadata": {},
   "outputs": [],
   "source": []
  },
  {
   "cell_type": "code",
   "execution_count": null,
   "metadata": {},
   "outputs": [],
   "source": []
  },
  {
   "cell_type": "code",
   "execution_count": null,
   "metadata": {},
   "outputs": [],
   "source": []
  },
  {
   "cell_type": "code",
   "execution_count": null,
   "metadata": {},
   "outputs": [],
   "source": []
  },
  {
   "cell_type": "code",
   "execution_count": null,
   "metadata": {},
   "outputs": [],
   "source": []
  },
  {
   "cell_type": "code",
   "execution_count": null,
   "metadata": {},
   "outputs": [],
   "source": [
    "    Xtrain.append(XYi[0])\n",
    "    Xtest.append(XYi[1])\n",
    "    Ytrain.append(XYi[2])\n",
    "    Ytest.append(XYi[3])"
   ]
  },
  {
   "cell_type": "code",
   "execution_count": null,
   "metadata": {},
   "outputs": [],
   "source": [
    "features_train0, features_valid0, target_train0, target_valid0 = (\n",
    "    train_test_split(derrick2area[argument_col], derrick2area[target], test_size=TEST_SIZE, random_state=RANDOM_STATE))\n",
    "\n",
    "for _ in [features_train0, features_valid0, target_train0, target_valid0]:\n",
    "    print(_.shape)"
   ]
  },
  {
   "cell_type": "code",
   "execution_count": 214,
   "metadata": {},
   "outputs": [
    {
     "name": "stdout",
     "output_type": "stream",
     "text": [
      "[             f0        f1        f2\n",
      "id                                 \n",
      "VZVnq  1.611925 -0.151874  1.221668\n",
      "EC6JJ -0.896203  0.369086 -4.537914\n",
      "PIII5  0.217569  0.974254  7.369521\n",
      "80ZC3  0.882945  0.669249  3.114527\n",
      "jZDSd -0.941661  0.634162  2.873607\n",
      "...         ...       ...       ...\n",
      "pzVvZ  1.626462 -0.107752  2.951064\n",
      "0Dtx5  1.682364 -0.193385 -1.175390\n",
      "cZDx4  0.979059 -0.550693  2.897510\n",
      "8IHAp  0.652792 -0.484070  7.155391\n",
      "zE92l  1.398239 -0.464569  2.024935\n",
      "\n",
      "[75000 rows x 3 columns],              f0        f1        f2\n",
      "id                                 \n",
      "7C6bA  0.599283 -0.557623  2.121187\n",
      "dVxsn  0.739017 -0.463156 -1.347584\n",
      "1Gm3l  1.422743 -0.534917  3.718798\n",
      "Nzg1t  1.580244 -0.238458  2.805149\n",
      "Z7b4F  0.918974  0.023961  2.598575\n",
      "...         ...       ...       ...\n",
      "pXFCs  0.754647 -0.512213  2.610771\n",
      "tf6nq -0.062056  0.516884  0.714446\n",
      "pv8T0  0.593769 -0.425260 -0.525017\n",
      "nol4A  0.198209  0.453940  1.497557\n",
      "MUye1 -0.246727  1.013025  4.678275\n",
      "\n",
      "[25000 rows x 3 columns], id\n",
      "VZVnq    105.179287\n",
      "EC6JJ      9.351083\n",
      "PIII5    117.266771\n",
      "80ZC3    116.537717\n",
      "jZDSd    110.712818\n",
      "            ...    \n",
      "pzVvZ    131.201639\n",
      "0Dtx5     86.899956\n",
      "cZDx4    156.871815\n",
      "8IHAp     83.755210\n",
      "zE92l     47.077062\n",
      "Name: product, Length: 75000, dtype: float64, id\n",
      "7C6bA    122.073350\n",
      "dVxsn     48.738540\n",
      "1Gm3l    131.338088\n",
      "Nzg1t     88.327757\n",
      "Z7b4F     36.959266\n",
      "            ...    \n",
      "pXFCs    148.821520\n",
      "tf6nq    123.454003\n",
      "pv8T0     91.945213\n",
      "nol4A    149.295563\n",
      "MUye1     57.244039\n",
      "Name: product, Length: 25000, dtype: float64]\n",
      "[              f0        f1        f2\n",
      "id                                  \n",
      "zpUhc   9.296378 -4.480220  1.999544\n",
      "Rh1Wm  15.836796  1.952969  4.989288\n",
      "zlZGZ  -1.594937 -0.407367  3.003358\n",
      "mYvR0  12.335752 -6.508978  2.001396\n",
      "pLxHj  -4.954638 -8.026328  1.001472\n",
      "...          ...       ...       ...\n",
      "Bq61O  -9.097344 -9.935211  0.996925\n",
      "beEul   2.490913 -3.577409  4.003892\n",
      "oTm3D  11.419499  3.616041  0.998035\n",
      "14AGc  -2.206408 -6.205406  0.008217\n",
      "wadeV   9.647152 -4.045684  4.991326\n",
      "\n",
      "[75000 rows x 3 columns],               f0        f1        f2\n",
      "id                                  \n",
      "fYVDK   6.078076  0.084568  0.002957\n",
      "3SQcq  16.462386  2.712946  1.993030\n",
      "hQ1gJ   7.051898  0.766983  4.990194\n",
      "Y4vux  -0.240045 -0.380804  3.999693\n",
      "H1NUw  13.350111 -8.558281  0.002010\n",
      "...          ...       ...       ...\n",
      "Vn3pL   8.141417 -0.832158  4.001976\n",
      "zZe7H  16.601751 -8.141232  2.010371\n",
      "iefIy  14.674777 -5.633890  1.004171\n",
      "CFT5B  -1.381118 -5.464254  4.001648\n",
      "cQudG   8.390836 -2.782887  5.007094\n",
      "\n",
      "[25000 rows x 3 columns], id\n",
      "zpUhc     53.906522\n",
      "Rh1Wm    134.766305\n",
      "zlZGZ     84.038886\n",
      "mYvR0     53.906522\n",
      "pLxHj     30.132364\n",
      "            ...    \n",
      "Bq61O     30.132364\n",
      "beEul    107.813044\n",
      "oTm3D     26.953261\n",
      "14AGc      0.000000\n",
      "wadeV    134.766305\n",
      "Name: product, Length: 75000, dtype: float64, id\n",
      "fYVDK      0.000000\n",
      "3SQcq     53.906522\n",
      "hQ1gJ    134.766305\n",
      "Y4vux    107.813044\n",
      "H1NUw      0.000000\n",
      "            ...    \n",
      "Vn3pL    107.813044\n",
      "zZe7H     53.906522\n",
      "iefIy     26.953261\n",
      "CFT5B    110.992147\n",
      "cQudG    134.766305\n",
      "Name: product, Length: 25000, dtype: float64]\n",
      "[             f0        f1        f2\n",
      "id                                 \n",
      "3eSsG -0.592927 -2.323059  5.344840\n",
      "xOW8z -0.690844  1.715501 -1.331142\n",
      "iJYOp  1.741680 -1.604639  0.499745\n",
      "zfAoc -1.354850  0.984588  5.683113\n",
      "ABrBj  1.075114  1.175117  1.010025\n",
      "...         ...       ...       ...\n",
      "CoDiK -1.842672 -0.003145  0.926830\n",
      "rHX5A  0.079216  1.076507  3.761491\n",
      "rOVDZ -2.285696  1.500897 -1.051454\n",
      "YNFeD -1.446403 -2.164471  3.334692\n",
      "2jXXL  1.381842  2.413188  5.973761\n",
      "\n",
      "[75000 rows x 3 columns],              f0        f1        f2\n",
      "id                                 \n",
      "sPjbT  2.111118 -1.679773  3.112240\n",
      "1u4uo  0.734759  0.747788  3.670879\n",
      "kZ6HO -2.513109  0.844631 -4.922889\n",
      "gCZGK -2.035301 -1.522988  5.072839\n",
      "rqJHx  2.744145  1.429952 -1.372661\n",
      "...         ...       ...       ...\n",
      "hMnQH -1.532677  0.365315  3.840436\n",
      "KGq37  1.381244  1.168552  2.262261\n",
      "CKCjb  2.902487  0.839203 -2.817721\n",
      "ANcQx  0.942093 -1.424641  0.567559\n",
      "AarNF  1.015823 -1.600172  1.054157\n",
      "\n",
      "[25000 rows x 3 columns], id\n",
      "3eSsG    122.402114\n",
      "xOW8z     43.299623\n",
      "iJYOp    144.915121\n",
      "zfAoc    114.038791\n",
      "ABrBj     95.600308\n",
      "            ...    \n",
      "CoDiK     54.598839\n",
      "rHX5A     63.428292\n",
      "rOVDZ     37.780858\n",
      "YNFeD     68.317185\n",
      "2jXXL    147.700315\n",
      "Name: product, Length: 75000, dtype: float64, id\n",
      "sPjbT    117.441301\n",
      "1u4uo     47.841249\n",
      "kZ6HO     45.883483\n",
      "gCZGK    139.014608\n",
      "rqJHx     84.004276\n",
      "            ...    \n",
      "hMnQH     40.797226\n",
      "KGq37     87.144239\n",
      "CKCjb     52.039812\n",
      "ANcQx    136.961454\n",
      "AarNF    109.173206\n",
      "Name: product, Length: 25000, dtype: float64]\n"
     ]
    }
   ],
   "source": [
    "Xtrain=Xtest=Ytrain=Ytest =[]\n",
    "for i, item in enumerate(table_set):\n",
    "    XYi = [train_test_split(item[argument_col], item[target], test_size=TEST_SIZE, random_state=RANDOM_STATE)]\n",
    "    print(XYi[0])"
   ]
  },
  {
   "cell_type": "code",
   "execution_count": 213,
   "metadata": {},
   "outputs": [
    {
     "data": {
      "text/plain": [
       "[[             f0        f1        f2\n",
       "  id                                 \n",
       "  VZVnq  1.611925 -0.151874  1.221668\n",
       "  EC6JJ -0.896203  0.369086 -4.537914\n",
       "  PIII5  0.217569  0.974254  7.369521\n",
       "  80ZC3  0.882945  0.669249  3.114527\n",
       "  jZDSd -0.941661  0.634162  2.873607\n",
       "  ...         ...       ...       ...\n",
       "  pzVvZ  1.626462 -0.107752  2.951064\n",
       "  0Dtx5  1.682364 -0.193385 -1.175390\n",
       "  cZDx4  0.979059 -0.550693  2.897510\n",
       "  8IHAp  0.652792 -0.484070  7.155391\n",
       "  zE92l  1.398239 -0.464569  2.024935\n",
       "  \n",
       "  [75000 rows x 3 columns],\n",
       "               f0        f1        f2\n",
       "  id                                 \n",
       "  7C6bA  0.599283 -0.557623  2.121187\n",
       "  dVxsn  0.739017 -0.463156 -1.347584\n",
       "  1Gm3l  1.422743 -0.534917  3.718798\n",
       "  Nzg1t  1.580244 -0.238458  2.805149\n",
       "  Z7b4F  0.918974  0.023961  2.598575\n",
       "  ...         ...       ...       ...\n",
       "  pXFCs  0.754647 -0.512213  2.610771\n",
       "  tf6nq -0.062056  0.516884  0.714446\n",
       "  pv8T0  0.593769 -0.425260 -0.525017\n",
       "  nol4A  0.198209  0.453940  1.497557\n",
       "  MUye1 -0.246727  1.013025  4.678275\n",
       "  \n",
       "  [25000 rows x 3 columns],\n",
       "  id\n",
       "  VZVnq    105.179287\n",
       "  EC6JJ      9.351083\n",
       "  PIII5    117.266771\n",
       "  80ZC3    116.537717\n",
       "  jZDSd    110.712818\n",
       "              ...    \n",
       "  pzVvZ    131.201639\n",
       "  0Dtx5     86.899956\n",
       "  cZDx4    156.871815\n",
       "  8IHAp     83.755210\n",
       "  zE92l     47.077062\n",
       "  Name: product, Length: 75000, dtype: float64,\n",
       "  id\n",
       "  7C6bA    122.073350\n",
       "  dVxsn     48.738540\n",
       "  1Gm3l    131.338088\n",
       "  Nzg1t     88.327757\n",
       "  Z7b4F     36.959266\n",
       "              ...    \n",
       "  pXFCs    148.821520\n",
       "  tf6nq    123.454003\n",
       "  pv8T0     91.945213\n",
       "  nol4A    149.295563\n",
       "  MUye1     57.244039\n",
       "  Name: product, Length: 25000, dtype: float64],\n",
       " [              f0        f1        f2\n",
       "  id                                  \n",
       "  zpUhc   9.296378 -4.480220  1.999544\n",
       "  Rh1Wm  15.836796  1.952969  4.989288\n",
       "  zlZGZ  -1.594937 -0.407367  3.003358\n",
       "  mYvR0  12.335752 -6.508978  2.001396\n",
       "  pLxHj  -4.954638 -8.026328  1.001472\n",
       "  ...          ...       ...       ...\n",
       "  Bq61O  -9.097344 -9.935211  0.996925\n",
       "  beEul   2.490913 -3.577409  4.003892\n",
       "  oTm3D  11.419499  3.616041  0.998035\n",
       "  14AGc  -2.206408 -6.205406  0.008217\n",
       "  wadeV   9.647152 -4.045684  4.991326\n",
       "  \n",
       "  [75000 rows x 3 columns],\n",
       "                f0        f1        f2\n",
       "  id                                  \n",
       "  fYVDK   6.078076  0.084568  0.002957\n",
       "  3SQcq  16.462386  2.712946  1.993030\n",
       "  hQ1gJ   7.051898  0.766983  4.990194\n",
       "  Y4vux  -0.240045 -0.380804  3.999693\n",
       "  H1NUw  13.350111 -8.558281  0.002010\n",
       "  ...          ...       ...       ...\n",
       "  Vn3pL   8.141417 -0.832158  4.001976\n",
       "  zZe7H  16.601751 -8.141232  2.010371\n",
       "  iefIy  14.674777 -5.633890  1.004171\n",
       "  CFT5B  -1.381118 -5.464254  4.001648\n",
       "  cQudG   8.390836 -2.782887  5.007094\n",
       "  \n",
       "  [25000 rows x 3 columns],\n",
       "  id\n",
       "  zpUhc     53.906522\n",
       "  Rh1Wm    134.766305\n",
       "  zlZGZ     84.038886\n",
       "  mYvR0     53.906522\n",
       "  pLxHj     30.132364\n",
       "              ...    \n",
       "  Bq61O     30.132364\n",
       "  beEul    107.813044\n",
       "  oTm3D     26.953261\n",
       "  14AGc      0.000000\n",
       "  wadeV    134.766305\n",
       "  Name: product, Length: 75000, dtype: float64,\n",
       "  id\n",
       "  fYVDK      0.000000\n",
       "  3SQcq     53.906522\n",
       "  hQ1gJ    134.766305\n",
       "  Y4vux    107.813044\n",
       "  H1NUw      0.000000\n",
       "              ...    \n",
       "  Vn3pL    107.813044\n",
       "  zZe7H     53.906522\n",
       "  iefIy     26.953261\n",
       "  CFT5B    110.992147\n",
       "  cQudG    134.766305\n",
       "  Name: product, Length: 25000, dtype: float64],\n",
       " [             f0        f1        f2\n",
       "  id                                 \n",
       "  3eSsG -0.592927 -2.323059  5.344840\n",
       "  xOW8z -0.690844  1.715501 -1.331142\n",
       "  iJYOp  1.741680 -1.604639  0.499745\n",
       "  zfAoc -1.354850  0.984588  5.683113\n",
       "  ABrBj  1.075114  1.175117  1.010025\n",
       "  ...         ...       ...       ...\n",
       "  CoDiK -1.842672 -0.003145  0.926830\n",
       "  rHX5A  0.079216  1.076507  3.761491\n",
       "  rOVDZ -2.285696  1.500897 -1.051454\n",
       "  YNFeD -1.446403 -2.164471  3.334692\n",
       "  2jXXL  1.381842  2.413188  5.973761\n",
       "  \n",
       "  [75000 rows x 3 columns],\n",
       "               f0        f1        f2\n",
       "  id                                 \n",
       "  sPjbT  2.111118 -1.679773  3.112240\n",
       "  1u4uo  0.734759  0.747788  3.670879\n",
       "  kZ6HO -2.513109  0.844631 -4.922889\n",
       "  gCZGK -2.035301 -1.522988  5.072839\n",
       "  rqJHx  2.744145  1.429952 -1.372661\n",
       "  ...         ...       ...       ...\n",
       "  hMnQH -1.532677  0.365315  3.840436\n",
       "  KGq37  1.381244  1.168552  2.262261\n",
       "  CKCjb  2.902487  0.839203 -2.817721\n",
       "  ANcQx  0.942093 -1.424641  0.567559\n",
       "  AarNF  1.015823 -1.600172  1.054157\n",
       "  \n",
       "  [25000 rows x 3 columns],\n",
       "  id\n",
       "  3eSsG    122.402114\n",
       "  xOW8z     43.299623\n",
       "  iJYOp    144.915121\n",
       "  zfAoc    114.038791\n",
       "  ABrBj     95.600308\n",
       "              ...    \n",
       "  CoDiK     54.598839\n",
       "  rHX5A     63.428292\n",
       "  rOVDZ     37.780858\n",
       "  YNFeD     68.317185\n",
       "  2jXXL    147.700315\n",
       "  Name: product, Length: 75000, dtype: float64,\n",
       "  id\n",
       "  sPjbT    117.441301\n",
       "  1u4uo     47.841249\n",
       "  kZ6HO     45.883483\n",
       "  gCZGK    139.014608\n",
       "  rqJHx     84.004276\n",
       "              ...    \n",
       "  hMnQH     40.797226\n",
       "  KGq37     87.144239\n",
       "  CKCjb     52.039812\n",
       "  ANcQx    136.961454\n",
       "  AarNF    109.173206\n",
       "  Name: product, Length: 25000, dtype: float64]]"
      ]
     },
     "execution_count": 213,
     "metadata": {},
     "output_type": "execute_result"
    }
   ],
   "source": [
    "Xtrain"
   ]
  },
  {
   "cell_type": "code",
   "execution_count": null,
   "metadata": {},
   "outputs": [],
   "source": []
  },
  {
   "cell_type": "code",
   "execution_count": null,
   "metadata": {},
   "outputs": [],
   "source": []
  },
  {
   "cell_type": "code",
   "execution_count": null,
   "metadata": {},
   "outputs": [],
   "source": []
  },
  {
   "cell_type": "code",
   "execution_count": 179,
   "metadata": {},
   "outputs": [],
   "source": [
    "[XY] = [train_test_split(derrick2area[argument_col], derrick2area[target], test_size=TEST_SIZE, random_state=RANDOM_STATE)]"
   ]
  },
  {
   "cell_type": "code",
   "execution_count": 188,
   "metadata": {},
   "outputs": [
    {
     "data": {
      "text/html": [
       "<div>\n",
       "<style scoped>\n",
       "    .dataframe tbody tr th:only-of-type {\n",
       "        vertical-align: middle;\n",
       "    }\n",
       "\n",
       "    .dataframe tbody tr th {\n",
       "        vertical-align: top;\n",
       "    }\n",
       "\n",
       "    .dataframe thead th {\n",
       "        text-align: right;\n",
       "    }\n",
       "</style>\n",
       "<table border=\"1\" class=\"dataframe\">\n",
       "  <thead>\n",
       "    <tr style=\"text-align: right;\">\n",
       "      <th></th>\n",
       "      <th>f0</th>\n",
       "      <th>f1</th>\n",
       "      <th>f2</th>\n",
       "    </tr>\n",
       "    <tr>\n",
       "      <th>id</th>\n",
       "      <th></th>\n",
       "      <th></th>\n",
       "      <th></th>\n",
       "    </tr>\n",
       "  </thead>\n",
       "  <tbody>\n",
       "    <tr>\n",
       "      <th>fYVDK</th>\n",
       "      <td>6.078076</td>\n",
       "      <td>0.084568</td>\n",
       "      <td>0.002957</td>\n",
       "    </tr>\n",
       "    <tr>\n",
       "      <th>3SQcq</th>\n",
       "      <td>16.462386</td>\n",
       "      <td>2.712946</td>\n",
       "      <td>1.993030</td>\n",
       "    </tr>\n",
       "    <tr>\n",
       "      <th>hQ1gJ</th>\n",
       "      <td>7.051898</td>\n",
       "      <td>0.766983</td>\n",
       "      <td>4.990194</td>\n",
       "    </tr>\n",
       "    <tr>\n",
       "      <th>Y4vux</th>\n",
       "      <td>-0.240045</td>\n",
       "      <td>-0.380804</td>\n",
       "      <td>3.999693</td>\n",
       "    </tr>\n",
       "    <tr>\n",
       "      <th>H1NUw</th>\n",
       "      <td>13.350111</td>\n",
       "      <td>-8.558281</td>\n",
       "      <td>0.002010</td>\n",
       "    </tr>\n",
       "    <tr>\n",
       "      <th>...</th>\n",
       "      <td>...</td>\n",
       "      <td>...</td>\n",
       "      <td>...</td>\n",
       "    </tr>\n",
       "    <tr>\n",
       "      <th>Vn3pL</th>\n",
       "      <td>8.141417</td>\n",
       "      <td>-0.832158</td>\n",
       "      <td>4.001976</td>\n",
       "    </tr>\n",
       "    <tr>\n",
       "      <th>zZe7H</th>\n",
       "      <td>16.601751</td>\n",
       "      <td>-8.141232</td>\n",
       "      <td>2.010371</td>\n",
       "    </tr>\n",
       "    <tr>\n",
       "      <th>iefIy</th>\n",
       "      <td>14.674777</td>\n",
       "      <td>-5.633890</td>\n",
       "      <td>1.004171</td>\n",
       "    </tr>\n",
       "    <tr>\n",
       "      <th>CFT5B</th>\n",
       "      <td>-1.381118</td>\n",
       "      <td>-5.464254</td>\n",
       "      <td>4.001648</td>\n",
       "    </tr>\n",
       "    <tr>\n",
       "      <th>cQudG</th>\n",
       "      <td>8.390836</td>\n",
       "      <td>-2.782887</td>\n",
       "      <td>5.007094</td>\n",
       "    </tr>\n",
       "  </tbody>\n",
       "</table>\n",
       "<p>25000 rows × 3 columns</p>\n",
       "</div>"
      ],
      "text/plain": [
       "              f0        f1        f2\n",
       "id                                  \n",
       "fYVDK   6.078076  0.084568  0.002957\n",
       "3SQcq  16.462386  2.712946  1.993030\n",
       "hQ1gJ   7.051898  0.766983  4.990194\n",
       "Y4vux  -0.240045 -0.380804  3.999693\n",
       "H1NUw  13.350111 -8.558281  0.002010\n",
       "...          ...       ...       ...\n",
       "Vn3pL   8.141417 -0.832158  4.001976\n",
       "zZe7H  16.601751 -8.141232  2.010371\n",
       "iefIy  14.674777 -5.633890  1.004171\n",
       "CFT5B  -1.381118 -5.464254  4.001648\n",
       "cQudG   8.390836 -2.782887  5.007094\n",
       "\n",
       "[25000 rows x 3 columns]"
      ]
     },
     "execution_count": 188,
     "metadata": {},
     "output_type": "execute_result"
    }
   ],
   "source": [
    "    Xtest.append(XYi[1])\n",
    "    Ytrain.append(XYi[2])\n",
    "    Ytest.append(XYi[3])"
   ]
  },
  {
   "cell_type": "markdown",
   "metadata": {},
   "source": [
    "## Подготовка к расчёту прибыли"
   ]
  },
  {
   "cell_type": "code",
   "execution_count": null,
   "metadata": {},
   "outputs": [],
   "source": []
  },
  {
   "cell_type": "markdown",
   "metadata": {},
   "source": [
    "## Расчёт прибыли и рисков "
   ]
  },
  {
   "cell_type": "code",
   "execution_count": null,
   "metadata": {},
   "outputs": [],
   "source": []
  },
  {
   "cell_type": "markdown",
   "metadata": {},
   "source": [
    "## Чек-лист готовности проекта"
   ]
  },
  {
   "cell_type": "markdown",
   "metadata": {},
   "source": [
    "Поставьте 'x' в выполненных пунктах. Далее нажмите Shift+Enter."
   ]
  },
  {
   "cell_type": "markdown",
   "metadata": {},
   "source": [
    "- [x]  Jupyter Notebook открыт\n",
    "- [ ]  Весь код выполняется без ошибок\n",
    "- [ ]  Ячейки с кодом расположены в порядке исполнения\n",
    "- [x]  Выполнен шаг 1: данные подготовлены\n",
    "- [ ]  Выполнен шаг 2: модели обучены и проверены\n",
    "    - [x]  Данные корректно разбиты на обучающую и валидационную выборки\n",
    "    - [x]  Модели обучены, предсказания сделаны\n",
    "    - [x]  Предсказания и правильные ответы на валидационной выборке сохранены\n",
    "    - [x]  На экране напечатаны результаты\n",
    "    - [ ]  Сделаны выводы\n",
    "- [ ]  Выполнен шаг 3: проведена подготовка к расчёту прибыли\n",
    "    - [ ]  Для всех ключевых значений созданы константы Python\n",
    "    - [ ]  Посчитано минимальное среднее количество продукта в месторождениях региона, достаточное для разработки\n",
    "    - [ ]  По предыдущему пункту сделаны выводы\n",
    "    - [ ]  Написана функция расчёта прибыли\n",
    "- [ ]  Выполнен шаг 4: посчитаны риски и прибыль\n",
    "    - [ ]  Проведена процедура *Bootstrap*\n",
    "    - [ ]  Все параметры бутстрепа соответствуют условию\n",
    "    - [ ]  Найдены все нужные величины\n",
    "    - [ ]  Предложен регион для разработки месторождения\n",
    "    - [ ]  Выбор региона обоснован"
   ]
  },
  {
   "cell_type": "code",
   "execution_count": null,
   "metadata": {},
   "outputs": [],
   "source": []
  },
  {
   "cell_type": "markdown",
   "metadata": {},
   "source": [
    "## Балуемся плюшками"
   ]
  },
  {
   "cell_type": "markdown",
   "metadata": {},
   "source": [
    "Dependences are fundamental to record the computational environment."
   ]
  },
  {
   "cell_type": "code",
   "execution_count": 41,
   "metadata": {},
   "outputs": [
    {
     "name": "stdout",
     "output_type": "stream",
     "text": [
      "alembic==1.13.0\n",
      "altair==5.1.2\n",
      "annotated-types==0.6.0\n",
      "anyio==3.7.1\n",
      "argon2-cffi==23.1.0\n",
      "argon2-cffi-bindings==21.2.0\n",
      "arrow==1.2.3\n",
      "asttokens==2.2.1\n",
      "async-lru==2.0.4\n",
      "attrs==23.1.0\n",
      "autopep8==2.0.4\n",
      "Babel==2.12.1\n",
      "backcall==0.2.0\n",
      "beautifulsoup4==4.12.2\n",
      "bleach==6.0.0\n",
      "blinker==1.4\n",
      "catboost==1.2.2\n",
      "certifi==2023.7.22\n",
      "cffi==1.15.1\n",
      "charset-normalizer==3.2.0\n",
      "cloudpickle==3.0.0\n",
      "colorama==0.4.6\n",
      "colorlog==6.8.0\n",
      "comm==0.1.4\n",
      "contourpy==1.1.0\n",
      "cycler==0.11.0\n",
      "cymem==2.0.6\n",
      "dacite==1.8.1\n",
      "dash-core-components==2.0.0\n",
      "dash-html-components==2.0.0\n",
      "dash-table==5.0.0\n",
      "DAWG-Python==0.7.2\n",
      "debugpy==1.6.7.post1\n",
      "decorator==5.1.1\n",
      "defusedxml==0.7.1\n",
      "docopt==0.6.2\n",
      "exceptiongroup==1.1.3\n",
      "executing==1.2.0\n",
      "fastjsonschema==2.18.0\n",
      "findspark==1.4.2\n",
      "flatbuffers==2.0.7\n",
      "fonttools==4.42.1\n",
      "fqdn==1.5.1\n",
      "fuzzywuzzy==0.18.0\n",
      "gitdb==4.0.11\n",
      "GitPython==3.1.40\n",
      "graphviz==0.20.1\n",
      "greenlet==3.0.2\n",
      "h5py==3.9.0\n",
      "htmlmin==0.1.12\n",
      "idna==3.4\n",
      "ImageHash==4.3.1\n",
      "importlib-metadata==6.8.0\n",
      "importlib-resources==6.0.1\n",
      "ipykernel==6.25.1\n",
      "ipython==8.14.0\n",
      "ipython-genutils==0.2.0\n",
      "ipywidgets==8.1.1\n",
      "iso3166==2.1.1\n",
      "isoduration==20.11.0\n",
      "jedi==0.19.0\n",
      "Jinja2==3.1.2\n",
      "joblib==1.3.2\n",
      "json5==0.9.5\n",
      "jsonpointer==2.4\n",
      "jsonschema==4.19.0\n",
      "jsonschema-specifications==2023.7.1\n",
      "jupyter-contrib-core==0.4.2\n",
      "jupyter-contrib-nbextensions==0.7.0\n",
      "jupyter-events==0.7.0\n",
      "jupyter-highlight-selected-word==0.2.0\n",
      "jupyter-lsp==2.2.0\n",
      "jupyter-nbextensions-configurator==0.6.3\n",
      "jupyter-server-mathjax==0.2.6\n",
      "jupyter_client==8.3.0\n",
      "jupyter_core==5.3.1\n",
      "jupyter_server==2.7.3\n",
      "jupyter_server_terminals==0.4.4\n",
      "jupyterlab==4.0.9\n",
      "jupyterlab-pygments==0.2.2\n",
      "jupyterlab-widgets==3.0.9\n",
      "jupyterlab_git==0.50.0\n",
      "jupyterlab_server==2.24.0\n",
      "keras==2.7.0\n",
      "kiwisolver==1.4.5\n",
      "korean-lunar-calendar==0.2.1\n",
      "libclang==14.0.6\n",
      "llvmlite==0.41.1\n",
      "lux-api==0.5.1\n",
      "lux-widget==0.1.11\n",
      "lxml==4.9.3\n",
      "Mako==1.3.0\n",
      "MarkupSafe==2.1.1\n",
      "matplotlib==3.7.3\n",
      "matplotlib-inline==0.1.2\n",
      "missingno==0.5.2\n",
      "mistune==3.0.1\n",
      "mlxtend==0.23.0\n",
      "multimethod==1.10\n",
      "murmurhash==1.0.8\n",
      "nbclassic==0.5.6\n",
      "nbclient==0.8.0\n",
      "nbconvert==7.7.4\n",
      "nbdime==4.0.1\n",
      "nbformat==5.9.2\n",
      "nest-asyncio==1.5.1\n",
      "networkx==3.2.1\n",
      "notebook==7.0.3\n",
      "notebook_shim==0.2.3\n",
      "numba==0.58.1\n",
      "numpy==1.25.2\n",
      "oauthlib==3.1.1\n",
      "optuna==3.5.0\n",
      "overrides==7.4.0\n",
      "packaging==23.1\n",
      "pamela==1.0.0\n",
      "pandas==2.0.3\n",
      "pandas-profiling==3.6.6\n",
      "pandocfilters==1.4.2\n",
      "parso==0.8.3\n",
      "patsy==0.5.3\n",
      "pexpect==4.8.0\n",
      "phik==0.11.1\n",
      "pickleshare==0.7.5\n",
      "Pillow==8.4.0\n",
      "pipdeptree==2.13.1\n",
      "platformdirs==3.10.0\n",
      "plotly==5.18.0\n",
      "prometheus-client==0.11.0\n",
      "prompt-toolkit==3.0.39\n",
      "protobuf==3.19.4\n",
      "psutil==5.9.5\n",
      "psycopg2-binary==2.9.2\n",
      "ptyprocess==0.7.0\n",
      "pure-eval==0.2.2\n",
      "py4j==0.10.9\n",
      "pyasn1==0.4.8\n",
      "pyasn1-modules==0.2.8\n",
      "pycodestyle==2.11.1\n",
      "pycosat==0.6.3\n",
      "pycparser==2.20\n",
      "pydantic==2.4.2\n",
      "pydantic-settings==2.0.3\n",
      "pydantic_core==2.10.1\n",
      "Pygments==2.9.0\n",
      "PyJWT==2.1.0\n",
      "PyMeeus==0.5.11\n",
      "pymorphy2==0.9.1\n",
      "pymorphy2-dicts-ru==2.4.417127.4579844\n",
      "pyparsing==2.4.7\n",
      "pyrsistent==0.19.3\n",
      "PySocks==1.7.1\n",
      "pyspark==3.0.2\n",
      "python-dateutil==2.8.2\n",
      "python-dotenv==1.0.0\n",
      "python-editor==1.0.4\n",
      "python-json-logger==2.0.7\n",
      "pytz==2021.1\n",
      "PyWavelets==1.4.1\n",
      "pywin32==306\n",
      "pywinpty==2.0.11\n",
      "PyYAML==6.0\n",
      "pyzmq==25.1.1\n",
      "referencing==0.30.2\n",
      "regex==2022.8.17\n",
      "requests==2.31.0\n",
      "retrying==1.3.4\n",
      "rfc3339-validator==0.1.4\n",
      "rfc3986-validator==0.1.1\n",
      "rpds-py==0.9.2\n",
      "rsa==4.9\n",
      "ruamel.yaml==0.17.10\n",
      "ruamel.yaml.clib==0.2.2\n",
      "scikit-learn==1.1.3\n",
      "scipy==1.11.2\n",
      "seaborn==0.12.2\n",
      "Send2Trash==1.8.2\n",
      "sh==2.0.6\n",
      "shap==0.44.0\n",
      "shapely==2.0.2\n",
      "six==1.16.0\n",
      "slicer==0.0.7\n",
      "smart-open==5.2.1\n",
      "smmap==5.0.1\n",
      "sniffio==1.2.0\n",
      "soupsieve==2.3.2.post1\n",
      "spacy-legacy==3.0.10\n",
      "spacy-loggers==1.0.3\n",
      "SQLAlchemy==2.0.23\n",
      "stack-data==0.6.2\n",
      "statsmodels==0.14.0\n",
      "tangled-up-in-unicode==0.2.0\n",
      "tenacity==8.0.1\n",
      "tensorboard-data-server==0.6.1\n",
      "tensorboard-plugin-wit==1.8.1\n",
      "tensorflow-estimator==2.7.0\n",
      "tensorflow-io-gcs-filesystem==0.26.0\n",
      "termcolor==1.1.0\n",
      "terminado==0.10.1\n",
      "testpath==0.5.0\n",
      "threadpoolctl==3.1.0\n",
      "tinycss2==1.2.1\n",
      "tokenizers==0.10.3\n",
      "tomli==2.0.1\n",
      "toolz==0.12.0\n",
      "tornado==6.3.3\n",
      "tqdm==4.61.2\n",
      "traitlets==5.9.0\n",
      "typeguard==4.1.5\n",
      "typing_extensions==4.8.0\n",
      "tzdata==2023.3\n",
      "uri-template==1.3.0\n",
      "urllib3==1.26.6\n",
      "visions==0.7.5\n",
      "wasabi==0.10.1\n",
      "watermark==2.4.3\n",
      "wcwidth==0.2.5\n",
      "webcolors==1.13\n",
      "webencodings==0.5.1\n",
      "websocket-client==0.57.0\n",
      "widgetsnbextension==4.0.9\n",
      "wordcloud==1.9.2\n",
      "wrapt==1.14.1\n",
      "xlrd==2.0.1\n",
      "xmltodict==0.12.0\n",
      "ydata-profiling==4.6.1\n",
      "zipp==3.5.0\n"
     ]
    },
    {
     "name": "stderr",
     "output_type": "stream",
     "text": [
      "WARNING: Ignoring invalid distribution -atplotlib (w:\\_practicumyandex\\practicum\\practicum_env\\lib\\site-packages)\n"
     ]
    }
   ],
   "source": [
    "!pip freeze"
   ]
  }
 ],
 "metadata": {
  "kernelspec": {
   "display_name": "Python 3 (ipykernel)",
   "language": "python",
   "name": "python3"
  },
  "language_info": {
   "codemirror_mode": {
    "name": "ipython",
    "version": 3
   },
   "file_extension": ".py",
   "mimetype": "text/x-python",
   "name": "python",
   "nbconvert_exporter": "python",
   "pygments_lexer": "ipython3",
   "version": "3.9.7"
  },
  "toc": {
   "base_numbering": 1,
   "nav_menu": {},
   "number_sections": true,
   "sideBar": true,
   "skip_h1_title": true,
   "title_cell": "Table of Contents",
   "title_sidebar": "Contents",
   "toc_cell": false,
   "toc_position": {},
   "toc_section_display": true,
   "toc_window_display": false
  }
 },
 "nbformat": 4,
 "nbformat_minor": 4
}
