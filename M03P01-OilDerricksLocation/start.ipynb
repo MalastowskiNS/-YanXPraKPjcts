{
 "cells": [
  {
   "cell_type": "markdown",
   "metadata": {},
   "source": [
    "# Выбор локации для скважины"
   ]
  },
  {
   "cell_type": "markdown",
   "metadata": {},
   "source": [
    "Допустим, вы работаете в добывающей компании «ГлавРосГосНефть». Нужно решить, где бурить новую скважину.\n",
    "\n",
    "Вам предоставлены пробы нефти в трёх регионах: в каждом 10 000 месторождений, где измерили качество нефти и объём её запасов. Постройте модель машинного обучения, которая поможет определить регион, где добыча принесёт наибольшую прибыль. Проанализируйте возможную прибыль и риски техникой *Bootstrap.*\n",
    "\n",
    "Шаги для выбора локации:\n",
    "\n",
    "- В избранном регионе ищут месторождения, для каждого определяют значения признаков;\n",
    "- Строят модель и оценивают объём запасов;\n",
    "- Выбирают месторождения с самым высокими оценками значений. Количество месторождений зависит от бюджета компании и стоимости разработки одной скважины;\n",
    "- Прибыль равна суммарной прибыли отобранных месторождений."
   ]
  },
  {
   "cell_type": "markdown",
   "metadata": {},
   "source": [
    "Загрузка необходимых библиотек:"
   ]
  },
  {
   "cell_type": "code",
   "execution_count": 1,
   "metadata": {},
   "outputs": [
    {
     "name": "stderr",
     "output_type": "stream",
     "text": [
      "WARNING: Ignoring invalid distribution -atplotlib (w:\\_practicumyandex\\practicum\\practicum_env\\lib\\site-packages)\n",
      "WARNING: Ignoring invalid distribution -atplotlib (w:\\_practicumyandex\\practicum\\practicum_env\\lib\\site-packages)\n",
      "WARNING: Ignoring invalid distribution -atplotlib (w:\\_practicumyandex\\practicum\\practicum_env\\lib\\site-packages)\n",
      "WARNING: Ignoring invalid distribution -atplotlib (w:\\_practicumyandex\\practicum\\practicum_env\\lib\\site-packages)\n",
      "WARNING: Ignoring invalid distribution -atplotlib (w:\\_practicumyandex\\practicum\\practicum_env\\lib\\site-packages)\n",
      "WARNING: Ignoring invalid distribution -atplotlib (w:\\_practicumyandex\\practicum\\practicum_env\\lib\\site-packages)\n",
      "WARNING: Ignoring invalid distribution -atplotlib (w:\\_practicumyandex\\practicum\\practicum_env\\lib\\site-packages)\n",
      "WARNING: Ignoring invalid distribution -atplotlib (w:\\_practicumyandex\\practicum\\practicum_env\\lib\\site-packages)\n",
      "WARNING: Ignoring invalid distribution -atplotlib (w:\\_practicumyandex\\practicum\\practicum_env\\lib\\site-packages)\n",
      "WARNING: Ignoring invalid distribution -atplotlib (w:\\_practicumyandex\\practicum\\practicum_env\\lib\\site-packages)\n",
      "WARNING: Ignoring invalid distribution -atplotlib (w:\\_practicumyandex\\practicum\\practicum_env\\lib\\site-packages)\n",
      "WARNING: Ignoring invalid distribution -atplotlib (w:\\_practicumyandex\\practicum\\practicum_env\\lib\\site-packages)\n"
     ]
    }
   ],
   "source": [
    "!pip install -q phik==0.11.1\n",
    "!pip install -q scikit-learn==1.1.3\n",
    "!pip install -q catboost\n",
    "!pip install -q shap\n",
    "!pip install -q optuna \n",
    "!pip install -q vega"
   ]
  },
  {
   "cell_type": "code",
   "execution_count": 2,
   "metadata": {},
   "outputs": [],
   "source": [
    "import pandas as pd\n",
    "import seaborn as sns\n",
    "import numpy as np\n",
    "\n",
    "import matplotlib.pyplot as plt\n",
    "from scipy.stats import shapiro\n",
    "from scipy import stats as st\n",
    "import phik"
   ]
  },
  {
   "cell_type": "code",
   "execution_count": 3,
   "metadata": {},
   "outputs": [],
   "source": [
    "# подготовка данных\n",
    "from sklearn.model_selection import train_test_split, cross_val_score\n",
    "# модели\n",
    "from sklearn.linear_model import LinearRegression\n",
    "from sklearn.dummy import DummyRegressor, DummyClassifier\n",
    "from sklearn.feature_selection import SelectKBest, f_classif\n",
    "# pipeline\n",
    "from sklearn.pipeline import Pipeline\n",
    "from sklearn.compose import ColumnTransformer\n",
    "from sklearn.impute import SimpleImputer\n",
    "from sklearn.preprocessing import StandardScaler, MinMaxScaler, RobustScaler, QuantileTransformer, PolynomialFeatures\n",
    "# метрики регрессии\n",
    "from sklearn.metrics import roc_auc_score, accuracy_score, confusion_matrix, precision_score, recall_score, mean_absolute_error\n",
    "# загружаем функцию для оценки значимости признаков при классификации \n",
    "import shap"
   ]
  },
  {
   "cell_type": "code",
   "execution_count": 4,
   "metadata": {},
   "outputs": [],
   "source": [
    "# Константы\n",
    "RANDOM_STATE = 42\n",
    "TEST_SIZE = 0.25         # Размер тестовой выборки\n",
    "INVESTIG_POINTS = 500    # Cкважины при разведки региона\n",
    "CHOSEN_POINTS = 200      # Cкважины для разработки в регионе\n",
    "BS_SAMPLES = 1000        # Кол-во выборок для Bootstrap\n",
    "BUDGET = 10E6            # Бюджет на разработку скважин в регионе\n",
    "BARREL_PRICE = 450       # Цена одного барреля сырья \n",
    "LOSSES_PROP  = 0.025     # Предельная вероятность убытков"
   ]
  },
  {
   "cell_type": "markdown",
   "metadata": {},
   "source": [
    "## Загрузка и подготовка данных"
   ]
  },
  {
   "cell_type": "markdown",
   "metadata": {},
   "source": [
    "Чтение исходных данных в таблицы:"
   ]
  },
  {
   "cell_type": "code",
   "execution_count": 5,
   "metadata": {},
   "outputs": [],
   "source": [
    "try:\n",
    "    derrick1area = pd.read_csv('geo_data_0.csv')\n",
    "    derrick2area = pd.read_csv('geo_data_1.csv')\n",
    "    derrick3area = pd.read_csv('geo_data_2.csv')\n",
    "except:\n",
    "    derrick1area = pd.read_csv('/datasets/geo_data_0.csv')\n",
    "    derrick2area = pd.read_csv('/datasets/geo_data_1.csv')\n",
    "    derrick3area = pd.read_csv('/datasets/geo_data_2.csv')"
   ]
  },
  {
   "cell_type": "markdown",
   "metadata": {},
   "source": [
    "Выполним небольшую предобработку данных, хотя данные не разнообразны и скорее всего проблем нет."
   ]
  },
  {
   "cell_type": "code",
   "execution_count": 6,
   "metadata": {},
   "outputs": [],
   "source": [
    "table_set = [derrick1area, derrick2area, derrick3area]\n",
    "table_names =  ['группа скажин-1', 'группа скажин-2', 'группа скажин-3']"
   ]
  },
  {
   "cell_type": "code",
   "execution_count": 7,
   "metadata": {},
   "outputs": [
    {
     "data": {
      "text/html": [
       "<div>\n",
       "<style scoped>\n",
       "    .dataframe tbody tr th:only-of-type {\n",
       "        vertical-align: middle;\n",
       "    }\n",
       "\n",
       "    .dataframe tbody tr th {\n",
       "        vertical-align: top;\n",
       "    }\n",
       "\n",
       "    .dataframe thead th {\n",
       "        text-align: right;\n",
       "    }\n",
       "</style>\n",
       "<table border=\"1\" class=\"dataframe\">\n",
       "  <thead>\n",
       "    <tr style=\"text-align: right;\">\n",
       "      <th></th>\n",
       "      <th>id</th>\n",
       "      <th>f0</th>\n",
       "      <th>f1</th>\n",
       "      <th>f2</th>\n",
       "      <th>product</th>\n",
       "    </tr>\n",
       "  </thead>\n",
       "  <tbody>\n",
       "    <tr>\n",
       "      <th>57633</th>\n",
       "      <td>rFQWH</td>\n",
       "      <td>0.858170</td>\n",
       "      <td>-0.403870</td>\n",
       "      <td>-0.413165</td>\n",
       "      <td>92.476494</td>\n",
       "    </tr>\n",
       "    <tr>\n",
       "      <th>73252</th>\n",
       "      <td>B3HGX</td>\n",
       "      <td>-0.859992</td>\n",
       "      <td>0.644772</td>\n",
       "      <td>3.272799</td>\n",
       "      <td>90.416443</td>\n",
       "    </tr>\n",
       "    <tr>\n",
       "      <th>97868</th>\n",
       "      <td>dySnc</td>\n",
       "      <td>-0.182906</td>\n",
       "      <td>0.987089</td>\n",
       "      <td>4.699715</td>\n",
       "      <td>74.194746</td>\n",
       "    </tr>\n",
       "  </tbody>\n",
       "</table>\n",
       "</div>"
      ],
      "text/plain": [
       "          id        f0        f1        f2    product\n",
       "57633  rFQWH  0.858170 -0.403870 -0.413165  92.476494\n",
       "73252  B3HGX -0.859992  0.644772  3.272799  90.416443\n",
       "97868  dySnc -0.182906  0.987089  4.699715  74.194746"
      ]
     },
     "metadata": {},
     "output_type": "display_data"
    },
    {
     "data": {
      "text/html": [
       "<div>\n",
       "<style scoped>\n",
       "    .dataframe tbody tr th:only-of-type {\n",
       "        vertical-align: middle;\n",
       "    }\n",
       "\n",
       "    .dataframe tbody tr th {\n",
       "        vertical-align: top;\n",
       "    }\n",
       "\n",
       "    .dataframe thead th {\n",
       "        text-align: right;\n",
       "    }\n",
       "</style>\n",
       "<table border=\"1\" class=\"dataframe\">\n",
       "  <thead>\n",
       "    <tr style=\"text-align: right;\">\n",
       "      <th></th>\n",
       "      <th>id</th>\n",
       "      <th>f0</th>\n",
       "      <th>f1</th>\n",
       "      <th>f2</th>\n",
       "      <th>product</th>\n",
       "    </tr>\n",
       "  </thead>\n",
       "  <tbody>\n",
       "    <tr>\n",
       "      <th>75272</th>\n",
       "      <td>kXzt5</td>\n",
       "      <td>6.416138</td>\n",
       "      <td>-6.036813</td>\n",
       "      <td>2.996393</td>\n",
       "      <td>80.859783</td>\n",
       "    </tr>\n",
       "    <tr>\n",
       "      <th>24032</th>\n",
       "      <td>EX0me</td>\n",
       "      <td>-11.078499</td>\n",
       "      <td>-6.333461</td>\n",
       "      <td>2.005370</td>\n",
       "      <td>57.085625</td>\n",
       "    </tr>\n",
       "    <tr>\n",
       "      <th>12128</th>\n",
       "      <td>VXVd6</td>\n",
       "      <td>-1.280421</td>\n",
       "      <td>-9.464719</td>\n",
       "      <td>1.001214</td>\n",
       "      <td>30.132364</td>\n",
       "    </tr>\n",
       "  </tbody>\n",
       "</table>\n",
       "</div>"
      ],
      "text/plain": [
       "          id         f0        f1        f2    product\n",
       "75272  kXzt5   6.416138 -6.036813  2.996393  80.859783\n",
       "24032  EX0me -11.078499 -6.333461  2.005370  57.085625\n",
       "12128  VXVd6  -1.280421 -9.464719  1.001214  30.132364"
      ]
     },
     "metadata": {},
     "output_type": "display_data"
    },
    {
     "data": {
      "text/html": [
       "<div>\n",
       "<style scoped>\n",
       "    .dataframe tbody tr th:only-of-type {\n",
       "        vertical-align: middle;\n",
       "    }\n",
       "\n",
       "    .dataframe tbody tr th {\n",
       "        vertical-align: top;\n",
       "    }\n",
       "\n",
       "    .dataframe thead th {\n",
       "        text-align: right;\n",
       "    }\n",
       "</style>\n",
       "<table border=\"1\" class=\"dataframe\">\n",
       "  <thead>\n",
       "    <tr style=\"text-align: right;\">\n",
       "      <th></th>\n",
       "      <th>id</th>\n",
       "      <th>f0</th>\n",
       "      <th>f1</th>\n",
       "      <th>f2</th>\n",
       "      <th>product</th>\n",
       "    </tr>\n",
       "  </thead>\n",
       "  <tbody>\n",
       "    <tr>\n",
       "      <th>55897</th>\n",
       "      <td>jre0p</td>\n",
       "      <td>-2.885870</td>\n",
       "      <td>-0.781187</td>\n",
       "      <td>2.134540</td>\n",
       "      <td>118.026609</td>\n",
       "    </tr>\n",
       "    <tr>\n",
       "      <th>35572</th>\n",
       "      <td>6rMc8</td>\n",
       "      <td>-3.075386</td>\n",
       "      <td>3.635640</td>\n",
       "      <td>-5.171043</td>\n",
       "      <td>90.550041</td>\n",
       "    </tr>\n",
       "    <tr>\n",
       "      <th>54846</th>\n",
       "      <td>PwAn8</td>\n",
       "      <td>-0.356326</td>\n",
       "      <td>0.095601</td>\n",
       "      <td>0.600079</td>\n",
       "      <td>132.852501</td>\n",
       "    </tr>\n",
       "  </tbody>\n",
       "</table>\n",
       "</div>"
      ],
      "text/plain": [
       "          id        f0        f1        f2     product\n",
       "55897  jre0p -2.885870 -0.781187  2.134540  118.026609\n",
       "35572  6rMc8 -3.075386  3.635640 -5.171043   90.550041\n",
       "54846  PwAn8 -0.356326  0.095601  0.600079  132.852501"
      ]
     },
     "metadata": {},
     "output_type": "display_data"
    }
   ],
   "source": [
    "[display(item.sample(3)) for item in table_set];   "
   ]
  },
  {
   "cell_type": "markdown",
   "metadata": {},
   "source": [
    " - Все таблицы содержат одинаковые столбцы, в том числе id номер скважины;\n",
    " - Все основные данные числовые непрерывные."
   ]
  },
  {
   "cell_type": "code",
   "execution_count": 8,
   "metadata": {},
   "outputs": [
    {
     "name": "stdout",
     "output_type": "stream",
     "text": [
      "<class 'pandas.core.frame.DataFrame'>\n",
      "RangeIndex: 100000 entries, 0 to 99999\n",
      "Data columns (total 5 columns):\n",
      " #   Column   Non-Null Count   Dtype  \n",
      "---  ------   --------------   -----  \n",
      " 0   id       100000 non-null  object \n",
      " 1   f0       100000 non-null  float64\n",
      " 2   f1       100000 non-null  float64\n",
      " 3   f2       100000 non-null  float64\n",
      " 4   product  100000 non-null  float64\n",
      "dtypes: float64(4), object(1)\n",
      "memory usage: 3.8+ MB\n",
      "<class 'pandas.core.frame.DataFrame'>\n",
      "RangeIndex: 100000 entries, 0 to 99999\n",
      "Data columns (total 5 columns):\n",
      " #   Column   Non-Null Count   Dtype  \n",
      "---  ------   --------------   -----  \n",
      " 0   id       100000 non-null  object \n",
      " 1   f0       100000 non-null  float64\n",
      " 2   f1       100000 non-null  float64\n",
      " 3   f2       100000 non-null  float64\n",
      " 4   product  100000 non-null  float64\n",
      "dtypes: float64(4), object(1)\n",
      "memory usage: 3.8+ MB\n",
      "<class 'pandas.core.frame.DataFrame'>\n",
      "RangeIndex: 100000 entries, 0 to 99999\n",
      "Data columns (total 5 columns):\n",
      " #   Column   Non-Null Count   Dtype  \n",
      "---  ------   --------------   -----  \n",
      " 0   id       100000 non-null  object \n",
      " 1   f0       100000 non-null  float64\n",
      " 2   f1       100000 non-null  float64\n",
      " 3   f2       100000 non-null  float64\n",
      " 4   product  100000 non-null  float64\n",
      "dtypes: float64(4), object(1)\n",
      "memory usage: 3.8+ MB\n"
     ]
    }
   ],
   "source": [
    "[item.info() for item in table_set];"
   ]
  },
  {
   "cell_type": "markdown",
   "metadata": {},
   "source": [
    " - Пропусков в данных нет"
   ]
  },
  {
   "cell_type": "markdown",
   "metadata": {},
   "source": [
    "Проверим данные на наличие явных дубликатов:"
   ]
  },
  {
   "cell_type": "code",
   "execution_count": 9,
   "metadata": {},
   "outputs": [
    {
     "name": "stdout",
     "output_type": "stream",
     "text": [
      "Количество дубликатов по таблицам: \" группа скажин-1 \" 0\n",
      "Количество дубликатов по таблицам: \" группа скажин-2 \" 0\n",
      "Количество дубликатов по таблицам: \" группа скажин-3 \" 0\n"
     ]
    }
   ],
   "source": [
    "[print('Количество дубликатов по таблицам:', '\"', table_names[i], '\"' ,item.duplicated().sum()) for i, item in enumerate(table_set)]; "
   ]
  },
  {
   "cell_type": "markdown",
   "metadata": {},
   "source": [
    " - Явных дубликатов нет"
   ]
  },
  {
   "cell_type": "markdown",
   "metadata": {},
   "source": [
    "Возможно оставить индексацию по номеру, а можно перейти к индексации по 'id' - что имеет больше смысла (в том числе сразу исключаем id из списка признаков при обучении модели - это не проблема но что тянуть)"
   ]
  },
  {
   "cell_type": "code",
   "execution_count": 10,
   "metadata": {},
   "outputs": [],
   "source": [
    "[item.set_index('id', inplace=True) for item in table_set];"
   ]
  },
  {
   "cell_type": "code",
   "execution_count": 11,
   "metadata": {},
   "outputs": [],
   "source": [
    "table_set = [derrick1area, derrick2area, derrick3area];"
   ]
  },
  {
   "cell_type": "markdown",
   "metadata": {},
   "source": [
    "Проверим на дубликаты в данных еще раз без учета 'id' потому, что он не является значимым признаком, а чтобы не переобучить модель на тренеровочной выборке их не должно быть. Хотя на выборки делим позже, но проверить сейчас нам ничего не мешает."
   ]
  },
  {
   "cell_type": "code",
   "execution_count": 12,
   "metadata": {},
   "outputs": [
    {
     "name": "stdout",
     "output_type": "stream",
     "text": [
      "Количество дубликатов по таблицам: \" группа скажин-1 \" 0\n",
      "Количество дубликатов по таблицам: \" группа скажин-2 \" 0\n",
      "Количество дубликатов по таблицам: \" группа скажин-3 \" 0\n"
     ]
    }
   ],
   "source": [
    "[print('Количество дубликатов по таблицам:', '\"', table_names[i], '\"' ,item.duplicated().sum()) for i, item in enumerate(table_set)]; "
   ]
  },
  {
   "cell_type": "markdown",
   "metadata": {},
   "source": [
    " - Явных дубликатов нет"
   ]
  },
  {
   "cell_type": "markdown",
   "metadata": {},
   "source": [
    "Исследуем распределение признаков скважин по месторождениям."
   ]
  },
  {
   "cell_type": "code",
   "execution_count": 13,
   "metadata": {},
   "outputs": [
    {
     "data": {
      "image/png": "[encoded data removed]",
      "text/plain": [
       "<Figure size 1800x432 with 3 Axes>"
      ]
     },
     "metadata": {
      "needs_background": "light"
     },
     "output_type": "display_data"
    }
   ],
   "source": [
    "cols = ['f0', 'f1', 'f2']\n",
    "n = len(cols)\n",
    "fig, ax = plt.subplots(1, n, figsize=(25, 6))\n",
    "fig.suptitle('Диграмма разброса')\n",
    "boxprops = dict(facecolor = \"lightblue\")\n",
    "for i, col in enumerate(cols):\n",
    "    dic = {}\n",
    "    for j in range(3):\n",
    "        dic[table_names[j]]=table_set[j][col]\n",
    "    ax[i].boxplot(dic.values(), patch_artist = True, boxprops= boxprops)\n",
    "    ax[i].set_xticklabels(dic.keys())\n",
    "    ax[i].set_title('Диаграммма разбоса параметра: '+ cols[i])\n",
    "    ax[i].grid()\n",
    "plt.show()"
   ]
  },
  {
   "cell_type": "markdown",
   "metadata": {},
   "source": [
    "Интересно, что все группы скважин различаются, при этом группа 1 и группа 3 более \"похожи\" друг на друга."
   ]
  },
  {
   "cell_type": "markdown",
   "metadata": {},
   "source": [
    "Посмотрим что с целевым признаком:"
   ]
  },
  {
   "cell_type": "code",
   "execution_count": 14,
   "metadata": {},
   "outputs": [
    {
     "data": {
      "image/png": "[encoded data removed]",
      "text/plain": [
       "<Figure size 1800x432 with 1 Axes>"
      ]
     },
     "metadata": {
      "needs_background": "light"
     },
     "output_type": "display_data"
    }
   ],
   "source": [
    "cols = 'product'\n",
    "fig, ax = plt.subplots(1, 1, figsize=(25, 6))\n",
    "fig.suptitle('Диграмма разброса')\n",
    "boxprops = dict(facecolor = \"lightblue\")\n",
    "dic = {}\n",
    "for j in range(3):\n",
    "    dic[table_names[j]]=table_set[j][cols]\n",
    "ax.boxplot(dic.values(), patch_artist = True, boxprops= boxprops)\n",
    "ax.set_xticklabels(dic.keys())\n",
    "ax.set_title('Диаграммма разбоса параметра: '+ cols)\n",
    "ax.grid()\n",
    "plt.show()"
   ]
  },
  {
   "cell_type": "markdown",
   "metadata": {},
   "source": [
    "- В принципе можно сразу сказать, что в среднем произодство для второй группы скважин будет ниже чем для первой и третьей;\n",
    "- Первая и третья группа как по распределению признаков так и целевого значения похожи - нужно посмотреть что сможет спрогнозировать модель."
   ]
  },
  {
   "cell_type": "code",
   "execution_count": 15,
   "metadata": {},
   "outputs": [
    {
     "data": {
      "text/html": [
       "<div>\n",
       "<style scoped>\n",
       "    .dataframe tbody tr th:only-of-type {\n",
       "        vertical-align: middle;\n",
       "    }\n",
       "\n",
       "    .dataframe tbody tr th {\n",
       "        vertical-align: top;\n",
       "    }\n",
       "\n",
       "    .dataframe thead th {\n",
       "        text-align: right;\n",
       "    }\n",
       "</style>\n",
       "<table border=\"1\" class=\"dataframe\">\n",
       "  <thead>\n",
       "    <tr style=\"text-align: right;\">\n",
       "      <th></th>\n",
       "      <th>f0</th>\n",
       "      <th>f1</th>\n",
       "      <th>f2</th>\n",
       "      <th>product</th>\n",
       "    </tr>\n",
       "  </thead>\n",
       "  <tbody>\n",
       "    <tr>\n",
       "      <th>count</th>\n",
       "      <td>100000.000000</td>\n",
       "      <td>100000.000000</td>\n",
       "      <td>100000.000000</td>\n",
       "      <td>100000.000000</td>\n",
       "    </tr>\n",
       "    <tr>\n",
       "      <th>mean</th>\n",
       "      <td>0.500419</td>\n",
       "      <td>0.250143</td>\n",
       "      <td>2.502647</td>\n",
       "      <td>92.500000</td>\n",
       "    </tr>\n",
       "    <tr>\n",
       "      <th>std</th>\n",
       "      <td>0.871832</td>\n",
       "      <td>0.504433</td>\n",
       "      <td>3.248248</td>\n",
       "      <td>44.288691</td>\n",
       "    </tr>\n",
       "    <tr>\n",
       "      <th>min</th>\n",
       "      <td>-1.408605</td>\n",
       "      <td>-0.848218</td>\n",
       "      <td>-12.088328</td>\n",
       "      <td>0.000000</td>\n",
       "    </tr>\n",
       "    <tr>\n",
       "      <th>25%</th>\n",
       "      <td>-0.072580</td>\n",
       "      <td>-0.200881</td>\n",
       "      <td>0.287748</td>\n",
       "      <td>56.497507</td>\n",
       "    </tr>\n",
       "    <tr>\n",
       "      <th>50%</th>\n",
       "      <td>0.502360</td>\n",
       "      <td>0.250252</td>\n",
       "      <td>2.515969</td>\n",
       "      <td>91.849972</td>\n",
       "    </tr>\n",
       "    <tr>\n",
       "      <th>75%</th>\n",
       "      <td>1.073581</td>\n",
       "      <td>0.700646</td>\n",
       "      <td>4.715088</td>\n",
       "      <td>128.564089</td>\n",
       "    </tr>\n",
       "    <tr>\n",
       "      <th>max</th>\n",
       "      <td>2.362331</td>\n",
       "      <td>1.343769</td>\n",
       "      <td>16.003790</td>\n",
       "      <td>185.364347</td>\n",
       "    </tr>\n",
       "  </tbody>\n",
       "</table>\n",
       "</div>"
      ],
      "text/plain": [
       "                  f0             f1             f2        product\n",
       "count  100000.000000  100000.000000  100000.000000  100000.000000\n",
       "mean        0.500419       0.250143       2.502647      92.500000\n",
       "std         0.871832       0.504433       3.248248      44.288691\n",
       "min        -1.408605      -0.848218     -12.088328       0.000000\n",
       "25%        -0.072580      -0.200881       0.287748      56.497507\n",
       "50%         0.502360       0.250252       2.515969      91.849972\n",
       "75%         1.073581       0.700646       4.715088     128.564089\n",
       "max         2.362331       1.343769      16.003790     185.364347"
      ]
     },
     "metadata": {},
     "output_type": "display_data"
    },
    {
     "data": {
      "text/html": [
       "<div>\n",
       "<style scoped>\n",
       "    .dataframe tbody tr th:only-of-type {\n",
       "        vertical-align: middle;\n",
       "    }\n",
       "\n",
       "    .dataframe tbody tr th {\n",
       "        vertical-align: top;\n",
       "    }\n",
       "\n",
       "    .dataframe thead th {\n",
       "        text-align: right;\n",
       "    }\n",
       "</style>\n",
       "<table border=\"1\" class=\"dataframe\">\n",
       "  <thead>\n",
       "    <tr style=\"text-align: right;\">\n",
       "      <th></th>\n",
       "      <th>f0</th>\n",
       "      <th>f1</th>\n",
       "      <th>f2</th>\n",
       "      <th>product</th>\n",
       "    </tr>\n",
       "  </thead>\n",
       "  <tbody>\n",
       "    <tr>\n",
       "      <th>count</th>\n",
       "      <td>100000.000000</td>\n",
       "      <td>100000.000000</td>\n",
       "      <td>100000.000000</td>\n",
       "      <td>100000.000000</td>\n",
       "    </tr>\n",
       "    <tr>\n",
       "      <th>mean</th>\n",
       "      <td>1.141296</td>\n",
       "      <td>-4.796579</td>\n",
       "      <td>2.494541</td>\n",
       "      <td>68.825000</td>\n",
       "    </tr>\n",
       "    <tr>\n",
       "      <th>std</th>\n",
       "      <td>8.965932</td>\n",
       "      <td>5.119872</td>\n",
       "      <td>1.703572</td>\n",
       "      <td>45.944423</td>\n",
       "    </tr>\n",
       "    <tr>\n",
       "      <th>min</th>\n",
       "      <td>-31.609576</td>\n",
       "      <td>-26.358598</td>\n",
       "      <td>-0.018144</td>\n",
       "      <td>0.000000</td>\n",
       "    </tr>\n",
       "    <tr>\n",
       "      <th>25%</th>\n",
       "      <td>-6.298551</td>\n",
       "      <td>-8.267985</td>\n",
       "      <td>1.000021</td>\n",
       "      <td>26.953261</td>\n",
       "    </tr>\n",
       "    <tr>\n",
       "      <th>50%</th>\n",
       "      <td>1.153055</td>\n",
       "      <td>-4.813172</td>\n",
       "      <td>2.011479</td>\n",
       "      <td>57.085625</td>\n",
       "    </tr>\n",
       "    <tr>\n",
       "      <th>75%</th>\n",
       "      <td>8.621015</td>\n",
       "      <td>-1.332816</td>\n",
       "      <td>3.999904</td>\n",
       "      <td>107.813044</td>\n",
       "    </tr>\n",
       "    <tr>\n",
       "      <th>max</th>\n",
       "      <td>29.421755</td>\n",
       "      <td>18.734063</td>\n",
       "      <td>5.019721</td>\n",
       "      <td>137.945408</td>\n",
       "    </tr>\n",
       "  </tbody>\n",
       "</table>\n",
       "</div>"
      ],
      "text/plain": [
       "                  f0             f1             f2        product\n",
       "count  100000.000000  100000.000000  100000.000000  100000.000000\n",
       "mean        1.141296      -4.796579       2.494541      68.825000\n",
       "std         8.965932       5.119872       1.703572      45.944423\n",
       "min       -31.609576     -26.358598      -0.018144       0.000000\n",
       "25%        -6.298551      -8.267985       1.000021      26.953261\n",
       "50%         1.153055      -4.813172       2.011479      57.085625\n",
       "75%         8.621015      -1.332816       3.999904     107.813044\n",
       "max        29.421755      18.734063       5.019721     137.945408"
      ]
     },
     "metadata": {},
     "output_type": "display_data"
    },
    {
     "data": {
      "text/html": [
       "<div>\n",
       "<style scoped>\n",
       "    .dataframe tbody tr th:only-of-type {\n",
       "        vertical-align: middle;\n",
       "    }\n",
       "\n",
       "    .dataframe tbody tr th {\n",
       "        vertical-align: top;\n",
       "    }\n",
       "\n",
       "    .dataframe thead th {\n",
       "        text-align: right;\n",
       "    }\n",
       "</style>\n",
       "<table border=\"1\" class=\"dataframe\">\n",
       "  <thead>\n",
       "    <tr style=\"text-align: right;\">\n",
       "      <th></th>\n",
       "      <th>f0</th>\n",
       "      <th>f1</th>\n",
       "      <th>f2</th>\n",
       "      <th>product</th>\n",
       "    </tr>\n",
       "  </thead>\n",
       "  <tbody>\n",
       "    <tr>\n",
       "      <th>count</th>\n",
       "      <td>100000.000000</td>\n",
       "      <td>100000.000000</td>\n",
       "      <td>100000.000000</td>\n",
       "      <td>100000.000000</td>\n",
       "    </tr>\n",
       "    <tr>\n",
       "      <th>mean</th>\n",
       "      <td>0.002023</td>\n",
       "      <td>-0.002081</td>\n",
       "      <td>2.495128</td>\n",
       "      <td>95.000000</td>\n",
       "    </tr>\n",
       "    <tr>\n",
       "      <th>std</th>\n",
       "      <td>1.732045</td>\n",
       "      <td>1.730417</td>\n",
       "      <td>3.473445</td>\n",
       "      <td>44.749921</td>\n",
       "    </tr>\n",
       "    <tr>\n",
       "      <th>min</th>\n",
       "      <td>-8.760004</td>\n",
       "      <td>-7.084020</td>\n",
       "      <td>-11.970335</td>\n",
       "      <td>0.000000</td>\n",
       "    </tr>\n",
       "    <tr>\n",
       "      <th>25%</th>\n",
       "      <td>-1.162288</td>\n",
       "      <td>-1.174820</td>\n",
       "      <td>0.130359</td>\n",
       "      <td>59.450441</td>\n",
       "    </tr>\n",
       "    <tr>\n",
       "      <th>50%</th>\n",
       "      <td>0.009424</td>\n",
       "      <td>-0.009482</td>\n",
       "      <td>2.484236</td>\n",
       "      <td>94.925613</td>\n",
       "    </tr>\n",
       "    <tr>\n",
       "      <th>75%</th>\n",
       "      <td>1.158535</td>\n",
       "      <td>1.163678</td>\n",
       "      <td>4.858794</td>\n",
       "      <td>130.595027</td>\n",
       "    </tr>\n",
       "    <tr>\n",
       "      <th>max</th>\n",
       "      <td>7.238262</td>\n",
       "      <td>7.844801</td>\n",
       "      <td>16.739402</td>\n",
       "      <td>190.029838</td>\n",
       "    </tr>\n",
       "  </tbody>\n",
       "</table>\n",
       "</div>"
      ],
      "text/plain": [
       "                  f0             f1             f2        product\n",
       "count  100000.000000  100000.000000  100000.000000  100000.000000\n",
       "mean        0.002023      -0.002081       2.495128      95.000000\n",
       "std         1.732045       1.730417       3.473445      44.749921\n",
       "min        -8.760004      -7.084020     -11.970335       0.000000\n",
       "25%        -1.162288      -1.174820       0.130359      59.450441\n",
       "50%         0.009424      -0.009482       2.484236      94.925613\n",
       "75%         1.158535       1.163678       4.858794     130.595027\n",
       "max         7.238262       7.844801      16.739402     190.029838"
      ]
     },
     "metadata": {},
     "output_type": "display_data"
    }
   ],
   "source": [
    "[display(item.describe()) for item in table_set];  "
   ]
  },
  {
   "cell_type": "markdown",
   "metadata": {},
   "source": [
    "Здесь интересны скважины с нулевой производительностью:"
   ]
  },
  {
   "cell_type": "code",
   "execution_count": 16,
   "metadata": {},
   "outputs": [
    {
     "data": {
      "text/html": [
       "<div>\n",
       "<style scoped>\n",
       "    .dataframe tbody tr th:only-of-type {\n",
       "        vertical-align: middle;\n",
       "    }\n",
       "\n",
       "    .dataframe tbody tr th {\n",
       "        vertical-align: top;\n",
       "    }\n",
       "\n",
       "    .dataframe thead th {\n",
       "        text-align: right;\n",
       "    }\n",
       "</style>\n",
       "<table border=\"1\" class=\"dataframe\">\n",
       "  <thead>\n",
       "    <tr style=\"text-align: right;\">\n",
       "      <th></th>\n",
       "      <th>f0</th>\n",
       "      <th>f1</th>\n",
       "      <th>f2</th>\n",
       "      <th>product</th>\n",
       "    </tr>\n",
       "    <tr>\n",
       "      <th>id</th>\n",
       "      <th></th>\n",
       "      <th></th>\n",
       "      <th></th>\n",
       "      <th></th>\n",
       "    </tr>\n",
       "  </thead>\n",
       "  <tbody>\n",
       "    <tr>\n",
       "      <th>zCM5W</th>\n",
       "      <td>-0.702064</td>\n",
       "      <td>0.375992</td>\n",
       "      <td>0.236572</td>\n",
       "      <td>0.0</td>\n",
       "    </tr>\n",
       "  </tbody>\n",
       "</table>\n",
       "</div>"
      ],
      "text/plain": [
       "             f0        f1        f2  product\n",
       "id                                          \n",
       "zCM5W -0.702064  0.375992  0.236572      0.0"
      ]
     },
     "metadata": {},
     "output_type": "display_data"
    },
    {
     "data": {
      "text/html": [
       "<div>\n",
       "<style scoped>\n",
       "    .dataframe tbody tr th:only-of-type {\n",
       "        vertical-align: middle;\n",
       "    }\n",
       "\n",
       "    .dataframe tbody tr th {\n",
       "        vertical-align: top;\n",
       "    }\n",
       "\n",
       "    .dataframe thead th {\n",
       "        text-align: right;\n",
       "    }\n",
       "</style>\n",
       "<table border=\"1\" class=\"dataframe\">\n",
       "  <thead>\n",
       "    <tr style=\"text-align: right;\">\n",
       "      <th></th>\n",
       "      <th>f0</th>\n",
       "      <th>f1</th>\n",
       "      <th>f2</th>\n",
       "      <th>product</th>\n",
       "    </tr>\n",
       "    <tr>\n",
       "      <th>id</th>\n",
       "      <th></th>\n",
       "      <th></th>\n",
       "      <th></th>\n",
       "      <th></th>\n",
       "    </tr>\n",
       "  </thead>\n",
       "  <tbody>\n",
       "    <tr>\n",
       "      <th>OXyvW</th>\n",
       "      <td>16.320755</td>\n",
       "      <td>-0.562946</td>\n",
       "      <td>-0.001783</td>\n",
       "      <td>0.0</td>\n",
       "    </tr>\n",
       "    <tr>\n",
       "      <th>igmai</th>\n",
       "      <td>6.695604</td>\n",
       "      <td>-0.749449</td>\n",
       "      <td>-0.007630</td>\n",
       "      <td>0.0</td>\n",
       "    </tr>\n",
       "    <tr>\n",
       "      <th>Qjy5w</th>\n",
       "      <td>21.418478</td>\n",
       "      <td>-5.134490</td>\n",
       "      <td>-0.002836</td>\n",
       "      <td>0.0</td>\n",
       "    </tr>\n",
       "    <tr>\n",
       "      <th>G6WCj</th>\n",
       "      <td>6.822701</td>\n",
       "      <td>3.104979</td>\n",
       "      <td>-0.000723</td>\n",
       "      <td>0.0</td>\n",
       "    </tr>\n",
       "    <tr>\n",
       "      <th>MzQhL</th>\n",
       "      <td>6.750150</td>\n",
       "      <td>-11.893512</td>\n",
       "      <td>-0.001601</td>\n",
       "      <td>0.0</td>\n",
       "    </tr>\n",
       "  </tbody>\n",
       "</table>\n",
       "</div>"
      ],
      "text/plain": [
       "              f0         f1        f2  product\n",
       "id                                            \n",
       "OXyvW  16.320755  -0.562946 -0.001783      0.0\n",
       "igmai   6.695604  -0.749449 -0.007630      0.0\n",
       "Qjy5w  21.418478  -5.134490 -0.002836      0.0\n",
       "G6WCj   6.822701   3.104979 -0.000723      0.0\n",
       "MzQhL   6.750150 -11.893512 -0.001601      0.0"
      ]
     },
     "metadata": {},
     "output_type": "display_data"
    },
    {
     "data": {
      "text/html": [
       "<div>\n",
       "<style scoped>\n",
       "    .dataframe tbody tr th:only-of-type {\n",
       "        vertical-align: middle;\n",
       "    }\n",
       "\n",
       "    .dataframe tbody tr th {\n",
       "        vertical-align: top;\n",
       "    }\n",
       "\n",
       "    .dataframe thead th {\n",
       "        text-align: right;\n",
       "    }\n",
       "</style>\n",
       "<table border=\"1\" class=\"dataframe\">\n",
       "  <thead>\n",
       "    <tr style=\"text-align: right;\">\n",
       "      <th></th>\n",
       "      <th>f0</th>\n",
       "      <th>f1</th>\n",
       "      <th>f2</th>\n",
       "      <th>product</th>\n",
       "    </tr>\n",
       "    <tr>\n",
       "      <th>id</th>\n",
       "      <th></th>\n",
       "      <th></th>\n",
       "      <th></th>\n",
       "      <th></th>\n",
       "    </tr>\n",
       "  </thead>\n",
       "  <tbody>\n",
       "    <tr>\n",
       "      <th>qeefd</th>\n",
       "      <td>-0.865596</td>\n",
       "      <td>-1.615247</td>\n",
       "      <td>-4.126441</td>\n",
       "      <td>0.0</td>\n",
       "    </tr>\n",
       "  </tbody>\n",
       "</table>\n",
       "</div>"
      ],
      "text/plain": [
       "             f0        f1        f2  product\n",
       "id                                          \n",
       "qeefd -0.865596 -1.615247 -4.126441      0.0"
      ]
     },
     "metadata": {},
     "output_type": "display_data"
    }
   ],
   "source": [
    "[display(item.loc[item['product']==0].head(5)) for item in table_set];"
   ]
  },
  {
   "cell_type": "markdown",
   "metadata": {},
   "source": [
    "Интересно, что у всех значений \"product\" = 0, значения \"f2\" во второй группе скважин тоже около нуля - построим распределение \"f2\"."
   ]
  },
  {
   "cell_type": "code",
   "execution_count": 17,
   "metadata": {},
   "outputs": [
    {
     "data": {
      "image/png": "[encoded data removed]",
      "text/plain": [
       "<Figure size 1080x432 with 2 Axes>"
      ]
     },
     "metadata": {
      "needs_background": "light"
     },
     "output_type": "display_data"
    }
   ],
   "source": [
    "fig, ax = plt.subplots(1, 2, figsize=(15, 6))\n",
    "fig.suptitle('Гистограмма распределения')\n",
    "[sns.histplot(data=derrick2area.loc[derrick2area['product']==0], x='f2', ax=ax[i], color='tab:blue') for i in range(2)]\n",
    "sns.histplot(data=derrick2area, x='f2', color='tab:orange', ax=ax[0])\n",
    "sns.histplot(data=derrick2area.loc[derrick2area['product']<1], x='f2', color='tab:orange', ax=ax[1])\n",
    "[ax[i].set_title('Параметр f2:') for i in range(2)]\n",
    "ax[0].legend(title='product', loc='upper left', labels=['product = 0', 'product = any'])\n",
    "ax[1].legend(title='product', loc='upper left', labels=['product = 0', 'product <1'])\n",
    "plt.show()"
   ]
  },
  {
   "cell_type": "code",
   "execution_count": 18,
   "metadata": {},
   "outputs": [
    {
     "data": {
      "image/png": "[encoded data removed]",
      "text/plain": [
       "<Figure size 432x288 with 1 Axes>"
      ]
     },
     "metadata": {
      "needs_background": "light"
     },
     "output_type": "display_data"
    }
   ],
   "source": [
    "sns.scatterplot(data=derrick2area, x='f2', y='product', alpha=0.5);\n",
    "plt.title('Зависимость объема запасов от параметра \"f2\"')\n",
    "plt.show()"
   ]
  },
  {
   "cell_type": "markdown",
   "metadata": {},
   "source": [
    "Скорее всего эта корреляция определит точность модели."
   ]
  },
  {
   "cell_type": "markdown",
   "metadata": {},
   "source": [
    "Таким образом:\n",
    "\n",
    "   - для второй группы обнаружено значительное количество скважин(примерно 1/6) с нулевой производительностью;\n",
    "   - параметр \"f2\" распределен практически дискретно и концентрируется в районе целочисленных значений(в отличии от группы 1 и 3);\n",
    "   - существует соответствие между \"product\" и значениями \"f2\", при этом для двух других месторождений такая связь отсутствует.\n",
    "    \n"
   ]
  },
  {
   "cell_type": "markdown",
   "metadata": {},
   "source": [
    "Было бы неплохо уточнить у заказчика - \"почему так ?\" или хотя бы обратить его внимание  на этот факт. Но пока лишь констатируем данную закономерность и продолжим анализ и построение модели."
   ]
  },
  {
   "cell_type": "markdown",
   "metadata": {},
   "source": [
    "Так как поставлено условием использование линейной регрессионной модели, целесообразно проверить наличие мультиколлинеарности признаков, которых три для каждой группы скважин:"
   ]
  },
  {
   "cell_type": "code",
   "execution_count": 19,
   "metadata": {},
   "outputs": [],
   "source": [
    "def heatplot_tab(data, ax , name):\n",
    "    corr_market = data.phik_matrix(interval_cols= ['f0', 'f1', 'f2']);\n",
    "    sns.heatmap(\n",
    "        corr_market,        \n",
    "        cmap='RdBu_r',                \n",
    "        annot=True,\n",
    "        ax=ax,\n",
    "        vmin=-1, vmax=1              \n",
    "        );\n",
    "    ax.set_title('Тепловая карта коэффициентов корреляции phik для : ' + name)"
   ]
  },
  {
   "cell_type": "code",
   "execution_count": 20,
   "metadata": {},
   "outputs": [
    {
     "data": {
      "image/png": "[encoded data removed]",
      "text/plain": [
       "<Figure size 1800x432 with 6 Axes>"
      ]
     },
     "metadata": {
      "needs_background": "light"
     },
     "output_type": "display_data"
    }
   ],
   "source": [
    "fig, ax = plt.subplots(1, 3, figsize=(25, 6))\n",
    "fig.suptitle('Гистограмма распределения')\n",
    "[heatplot_tab(item[['f0', 'f1', 'f2']], ax[i], table_names[i]) for i, item in enumerate(table_set)];\n",
    "plt.show();"
   ]
  },
  {
   "cell_type": "markdown",
   "metadata": {},
   "source": [
    " - Только для первой группы скважин наблюдается сильная взаимосвязь параметра \"f0\" и \"f1\" в остальных случая все хорошо (даже идеально для группы 3 - что противоестественно 😀);\n",
    " - Считает, что мультиколлинеарность соответствует значениям более 0.9 - поэтому удалять признаки не будем."
   ]
  },
  {
   "cell_type": "markdown",
   "metadata": {},
   "source": [
    "**Выводы:** \n",
    " - Данные загружены и обработаны, противоречий нет, не выявлено наличие Nan или иных дефектов;\n",
    " - Корреляция между параметрами находится на приемлемом уровне;\n",
    " - Отмечена особенность в данных для второй группы скважин."
   ]
  },
  {
   "cell_type": "markdown",
   "metadata": {},
   "source": [
    "## Обучение и проверка модели"
   ]
  },
  {
   "cell_type": "markdown",
   "metadata": {},
   "source": [
    "Выделим признаки и целевой параметр 'product':"
   ]
  },
  {
   "cell_type": "code",
   "execution_count": 21,
   "metadata": {},
   "outputs": [],
   "source": [
    "argument_col = derrick1area.columns\n",
    "target = 'product'\n",
    "argument_col = argument_col[~np.isin(argument_col, target)]"
   ]
  },
  {
   "cell_type": "markdown",
   "metadata": {},
   "source": [
    "### Создание pipeline для модели линейной регрессии"
   ]
  },
  {
   "cell_type": "code",
   "execution_count": 22,
   "metadata": {},
   "outputs": [],
   "source": [
    "def prediction_model(X_num, NumScaler, model_step):\n",
    "    # выбор масшабирования\n",
    "    if NumScaler == 'Standart':\n",
    "        Scaler = StandardScaler()\n",
    "    elif NumScaler == 'Robust': \n",
    "        Scaler = RobustScaler()    \n",
    "    elif NumScaler == 'Quantile': \n",
    "        Scaler = QuantileTransformer()\n",
    "    else:\n",
    "        Scaler = MinMaxScaler()\n",
    "    # обработка входных данных\n",
    "    num_features = X_num.tolist()\n",
    "    # преобразование численных признаков\n",
    "    num_steps = [('SimpleImputer_num', SimpleImputer(missing_values=np.nan, strategy='median')),\n",
    "                 ('Scaler', Scaler)]\n",
    "    num_transformer = Pipeline(num_steps)\n",
    "    # создаём общий пайплайн для подготовки данных\n",
    "    data_preprocessor = ColumnTransformer(\n",
    "    transformers=[\n",
    "        ('num', num_transformer, num_features)],        \n",
    "          remainder='passthrough')\n",
    "    # создаём итоговый пайплайн по шагам\n",
    "    step_prep = ('preprocessor', data_preprocessor)\n",
    "    # выбор модели \n",
    "    if   model_step == 'LinearRegression':\n",
    "        step_sol  = ('model', LinearRegression(n_jobs=-1))\n",
    "    elif model_step == 'DummyRegressor':\n",
    "        step_sol  = ('model', DummyRegressor(strategy=\"mean\"))\n",
    "    # собираем шаги модели\n",
    "    pipe_final = Pipeline([step_prep, step_sol])\n",
    "    return pipe_final"
   ]
  },
  {
   "cell_type": "markdown",
   "metadata": {},
   "source": [
    "Например можно получить такую модель"
   ]
  },
  {
   "cell_type": "code",
   "execution_count": 23,
   "metadata": {},
   "outputs": [
    {
     "data": {
      "text/html": [
       "<style>#sk-container-id-1 {color: black;background-color: white;}#sk-container-id-1 pre{padding: 0;}#sk-container-id-1 div.sk-toggleable {background-color: white;}#sk-container-id-1 label.sk-toggleable__label {cursor: pointer;display: block;width: 100%;margin-bottom: 0;padding: 0.3em;box-sizing: border-box;text-align: center;}#sk-container-id-1 label.sk-toggleable__label-arrow:before {content: \"▸\";float: left;margin-right: 0.25em;color: #696969;}#sk-container-id-1 label.sk-toggleable__label-arrow:hover:before {color: black;}#sk-container-id-1 div.sk-estimator:hover label.sk-toggleable__label-arrow:before {color: black;}#sk-container-id-1 div.sk-toggleable__content {max-height: 0;max-width: 0;overflow: hidden;text-align: left;background-color: #f0f8ff;}#sk-container-id-1 div.sk-toggleable__content pre {margin: 0.2em;color: black;border-radius: 0.25em;background-color: #f0f8ff;}#sk-container-id-1 input.sk-toggleable__control:checked~div.sk-toggleable__content {max-height: 200px;max-width: 100%;overflow: auto;}#sk-container-id-1 input.sk-toggleable__control:checked~label.sk-toggleable__label-arrow:before {content: \"▾\";}#sk-container-id-1 div.sk-estimator input.sk-toggleable__control:checked~label.sk-toggleable__label {background-color: #d4ebff;}#sk-container-id-1 div.sk-label input.sk-toggleable__control:checked~label.sk-toggleable__label {background-color: #d4ebff;}#sk-container-id-1 input.sk-hidden--visually {border: 0;clip: rect(1px 1px 1px 1px);clip: rect(1px, 1px, 1px, 1px);height: 1px;margin: -1px;overflow: hidden;padding: 0;position: absolute;width: 1px;}#sk-container-id-1 div.sk-estimator {font-family: monospace;background-color: #f0f8ff;border: 1px dotted black;border-radius: 0.25em;box-sizing: border-box;margin-bottom: 0.5em;}#sk-container-id-1 div.sk-estimator:hover {background-color: #d4ebff;}#sk-container-id-1 div.sk-parallel-item::after {content: \"\";width: 100%;border-bottom: 1px solid gray;flex-grow: 1;}#sk-container-id-1 div.sk-label:hover label.sk-toggleable__label {background-color: #d4ebff;}#sk-container-id-1 div.sk-serial::before {content: \"\";position: absolute;border-left: 1px solid gray;box-sizing: border-box;top: 0;bottom: 0;left: 50%;z-index: 0;}#sk-container-id-1 div.sk-serial {display: flex;flex-direction: column;align-items: center;background-color: white;padding-right: 0.2em;padding-left: 0.2em;position: relative;}#sk-container-id-1 div.sk-item {position: relative;z-index: 1;}#sk-container-id-1 div.sk-parallel {display: flex;align-items: stretch;justify-content: center;background-color: white;position: relative;}#sk-container-id-1 div.sk-item::before, #sk-container-id-1 div.sk-parallel-item::before {content: \"\";position: absolute;border-left: 1px solid gray;box-sizing: border-box;top: 0;bottom: 0;left: 50%;z-index: -1;}#sk-container-id-1 div.sk-parallel-item {display: flex;flex-direction: column;z-index: 1;position: relative;background-color: white;}#sk-container-id-1 div.sk-parallel-item:first-child::after {align-self: flex-end;width: 50%;}#sk-container-id-1 div.sk-parallel-item:last-child::after {align-self: flex-start;width: 50%;}#sk-container-id-1 div.sk-parallel-item:only-child::after {width: 0;}#sk-container-id-1 div.sk-dashed-wrapped {border: 1px dashed gray;margin: 0 0.4em 0.5em 0.4em;box-sizing: border-box;padding-bottom: 0.4em;background-color: white;}#sk-container-id-1 div.sk-label label {font-family: monospace;font-weight: bold;display: inline-block;line-height: 1.2em;}#sk-container-id-1 div.sk-label-container {text-align: center;}#sk-container-id-1 div.sk-container {/* jupyter's `normalize.less` sets `[hidden] { display: none; }` but bootstrap.min.css set `[hidden] { display: none !important; }` so we also need the `!important` here to be able to override the default hidden behavior on the sphinx rendered scikit-learn.org. See: https://github.com/scikit-learn/scikit-learn/issues/21755 */display: inline-block !important;position: relative;}#sk-container-id-1 div.sk-text-repr-fallback {display: none;}</style><div id=\"sk-container-id-1\" class=\"sk-top-container\"><div class=\"sk-text-repr-fallback\"><pre>Pipeline(steps=[(&#x27;preprocessor&#x27;,\n",
       "                 ColumnTransformer(remainder=&#x27;passthrough&#x27;,\n",
       "                                   transformers=[(&#x27;num&#x27;,\n",
       "                                                  Pipeline(steps=[(&#x27;SimpleImputer_num&#x27;,\n",
       "                                                                   SimpleImputer(strategy=&#x27;median&#x27;)),\n",
       "                                                                  (&#x27;Scaler&#x27;,\n",
       "                                                                   MinMaxScaler())]),\n",
       "                                                  [&#x27;f0&#x27;, &#x27;f1&#x27;, &#x27;f2&#x27;])])),\n",
       "                (&#x27;model&#x27;, LinearRegression(n_jobs=-1))])</pre><b>In a Jupyter environment, please rerun this cell to show the HTML representation or trust the notebook. <br />On GitHub, the HTML representation is unable to render, please try loading this page with nbviewer.org.</b></div><div class=\"sk-container\" hidden><div class=\"sk-item sk-dashed-wrapped\"><div class=\"sk-label-container\"><div class=\"sk-label sk-toggleable\"><input class=\"sk-toggleable__control sk-hidden--visually\" id=\"sk-estimator-id-1\" type=\"checkbox\" ><label for=\"sk-estimator-id-1\" class=\"sk-toggleable__label sk-toggleable__label-arrow\">Pipeline</label><div class=\"sk-toggleable__content\"><pre>Pipeline(steps=[(&#x27;preprocessor&#x27;,\n",
       "                 ColumnTransformer(remainder=&#x27;passthrough&#x27;,\n",
       "                                   transformers=[(&#x27;num&#x27;,\n",
       "                                                  Pipeline(steps=[(&#x27;SimpleImputer_num&#x27;,\n",
       "                                                                   SimpleImputer(strategy=&#x27;median&#x27;)),\n",
       "                                                                  (&#x27;Scaler&#x27;,\n",
       "                                                                   MinMaxScaler())]),\n",
       "                                                  [&#x27;f0&#x27;, &#x27;f1&#x27;, &#x27;f2&#x27;])])),\n",
       "                (&#x27;model&#x27;, LinearRegression(n_jobs=-1))])</pre></div></div></div><div class=\"sk-serial\"><div class=\"sk-item sk-dashed-wrapped\"><div class=\"sk-label-container\"><div class=\"sk-label sk-toggleable\"><input class=\"sk-toggleable__control sk-hidden--visually\" id=\"sk-estimator-id-2\" type=\"checkbox\" ><label for=\"sk-estimator-id-2\" class=\"sk-toggleable__label sk-toggleable__label-arrow\">preprocessor: ColumnTransformer</label><div class=\"sk-toggleable__content\"><pre>ColumnTransformer(remainder=&#x27;passthrough&#x27;,\n",
       "                  transformers=[(&#x27;num&#x27;,\n",
       "                                 Pipeline(steps=[(&#x27;SimpleImputer_num&#x27;,\n",
       "                                                  SimpleImputer(strategy=&#x27;median&#x27;)),\n",
       "                                                 (&#x27;Scaler&#x27;, MinMaxScaler())]),\n",
       "                                 [&#x27;f0&#x27;, &#x27;f1&#x27;, &#x27;f2&#x27;])])</pre></div></div></div><div class=\"sk-parallel\"><div class=\"sk-parallel-item\"><div class=\"sk-item\"><div class=\"sk-label-container\"><div class=\"sk-label sk-toggleable\"><input class=\"sk-toggleable__control sk-hidden--visually\" id=\"sk-estimator-id-3\" type=\"checkbox\" ><label for=\"sk-estimator-id-3\" class=\"sk-toggleable__label sk-toggleable__label-arrow\">num</label><div class=\"sk-toggleable__content\"><pre>[&#x27;f0&#x27;, &#x27;f1&#x27;, &#x27;f2&#x27;]</pre></div></div></div><div class=\"sk-serial\"><div class=\"sk-item\"><div class=\"sk-serial\"><div class=\"sk-item\"><div class=\"sk-estimator sk-toggleable\"><input class=\"sk-toggleable__control sk-hidden--visually\" id=\"sk-estimator-id-4\" type=\"checkbox\" ><label for=\"sk-estimator-id-4\" class=\"sk-toggleable__label sk-toggleable__label-arrow\">SimpleImputer</label><div class=\"sk-toggleable__content\"><pre>SimpleImputer(strategy=&#x27;median&#x27;)</pre></div></div></div><div class=\"sk-item\"><div class=\"sk-estimator sk-toggleable\"><input class=\"sk-toggleable__control sk-hidden--visually\" id=\"sk-estimator-id-5\" type=\"checkbox\" ><label for=\"sk-estimator-id-5\" class=\"sk-toggleable__label sk-toggleable__label-arrow\">MinMaxScaler</label><div class=\"sk-toggleable__content\"><pre>MinMaxScaler()</pre></div></div></div></div></div></div></div></div><div class=\"sk-parallel-item\"><div class=\"sk-item\"><div class=\"sk-label-container\"><div class=\"sk-label sk-toggleable\"><input class=\"sk-toggleable__control sk-hidden--visually\" id=\"sk-estimator-id-6\" type=\"checkbox\" ><label for=\"sk-estimator-id-6\" class=\"sk-toggleable__label sk-toggleable__label-arrow\">remainder</label><div class=\"sk-toggleable__content\"><pre></pre></div></div></div><div class=\"sk-serial\"><div class=\"sk-item\"><div class=\"sk-estimator sk-toggleable\"><input class=\"sk-toggleable__control sk-hidden--visually\" id=\"sk-estimator-id-7\" type=\"checkbox\" ><label for=\"sk-estimator-id-7\" class=\"sk-toggleable__label sk-toggleable__label-arrow\">passthrough</label><div class=\"sk-toggleable__content\"><pre>passthrough</pre></div></div></div></div></div></div></div></div><div class=\"sk-item\"><div class=\"sk-estimator sk-toggleable\"><input class=\"sk-toggleable__control sk-hidden--visually\" id=\"sk-estimator-id-8\" type=\"checkbox\" ><label for=\"sk-estimator-id-8\" class=\"sk-toggleable__label sk-toggleable__label-arrow\">LinearRegression</label><div class=\"sk-toggleable__content\"><pre>LinearRegression(n_jobs=-1)</pre></div></div></div></div></div></div></div>"
      ],
      "text/plain": [
       "Pipeline(steps=[('preprocessor',\n",
       "                 ColumnTransformer(remainder='passthrough',\n",
       "                                   transformers=[('num',\n",
       "                                                  Pipeline(steps=[('SimpleImputer_num',\n",
       "                                                                   SimpleImputer(strategy='median')),\n",
       "                                                                  ('Scaler',\n",
       "                                                                   MinMaxScaler())]),\n",
       "                                                  ['f0', 'f1', 'f2'])])),\n",
       "                ('model', LinearRegression(n_jobs=-1))])"
      ]
     },
     "execution_count": 23,
     "metadata": {},
     "output_type": "execute_result"
    }
   ],
   "source": [
    "##Scalers -  Standart/Robust/Quantile/Min/Max\n",
    "lin_model = prediction_model(argument_col, 'Min/Max', 'LinearRegression')\n",
    "lin_model"
   ]
  },
  {
   "cell_type": "code",
   "execution_count": 24,
   "metadata": {},
   "outputs": [],
   "source": [
    "dummy_test_model = prediction_model(argument_col, 'Min/Max', 'DummyRegressor')"
   ]
  },
  {
   "cell_type": "markdown",
   "metadata": {},
   "source": [
    "### Формирование обучающих и валидационных выборок в соотношении 75:25"
   ]
  },
  {
   "cell_type": "code",
   "execution_count": 25,
   "metadata": {},
   "outputs": [],
   "source": [
    "def spliting (arguments, target):\n",
    "    Xtrain, Xtest, Ytrain, Ytest = train_test_split(arguments, target, test_size=TEST_SIZE, random_state=RANDOM_STATE)\n",
    "    return Xtrain, Xtest, Ytrain, Ytest"
   ]
  },
  {
   "cell_type": "code",
   "execution_count": 26,
   "metadata": {},
   "outputs": [],
   "source": [
    "Xtrain1a, Xtest1a, Ytrain1a, Ytest1a = spliting(derrick1area[argument_col], derrick1area[target])\n",
    "Xtrain2a, Xtest2a, Ytrain2a, Ytest2a = spliting(derrick2area[argument_col], derrick2area[target])\n",
    "Xtrain3a, Xtest3a, Ytrain3a, Ytest3a = spliting(derrick3area[argument_col], derrick3area[target])"
   ]
  },
  {
   "cell_type": "code",
   "execution_count": 27,
   "metadata": {},
   "outputs": [],
   "source": [
    "Xtrain = [Xtrain1a, Xtrain2a, Xtrain3a]\n",
    "Xtest  = [Xtest1a, Xtest2a, Xtest3a]\n",
    "Ytrain = [Ytrain1a, Ytrain2a, Ytrain3a]\n",
    "Ytest  = [Ytest1a, Ytest2a, Ytest3a]"
   ]
  },
  {
   "cell_type": "code",
   "execution_count": 28,
   "metadata": {},
   "outputs": [
    {
     "data": {
      "text/html": [
       "<div>\n",
       "<style scoped>\n",
       "    .dataframe tbody tr th:only-of-type {\n",
       "        vertical-align: middle;\n",
       "    }\n",
       "\n",
       "    .dataframe tbody tr th {\n",
       "        vertical-align: top;\n",
       "    }\n",
       "\n",
       "    .dataframe thead th {\n",
       "        text-align: right;\n",
       "    }\n",
       "</style>\n",
       "<table border=\"1\" class=\"dataframe\">\n",
       "  <thead>\n",
       "    <tr style=\"text-align: right;\">\n",
       "      <th></th>\n",
       "      <th>Модель</th>\n",
       "      <th>Метрика R2</th>\n",
       "      <th>Метрика RMSE</th>\n",
       "      <th>Метрика RMSE(Dummy)</th>\n",
       "    </tr>\n",
       "  </thead>\n",
       "  <tbody>\n",
       "    <tr>\n",
       "      <th>группа скажин-1</th>\n",
       "      <td>LinearRegression(n_jobs=-1)</td>\n",
       "      <td>0.272829</td>\n",
       "      <td>5.572045</td>\n",
       "      <td>6.135782</td>\n",
       "    </tr>\n",
       "    <tr>\n",
       "      <th>группа скажин-2</th>\n",
       "      <td>LinearRegression(n_jobs=-1)</td>\n",
       "      <td>0.999625</td>\n",
       "      <td>0.846766</td>\n",
       "      <td>6.348551</td>\n",
       "    </tr>\n",
       "    <tr>\n",
       "      <th>группа скажин-3</th>\n",
       "      <td>LinearRegression(n_jobs=-1)</td>\n",
       "      <td>0.196347</td>\n",
       "      <td>5.735587</td>\n",
       "      <td>6.150650</td>\n",
       "    </tr>\n",
       "  </tbody>\n",
       "</table>\n",
       "</div>"
      ],
      "text/plain": [
       "                                      Модель  Метрика R2  Метрика RMSE  \\\n",
       "группа скажин-1  LinearRegression(n_jobs=-1)    0.272829      5.572045   \n",
       "группа скажин-2  LinearRegression(n_jobs=-1)    0.999625      0.846766   \n",
       "группа скажин-3  LinearRegression(n_jobs=-1)    0.196347      5.735587   \n",
       "\n",
       "                 Метрика RMSE(Dummy)  \n",
       "группа скажин-1             6.135782  \n",
       "группа скажин-2             6.348551  \n",
       "группа скажин-3             6.150650  "
      ]
     },
     "execution_count": 28,
     "metadata": {},
     "output_type": "execute_result"
    }
   ],
   "source": [
    "metrics = []\n",
    "for i, model in enumerate(table_names):\n",
    "    lin_model.fit(Xtrain[i], Ytrain[i])\n",
    "    Ytest_predict = lin_model.predict(Xtest[i])\n",
    "    r2_score  =  lin_model.score(Xtest[i], Ytest[i])\n",
    "    rmse_score =  np.sqrt(mean_absolute_error(Ytest[i], Ytest_predict))\n",
    "    dummy_test_model.fit(Xtrain[i], Ytrain[i])\n",
    "    Ytest_predict_dummy =  dummy_test_model.predict(Xtest[i])\n",
    "    rmse_score_dummy    =  np.sqrt(mean_absolute_error(Ytest[i], Ytest_predict_dummy))\n",
    "    metrics.append([str(lin_model.get_params()['model']), r2_score, rmse_score, rmse_score_dummy])\n",
    "metrics = pd.DataFrame(metrics)\n",
    "metrics.columns = ['Модель', 'Метрика R2', 'Метрика RMSE', 'Метрика RMSE(Dummy)']\n",
    "metrics.index  = table_names\n",
    "metrics"
   ]
  },
  {
   "cell_type": "markdown",
   "metadata": {},
   "source": [
    "Можно отметить, что:\n",
    "   - для \"группы скважин-2\" высокое значение коэффициента детерминации говорит о наличии практически однозначного соответствия между признаками и целевым параметром;\n",
    "   - предсказания для моделей \"группа скажин-1\" и \"группа скажин-3\" немногим лучше константной модели DummyRegressor\n",
    "    "
   ]
  },
  {
   "cell_type": "markdown",
   "metadata": {},
   "source": [
    "### Подбор признаков"
   ]
  },
  {
   "cell_type": "markdown",
   "metadata": {},
   "source": [
    "Скорее всего с такими данными ничего не поможет, но можно попробовать поискать нелинейные зависимости, добавив полиномиальные признаки с помощью PolynomialFeatures (выполним для третьей группы скважин и посмотрим, что получится на остальных)"
   ]
  },
  {
   "cell_type": "code",
   "execution_count": 29,
   "metadata": {},
   "outputs": [],
   "source": [
    "poly = PolynomialFeatures(2)\n",
    "X_train = poly.fit_transform(Xtrain[2])\n",
    "X_test = poly.transform(Xtest[2])"
   ]
  },
  {
   "cell_type": "code",
   "execution_count": 30,
   "metadata": {},
   "outputs": [],
   "source": [
    "X_train = pd.DataFrame(X_train, columns = poly.get_feature_names_out())\n",
    "X_test  = pd.DataFrame(X_test, columns = poly.get_feature_names_out())\n",
    "Y_train = Ytrain[2]\n",
    "Y_test  = Ytest[2]"
   ]
  },
  {
   "cell_type": "code",
   "execution_count": 31,
   "metadata": {},
   "outputs": [
    {
     "name": "stdout",
     "output_type": "stream",
     "text": [
      "Метрика R2 для третьей группы скважин 0.2462627802574744\n",
      "Метрика RMSE для третьей группы скважин 5.65983976805112\n"
     ]
    }
   ],
   "source": [
    "drop_cols = []\n",
    "cols = X_train.columns[~np.isin(X_train.columns, drop_cols)]\n",
    "lin_model = prediction_model(cols, 'Min/Max', 'LinearRegression')\n",
    "lin_model.fit(X_train[cols], Y_train)\n",
    "Y_test_predict = lin_model.predict(X_test)\n",
    "r2_score  =  lin_model.score(X_test[cols], Y_test)\n",
    "rmse_score =  np.sqrt(mean_absolute_error(Y_test, Y_test_predict))\n",
    "print('Метрика R2 для третьей группы скважин', r2_score)\n",
    "print('Метрика RMSE для третьей группы скважин', rmse_score)"
   ]
  },
  {
   "cell_type": "markdown",
   "metadata": {},
   "source": [
    "Попробуем отсеять признаки с помощью SHAP"
   ]
  },
  {
   "cell_type": "code",
   "execution_count": 32,
   "metadata": {},
   "outputs": [],
   "source": [
    "X_train_scaled = lin_model['preprocessor'].fit_transform(X_train[cols])\n",
    "model  = lin_model['model']\n",
    "prepr =  lin_model['preprocessor']"
   ]
  },
  {
   "cell_type": "code",
   "execution_count": 33,
   "metadata": {},
   "outputs": [
    {
     "data": {
      "image/png": "[encoded data removed]",
      "text/plain": [
       "<Figure size 576x468 with 1 Axes>"
      ]
     },
     "metadata": {},
     "output_type": "display_data"
    },
    {
     "name": "stdout",
     "output_type": "stream",
     "text": [
      "CPU times: total: 2.81 s\n",
      "Wall time: 2.81 s\n"
     ]
    }
   ],
   "source": [
    "%%time\n",
    "explainer = shap.Explainer(model, X_train_scaled)\n",
    "feature_names = prepr.get_feature_names_out()\n",
    "X_train_scaled = pd.DataFrame(X_train_scaled, columns = feature_names)\n",
    "plt.title('Важность признаков (Модель запасов группы скважин-3)')\n",
    "plt.ylabel('Значения признаков')\n",
    "shap.plots.bar(explainer(X_train_scaled))\n",
    "plt.show()"
   ]
  },
  {
   "cell_type": "markdown",
   "metadata": {},
   "source": [
    "Таким образом, можно отбросить следующие признаки (но все таки оставим изначальные):"
   ]
  },
  {
   "cell_type": "code",
   "execution_count": 34,
   "metadata": {},
   "outputs": [],
   "source": [
    "drop_cols = ['1', 'f0 f1', '!f2^2', '!f0', '!f1', 'f1 f2', 'f0 f2']"
   ]
  },
  {
   "cell_type": "code",
   "execution_count": 35,
   "metadata": {},
   "outputs": [
    {
     "name": "stdout",
     "output_type": "stream",
     "text": [
      "Метрика R2 для третьей группы скважин 0.24630957022531197\n",
      "Метрика RMSE для третьей группы скважин 5.659759095906094\n"
     ]
    }
   ],
   "source": [
    "cols = X_train.columns[~np.isin(X_train.columns, drop_cols)]\n",
    "lin_model = prediction_model(cols, 'Min/Max', 'LinearRegression')\n",
    "lin_model.fit(X_train[cols], Y_train)\n",
    "Y_test_predict = lin_model.predict(X_test)\n",
    "r2_score  =  lin_model.score(X_test[cols], Y_test)\n",
    "rmse_score =  np.sqrt(mean_absolute_error(Y_test, Y_test_predict))\n",
    "print('Метрика R2 для третьей группы скважин', r2_score)\n",
    "print('Метрика RMSE для третьей группы скважин', rmse_score)"
   ]
  },
  {
   "cell_type": "markdown",
   "metadata": {},
   "source": [
    "###  Предсказания, правильные ответы на валидационной выборке и средний запас предсказанного сырья с RMSE модели."
   ]
  },
  {
   "cell_type": "markdown",
   "metadata": {},
   "source": [
    "Тогда итоговый вариант моделей будет выглядеть следующим образом:"
   ]
  },
  {
   "cell_type": "code",
   "execution_count": 36,
   "metadata": {},
   "outputs": [
    {
     "data": {
      "text/html": [
       "<div>\n",
       "<style scoped>\n",
       "    .dataframe tbody tr th:only-of-type {\n",
       "        vertical-align: middle;\n",
       "    }\n",
       "\n",
       "    .dataframe tbody tr th {\n",
       "        vertical-align: top;\n",
       "    }\n",
       "\n",
       "    .dataframe thead th {\n",
       "        text-align: right;\n",
       "    }\n",
       "</style>\n",
       "<table border=\"1\" class=\"dataframe\">\n",
       "  <thead>\n",
       "    <tr style=\"text-align: right;\">\n",
       "      <th></th>\n",
       "      <th>Модель</th>\n",
       "      <th>Метрика R2</th>\n",
       "      <th>Метрика RMSE</th>\n",
       "    </tr>\n",
       "  </thead>\n",
       "  <tbody>\n",
       "    <tr>\n",
       "      <th>группа скажин-1</th>\n",
       "      <td>LinearRegression(n_jobs=-1)</td>\n",
       "      <td>0.272844</td>\n",
       "      <td>5.571931</td>\n",
       "    </tr>\n",
       "    <tr>\n",
       "      <th>группа скажин-2</th>\n",
       "      <td>LinearRegression(n_jobs=-1)</td>\n",
       "      <td>0.999625</td>\n",
       "      <td>0.846764</td>\n",
       "    </tr>\n",
       "    <tr>\n",
       "      <th>группа скажин-3</th>\n",
       "      <td>LinearRegression(n_jobs=-1)</td>\n",
       "      <td>0.246310</td>\n",
       "      <td>5.659759</td>\n",
       "    </tr>\n",
       "  </tbody>\n",
       "</table>\n",
       "</div>"
      ],
      "text/plain": [
       "                                      Модель  Метрика R2  Метрика RMSE\n",
       "группа скажин-1  LinearRegression(n_jobs=-1)    0.272844      5.571931\n",
       "группа скажин-2  LinearRegression(n_jobs=-1)    0.999625      0.846764\n",
       "группа скажин-3  LinearRegression(n_jobs=-1)    0.246310      5.659759"
      ]
     },
     "metadata": {},
     "output_type": "display_data"
    },
    {
     "data": {
      "text/html": [
       "<div>\n",
       "<style scoped>\n",
       "    .dataframe tbody tr th:only-of-type {\n",
       "        vertical-align: middle;\n",
       "    }\n",
       "\n",
       "    .dataframe tbody tr th {\n",
       "        vertical-align: top;\n",
       "    }\n",
       "\n",
       "    .dataframe thead th {\n",
       "        text-align: right;\n",
       "    }\n",
       "</style>\n",
       "<table border=\"1\" class=\"dataframe\">\n",
       "  <thead>\n",
       "    <tr style=\"text-align: right;\">\n",
       "      <th></th>\n",
       "      <th>группа скажин-1 index</th>\n",
       "      <th>группа скажин-1 true</th>\n",
       "      <th>группа скажин-1 predicted</th>\n",
       "      <th>группа скажин-2 index</th>\n",
       "      <th>группа скажин-2 true</th>\n",
       "      <th>группа скажин-2 predicted</th>\n",
       "      <th>группа скажин-3 index</th>\n",
       "      <th>группа скажин-3 true</th>\n",
       "      <th>группа скажин-3 predicted</th>\n",
       "    </tr>\n",
       "  </thead>\n",
       "  <tbody>\n",
       "    <tr>\n",
       "      <th>0</th>\n",
       "      <td>7C6bA</td>\n",
       "      <td>122.073350</td>\n",
       "      <td>102.021311</td>\n",
       "      <td>fYVDK</td>\n",
       "      <td>0.000000</td>\n",
       "      <td>0.842324</td>\n",
       "      <td>sPjbT</td>\n",
       "      <td>117.441301</td>\n",
       "      <td>100.452140</td>\n",
       "    </tr>\n",
       "    <tr>\n",
       "      <th>1</th>\n",
       "      <td>dVxsn</td>\n",
       "      <td>48.738540</td>\n",
       "      <td>78.448272</td>\n",
       "      <td>3SQcq</td>\n",
       "      <td>53.906522</td>\n",
       "      <td>52.924591</td>\n",
       "      <td>1u4uo</td>\n",
       "      <td>47.841249</td>\n",
       "      <td>93.343486</td>\n",
       "    </tr>\n",
       "    <tr>\n",
       "      <th>2</th>\n",
       "      <td>1Gm3l</td>\n",
       "      <td>131.338088</td>\n",
       "      <td>115.355655</td>\n",
       "      <td>hQ1gJ</td>\n",
       "      <td>134.766305</td>\n",
       "      <td>135.107791</td>\n",
       "      <td>kZ6HO</td>\n",
       "      <td>45.883483</td>\n",
       "      <td>54.131372</td>\n",
       "    </tr>\n",
       "    <tr>\n",
       "      <th>3</th>\n",
       "      <td>Nzg1t</td>\n",
       "      <td>88.327757</td>\n",
       "      <td>105.455945</td>\n",
       "      <td>Y4vux</td>\n",
       "      <td>107.813044</td>\n",
       "      <td>109.493186</td>\n",
       "      <td>gCZGK</td>\n",
       "      <td>139.014608</td>\n",
       "      <td>110.653410</td>\n",
       "    </tr>\n",
       "    <tr>\n",
       "      <th>4</th>\n",
       "      <td>Z7b4F</td>\n",
       "      <td>36.959266</td>\n",
       "      <td>97.740295</td>\n",
       "      <td>H1NUw</td>\n",
       "      <td>0.000000</td>\n",
       "      <td>-0.045065</td>\n",
       "      <td>rqJHx</td>\n",
       "      <td>84.004276</td>\n",
       "      <td>78.313991</td>\n",
       "    </tr>\n",
       "  </tbody>\n",
       "</table>\n",
       "</div>"
      ],
      "text/plain": [
       "  группа скажин-1 index  группа скажин-1 true  группа скажин-1 predicted  \\\n",
       "0                 7C6bA            122.073350                 102.021311   \n",
       "1                 dVxsn             48.738540                  78.448272   \n",
       "2                 1Gm3l            131.338088                 115.355655   \n",
       "3                 Nzg1t             88.327757                 105.455945   \n",
       "4                 Z7b4F             36.959266                  97.740295   \n",
       "\n",
       "  группа скажин-2 index  группа скажин-2 true  группа скажин-2 predicted  \\\n",
       "0                 fYVDK              0.000000                   0.842324   \n",
       "1                 3SQcq             53.906522                  52.924591   \n",
       "2                 hQ1gJ            134.766305                 135.107791   \n",
       "3                 Y4vux            107.813044                 109.493186   \n",
       "4                 H1NUw              0.000000                  -0.045065   \n",
       "\n",
       "  группа скажин-3 index  группа скажин-3 true  группа скажин-3 predicted  \n",
       "0                 sPjbT            117.441301                 100.452140  \n",
       "1                 1u4uo             47.841249                  93.343486  \n",
       "2                 kZ6HO             45.883483                  54.131372  \n",
       "3                 gCZGK            139.014608                 110.653410  \n",
       "4                 rqJHx             84.004276                  78.313991  "
      ]
     },
     "execution_count": 36,
     "metadata": {},
     "output_type": "execute_result"
    }
   ],
   "source": [
    "validation_rez = pd.DataFrame()\n",
    "metrics = []\n",
    "for i, name in enumerate(table_names):\n",
    "    X_train = poly.fit_transform(Xtrain[i])\n",
    "    X_test = poly.transform(Xtest[i])\n",
    "    X_train = pd.DataFrame(X_train, columns = poly.get_feature_names_out())\n",
    "    X_test  = pd.DataFrame(X_test, columns = poly.get_feature_names_out())\n",
    "    lin_model.fit(X_train[cols], Ytrain[i])\n",
    "    Ytest_predict = lin_model.predict(X_test[cols])\n",
    "    r2_score  =  lin_model.score(X_test[cols], Ytest[i])\n",
    "    rmse_score =  np.sqrt(mean_absolute_error(Ytest[i], Ytest_predict))\n",
    "    metrics.append([str(lin_model.get_params()['model']), r2_score, rmse_score])\n",
    "    validation_rez[name+' index'] = Ytest[i].index\n",
    "    validation_rez[name+' true'] = Ytest[i].values\n",
    "    validation_rez[name+' predicted'] = Ytest_predict\n",
    "metrics = pd.DataFrame(metrics)\n",
    "metrics.columns = ['Модель', 'Метрика R2', 'Метрика RMSE']\n",
    "metrics.index  = table_names\n",
    "display(metrics)\n",
    "validation_rez.head(5)"
   ]
  },
  {
   "cell_type": "markdown",
   "metadata": {},
   "source": [
    "Можно еще догнать полиномы до 4 степени и улучшить показатели модели на 1-2%............ но не нужно "
   ]
  },
  {
   "cell_type": "markdown",
   "metadata": {},
   "source": [
    "Оценим средние значения запасов сырья по группам скважин"
   ]
  },
  {
   "cell_type": "code",
   "execution_count": 37,
   "metadata": {},
   "outputs": [
    {
     "data": {
      "text/html": [
       "<div>\n",
       "<style scoped>\n",
       "    .dataframe tbody tr th:only-of-type {\n",
       "        vertical-align: middle;\n",
       "    }\n",
       "\n",
       "    .dataframe tbody tr th {\n",
       "        vertical-align: top;\n",
       "    }\n",
       "\n",
       "    .dataframe thead th {\n",
       "        text-align: right;\n",
       "    }\n",
       "</style>\n",
       "<table border=\"1\" class=\"dataframe\">\n",
       "  <thead>\n",
       "    <tr style=\"text-align: right;\">\n",
       "      <th></th>\n",
       "      <th>Cредний запас сырья</th>\n",
       "      <th>Cредний запас предсказанного сырья</th>\n",
       "    </tr>\n",
       "  </thead>\n",
       "  <tbody>\n",
       "    <tr>\n",
       "      <th>Группа скажин-3</th>\n",
       "      <td>95.150999</td>\n",
       "      <td>94.760501</td>\n",
       "    </tr>\n",
       "    <tr>\n",
       "      <th>Группа скажин-1</th>\n",
       "      <td>92.325956</td>\n",
       "      <td>92.400454</td>\n",
       "    </tr>\n",
       "    <tr>\n",
       "      <th>Группа скажин-2</th>\n",
       "      <td>68.725381</td>\n",
       "      <td>68.712876</td>\n",
       "    </tr>\n",
       "  </tbody>\n",
       "</table>\n",
       "</div>"
      ],
      "text/plain": [
       "                 Cредний запас сырья  Cредний запас предсказанного сырья\n",
       "Группа скажин-3            95.150999                           94.760501\n",
       "Группа скажин-1            92.325956                           92.400454\n",
       "Группа скажин-2            68.725381                           68.712876"
      ]
     },
     "execution_count": 37,
     "metadata": {},
     "output_type": "execute_result"
    }
   ],
   "source": [
    "accumulated_data = pd.DataFrame()\n",
    "accumulated_data['Cредний запас сырья'] = (validation_rez[validation_rez.columns[['true' in name for name in validation_rez.columns]]].sum()).values/validation_rez.shape[0]\n",
    "accumulated_data['Cредний запас предсказанного сырья'] = (validation_rez[validation_rez.columns[['predicted' in name for name in validation_rez.columns]]].sum()).values/validation_rez.shape[0]\n",
    "accumulated_data.index = ['Группа скажин-1', 'Группа скажин-2', 'Группа скажин-3']\n",
    "accumulated_data.sort_values(by = 'Cредний запас предсказанного сырья', ascending=False)"
   ]
  },
  {
   "cell_type": "markdown",
   "metadata": {},
   "source": [
    "Таким образом, лучшие показатели по среднему запасу предсказанного сырья показала группа скважин 3, далее группа скважин 1 и группа скважин 2"
   ]
  },
  {
   "cell_type": "markdown",
   "metadata": {},
   "source": [
    "Разобьем большую таблицу по отдельных группам скважин... вдруг потом пригодится )"
   ]
  },
  {
   "cell_type": "code",
   "execution_count": 68,
   "metadata": {},
   "outputs": [
    {
     "data": {
      "text/html": [
       "<div>\n",
       "<style scoped>\n",
       "    .dataframe tbody tr th:only-of-type {\n",
       "        vertical-align: middle;\n",
       "    }\n",
       "\n",
       "    .dataframe tbody tr th {\n",
       "        vertical-align: top;\n",
       "    }\n",
       "\n",
       "    .dataframe thead th {\n",
       "        text-align: right;\n",
       "    }\n",
       "</style>\n",
       "<table border=\"1\" class=\"dataframe\">\n",
       "  <thead>\n",
       "    <tr style=\"text-align: right;\">\n",
       "      <th></th>\n",
       "      <th>true</th>\n",
       "      <th>predicted</th>\n",
       "    </tr>\n",
       "    <tr>\n",
       "      <th>id</th>\n",
       "      <th></th>\n",
       "      <th></th>\n",
       "    </tr>\n",
       "  </thead>\n",
       "  <tbody>\n",
       "    <tr>\n",
       "      <th>7C6bA</th>\n",
       "      <td>122.073350</td>\n",
       "      <td>102.021311</td>\n",
       "    </tr>\n",
       "    <tr>\n",
       "      <th>dVxsn</th>\n",
       "      <td>48.738540</td>\n",
       "      <td>78.448272</td>\n",
       "    </tr>\n",
       "    <tr>\n",
       "      <th>1Gm3l</th>\n",
       "      <td>131.338088</td>\n",
       "      <td>115.355655</td>\n",
       "    </tr>\n",
       "  </tbody>\n",
       "</table>\n",
       "</div>"
      ],
      "text/plain": [
       "             true   predicted\n",
       "id                           \n",
       "7C6bA  122.073350  102.021311\n",
       "dVxsn   48.738540   78.448272\n",
       "1Gm3l  131.338088  115.355655"
      ]
     },
     "metadata": {},
     "output_type": "display_data"
    },
    {
     "data": {
      "text/html": [
       "<div>\n",
       "<style scoped>\n",
       "    .dataframe tbody tr th:only-of-type {\n",
       "        vertical-align: middle;\n",
       "    }\n",
       "\n",
       "    .dataframe tbody tr th {\n",
       "        vertical-align: top;\n",
       "    }\n",
       "\n",
       "    .dataframe thead th {\n",
       "        text-align: right;\n",
       "    }\n",
       "</style>\n",
       "<table border=\"1\" class=\"dataframe\">\n",
       "  <thead>\n",
       "    <tr style=\"text-align: right;\">\n",
       "      <th></th>\n",
       "      <th>true</th>\n",
       "      <th>predicted</th>\n",
       "    </tr>\n",
       "    <tr>\n",
       "      <th>id</th>\n",
       "      <th></th>\n",
       "      <th></th>\n",
       "    </tr>\n",
       "  </thead>\n",
       "  <tbody>\n",
       "    <tr>\n",
       "      <th>fYVDK</th>\n",
       "      <td>0.000000</td>\n",
       "      <td>0.842324</td>\n",
       "    </tr>\n",
       "    <tr>\n",
       "      <th>3SQcq</th>\n",
       "      <td>53.906522</td>\n",
       "      <td>52.924591</td>\n",
       "    </tr>\n",
       "    <tr>\n",
       "      <th>hQ1gJ</th>\n",
       "      <td>134.766305</td>\n",
       "      <td>135.107791</td>\n",
       "    </tr>\n",
       "  </tbody>\n",
       "</table>\n",
       "</div>"
      ],
      "text/plain": [
       "             true   predicted\n",
       "id                           \n",
       "fYVDK    0.000000    0.842324\n",
       "3SQcq   53.906522   52.924591\n",
       "hQ1gJ  134.766305  135.107791"
      ]
     },
     "metadata": {},
     "output_type": "display_data"
    },
    {
     "data": {
      "text/html": [
       "<div>\n",
       "<style scoped>\n",
       "    .dataframe tbody tr th:only-of-type {\n",
       "        vertical-align: middle;\n",
       "    }\n",
       "\n",
       "    .dataframe tbody tr th {\n",
       "        vertical-align: top;\n",
       "    }\n",
       "\n",
       "    .dataframe thead th {\n",
       "        text-align: right;\n",
       "    }\n",
       "</style>\n",
       "<table border=\"1\" class=\"dataframe\">\n",
       "  <thead>\n",
       "    <tr style=\"text-align: right;\">\n",
       "      <th></th>\n",
       "      <th>true</th>\n",
       "      <th>predicted</th>\n",
       "    </tr>\n",
       "    <tr>\n",
       "      <th>id</th>\n",
       "      <th></th>\n",
       "      <th></th>\n",
       "    </tr>\n",
       "  </thead>\n",
       "  <tbody>\n",
       "    <tr>\n",
       "      <th>sPjbT</th>\n",
       "      <td>117.441301</td>\n",
       "      <td>100.452140</td>\n",
       "    </tr>\n",
       "    <tr>\n",
       "      <th>1u4uo</th>\n",
       "      <td>47.841249</td>\n",
       "      <td>93.343486</td>\n",
       "    </tr>\n",
       "    <tr>\n",
       "      <th>kZ6HO</th>\n",
       "      <td>45.883483</td>\n",
       "      <td>54.131372</td>\n",
       "    </tr>\n",
       "  </tbody>\n",
       "</table>\n",
       "</div>"
      ],
      "text/plain": [
       "             true   predicted\n",
       "id                           \n",
       "sPjbT  117.441301  100.452140\n",
       "1u4uo   47.841249   93.343486\n",
       "kZ6HO   45.883483   54.131372"
      ]
     },
     "metadata": {},
     "output_type": "display_data"
    }
   ],
   "source": [
    "derrick1predict=derrick2predict=derrick3predict= pd.DataFrame()\n",
    "list0pd = [derrick1predict, derrick2predict, derrick3predict]\n",
    "for i, df in enumerate(list0pd):\n",
    "    shift = 3*i\n",
    "    list0pd[i] = validation_rez[validation_rez.columns[0+shift:3+shift]]\n",
    "    list0pd[i].columns =  ['id', 'true', 'predicted']\n",
    "[derrick1predict, derrick2predict, derrick3predict] = list0pd\n",
    "[item.set_index('id', inplace=True) for item in [derrick1predict, derrick2predict, derrick3predict]];\n",
    "[display(item.head(3)) for item in [derrick1predict, derrick2predict, derrick3predict]];"
   ]
  },
  {
   "cell_type": "markdown",
   "metadata": {},
   "source": [
    "**ВЫВОДЫ**\n",
    " - Сохраните предсказания и правильные ответы на валидационной выборке\n",
    " - Напечатайте на экране средний запас предсказанного сырья и RMSE модели\n",
    " - Проанализируйте результаты"
   ]
  },
  {
   "cell_type": "markdown",
   "metadata": {},
   "source": [
    "## Расчёт прибыли"
   ]
  },
  {
   "cell_type": "markdown",
   "metadata": {},
   "source": [
    "Ключевые значения для расчета объявлены в начале исследования."
   ]
  },
  {
   "cell_type": "markdown",
   "metadata": {},
   "source": [
    "###  Достаточный объём сырья для безубыточной разработки новой скважины. Сравнить полученный объём сырья со средним запасом в каждом регионе."
   ]
  },
  {
   "cell_type": "markdown",
   "metadata": {},
   "source": [
    "Будем считать, что минимальное среднее количество продукта в месторождениях региона, достаточное для разработки определяется исходя из нулевого значения ROI («возврат на инвестиции») при текущей цене барреля нефти. То есть итоговая прибыль должна быть равна инвестициям:"
   ]
  },
  {
   "cell_type": "code",
   "execution_count": 39,
   "metadata": {},
   "outputs": [
    {
     "name": "stdout",
     "output_type": "stream",
     "text": [
      "Необходимое количество добытой нефти с группы скважин, тыс. баррелей: 22222.22\n"
     ]
    }
   ],
   "source": [
    "total_product = BUDGET/BARREL_PRICE\n",
    "print('Необходимое количество добытой нефти с группы скважин, тыс. баррелей:', round(total_product,2))"
   ]
  },
  {
   "cell_type": "markdown",
   "metadata": {},
   "source": [
    "Сравним полученный объём сырья со средним запасом в каждом регионе(по предсказанным моделью данным)"
   ]
  },
  {
   "cell_type": "code",
   "execution_count": 40,
   "metadata": {},
   "outputs": [
    {
     "data": {
      "text/html": [
       "<div>\n",
       "<style scoped>\n",
       "    .dataframe tbody tr th:only-of-type {\n",
       "        vertical-align: middle;\n",
       "    }\n",
       "\n",
       "    .dataframe tbody tr th {\n",
       "        vertical-align: top;\n",
       "    }\n",
       "\n",
       "    .dataframe thead th {\n",
       "        text-align: right;\n",
       "    }\n",
       "</style>\n",
       "<table border=\"1\" class=\"dataframe\">\n",
       "  <thead>\n",
       "    <tr style=\"text-align: right;\">\n",
       "      <th></th>\n",
       "      <th>Cредний запас сырья</th>\n",
       "      <th>Cредний запас предсказанного сырья</th>\n",
       "      <th>Кол-во скважин для безубыточности</th>\n",
       "    </tr>\n",
       "  </thead>\n",
       "  <tbody>\n",
       "    <tr>\n",
       "      <th>Группа скажин-1</th>\n",
       "      <td>92.325956</td>\n",
       "      <td>92.400454</td>\n",
       "      <td>240.499059</td>\n",
       "    </tr>\n",
       "    <tr>\n",
       "      <th>Группа скажин-2</th>\n",
       "      <td>68.725381</td>\n",
       "      <td>68.712876</td>\n",
       "      <td>323.406959</td>\n",
       "    </tr>\n",
       "    <tr>\n",
       "      <th>Группа скажин-3</th>\n",
       "      <td>95.150999</td>\n",
       "      <td>94.760501</td>\n",
       "      <td>234.509336</td>\n",
       "    </tr>\n",
       "  </tbody>\n",
       "</table>\n",
       "</div>"
      ],
      "text/plain": [
       "                 Cредний запас сырья  Cредний запас предсказанного сырья  \\\n",
       "Группа скажин-1            92.325956                           92.400454   \n",
       "Группа скажин-2            68.725381                           68.712876   \n",
       "Группа скажин-3            95.150999                           94.760501   \n",
       "\n",
       "                 Кол-во скважин для безубыточности  \n",
       "Группа скажин-1                         240.499059  \n",
       "Группа скажин-2                         323.406959  \n",
       "Группа скажин-3                         234.509336  "
      ]
     },
     "execution_count": 40,
     "metadata": {},
     "output_type": "execute_result"
    }
   ],
   "source": [
    "accumulated_data['Кол-во скважин для безубыточности'] = total_product/accumulated_data['Cредний запас предсказанного сырья']\n",
    "accumulated_data"
   ]
  },
  {
   "cell_type": "markdown",
   "metadata": {},
   "source": [
    "Вывод: \n",
    " - Так как надо выбрать только 200 скважин, без модели предсказывающей производительность отдельной скважины не обойтись. "
   ]
  },
  {
   "cell_type": "markdown",
   "metadata": {},
   "source": [
    "### Расчёт прибыли по лучшим 200 скважинам для каждой группы"
   ]
  },
  {
   "cell_type": "markdown",
   "metadata": {},
   "source": [
    "Чистая прибыль учитывает почти все показатели бизнеса: себестоимость, операционные расходы, платежи государству и кредиторам. Поэтому из доходов от продажи нефти вычтем затраты на разработку. Тут странно, но: \n",
    "\n",
    " - x.1 Выберите скважины с максимальными значениями предсказаний;\n",
    " - x.2 Просуммируйте целевое значение объёма сырья, соответствующее этим предсказания;\n",
    " - x.3 Рассчитайте прибыль для полученного объёма сырья.\n"
   ]
  },
  {
   "cell_type": "code",
   "execution_count": 133,
   "metadata": {},
   "outputs": [],
   "source": [
    "def get_profit (data):\n",
    "    sorted_data = data.sort_values(by = 'predicted', ascending=False)\n",
    "    product = (sorted_data[:CHOSEN_POINTS])['true'].sum()\n",
    "    income = product*BARREL_PRICE\n",
    "    return income-BUDGET"
   ]
  },
  {
   "cell_type": "code",
   "execution_count": 141,
   "metadata": {},
   "outputs": [
    {
     "data": {
      "text/html": [
       "<div>\n",
       "<style scoped>\n",
       "    .dataframe tbody tr th:only-of-type {\n",
       "        vertical-align: middle;\n",
       "    }\n",
       "\n",
       "    .dataframe tbody tr th {\n",
       "        vertical-align: top;\n",
       "    }\n",
       "\n",
       "    .dataframe thead th {\n",
       "        text-align: right;\n",
       "    }\n",
       "</style>\n",
       "<table border=\"1\" class=\"dataframe\">\n",
       "  <thead>\n",
       "    <tr style=\"text-align: right;\">\n",
       "      <th></th>\n",
       "      <th>Cредний запас сырья</th>\n",
       "      <th>Cредний запас предсказанного сырья</th>\n",
       "      <th>Кол-во скважин для безубыточности</th>\n",
       "      <th>Прибыль, млн</th>\n",
       "    </tr>\n",
       "  </thead>\n",
       "  <tbody>\n",
       "    <tr>\n",
       "      <th>Группа скажин-1</th>\n",
       "      <td>92.325956</td>\n",
       "      <td>92.400454</td>\n",
       "      <td>240.499059</td>\n",
       "      <td>3344.422316</td>\n",
       "    </tr>\n",
       "    <tr>\n",
       "      <th>Группа скажин-2</th>\n",
       "      <td>68.725381</td>\n",
       "      <td>68.712876</td>\n",
       "      <td>323.406959</td>\n",
       "      <td>2415.086697</td>\n",
       "    </tr>\n",
       "    <tr>\n",
       "      <th>Группа скажин-3</th>\n",
       "      <td>95.150999</td>\n",
       "      <td>94.760501</td>\n",
       "      <td>234.509336</td>\n",
       "      <td>2888.023863</td>\n",
       "    </tr>\n",
       "  </tbody>\n",
       "</table>\n",
       "</div>"
      ],
      "text/plain": [
       "                 Cредний запас сырья  Cредний запас предсказанного сырья  \\\n",
       "Группа скажин-1            92.325956                           92.400454   \n",
       "Группа скажин-2            68.725381                           68.712876   \n",
       "Группа скажин-3            95.150999                           94.760501   \n",
       "\n",
       "                 Кол-во скважин для безубыточности  Прибыль, млн  \n",
       "Группа скажин-1                         240.499059   3344.422316  \n",
       "Группа скажин-2                         323.406959   2415.086697  \n",
       "Группа скажин-3                         234.509336   2888.023863  "
      ]
     },
     "execution_count": 141,
     "metadata": {},
     "output_type": "execute_result"
    }
   ],
   "source": [
    "accumulated_data['Прибыль, млн'] = [get_profit(item)/1000 for item in [derrick1predict, derrick2predict, derrick3predict]];\n",
    "accumulated_data"
   ]
  },
  {
   "cell_type": "markdown",
   "metadata": {},
   "source": [
    "**Выводы**\n",
    " - должны быть !!!"
   ]
  },
  {
   "cell_type": "markdown",
   "metadata": {},
   "source": [
    "## Расчёт прибыли и рисков "
   ]
  },
  {
   "cell_type": "markdown",
   "metadata": {},
   "source": [
    "Найдем распределение средней прибыли с помощью Bootstrap на 1000 выборок для 500 скважин."
   ]
  },
  {
   "cell_type": "markdown",
   "metadata": {},
   "source": [
    "### Генерация выборок с помощью Bootstrap с 1000 выборок"
   ]
  },
  {
   "cell_type": "code",
   "execution_count": 43,
   "metadata": {},
   "outputs": [],
   "source": [
    "state = np.random.RandomState(RANDOM_STATE)"
   ]
  },
  {
   "cell_type": "code",
   "execution_count": 143,
   "metadata": {},
   "outputs": [
    {
     "ename": "TypeError",
     "evalue": "sort_values() got an unexpected keyword argument 'by'",
     "output_type": "error",
     "traceback": [
      "\u001b[1;31m---------------------------------------------------------------------------\u001b[0m",
      "\u001b[1;31mTypeError\u001b[0m                                 Traceback (most recent call last)",
      "Cell \u001b[1;32mIn[143], line 10\u001b[0m\n\u001b[0;32m      7\u001b[0m subsample_true   \u001b[38;5;241m=\u001b[39m derrick1predict\u001b[38;5;241m.\u001b[39mloc[derrick1predict\u001b[38;5;241m.\u001b[39mindex\u001b[38;5;241m.\u001b[39misin(subsamples_index)]\n\u001b[0;32m      9\u001b[0m profit_true[i] \u001b[38;5;241m=\u001b[39m get_profit(subsample_true)\n\u001b[1;32m---> 10\u001b[0m profit_predict[i] \u001b[38;5;241m=\u001b[39m \u001b[43mget_profit\u001b[49m\u001b[43m(\u001b[49m\u001b[43msubsample_predict\u001b[49m\u001b[43m)\u001b[49m\n",
      "Cell \u001b[1;32mIn[133], line 2\u001b[0m, in \u001b[0;36mget_profit\u001b[1;34m(data)\u001b[0m\n\u001b[0;32m      1\u001b[0m \u001b[38;5;28;01mdef\u001b[39;00m \u001b[38;5;21mget_profit\u001b[39m (data):\n\u001b[1;32m----> 2\u001b[0m     sorted_data \u001b[38;5;241m=\u001b[39m \u001b[43mdata\u001b[49m\u001b[38;5;241;43m.\u001b[39;49m\u001b[43msort_values\u001b[49m\u001b[43m(\u001b[49m\u001b[43mby\u001b[49m\u001b[43m \u001b[49m\u001b[38;5;241;43m=\u001b[39;49m\u001b[43m \u001b[49m\u001b[38;5;124;43m'\u001b[39;49m\u001b[38;5;124;43mpredicted\u001b[39;49m\u001b[38;5;124;43m'\u001b[39;49m\u001b[43m,\u001b[49m\u001b[43m \u001b[49m\u001b[43mascending\u001b[49m\u001b[38;5;241;43m=\u001b[39;49m\u001b[38;5;28;43;01mFalse\u001b[39;49;00m\u001b[43m)\u001b[49m\n\u001b[0;32m      3\u001b[0m     product \u001b[38;5;241m=\u001b[39m (sorted_data[:CHOSEN_POINTS])[\u001b[38;5;124m'\u001b[39m\u001b[38;5;124mtrue\u001b[39m\u001b[38;5;124m'\u001b[39m]\u001b[38;5;241m.\u001b[39msum()\n\u001b[0;32m      4\u001b[0m     income \u001b[38;5;241m=\u001b[39m product\u001b[38;5;241m*\u001b[39mBARREL_PRICE\n",
      "File \u001b[1;32mW:\\_PracticumYandex\\practicum\\practicum_env\\lib\\site-packages\\pandas\\util\\_decorators.py:331\u001b[0m, in \u001b[0;36mdeprecate_nonkeyword_arguments.<locals>.decorate.<locals>.wrapper\u001b[1;34m(*args, **kwargs)\u001b[0m\n\u001b[0;32m    325\u001b[0m \u001b[38;5;28;01mif\u001b[39;00m \u001b[38;5;28mlen\u001b[39m(args) \u001b[38;5;241m>\u001b[39m num_allow_args:\n\u001b[0;32m    326\u001b[0m     warnings\u001b[38;5;241m.\u001b[39mwarn(\n\u001b[0;32m    327\u001b[0m         msg\u001b[38;5;241m.\u001b[39mformat(arguments\u001b[38;5;241m=\u001b[39m_format_argument_list(allow_args)),\n\u001b[0;32m    328\u001b[0m         \u001b[38;5;167;01mFutureWarning\u001b[39;00m,\n\u001b[0;32m    329\u001b[0m         stacklevel\u001b[38;5;241m=\u001b[39mfind_stack_level(),\n\u001b[0;32m    330\u001b[0m     )\n\u001b[1;32m--> 331\u001b[0m \u001b[38;5;28;01mreturn\u001b[39;00m func(\u001b[38;5;241m*\u001b[39margs, \u001b[38;5;241m*\u001b[39m\u001b[38;5;241m*\u001b[39mkwargs)\n",
      "\u001b[1;31mTypeError\u001b[0m: sort_values() got an unexpected keyword argument 'by'"
     ]
    }
   ],
   "source": [
    "profit_true = np.zeros((BS_SAMPLES, 1))\n",
    "profit_predict = np.zeros((BS_SAMPLES, 1))\n",
    "for i in range(BS_SAMPLES):\n",
    "    subsamples_index =(derrick1predict.sample(n=INVESTIG_POINTS, replace=True, random_state=state)).index\n",
    "    subsample_true   = derrick1predict['true'].loc[derrick1predict.index.isin(subsamples_index)]\n",
    "    subsample_predict = derrick1predict['predicted'].loc[derrick1predict.index.isin(subsamples_index)]\n",
    "    subsample_true   = derrick1predict.loc[derrick1predict.index.isin(subsamples_index)]\n",
    "    \n",
    "    profit_true[i] = get_profit(subsample_true)\n",
    "    profit_predict[i] = get_profit(subsample_predict)"
   ]
  },
  {
   "cell_type": "code",
   "execution_count": 127,
   "metadata": {},
   "outputs": [
    {
     "data": {
      "image/png": "[encoded data removed]",
      "text/plain": [
       "<Figure size 1080x432 with 1 Axes>"
      ]
     },
     "metadata": {
      "needs_background": "light"
     },
     "output_type": "display_data"
    }
   ],
   "source": [
    "fig, ax = plt.subplots(1, 1, figsize=(15, 6))\n",
    "fig.suptitle('Гистограмма распределения')\n",
    "sns.histplot(data=profit_true, color='tab:orange', ax=ax, bins =25)\n",
    "sns.histplot(data=profit_predict, color='tab:blue', ax=ax, bins = 25)\n",
    "ax.legend(title='product', loc='upper left', labels=['true', 'predicted'])\n",
    "plt.show()"
   ]
  },
  {
   "cell_type": "code",
   "execution_count": 128,
   "metadata": {},
   "outputs": [],
   "source": [
    "alpha = 0.05\n",
    "results = st.ttest_ind(profit_true,\n",
    "                       profit_predict, \n",
    "                       alternative='greater', equal_var=True)"
   ]
  },
  {
   "cell_type": "code",
   "execution_count": 129,
   "metadata": {},
   "outputs": [
    {
     "name": "stdout",
     "output_type": "stream",
     "text": [
      "Значение p-value =  [0.]\n",
      "Отвергаем нулевую гипотезу в пользу альтернативной\n"
     ]
    }
   ],
   "source": [
    "if results.pvalue < alpha:\n",
    "    print('Значение p-value = ', results.pvalue)\n",
    "    print('Отвергаем нулевую гипотезу в пользу альтернативной')\n",
    "else:\n",
    "    print('Значение p-value = ', results.pvalue)\n",
    "    print('Нет оснований отвергнуть нулевую гипотезу ')"
   ]
  },
  {
   "cell_type": "code",
   "execution_count": null,
   "metadata": {},
   "outputs": [],
   "source": []
  },
  {
   "cell_type": "code",
   "execution_count": null,
   "metadata": {},
   "outputs": [],
   "source": []
  },
  {
   "cell_type": "code",
   "execution_count": null,
   "metadata": {},
   "outputs": [],
   "source": []
  },
  {
   "cell_type": "code",
   "execution_count": null,
   "metadata": {},
   "outputs": [],
   "source": []
  },
  {
   "cell_type": "code",
   "execution_count": null,
   "metadata": {},
   "outputs": [],
   "source": []
  },
  {
   "cell_type": "code",
   "execution_count": null,
   "metadata": {},
   "outputs": [],
   "source": []
  },
  {
   "cell_type": "code",
   "execution_count": null,
   "metadata": {},
   "outputs": [],
   "source": []
  },
  {
   "cell_type": "code",
   "execution_count": null,
   "metadata": {},
   "outputs": [],
   "source": []
  },
  {
   "cell_type": "code",
   "execution_count": null,
   "metadata": {},
   "outputs": [],
   "source": []
  },
  {
   "cell_type": "code",
   "execution_count": null,
   "metadata": {},
   "outputs": [],
   "source": [
    "fig, ax = plt.subplots(1, 1, figsize=(15, 6))\n",
    "fig.suptitle('Гистограмма распределения')\n",
    "[sns.histplot(data=derrick2area.loc[derrick2area['product']==0], x='f2', ax=ax[i], color='tab:blue') for i in range(2)]\n",
    "sns.histplot(data=derrick2area, x='f2', color='tab:orange', ax=ax[0])\n",
    "sns.histplot(data=derrick2area.loc[derrick2area['product']<1], x='f2', color='tab:orange', ax=ax[1])\n",
    "[ax[i].set_title('Параметр f2:') for i in range(2)]\n",
    "ax[0].legend(title='product', loc='upper left', labels=['product = 0', 'product = any'])\n",
    "ax[1].legend(title='product', loc='upper left', labels=['product = 0', 'product <1'])\n",
    "plt.show()"
   ]
  },
  {
   "cell_type": "code",
   "execution_count": 71,
   "metadata": {},
   "outputs": [
    {
     "data": {
      "text/plain": [
       "Index(['GBM0x', 'Ol2Lh', 'M2O4g', 'ADOYf', 'ryLaN', 'cE4R3', 'nyWSS', 'x4P8I',\n",
       "       'oBUDk', 'HSyCI',\n",
       "       ...\n",
       "       'lbTin', 'eP2Oy', 'wrFCz', 'BgchO', '4a5mC', 'lkq9L', 'qg7o2', 'Ywi0c',\n",
       "       '3tkNO', '4ePuU'],\n",
       "      dtype='object', name='id', length=500)"
      ]
     },
     "execution_count": 71,
     "metadata": {},
     "output_type": "execute_result"
    }
   ],
   "source": [
    "subsamples_index"
   ]
  },
  {
   "cell_type": "code",
   "execution_count": 73,
   "metadata": {},
   "outputs": [
    {
     "data": {
      "text/plain": [
       "array([0.])"
      ]
     },
     "execution_count": 73,
     "metadata": {},
     "output_type": "execute_result"
    }
   ],
   "source": [
    "profit_true"
   ]
  },
  {
   "cell_type": "code",
   "execution_count": null,
   "metadata": {},
   "outputs": [],
   "source": []
  },
  {
   "cell_type": "code",
   "execution_count": null,
   "metadata": {},
   "outputs": [],
   "source": []
  },
  {
   "cell_type": "code",
   "execution_count": null,
   "metadata": {},
   "outputs": [],
   "source": []
  },
  {
   "cell_type": "code",
   "execution_count": null,
   "metadata": {},
   "outputs": [],
   "source": []
  },
  {
   "cell_type": "markdown",
   "metadata": {},
   "source": [
    " 5.1. Примените технику Bootstrap с 1000 выборок, чтобы найти распределение прибыли.\n",
    " \n",
    " 5.2. Найдите среднюю прибыль, 95%-й доверительный интервал и риск убытков. Убыток — это отрицательная прибыль.\n",
    " \n",
    " 5.3. Напишите выводы: предложите регион для разработки скважин и обоснуйте выбор."
   ]
  },
  {
   "cell_type": "code",
   "execution_count": null,
   "metadata": {},
   "outputs": [],
   "source": [
    "[display(item.head(3)) for item in [derrick1predict, derrick2predict, derrick3predict]];"
   ]
  },
  {
   "cell_type": "code",
   "execution_count": 55,
   "metadata": {},
   "outputs": [
    {
     "ename": "IndexError",
     "evalue": "too many indices for array: array is 0-dimensional, but 1 were indexed",
     "output_type": "error",
     "traceback": [
      "\u001b[1;31m---------------------------------------------------------------------------\u001b[0m",
      "\u001b[1;31mIndexError\u001b[0m                                Traceback (most recent call last)",
      "Cell \u001b[1;32mIn[55], line 1\u001b[0m\n\u001b[1;32m----> 1\u001b[0m \u001b[43mprofit_true\u001b[49m\u001b[43m[\u001b[49m\u001b[38;5;241;43m10\u001b[39;49m\u001b[43m]\u001b[49m\n",
      "\u001b[1;31mIndexError\u001b[0m: too many indices for array: array is 0-dimensional, but 1 were indexed"
     ]
    }
   ],
   "source": [
    "profit_true[10]"
   ]
  },
  {
   "cell_type": "code",
   "execution_count": 56,
   "metadata": {},
   "outputs": [
    {
     "data": {
      "text/plain": [
       "array(1000)"
      ]
     },
     "execution_count": 56,
     "metadata": {},
     "output_type": "execute_result"
    }
   ],
   "source": [
    "profit_true"
   ]
  },
  {
   "cell_type": "code",
   "execution_count": null,
   "metadata": {},
   "outputs": [],
   "source": []
  },
  {
   "cell_type": "code",
   "execution_count": 148,
   "metadata": {},
   "outputs": [],
   "source": [
    "# Константы\n",
    "RANDOM_STATE = 42\n",
    "TEST_SIZE = 0.25         # Размер тестовой выборки\n",
    "INVESTIG_POINTS = 500    # Cкважины при разведки региона\n",
    "CHOSEN_POINTS = 200      # Cкважины для разработки в регионе\n",
    "BS_SAMPLES = 1000        # Кол-во выборок для Bootstrap\n",
    "BUDGET = 10E6            # Бюджет на разработку скважин в регионе\n",
    "BARREL_PRICE = 450       # Цена одного барреля сырья \n",
    "LOSSES_PROP  = 0.025     # Предельная вероятность убытков"
   ]
  },
  {
   "cell_type": "code",
   "execution_count": null,
   "metadata": {},
   "outputs": [],
   "source": []
  },
  {
   "cell_type": "code",
   "execution_count": null,
   "metadata": {},
   "outputs": [],
   "source": []
  },
  {
   "cell_type": "markdown",
   "metadata": {},
   "source": [
    "## Чек-лист готовности проекта"
   ]
  },
  {
   "cell_type": "markdown",
   "metadata": {},
   "source": [
    "Поставьте 'x' в выполненных пунктах. Далее нажмите Shift+Enter."
   ]
  },
  {
   "cell_type": "markdown",
   "metadata": {},
   "source": [
    "- [x]  Jupyter Notebook открыт\n",
    "- [ ]  Весь код выполняется без ошибок\n",
    "- [x]  Ячейки с кодом расположены в порядке исполнения\n",
    "- [x]  Выполнен шаг 1: данные подготовлены\n",
    "- [x]  Выполнен шаг 2: модели обучены и проверены\n",
    "    - [x]  Данные корректно разбиты на обучающую и валидационную выборки\n",
    "    - [x]  Модели обучены, предсказания сделаны\n",
    "    - [x]  Предсказания и правильные ответы на валидационной выборке сохранены\n",
    "    - [x]  На экране напечатаны результаты\n",
    "    - [x]  Сделаны выводы\n",
    "- [x]  Выполнен шаг 3: проведена подготовка к расчёту прибыли\n",
    "    - [x]  Для всех ключевых значений созданы константы Python\n",
    "    - [x]  Посчитано минимальное среднее количество продукта в месторождениях региона, достаточное для разработки\n",
    "    - [x]  По предыдущему пункту сделаны выводы\n",
    "    - [x]  Написана функция расчёта прибыли\n",
    "- [ ]  Выполнен шаг 4: посчитаны риски и прибыль\n",
    "    - [ ]  Проведена процедура *Bootstrap*\n",
    "    - [ ]  Все параметры бутстрепа соответствуют условию\n",
    "    - [ ]  Найдены все нужные величины\n",
    "    - [ ]  Предложен регион для разработки месторождения\n",
    "    - [ ]  Выбор региона обоснован"
   ]
  },
  {
   "cell_type": "code",
   "execution_count": null,
   "metadata": {},
   "outputs": [],
   "source": []
  },
  {
   "cell_type": "markdown",
   "metadata": {},
   "source": [
    "## Балуемся плюшками"
   ]
  },
  {
   "cell_type": "markdown",
   "metadata": {},
   "source": [
    "Dependences are fundamental to record the computational environment."
   ]
  },
  {
   "cell_type": "code",
   "execution_count": 41,
   "metadata": {},
   "outputs": [
    {
     "name": "stdout",
     "output_type": "stream",
     "text": [
      "alembic==1.13.0\n",
      "altair==5.1.2\n",
      "annotated-types==0.6.0\n",
      "anyio==3.7.1\n",
      "argon2-cffi==23.1.0\n",
      "argon2-cffi-bindings==21.2.0\n",
      "arrow==1.2.3\n",
      "asttokens==2.2.1\n",
      "async-lru==2.0.4\n",
      "attrs==23.1.0\n",
      "autopep8==2.0.4\n",
      "Babel==2.12.1\n",
      "backcall==0.2.0\n",
      "beautifulsoup4==4.12.2\n",
      "bleach==6.0.0\n",
      "blinker==1.4\n",
      "catboost==1.2.2\n",
      "certifi==2023.7.22\n",
      "cffi==1.15.1\n",
      "charset-normalizer==3.2.0\n",
      "cloudpickle==3.0.0\n",
      "colorama==0.4.6\n",
      "colorlog==6.8.0\n",
      "comm==0.1.4\n",
      "contourpy==1.1.0\n",
      "cycler==0.11.0\n",
      "cymem==2.0.6\n",
      "dacite==1.8.1\n",
      "dash-core-components==2.0.0\n",
      "dash-html-components==2.0.0\n",
      "dash-table==5.0.0\n",
      "DAWG-Python==0.7.2\n",
      "debugpy==1.6.7.post1\n",
      "decorator==5.1.1\n",
      "defusedxml==0.7.1\n",
      "docopt==0.6.2\n",
      "exceptiongroup==1.1.3\n",
      "executing==1.2.0\n",
      "fastjsonschema==2.18.0\n",
      "findspark==1.4.2\n",
      "flatbuffers==2.0.7\n",
      "fonttools==4.42.1\n",
      "fqdn==1.5.1\n",
      "fuzzywuzzy==0.18.0\n",
      "gitdb==4.0.11\n",
      "GitPython==3.1.40\n",
      "graphviz==0.20.1\n",
      "greenlet==3.0.2\n",
      "h5py==3.9.0\n",
      "htmlmin==0.1.12\n",
      "idna==3.4\n",
      "ImageHash==4.3.1\n",
      "importlib-metadata==6.8.0\n",
      "importlib-resources==6.0.1\n",
      "ipykernel==6.25.1\n",
      "ipython==8.14.0\n",
      "ipython-genutils==0.2.0\n",
      "ipywidgets==8.1.1\n",
      "iso3166==2.1.1\n",
      "isoduration==20.11.0\n",
      "jedi==0.19.0\n",
      "Jinja2==3.1.2\n",
      "joblib==1.3.2\n",
      "json5==0.9.5\n",
      "jsonpointer==2.4\n",
      "jsonschema==4.19.0\n",
      "jsonschema-specifications==2023.7.1\n",
      "jupyter-contrib-core==0.4.2\n",
      "jupyter-contrib-nbextensions==0.7.0\n",
      "jupyter-events==0.7.0\n",
      "jupyter-highlight-selected-word==0.2.0\n",
      "jupyter-lsp==2.2.0\n",
      "jupyter-nbextensions-configurator==0.6.3\n",
      "jupyter-server-mathjax==0.2.6\n",
      "jupyter_client==8.3.0\n",
      "jupyter_core==5.3.1\n",
      "jupyter_server==2.7.3\n",
      "jupyter_server_terminals==0.4.4\n",
      "jupyterlab==4.0.9\n",
      "jupyterlab-pygments==0.2.2\n",
      "jupyterlab-widgets==3.0.9\n",
      "jupyterlab_git==0.50.0\n",
      "jupyterlab_server==2.24.0\n",
      "keras==2.7.0\n",
      "kiwisolver==1.4.5\n",
      "korean-lunar-calendar==0.2.1\n",
      "libclang==14.0.6\n",
      "llvmlite==0.41.1\n",
      "lux-api==0.5.1\n",
      "lux-widget==0.1.11\n",
      "lxml==4.9.3\n",
      "Mako==1.3.0\n",
      "MarkupSafe==2.1.1\n",
      "matplotlib==3.7.3\n",
      "matplotlib-inline==0.1.2\n",
      "missingno==0.5.2\n",
      "mistune==3.0.1\n",
      "mlxtend==0.23.0\n",
      "multimethod==1.10\n",
      "murmurhash==1.0.8\n",
      "nbclassic==0.5.6\n",
      "nbclient==0.8.0\n",
      "nbconvert==7.7.4\n",
      "nbdime==4.0.1\n",
      "nbformat==5.9.2\n",
      "nest-asyncio==1.5.1\n",
      "networkx==3.2.1\n",
      "notebook==7.0.3\n",
      "notebook_shim==0.2.3\n",
      "numba==0.58.1\n",
      "numpy==1.25.2\n",
      "oauthlib==3.1.1\n",
      "optuna==3.5.0\n",
      "overrides==7.4.0\n",
      "packaging==23.1\n",
      "pamela==1.0.0\n",
      "pandas==2.0.3\n",
      "pandas-profiling==3.6.6\n",
      "pandocfilters==1.4.2\n",
      "parso==0.8.3\n",
      "patsy==0.5.3\n",
      "pexpect==4.8.0\n",
      "phik==0.11.1\n",
      "pickleshare==0.7.5\n",
      "Pillow==8.4.0\n",
      "pipdeptree==2.13.1\n",
      "platformdirs==3.10.0\n",
      "plotly==5.18.0\n",
      "prometheus-client==0.11.0\n",
      "prompt-toolkit==3.0.39\n",
      "protobuf==3.19.4\n",
      "psutil==5.9.5\n",
      "psycopg2-binary==2.9.2\n",
      "ptyprocess==0.7.0\n",
      "pure-eval==0.2.2\n",
      "py4j==0.10.9\n",
      "pyasn1==0.4.8\n",
      "pyasn1-modules==0.2.8\n",
      "pycodestyle==2.11.1\n",
      "pycosat==0.6.3\n",
      "pycparser==2.20\n",
      "pydantic==2.4.2\n",
      "pydantic-settings==2.0.3\n",
      "pydantic_core==2.10.1\n",
      "Pygments==2.9.0\n",
      "PyJWT==2.1.0\n",
      "PyMeeus==0.5.11\n",
      "pymorphy2==0.9.1\n",
      "pymorphy2-dicts-ru==2.4.417127.4579844\n",
      "pyparsing==2.4.7\n",
      "pyrsistent==0.19.3\n",
      "PySocks==1.7.1\n",
      "pyspark==3.0.2\n",
      "python-dateutil==2.8.2\n",
      "python-dotenv==1.0.0\n",
      "python-editor==1.0.4\n",
      "python-json-logger==2.0.7\n",
      "pytz==2021.1\n",
      "PyWavelets==1.4.1\n",
      "pywin32==306\n",
      "pywinpty==2.0.11\n",
      "PyYAML==6.0\n",
      "pyzmq==25.1.1\n",
      "referencing==0.30.2\n",
      "regex==2022.8.17\n",
      "requests==2.31.0\n",
      "retrying==1.3.4\n",
      "rfc3339-validator==0.1.4\n",
      "rfc3986-validator==0.1.1\n",
      "rpds-py==0.9.2\n",
      "rsa==4.9\n",
      "ruamel.yaml==0.17.10\n",
      "ruamel.yaml.clib==0.2.2\n",
      "scikit-learn==1.1.3\n",
      "scipy==1.11.2\n",
      "seaborn==0.12.2\n",
      "Send2Trash==1.8.2\n",
      "sh==2.0.6\n",
      "shap==0.44.0\n",
      "shapely==2.0.2\n",
      "six==1.16.0\n",
      "slicer==0.0.7\n",
      "smart-open==5.2.1\n",
      "smmap==5.0.1\n",
      "sniffio==1.2.0\n",
      "soupsieve==2.3.2.post1\n",
      "spacy-legacy==3.0.10\n",
      "spacy-loggers==1.0.3\n",
      "SQLAlchemy==2.0.23\n",
      "stack-data==0.6.2\n",
      "statsmodels==0.14.0\n",
      "tangled-up-in-unicode==0.2.0\n",
      "tenacity==8.0.1\n",
      "tensorboard-data-server==0.6.1\n",
      "tensorboard-plugin-wit==1.8.1\n",
      "tensorflow-estimator==2.7.0\n",
      "tensorflow-io-gcs-filesystem==0.26.0\n",
      "termcolor==1.1.0\n",
      "terminado==0.10.1\n",
      "testpath==0.5.0\n",
      "threadpoolctl==3.1.0\n",
      "tinycss2==1.2.1\n",
      "tokenizers==0.10.3\n",
      "tomli==2.0.1\n",
      "toolz==0.12.0\n",
      "tornado==6.3.3\n",
      "tqdm==4.61.2\n",
      "traitlets==5.9.0\n",
      "typeguard==4.1.5\n",
      "typing_extensions==4.8.0\n",
      "tzdata==2023.3\n",
      "uri-template==1.3.0\n",
      "urllib3==1.26.6\n",
      "visions==0.7.5\n",
      "wasabi==0.10.1\n",
      "watermark==2.4.3\n",
      "wcwidth==0.2.5\n",
      "webcolors==1.13\n",
      "webencodings==0.5.1\n",
      "websocket-client==0.57.0\n",
      "widgetsnbextension==4.0.9\n",
      "wordcloud==1.9.2\n",
      "wrapt==1.14.1\n",
      "xlrd==2.0.1\n",
      "xmltodict==0.12.0\n",
      "ydata-profiling==4.6.1\n",
      "zipp==3.5.0\n"
     ]
    },
    {
     "name": "stderr",
     "output_type": "stream",
     "text": [
      "WARNING: Ignoring invalid distribution -atplotlib (w:\\_practicumyandex\\practicum\\practicum_env\\lib\\site-packages)\n"
     ]
    }
   ],
   "source": [
    "!pip freeze"
   ]
  }
 ],
 "metadata": {
  "kernelspec": {
   "display_name": "Python 3 (ipykernel)",
   "language": "python",
   "name": "python3"
  },
  "language_info": {
   "codemirror_mode": {
    "name": "ipython",
    "version": 3
   },
   "file_extension": ".py",
   "mimetype": "text/x-python",
   "name": "python",
   "nbconvert_exporter": "python",
   "pygments_lexer": "ipython3",
   "version": "3.9.7"
  },
  "toc": {
   "base_numbering": 1,
   "nav_menu": {},
   "number_sections": true,
   "sideBar": true,
   "skip_h1_title": true,
   "title_cell": "Table of Contents",
   "title_sidebar": "Contents",
   "toc_cell": false,
   "toc_position": {},
   "toc_section_display": true,
   "toc_window_display": false
  }
 },
 "nbformat": 4,
 "nbformat_minor": 4
}
