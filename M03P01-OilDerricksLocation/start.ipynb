{
 "cells": [
  {
   "cell_type": "markdown",
   "metadata": {},
   "source": [
    "# Выбор локации для скважины"
   ]
  },
  {
   "cell_type": "markdown",
   "metadata": {},
   "source": [
    "Допустим, вы работаете в добывающей компании «ГлавРосГосНефть». Нужно решить, где бурить новую скважину.\n",
    "\n",
    "Вам предоставлены пробы нефти в трёх регионах: в каждом 10 000 месторождений, где измерили качество нефти и объём её запасов. Постройте модель машинного обучения, которая поможет определить регион, где добыча принесёт наибольшую прибыль. Проанализируйте возможную прибыль и риски техникой *Bootstrap.*\n",
    "\n",
    "Шаги для выбора локации:\n",
    "\n",
    "- В избранном регионе ищут месторождения, для каждого определяют значения признаков;\n",
    "- Строят модель и оценивают объём запасов;\n",
    "- Выбирают месторождения с самым высокими оценками значений. Количество месторождений зависит от бюджета компании и стоимости разработки одной скважины;\n",
    "- Прибыль равна суммарной прибыли отобранных месторождений."
   ]
  },
  {
   "cell_type": "markdown",
   "metadata": {},
   "source": [
    "Загрузка необходимых библиотек:"
   ]
  },
  {
   "cell_type": "code",
   "execution_count": 1,
   "metadata": {},
   "outputs": [
    {
     "name": "stderr",
     "output_type": "stream",
     "text": [
      "WARNING: Ignoring invalid distribution -atplotlib (w:\\_practicumyandex\\practicum\\practicum_env\\lib\\site-packages)\n",
      "WARNING: Ignoring invalid distribution -atplotlib (w:\\_practicumyandex\\practicum\\practicum_env\\lib\\site-packages)\n",
      "WARNING: Ignoring invalid distribution -atplotlib (w:\\_practicumyandex\\practicum\\practicum_env\\lib\\site-packages)\n",
      "WARNING: Ignoring invalid distribution -atplotlib (w:\\_practicumyandex\\practicum\\practicum_env\\lib\\site-packages)\n",
      "WARNING: Ignoring invalid distribution -atplotlib (w:\\_practicumyandex\\practicum\\practicum_env\\lib\\site-packages)\n",
      "WARNING: Ignoring invalid distribution -atplotlib (w:\\_practicumyandex\\practicum\\practicum_env\\lib\\site-packages)\n"
     ]
    }
   ],
   "source": [
    "!pip install -q phik==0.11.1\n",
    "!pip install -q scikit-learn==1.1.3\n",
    "!pip install -q shap"
   ]
  },
  {
   "cell_type": "code",
   "execution_count": 5,
   "metadata": {},
   "outputs": [],
   "source": [
    "import pandas as pd\n",
    "import seaborn as sns\n",
    "import numpy as np\n",
    "import matplotlib.pyplot as plt\n",
    "from scipy.stats import shapiro\n",
    "from scipy import stats as st\n",
    "import phik\n",
    "import shap"
   ]
  },
  {
   "cell_type": "code",
   "execution_count": 2,
   "metadata": {},
   "outputs": [],
   "source": [
    "# подготовка данных\n",
    "from sklearn.model_selection import train_test_split\n",
    "# модели\n",
    "from sklearn.linear_model import LinearRegression\n",
    "from sklearn.dummy import DummyRegressor\n",
    "# pipeline\n",
    "from sklearn.pipeline import Pipeline\n",
    "from sklearn.compose import ColumnTransformer\n",
    "from sklearn.impute import SimpleImputer\n",
    "from sklearn.preprocessing import StandardScaler, MinMaxScaler, RobustScaler, QuantileTransformer, PolynomialFeatures\n",
    "# метрики регрессии\n",
    "from sklearn.metrics import mean_absolute_error"
   ]
  },
  {
   "cell_type": "code",
   "execution_count": 3,
   "metadata": {},
   "outputs": [],
   "source": [
    "# Константы\n",
    "RANDOM_STATE = 42\n",
    "TEST_SIZE = 0.25         # Размер тестовой выборки\n",
    "INVESTIG_POINTS = 500    # Cкважины при разведки региона\n",
    "CHOSEN_POINTS = 200      # Cкважины для разработки в регионе\n",
    "BS_SAMPLES = 1000        # Кол-во выборок для Bootstrap\n",
    "BUDGET = 10E6            # Бюджет на разработку скважин в регионе\n",
    "BARREL_PRICE = 450       # Цена одного барреля сырья \n",
    "LOSSES_PROP  = 0.025     # Предельная вероятность убытков"
   ]
  },
  {
   "cell_type": "markdown",
   "metadata": {},
   "source": [
    "## Загрузка и подготовка данных"
   ]
  },
  {
   "cell_type": "markdown",
   "metadata": {},
   "source": [
    "Чтение исходных данных в таблицы:"
   ]
  },
  {
   "cell_type": "code",
   "execution_count": 6,
   "metadata": {},
   "outputs": [],
   "source": [
    "try:\n",
    "    derrick1area = pd.read_csv('geo_data_0.csv')\n",
    "    derrick2area = pd.read_csv('geo_data_1.csv')\n",
    "    derrick3area = pd.read_csv('geo_data_2.csv')\n",
    "except:\n",
    "    derrick1area = pd.read_csv('/datasets/geo_data_0.csv')\n",
    "    derrick2area = pd.read_csv('/datasets/geo_data_1.csv')\n",
    "    derrick3area = pd.read_csv('/datasets/geo_data_2.csv')"
   ]
  },
  {
   "cell_type": "markdown",
   "metadata": {},
   "source": [
    "Выполним небольшую предобработку данных, хотя данные не разнообразны и скорее всего проблем нет."
   ]
  },
  {
   "cell_type": "code",
   "execution_count": 74,
   "metadata": {},
   "outputs": [],
   "source": [
    "table_set = [derrick1area, derrick2area, derrick3area]\n",
    "table_names =  ['группа скважин-1', 'группа скважин-2', 'группа скважин-3']"
   ]
  },
  {
   "cell_type": "code",
   "execution_count": 8,
   "metadata": {},
   "outputs": [
    {
     "data": {
      "text/html": [
       "<div>\n",
       "<style scoped>\n",
       "    .dataframe tbody tr th:only-of-type {\n",
       "        vertical-align: middle;\n",
       "    }\n",
       "\n",
       "    .dataframe tbody tr th {\n",
       "        vertical-align: top;\n",
       "    }\n",
       "\n",
       "    .dataframe thead th {\n",
       "        text-align: right;\n",
       "    }\n",
       "</style>\n",
       "<table border=\"1\" class=\"dataframe\">\n",
       "  <thead>\n",
       "    <tr style=\"text-align: right;\">\n",
       "      <th></th>\n",
       "      <th>id</th>\n",
       "      <th>f0</th>\n",
       "      <th>f1</th>\n",
       "      <th>f2</th>\n",
       "      <th>product</th>\n",
       "    </tr>\n",
       "  </thead>\n",
       "  <tbody>\n",
       "    <tr>\n",
       "      <th>2908</th>\n",
       "      <td>nt6bd</td>\n",
       "      <td>-0.874045</td>\n",
       "      <td>0.661676</td>\n",
       "      <td>-3.119213</td>\n",
       "      <td>85.118805</td>\n",
       "    </tr>\n",
       "    <tr>\n",
       "      <th>32059</th>\n",
       "      <td>C87yu</td>\n",
       "      <td>0.867150</td>\n",
       "      <td>0.376228</td>\n",
       "      <td>2.241822</td>\n",
       "      <td>132.978567</td>\n",
       "    </tr>\n",
       "    <tr>\n",
       "      <th>44977</th>\n",
       "      <td>K2SDx</td>\n",
       "      <td>1.973347</td>\n",
       "      <td>0.166630</td>\n",
       "      <td>0.424568</td>\n",
       "      <td>22.483404</td>\n",
       "    </tr>\n",
       "  </tbody>\n",
       "</table>\n",
       "</div>"
      ],
      "text/plain": [
       "          id        f0        f1        f2     product\n",
       "2908   nt6bd -0.874045  0.661676 -3.119213   85.118805\n",
       "32059  C87yu  0.867150  0.376228  2.241822  132.978567\n",
       "44977  K2SDx  1.973347  0.166630  0.424568   22.483404"
      ]
     },
     "metadata": {},
     "output_type": "display_data"
    },
    {
     "data": {
      "text/html": [
       "<div>\n",
       "<style scoped>\n",
       "    .dataframe tbody tr th:only-of-type {\n",
       "        vertical-align: middle;\n",
       "    }\n",
       "\n",
       "    .dataframe tbody tr th {\n",
       "        vertical-align: top;\n",
       "    }\n",
       "\n",
       "    .dataframe thead th {\n",
       "        text-align: right;\n",
       "    }\n",
       "</style>\n",
       "<table border=\"1\" class=\"dataframe\">\n",
       "  <thead>\n",
       "    <tr style=\"text-align: right;\">\n",
       "      <th></th>\n",
       "      <th>id</th>\n",
       "      <th>f0</th>\n",
       "      <th>f1</th>\n",
       "      <th>f2</th>\n",
       "      <th>product</th>\n",
       "    </tr>\n",
       "  </thead>\n",
       "  <tbody>\n",
       "    <tr>\n",
       "      <th>49225</th>\n",
       "      <td>8VtWc</td>\n",
       "      <td>-9.240382</td>\n",
       "      <td>0.657135</td>\n",
       "      <td>4.000060</td>\n",
       "      <td>110.992147</td>\n",
       "    </tr>\n",
       "    <tr>\n",
       "      <th>2546</th>\n",
       "      <td>jVLcQ</td>\n",
       "      <td>-6.737055</td>\n",
       "      <td>-13.116626</td>\n",
       "      <td>5.003143</td>\n",
       "      <td>137.945408</td>\n",
       "    </tr>\n",
       "    <tr>\n",
       "      <th>57615</th>\n",
       "      <td>503Sp</td>\n",
       "      <td>7.762190</td>\n",
       "      <td>1.264216</td>\n",
       "      <td>4.005840</td>\n",
       "      <td>107.813044</td>\n",
       "    </tr>\n",
       "  </tbody>\n",
       "</table>\n",
       "</div>"
      ],
      "text/plain": [
       "          id        f0         f1        f2     product\n",
       "49225  8VtWc -9.240382   0.657135  4.000060  110.992147\n",
       "2546   jVLcQ -6.737055 -13.116626  5.003143  137.945408\n",
       "57615  503Sp  7.762190   1.264216  4.005840  107.813044"
      ]
     },
     "metadata": {},
     "output_type": "display_data"
    },
    {
     "data": {
      "text/html": [
       "<div>\n",
       "<style scoped>\n",
       "    .dataframe tbody tr th:only-of-type {\n",
       "        vertical-align: middle;\n",
       "    }\n",
       "\n",
       "    .dataframe tbody tr th {\n",
       "        vertical-align: top;\n",
       "    }\n",
       "\n",
       "    .dataframe thead th {\n",
       "        text-align: right;\n",
       "    }\n",
       "</style>\n",
       "<table border=\"1\" class=\"dataframe\">\n",
       "  <thead>\n",
       "    <tr style=\"text-align: right;\">\n",
       "      <th></th>\n",
       "      <th>id</th>\n",
       "      <th>f0</th>\n",
       "      <th>f1</th>\n",
       "      <th>f2</th>\n",
       "      <th>product</th>\n",
       "    </tr>\n",
       "  </thead>\n",
       "  <tbody>\n",
       "    <tr>\n",
       "      <th>47459</th>\n",
       "      <td>IyiGf</td>\n",
       "      <td>0.800114</td>\n",
       "      <td>-0.884744</td>\n",
       "      <td>-0.326466</td>\n",
       "      <td>40.025114</td>\n",
       "    </tr>\n",
       "    <tr>\n",
       "      <th>15029</th>\n",
       "      <td>x2ugd</td>\n",
       "      <td>-0.394270</td>\n",
       "      <td>0.001358</td>\n",
       "      <td>3.506762</td>\n",
       "      <td>0.790283</td>\n",
       "    </tr>\n",
       "    <tr>\n",
       "      <th>32247</th>\n",
       "      <td>Av7V0</td>\n",
       "      <td>-0.383178</td>\n",
       "      <td>-1.009464</td>\n",
       "      <td>3.073947</td>\n",
       "      <td>82.828308</td>\n",
       "    </tr>\n",
       "  </tbody>\n",
       "</table>\n",
       "</div>"
      ],
      "text/plain": [
       "          id        f0        f1        f2    product\n",
       "47459  IyiGf  0.800114 -0.884744 -0.326466  40.025114\n",
       "15029  x2ugd -0.394270  0.001358  3.506762   0.790283\n",
       "32247  Av7V0 -0.383178 -1.009464  3.073947  82.828308"
      ]
     },
     "metadata": {},
     "output_type": "display_data"
    }
   ],
   "source": [
    "[display(item.sample(3)) for item in table_set];   "
   ]
  },
  {
   "cell_type": "markdown",
   "metadata": {},
   "source": [
    " - Все таблицы содержат одинаковые столбцы, в том числе id номер скважины;\n",
    " - Все основные данные числовые непрерывные."
   ]
  },
  {
   "cell_type": "code",
   "execution_count": 9,
   "metadata": {},
   "outputs": [
    {
     "name": "stdout",
     "output_type": "stream",
     "text": [
      "<class 'pandas.core.frame.DataFrame'>\n",
      "RangeIndex: 100000 entries, 0 to 99999\n",
      "Data columns (total 5 columns):\n",
      " #   Column   Non-Null Count   Dtype  \n",
      "---  ------   --------------   -----  \n",
      " 0   id       100000 non-null  object \n",
      " 1   f0       100000 non-null  float64\n",
      " 2   f1       100000 non-null  float64\n",
      " 3   f2       100000 non-null  float64\n",
      " 4   product  100000 non-null  float64\n",
      "dtypes: float64(4), object(1)\n",
      "memory usage: 3.8+ MB\n",
      "<class 'pandas.core.frame.DataFrame'>\n",
      "RangeIndex: 100000 entries, 0 to 99999\n",
      "Data columns (total 5 columns):\n",
      " #   Column   Non-Null Count   Dtype  \n",
      "---  ------   --------------   -----  \n",
      " 0   id       100000 non-null  object \n",
      " 1   f0       100000 non-null  float64\n",
      " 2   f1       100000 non-null  float64\n",
      " 3   f2       100000 non-null  float64\n",
      " 4   product  100000 non-null  float64\n",
      "dtypes: float64(4), object(1)\n",
      "memory usage: 3.8+ MB\n",
      "<class 'pandas.core.frame.DataFrame'>\n",
      "RangeIndex: 100000 entries, 0 to 99999\n",
      "Data columns (total 5 columns):\n",
      " #   Column   Non-Null Count   Dtype  \n",
      "---  ------   --------------   -----  \n",
      " 0   id       100000 non-null  object \n",
      " 1   f0       100000 non-null  float64\n",
      " 2   f1       100000 non-null  float64\n",
      " 3   f2       100000 non-null  float64\n",
      " 4   product  100000 non-null  float64\n",
      "dtypes: float64(4), object(1)\n",
      "memory usage: 3.8+ MB\n"
     ]
    }
   ],
   "source": [
    "[item.info() for item in table_set];"
   ]
  },
  {
   "cell_type": "markdown",
   "metadata": {},
   "source": [
    " - Пропусков в данных нет"
   ]
  },
  {
   "cell_type": "markdown",
   "metadata": {},
   "source": [
    "Проверим данные на наличие явных дубликатов:"
   ]
  },
  {
   "cell_type": "code",
   "execution_count": 10,
   "metadata": {},
   "outputs": [
    {
     "name": "stdout",
     "output_type": "stream",
     "text": [
      "Количество дубликатов по таблицам: \" группа скажин-1 \" 0\n",
      "Количество дубликатов по таблицам: \" группа скажин-2 \" 0\n",
      "Количество дубликатов по таблицам: \" группа скажин-3 \" 0\n"
     ]
    }
   ],
   "source": [
    "[print('Количество дубликатов по таблицам:', '\"', table_names[i], '\"' ,item.duplicated().sum()) for i, item in enumerate(table_set)]; "
   ]
  },
  {
   "cell_type": "markdown",
   "metadata": {},
   "source": [
    " - Явных дубликатов нет"
   ]
  },
  {
   "cell_type": "markdown",
   "metadata": {},
   "source": [
    "Возможно оставить индексацию по номеру, а можно перейти к индексации по 'id' - что имеет больше смысла (в том числе сразу исключаем id из списка признаков при обучении модели - это не проблема но что тянуть)"
   ]
  },
  {
   "cell_type": "code",
   "execution_count": 11,
   "metadata": {},
   "outputs": [],
   "source": [
    "[item.set_index('id', inplace=True) for item in table_set];"
   ]
  },
  {
   "cell_type": "code",
   "execution_count": 12,
   "metadata": {},
   "outputs": [],
   "source": [
    "table_set = [derrick1area, derrick2area, derrick3area];"
   ]
  },
  {
   "cell_type": "markdown",
   "metadata": {},
   "source": [
    "Проверим на дубликаты в данных еще раз без учета 'id' потому, что он не является значимым признаком, а чтобы не переобучить модель на тренеровочной выборке их не должно быть. Хотя на выборки делим позже, но проверить сейчас нам ничего не мешает."
   ]
  },
  {
   "cell_type": "code",
   "execution_count": 13,
   "metadata": {},
   "outputs": [
    {
     "name": "stdout",
     "output_type": "stream",
     "text": [
      "Количество дубликатов по таблицам: \" группа скажин-1 \" 0\n",
      "Количество дубликатов по таблицам: \" группа скажин-2 \" 0\n",
      "Количество дубликатов по таблицам: \" группа скажин-3 \" 0\n"
     ]
    }
   ],
   "source": [
    "[print('Количество дубликатов по таблицам:', '\"', table_names[i], '\"' ,item.duplicated().sum()) for i, item in enumerate(table_set)]; "
   ]
  },
  {
   "cell_type": "markdown",
   "metadata": {},
   "source": [
    " - И здесь явных дубликатов нет"
   ]
  },
  {
   "cell_type": "markdown",
   "metadata": {},
   "source": [
    "Исследуем распределение признаков скважин по месторождениям."
   ]
  },
  {
   "cell_type": "code",
   "execution_count": 13,
   "metadata": {},
   "outputs": [
    {
     "data": {
      "image/png": "[encoded data removed]",
      "text/plain": [
       "<Figure size 1800x432 with 3 Axes>"
      ]
     },
     "metadata": {
      "needs_background": "light"
     },
     "output_type": "display_data"
    }
   ],
   "source": [
    "cols = ['f0', 'f1', 'f2']\n",
    "n = len(cols)\n",
    "fig, ax = plt.subplots(1, n, figsize=(25, 6))\n",
    "fig.suptitle('Диграмма разброса')\n",
    "boxprops = dict(facecolor = \"lightblue\")\n",
    "for i, col in enumerate(cols):\n",
    "    dic = {}\n",
    "    for j in range(3):\n",
    "        dic[table_names[j]]=table_set[j][col]\n",
    "    ax[i].boxplot(dic.values(), patch_artist = True, boxprops= boxprops)\n",
    "    ax[i].set_xticklabels(dic.keys())\n",
    "    ax[i].set_title('Диаграммма разбоса параметра: '+ cols[i])\n",
    "    ax[i].grid()\n",
    "plt.show()"
   ]
  },
  {
   "cell_type": "markdown",
   "metadata": {},
   "source": [
    "Интересно, что все группы скважин различаются, при этом группа 1 и группа 3 более \"похожи\" друг на друга."
   ]
  },
  {
   "cell_type": "markdown",
   "metadata": {},
   "source": [
    "Посмотрим что с целевым признаком:"
   ]
  },
  {
   "cell_type": "code",
   "execution_count": 14,
   "metadata": {},
   "outputs": [
    {
     "data": {
      "image/png": "[encoded data removed]",
      "text/plain": [
       "<Figure size 1800x432 with 1 Axes>"
      ]
     },
     "metadata": {
      "needs_background": "light"
     },
     "output_type": "display_data"
    }
   ],
   "source": [
    "cols = 'product'\n",
    "fig, ax = plt.subplots(1, 1, figsize=(25, 6))\n",
    "fig.suptitle('Диграмма разброса')\n",
    "boxprops = dict(facecolor = \"lightblue\")\n",
    "dic = {}\n",
    "for j in range(3):\n",
    "    dic[table_names[j]]=table_set[j][cols]\n",
    "ax.boxplot(dic.values(), patch_artist = True, boxprops= boxprops)\n",
    "ax.set_xticklabels(dic.keys())\n",
    "ax.set_title('Диаграммма разбоса параметра: '+ cols)\n",
    "ax.grid()\n",
    "plt.show()"
   ]
  },
  {
   "cell_type": "markdown",
   "metadata": {},
   "source": [
    "- В принципе можно сразу сказать, что в среднем произодство для второй группы скважин будет ниже чем для первой и третьей;\n",
    "- Первая и третья группа как по распределению признаков так и целевого значения похожи - нужно посмотреть что сможет спрогнозировать модель."
   ]
  },
  {
   "cell_type": "markdown",
   "metadata": {},
   "source": [
    "Выведем описание числовых столбцов"
   ]
  },
  {
   "cell_type": "code",
   "execution_count": 16,
   "metadata": {},
   "outputs": [
    {
     "data": {
      "text/html": [
       "<div>\n",
       "<style scoped>\n",
       "    .dataframe tbody tr th:only-of-type {\n",
       "        vertical-align: middle;\n",
       "    }\n",
       "\n",
       "    .dataframe tbody tr th {\n",
       "        vertical-align: top;\n",
       "    }\n",
       "\n",
       "    .dataframe thead th {\n",
       "        text-align: right;\n",
       "    }\n",
       "</style>\n",
       "<table border=\"1\" class=\"dataframe\">\n",
       "  <thead>\n",
       "    <tr style=\"text-align: right;\">\n",
       "      <th></th>\n",
       "      <th>f0</th>\n",
       "      <th>f1</th>\n",
       "      <th>f2</th>\n",
       "      <th>product</th>\n",
       "    </tr>\n",
       "  </thead>\n",
       "  <tbody>\n",
       "    <tr>\n",
       "      <th>count</th>\n",
       "      <td>100000.000000</td>\n",
       "      <td>100000.000000</td>\n",
       "      <td>100000.000000</td>\n",
       "      <td>100000.000000</td>\n",
       "    </tr>\n",
       "    <tr>\n",
       "      <th>mean</th>\n",
       "      <td>0.500419</td>\n",
       "      <td>0.250143</td>\n",
       "      <td>2.502647</td>\n",
       "      <td>92.500000</td>\n",
       "    </tr>\n",
       "    <tr>\n",
       "      <th>std</th>\n",
       "      <td>0.871832</td>\n",
       "      <td>0.504433</td>\n",
       "      <td>3.248248</td>\n",
       "      <td>44.288691</td>\n",
       "    </tr>\n",
       "    <tr>\n",
       "      <th>min</th>\n",
       "      <td>-1.408605</td>\n",
       "      <td>-0.848218</td>\n",
       "      <td>-12.088328</td>\n",
       "      <td>0.000000</td>\n",
       "    </tr>\n",
       "    <tr>\n",
       "      <th>25%</th>\n",
       "      <td>-0.072580</td>\n",
       "      <td>-0.200881</td>\n",
       "      <td>0.287748</td>\n",
       "      <td>56.497507</td>\n",
       "    </tr>\n",
       "    <tr>\n",
       "      <th>50%</th>\n",
       "      <td>0.502360</td>\n",
       "      <td>0.250252</td>\n",
       "      <td>2.515969</td>\n",
       "      <td>91.849972</td>\n",
       "    </tr>\n",
       "    <tr>\n",
       "      <th>75%</th>\n",
       "      <td>1.073581</td>\n",
       "      <td>0.700646</td>\n",
       "      <td>4.715088</td>\n",
       "      <td>128.564089</td>\n",
       "    </tr>\n",
       "    <tr>\n",
       "      <th>max</th>\n",
       "      <td>2.362331</td>\n",
       "      <td>1.343769</td>\n",
       "      <td>16.003790</td>\n",
       "      <td>185.364347</td>\n",
       "    </tr>\n",
       "  </tbody>\n",
       "</table>\n",
       "</div>"
      ],
      "text/plain": [
       "                  f0             f1             f2        product\n",
       "count  100000.000000  100000.000000  100000.000000  100000.000000\n",
       "mean        0.500419       0.250143       2.502647      92.500000\n",
       "std         0.871832       0.504433       3.248248      44.288691\n",
       "min        -1.408605      -0.848218     -12.088328       0.000000\n",
       "25%        -0.072580      -0.200881       0.287748      56.497507\n",
       "50%         0.502360       0.250252       2.515969      91.849972\n",
       "75%         1.073581       0.700646       4.715088     128.564089\n",
       "max         2.362331       1.343769      16.003790     185.364347"
      ]
     },
     "metadata": {},
     "output_type": "display_data"
    },
    {
     "data": {
      "text/html": [
       "<div>\n",
       "<style scoped>\n",
       "    .dataframe tbody tr th:only-of-type {\n",
       "        vertical-align: middle;\n",
       "    }\n",
       "\n",
       "    .dataframe tbody tr th {\n",
       "        vertical-align: top;\n",
       "    }\n",
       "\n",
       "    .dataframe thead th {\n",
       "        text-align: right;\n",
       "    }\n",
       "</style>\n",
       "<table border=\"1\" class=\"dataframe\">\n",
       "  <thead>\n",
       "    <tr style=\"text-align: right;\">\n",
       "      <th></th>\n",
       "      <th>f0</th>\n",
       "      <th>f1</th>\n",
       "      <th>f2</th>\n",
       "      <th>product</th>\n",
       "    </tr>\n",
       "  </thead>\n",
       "  <tbody>\n",
       "    <tr>\n",
       "      <th>count</th>\n",
       "      <td>100000.000000</td>\n",
       "      <td>100000.000000</td>\n",
       "      <td>100000.000000</td>\n",
       "      <td>100000.000000</td>\n",
       "    </tr>\n",
       "    <tr>\n",
       "      <th>mean</th>\n",
       "      <td>1.141296</td>\n",
       "      <td>-4.796579</td>\n",
       "      <td>2.494541</td>\n",
       "      <td>68.825000</td>\n",
       "    </tr>\n",
       "    <tr>\n",
       "      <th>std</th>\n",
       "      <td>8.965932</td>\n",
       "      <td>5.119872</td>\n",
       "      <td>1.703572</td>\n",
       "      <td>45.944423</td>\n",
       "    </tr>\n",
       "    <tr>\n",
       "      <th>min</th>\n",
       "      <td>-31.609576</td>\n",
       "      <td>-26.358598</td>\n",
       "      <td>-0.018144</td>\n",
       "      <td>0.000000</td>\n",
       "    </tr>\n",
       "    <tr>\n",
       "      <th>25%</th>\n",
       "      <td>-6.298551</td>\n",
       "      <td>-8.267985</td>\n",
       "      <td>1.000021</td>\n",
       "      <td>26.953261</td>\n",
       "    </tr>\n",
       "    <tr>\n",
       "      <th>50%</th>\n",
       "      <td>1.153055</td>\n",
       "      <td>-4.813172</td>\n",
       "      <td>2.011479</td>\n",
       "      <td>57.085625</td>\n",
       "    </tr>\n",
       "    <tr>\n",
       "      <th>75%</th>\n",
       "      <td>8.621015</td>\n",
       "      <td>-1.332816</td>\n",
       "      <td>3.999904</td>\n",
       "      <td>107.813044</td>\n",
       "    </tr>\n",
       "    <tr>\n",
       "      <th>max</th>\n",
       "      <td>29.421755</td>\n",
       "      <td>18.734063</td>\n",
       "      <td>5.019721</td>\n",
       "      <td>137.945408</td>\n",
       "    </tr>\n",
       "  </tbody>\n",
       "</table>\n",
       "</div>"
      ],
      "text/plain": [
       "                  f0             f1             f2        product\n",
       "count  100000.000000  100000.000000  100000.000000  100000.000000\n",
       "mean        1.141296      -4.796579       2.494541      68.825000\n",
       "std         8.965932       5.119872       1.703572      45.944423\n",
       "min       -31.609576     -26.358598      -0.018144       0.000000\n",
       "25%        -6.298551      -8.267985       1.000021      26.953261\n",
       "50%         1.153055      -4.813172       2.011479      57.085625\n",
       "75%         8.621015      -1.332816       3.999904     107.813044\n",
       "max        29.421755      18.734063       5.019721     137.945408"
      ]
     },
     "metadata": {},
     "output_type": "display_data"
    },
    {
     "data": {
      "text/html": [
       "<div>\n",
       "<style scoped>\n",
       "    .dataframe tbody tr th:only-of-type {\n",
       "        vertical-align: middle;\n",
       "    }\n",
       "\n",
       "    .dataframe tbody tr th {\n",
       "        vertical-align: top;\n",
       "    }\n",
       "\n",
       "    .dataframe thead th {\n",
       "        text-align: right;\n",
       "    }\n",
       "</style>\n",
       "<table border=\"1\" class=\"dataframe\">\n",
       "  <thead>\n",
       "    <tr style=\"text-align: right;\">\n",
       "      <th></th>\n",
       "      <th>f0</th>\n",
       "      <th>f1</th>\n",
       "      <th>f2</th>\n",
       "      <th>product</th>\n",
       "    </tr>\n",
       "  </thead>\n",
       "  <tbody>\n",
       "    <tr>\n",
       "      <th>count</th>\n",
       "      <td>100000.000000</td>\n",
       "      <td>100000.000000</td>\n",
       "      <td>100000.000000</td>\n",
       "      <td>100000.000000</td>\n",
       "    </tr>\n",
       "    <tr>\n",
       "      <th>mean</th>\n",
       "      <td>0.002023</td>\n",
       "      <td>-0.002081</td>\n",
       "      <td>2.495128</td>\n",
       "      <td>95.000000</td>\n",
       "    </tr>\n",
       "    <tr>\n",
       "      <th>std</th>\n",
       "      <td>1.732045</td>\n",
       "      <td>1.730417</td>\n",
       "      <td>3.473445</td>\n",
       "      <td>44.749921</td>\n",
       "    </tr>\n",
       "    <tr>\n",
       "      <th>min</th>\n",
       "      <td>-8.760004</td>\n",
       "      <td>-7.084020</td>\n",
       "      <td>-11.970335</td>\n",
       "      <td>0.000000</td>\n",
       "    </tr>\n",
       "    <tr>\n",
       "      <th>25%</th>\n",
       "      <td>-1.162288</td>\n",
       "      <td>-1.174820</td>\n",
       "      <td>0.130359</td>\n",
       "      <td>59.450441</td>\n",
       "    </tr>\n",
       "    <tr>\n",
       "      <th>50%</th>\n",
       "      <td>0.009424</td>\n",
       "      <td>-0.009482</td>\n",
       "      <td>2.484236</td>\n",
       "      <td>94.925613</td>\n",
       "    </tr>\n",
       "    <tr>\n",
       "      <th>75%</th>\n",
       "      <td>1.158535</td>\n",
       "      <td>1.163678</td>\n",
       "      <td>4.858794</td>\n",
       "      <td>130.595027</td>\n",
       "    </tr>\n",
       "    <tr>\n",
       "      <th>max</th>\n",
       "      <td>7.238262</td>\n",
       "      <td>7.844801</td>\n",
       "      <td>16.739402</td>\n",
       "      <td>190.029838</td>\n",
       "    </tr>\n",
       "  </tbody>\n",
       "</table>\n",
       "</div>"
      ],
      "text/plain": [
       "                  f0             f1             f2        product\n",
       "count  100000.000000  100000.000000  100000.000000  100000.000000\n",
       "mean        0.002023      -0.002081       2.495128      95.000000\n",
       "std         1.732045       1.730417       3.473445      44.749921\n",
       "min        -8.760004      -7.084020     -11.970335       0.000000\n",
       "25%        -1.162288      -1.174820       0.130359      59.450441\n",
       "50%         0.009424      -0.009482       2.484236      94.925613\n",
       "75%         1.158535       1.163678       4.858794     130.595027\n",
       "max         7.238262       7.844801      16.739402     190.029838"
      ]
     },
     "metadata": {},
     "output_type": "display_data"
    }
   ],
   "source": [
    "[display(item.describe()) for item in table_set];  "
   ]
  },
  {
   "cell_type": "markdown",
   "metadata": {},
   "source": [
    "Здесь интересны скважины с нулевой производительностью:"
   ]
  },
  {
   "cell_type": "code",
   "execution_count": 17,
   "metadata": {},
   "outputs": [
    {
     "data": {
      "text/html": [
       "<div>\n",
       "<style scoped>\n",
       "    .dataframe tbody tr th:only-of-type {\n",
       "        vertical-align: middle;\n",
       "    }\n",
       "\n",
       "    .dataframe tbody tr th {\n",
       "        vertical-align: top;\n",
       "    }\n",
       "\n",
       "    .dataframe thead th {\n",
       "        text-align: right;\n",
       "    }\n",
       "</style>\n",
       "<table border=\"1\" class=\"dataframe\">\n",
       "  <thead>\n",
       "    <tr style=\"text-align: right;\">\n",
       "      <th></th>\n",
       "      <th>f0</th>\n",
       "      <th>f1</th>\n",
       "      <th>f2</th>\n",
       "      <th>product</th>\n",
       "    </tr>\n",
       "    <tr>\n",
       "      <th>id</th>\n",
       "      <th></th>\n",
       "      <th></th>\n",
       "      <th></th>\n",
       "      <th></th>\n",
       "    </tr>\n",
       "  </thead>\n",
       "  <tbody>\n",
       "    <tr>\n",
       "      <th>zCM5W</th>\n",
       "      <td>-0.702064</td>\n",
       "      <td>0.375992</td>\n",
       "      <td>0.236572</td>\n",
       "      <td>0.0</td>\n",
       "    </tr>\n",
       "  </tbody>\n",
       "</table>\n",
       "</div>"
      ],
      "text/plain": [
       "             f0        f1        f2  product\n",
       "id                                          \n",
       "zCM5W -0.702064  0.375992  0.236572      0.0"
      ]
     },
     "metadata": {},
     "output_type": "display_data"
    },
    {
     "data": {
      "text/html": [
       "<div>\n",
       "<style scoped>\n",
       "    .dataframe tbody tr th:only-of-type {\n",
       "        vertical-align: middle;\n",
       "    }\n",
       "\n",
       "    .dataframe tbody tr th {\n",
       "        vertical-align: top;\n",
       "    }\n",
       "\n",
       "    .dataframe thead th {\n",
       "        text-align: right;\n",
       "    }\n",
       "</style>\n",
       "<table border=\"1\" class=\"dataframe\">\n",
       "  <thead>\n",
       "    <tr style=\"text-align: right;\">\n",
       "      <th></th>\n",
       "      <th>f0</th>\n",
       "      <th>f1</th>\n",
       "      <th>f2</th>\n",
       "      <th>product</th>\n",
       "    </tr>\n",
       "    <tr>\n",
       "      <th>id</th>\n",
       "      <th></th>\n",
       "      <th></th>\n",
       "      <th></th>\n",
       "      <th></th>\n",
       "    </tr>\n",
       "  </thead>\n",
       "  <tbody>\n",
       "    <tr>\n",
       "      <th>OXyvW</th>\n",
       "      <td>16.320755</td>\n",
       "      <td>-0.562946</td>\n",
       "      <td>-0.001783</td>\n",
       "      <td>0.0</td>\n",
       "    </tr>\n",
       "    <tr>\n",
       "      <th>igmai</th>\n",
       "      <td>6.695604</td>\n",
       "      <td>-0.749449</td>\n",
       "      <td>-0.007630</td>\n",
       "      <td>0.0</td>\n",
       "    </tr>\n",
       "    <tr>\n",
       "      <th>Qjy5w</th>\n",
       "      <td>21.418478</td>\n",
       "      <td>-5.134490</td>\n",
       "      <td>-0.002836</td>\n",
       "      <td>0.0</td>\n",
       "    </tr>\n",
       "    <tr>\n",
       "      <th>G6WCj</th>\n",
       "      <td>6.822701</td>\n",
       "      <td>3.104979</td>\n",
       "      <td>-0.000723</td>\n",
       "      <td>0.0</td>\n",
       "    </tr>\n",
       "    <tr>\n",
       "      <th>MzQhL</th>\n",
       "      <td>6.750150</td>\n",
       "      <td>-11.893512</td>\n",
       "      <td>-0.001601</td>\n",
       "      <td>0.0</td>\n",
       "    </tr>\n",
       "  </tbody>\n",
       "</table>\n",
       "</div>"
      ],
      "text/plain": [
       "              f0         f1        f2  product\n",
       "id                                            \n",
       "OXyvW  16.320755  -0.562946 -0.001783      0.0\n",
       "igmai   6.695604  -0.749449 -0.007630      0.0\n",
       "Qjy5w  21.418478  -5.134490 -0.002836      0.0\n",
       "G6WCj   6.822701   3.104979 -0.000723      0.0\n",
       "MzQhL   6.750150 -11.893512 -0.001601      0.0"
      ]
     },
     "metadata": {},
     "output_type": "display_data"
    },
    {
     "data": {
      "text/html": [
       "<div>\n",
       "<style scoped>\n",
       "    .dataframe tbody tr th:only-of-type {\n",
       "        vertical-align: middle;\n",
       "    }\n",
       "\n",
       "    .dataframe tbody tr th {\n",
       "        vertical-align: top;\n",
       "    }\n",
       "\n",
       "    .dataframe thead th {\n",
       "        text-align: right;\n",
       "    }\n",
       "</style>\n",
       "<table border=\"1\" class=\"dataframe\">\n",
       "  <thead>\n",
       "    <tr style=\"text-align: right;\">\n",
       "      <th></th>\n",
       "      <th>f0</th>\n",
       "      <th>f1</th>\n",
       "      <th>f2</th>\n",
       "      <th>product</th>\n",
       "    </tr>\n",
       "    <tr>\n",
       "      <th>id</th>\n",
       "      <th></th>\n",
       "      <th></th>\n",
       "      <th></th>\n",
       "      <th></th>\n",
       "    </tr>\n",
       "  </thead>\n",
       "  <tbody>\n",
       "    <tr>\n",
       "      <th>qeefd</th>\n",
       "      <td>-0.865596</td>\n",
       "      <td>-1.615247</td>\n",
       "      <td>-4.126441</td>\n",
       "      <td>0.0</td>\n",
       "    </tr>\n",
       "  </tbody>\n",
       "</table>\n",
       "</div>"
      ],
      "text/plain": [
       "             f0        f1        f2  product\n",
       "id                                          \n",
       "qeefd -0.865596 -1.615247 -4.126441      0.0"
      ]
     },
     "metadata": {},
     "output_type": "display_data"
    }
   ],
   "source": [
    "[display(item.loc[item['product']==0].head(5)) for item in table_set];"
   ]
  },
  {
   "cell_type": "markdown",
   "metadata": {},
   "source": [
    "Интересно, что у всех значений \"product\" = 0, значения \"f2\" во второй группе скважин тоже около нуля - построим распределение \"f2\"."
   ]
  },
  {
   "cell_type": "code",
   "execution_count": 18,
   "metadata": {},
   "outputs": [
    {
     "data": {
      "image/png": "[encoded data removed]",
      "text/plain": [
       "<Figure size 1080x432 with 2 Axes>"
      ]
     },
     "metadata": {
      "needs_background": "light"
     },
     "output_type": "display_data"
    }
   ],
   "source": [
    "fig, ax = plt.subplots(1, 2, figsize=(15, 6))\n",
    "fig.suptitle('Гистограмма распределения')\n",
    "[sns.histplot(data=derrick2area.loc[derrick2area['product']==0], x='f2', ax=ax[i], color='tab:blue') for i in range(2)]\n",
    "sns.histplot(data=derrick2area, x='f2', color='tab:orange', ax=ax[0])\n",
    "sns.histplot(data=derrick2area.loc[derrick2area['product']<1], x='f2', color='tab:orange', ax=ax[1])\n",
    "[ax[i].set_title('Параметр f2:') for i in range(2)]\n",
    "ax[0].legend(title='product', loc='upper left', labels=['product = 0', 'product = any'])\n",
    "ax[1].legend(title='product', loc='upper left', labels=['product = 0', 'product <1'])\n",
    "plt.show()"
   ]
  },
  {
   "cell_type": "code",
   "execution_count": 19,
   "metadata": {},
   "outputs": [
    {
     "data": {
      "image/png": "[encoded data removed]",
      "text/plain": [
       "<Figure size 432x288 with 1 Axes>"
      ]
     },
     "metadata": {
      "needs_background": "light"
     },
     "output_type": "display_data"
    }
   ],
   "source": [
    "sns.scatterplot(data=derrick2area, x='f2', y='product', alpha=0.5);\n",
    "plt.title('Зависимость объема запасов от параметра \"f2\"')\n",
    "plt.show()"
   ]
  },
  {
   "cell_type": "markdown",
   "metadata": {},
   "source": [
    "Скорее всего эта корреляция определит точность модели."
   ]
  },
  {
   "cell_type": "markdown",
   "metadata": {},
   "source": [
    "Таким образом:\n",
    "\n",
    "   - для второй группы обнаружено значительное количество скважин(примерно 1/6) с нулевой производительностью;\n",
    "   - для второй группы параметр \"f2\" распределен практически дискретно и концентрируется в районе целочисленных значений(в отличии от группы 1 и 3);\n",
    "   - существует соответствие между \"product\" и значениями \"f2\", при этом для двух других месторождений такая связь менее выражена.\n",
    "    \n"
   ]
  },
  {
   "cell_type": "markdown",
   "metadata": {},
   "source": [
    "Было бы неплохо уточнить у заказчика - \"почему так ?\" или хотя бы обратить его внимание  на этот факт. Но пока лишь констатируем данную закономерность и продолжим анализ и построение модели."
   ]
  },
  {
   "cell_type": "markdown",
   "metadata": {},
   "source": [
    "Так как поставлено условием использование линейной регрессионной модели, целесообразно проверить наличие мультиколлинеарности признаков, которых три для каждой группы скважин:"
   ]
  },
  {
   "cell_type": "code",
   "execution_count": 20,
   "metadata": {},
   "outputs": [],
   "source": [
    "def heatplot_tab(data, ax , name):\n",
    "    corr_market = data.phik_matrix(interval_cols= ['f0', 'f1', 'f2']);\n",
    "    sns.heatmap(\n",
    "        corr_market,        \n",
    "        cmap='RdBu_r',                \n",
    "        annot=True,\n",
    "        ax=ax,\n",
    "        vmin=-1, vmax=1              \n",
    "        );\n",
    "    ax.set_title('Тепловая карта коэффициентов корреляции phik для : ' + name)"
   ]
  },
  {
   "cell_type": "code",
   "execution_count": 21,
   "metadata": {},
   "outputs": [
    {
     "data": {
      "image/png": "[encoded data removed]",
      "text/plain": [
       "<Figure size 1800x432 with 6 Axes>"
      ]
     },
     "metadata": {
      "needs_background": "light"
     },
     "output_type": "display_data"
    }
   ],
   "source": [
    "fig, ax = plt.subplots(1, 3, figsize=(25, 6))\n",
    "fig.suptitle('Гистограмма распределения')\n",
    "[heatplot_tab(item[['f0', 'f1', 'f2']], ax[i], table_names[i]) for i, item in enumerate(table_set)];\n",
    "plt.show();"
   ]
  },
  {
   "cell_type": "markdown",
   "metadata": {},
   "source": [
    " - Только для первой группы скважин наблюдается сильная взаимосвязь параметра \"f0\" и \"f1\" в остальных случая все хорошо (даже идеально для группы 3 - что противоестественно 😀);\n",
    " - Считает, что мультиколлинеарность соответствует значениям более 0.9 - поэтому удалять признаки не будем."
   ]
  },
  {
   "cell_type": "markdown",
   "metadata": {},
   "source": [
    "**Выводы:** \n",
    " - Данные загружены и обработаны, противоречий нет, не выявлено наличие Nan или иных дефектов;\n",
    " - Корреляция между параметрами находится на приемлемом уровне;\n",
    " - Отмечена особенность в данных для второй группы скважин."
   ]
  },
  {
   "cell_type": "markdown",
   "metadata": {},
   "source": [
    "## Обучение и проверка модели"
   ]
  },
  {
   "cell_type": "markdown",
   "metadata": {},
   "source": [
    "Выделим признаки и целевой параметр 'product':"
   ]
  },
  {
   "cell_type": "code",
   "execution_count": 22,
   "metadata": {},
   "outputs": [],
   "source": [
    "argument_col = derrick1area.columns\n",
    "target = 'product'\n",
    "argument_col = argument_col[~np.isin(argument_col, target)]"
   ]
  },
  {
   "cell_type": "markdown",
   "metadata": {},
   "source": [
    "### Создание pipeline для модели линейной регрессии"
   ]
  },
  {
   "cell_type": "code",
   "execution_count": 23,
   "metadata": {},
   "outputs": [],
   "source": [
    "def prediction_model(X_num, NumScaler, model_step):\n",
    "    # выбор масшабирования\n",
    "    if NumScaler == 'Standart':\n",
    "        Scaler = StandardScaler()\n",
    "    elif NumScaler == 'Robust': \n",
    "        Scaler = RobustScaler()    \n",
    "    elif NumScaler == 'Quantile': \n",
    "        Scaler = QuantileTransformer()\n",
    "    else:\n",
    "        Scaler = MinMaxScaler()\n",
    "    # обработка входных данных\n",
    "    num_features = X_num.tolist()\n",
    "    # преобразование численных признаков\n",
    "    num_steps = [('SimpleImputer_num', SimpleImputer(missing_values=np.nan, strategy='median')),\n",
    "                 ('Scaler', Scaler)]\n",
    "    num_transformer = Pipeline(num_steps)\n",
    "    # создаём общий пайплайн для подготовки данных\n",
    "    data_preprocessor = ColumnTransformer(\n",
    "    transformers=[\n",
    "        ('num', num_transformer, num_features)],        \n",
    "          remainder='passthrough')\n",
    "    # создаём итоговый пайплайн по шагам\n",
    "    step_prep = ('preprocessor', data_preprocessor)\n",
    "    # выбор модели \n",
    "    if   model_step == 'LinearRegression':\n",
    "        step_sol  = ('model', LinearRegression(n_jobs=-1))\n",
    "    elif model_step == 'DummyRegressor':\n",
    "        step_sol  = ('model', DummyRegressor(strategy=\"mean\"))\n",
    "    # собираем шаги модели\n",
    "    pipe_final = Pipeline([step_prep, step_sol])\n",
    "    return pipe_final"
   ]
  },
  {
   "cell_type": "markdown",
   "metadata": {},
   "source": [
    "Например можно получить такую модель (оставим SimpleImputer - хотя данные не содержат пропусков - пусть будет )"
   ]
  },
  {
   "cell_type": "code",
   "execution_count": 25,
   "metadata": {},
   "outputs": [
    {
     "data": {
      "text/html": [
       "<style>#sk-container-id-2 {color: black;background-color: white;}#sk-container-id-2 pre{padding: 0;}#sk-container-id-2 div.sk-toggleable {background-color: white;}#sk-container-id-2 label.sk-toggleable__label {cursor: pointer;display: block;width: 100%;margin-bottom: 0;padding: 0.3em;box-sizing: border-box;text-align: center;}#sk-container-id-2 label.sk-toggleable__label-arrow:before {content: \"▸\";float: left;margin-right: 0.25em;color: #696969;}#sk-container-id-2 label.sk-toggleable__label-arrow:hover:before {color: black;}#sk-container-id-2 div.sk-estimator:hover label.sk-toggleable__label-arrow:before {color: black;}#sk-container-id-2 div.sk-toggleable__content {max-height: 0;max-width: 0;overflow: hidden;text-align: left;background-color: #f0f8ff;}#sk-container-id-2 div.sk-toggleable__content pre {margin: 0.2em;color: black;border-radius: 0.25em;background-color: #f0f8ff;}#sk-container-id-2 input.sk-toggleable__control:checked~div.sk-toggleable__content {max-height: 200px;max-width: 100%;overflow: auto;}#sk-container-id-2 input.sk-toggleable__control:checked~label.sk-toggleable__label-arrow:before {content: \"▾\";}#sk-container-id-2 div.sk-estimator input.sk-toggleable__control:checked~label.sk-toggleable__label {background-color: #d4ebff;}#sk-container-id-2 div.sk-label input.sk-toggleable__control:checked~label.sk-toggleable__label {background-color: #d4ebff;}#sk-container-id-2 input.sk-hidden--visually {border: 0;clip: rect(1px 1px 1px 1px);clip: rect(1px, 1px, 1px, 1px);height: 1px;margin: -1px;overflow: hidden;padding: 0;position: absolute;width: 1px;}#sk-container-id-2 div.sk-estimator {font-family: monospace;background-color: #f0f8ff;border: 1px dotted black;border-radius: 0.25em;box-sizing: border-box;margin-bottom: 0.5em;}#sk-container-id-2 div.sk-estimator:hover {background-color: #d4ebff;}#sk-container-id-2 div.sk-parallel-item::after {content: \"\";width: 100%;border-bottom: 1px solid gray;flex-grow: 1;}#sk-container-id-2 div.sk-label:hover label.sk-toggleable__label {background-color: #d4ebff;}#sk-container-id-2 div.sk-serial::before {content: \"\";position: absolute;border-left: 1px solid gray;box-sizing: border-box;top: 0;bottom: 0;left: 50%;z-index: 0;}#sk-container-id-2 div.sk-serial {display: flex;flex-direction: column;align-items: center;background-color: white;padding-right: 0.2em;padding-left: 0.2em;position: relative;}#sk-container-id-2 div.sk-item {position: relative;z-index: 1;}#sk-container-id-2 div.sk-parallel {display: flex;align-items: stretch;justify-content: center;background-color: white;position: relative;}#sk-container-id-2 div.sk-item::before, #sk-container-id-2 div.sk-parallel-item::before {content: \"\";position: absolute;border-left: 1px solid gray;box-sizing: border-box;top: 0;bottom: 0;left: 50%;z-index: -1;}#sk-container-id-2 div.sk-parallel-item {display: flex;flex-direction: column;z-index: 1;position: relative;background-color: white;}#sk-container-id-2 div.sk-parallel-item:first-child::after {align-self: flex-end;width: 50%;}#sk-container-id-2 div.sk-parallel-item:last-child::after {align-self: flex-start;width: 50%;}#sk-container-id-2 div.sk-parallel-item:only-child::after {width: 0;}#sk-container-id-2 div.sk-dashed-wrapped {border: 1px dashed gray;margin: 0 0.4em 0.5em 0.4em;box-sizing: border-box;padding-bottom: 0.4em;background-color: white;}#sk-container-id-2 div.sk-label label {font-family: monospace;font-weight: bold;display: inline-block;line-height: 1.2em;}#sk-container-id-2 div.sk-label-container {text-align: center;}#sk-container-id-2 div.sk-container {/* jupyter's `normalize.less` sets `[hidden] { display: none; }` but bootstrap.min.css set `[hidden] { display: none !important; }` so we also need the `!important` here to be able to override the default hidden behavior on the sphinx rendered scikit-learn.org. See: https://github.com/scikit-learn/scikit-learn/issues/21755 */display: inline-block !important;position: relative;}#sk-container-id-2 div.sk-text-repr-fallback {display: none;}</style><div id=\"sk-container-id-2\" class=\"sk-top-container\"><div class=\"sk-text-repr-fallback\"><pre>Pipeline(steps=[(&#x27;preprocessor&#x27;,\n",
       "                 ColumnTransformer(remainder=&#x27;passthrough&#x27;,\n",
       "                                   transformers=[(&#x27;num&#x27;,\n",
       "                                                  Pipeline(steps=[(&#x27;SimpleImputer_num&#x27;,\n",
       "                                                                   SimpleImputer(strategy=&#x27;median&#x27;)),\n",
       "                                                                  (&#x27;Scaler&#x27;,\n",
       "                                                                   MinMaxScaler())]),\n",
       "                                                  [&#x27;f0&#x27;, &#x27;f1&#x27;, &#x27;f2&#x27;])])),\n",
       "                (&#x27;model&#x27;, LinearRegression(n_jobs=-1))])</pre><b>In a Jupyter environment, please rerun this cell to show the HTML representation or trust the notebook. <br />On GitHub, the HTML representation is unable to render, please try loading this page with nbviewer.org.</b></div><div class=\"sk-container\" hidden><div class=\"sk-item sk-dashed-wrapped\"><div class=\"sk-label-container\"><div class=\"sk-label sk-toggleable\"><input class=\"sk-toggleable__control sk-hidden--visually\" id=\"sk-estimator-id-9\" type=\"checkbox\" ><label for=\"sk-estimator-id-9\" class=\"sk-toggleable__label sk-toggleable__label-arrow\">Pipeline</label><div class=\"sk-toggleable__content\"><pre>Pipeline(steps=[(&#x27;preprocessor&#x27;,\n",
       "                 ColumnTransformer(remainder=&#x27;passthrough&#x27;,\n",
       "                                   transformers=[(&#x27;num&#x27;,\n",
       "                                                  Pipeline(steps=[(&#x27;SimpleImputer_num&#x27;,\n",
       "                                                                   SimpleImputer(strategy=&#x27;median&#x27;)),\n",
       "                                                                  (&#x27;Scaler&#x27;,\n",
       "                                                                   MinMaxScaler())]),\n",
       "                                                  [&#x27;f0&#x27;, &#x27;f1&#x27;, &#x27;f2&#x27;])])),\n",
       "                (&#x27;model&#x27;, LinearRegression(n_jobs=-1))])</pre></div></div></div><div class=\"sk-serial\"><div class=\"sk-item sk-dashed-wrapped\"><div class=\"sk-label-container\"><div class=\"sk-label sk-toggleable\"><input class=\"sk-toggleable__control sk-hidden--visually\" id=\"sk-estimator-id-10\" type=\"checkbox\" ><label for=\"sk-estimator-id-10\" class=\"sk-toggleable__label sk-toggleable__label-arrow\">preprocessor: ColumnTransformer</label><div class=\"sk-toggleable__content\"><pre>ColumnTransformer(remainder=&#x27;passthrough&#x27;,\n",
       "                  transformers=[(&#x27;num&#x27;,\n",
       "                                 Pipeline(steps=[(&#x27;SimpleImputer_num&#x27;,\n",
       "                                                  SimpleImputer(strategy=&#x27;median&#x27;)),\n",
       "                                                 (&#x27;Scaler&#x27;, MinMaxScaler())]),\n",
       "                                 [&#x27;f0&#x27;, &#x27;f1&#x27;, &#x27;f2&#x27;])])</pre></div></div></div><div class=\"sk-parallel\"><div class=\"sk-parallel-item\"><div class=\"sk-item\"><div class=\"sk-label-container\"><div class=\"sk-label sk-toggleable\"><input class=\"sk-toggleable__control sk-hidden--visually\" id=\"sk-estimator-id-11\" type=\"checkbox\" ><label for=\"sk-estimator-id-11\" class=\"sk-toggleable__label sk-toggleable__label-arrow\">num</label><div class=\"sk-toggleable__content\"><pre>[&#x27;f0&#x27;, &#x27;f1&#x27;, &#x27;f2&#x27;]</pre></div></div></div><div class=\"sk-serial\"><div class=\"sk-item\"><div class=\"sk-serial\"><div class=\"sk-item\"><div class=\"sk-estimator sk-toggleable\"><input class=\"sk-toggleable__control sk-hidden--visually\" id=\"sk-estimator-id-12\" type=\"checkbox\" ><label for=\"sk-estimator-id-12\" class=\"sk-toggleable__label sk-toggleable__label-arrow\">SimpleImputer</label><div class=\"sk-toggleable__content\"><pre>SimpleImputer(strategy=&#x27;median&#x27;)</pre></div></div></div><div class=\"sk-item\"><div class=\"sk-estimator sk-toggleable\"><input class=\"sk-toggleable__control sk-hidden--visually\" id=\"sk-estimator-id-13\" type=\"checkbox\" ><label for=\"sk-estimator-id-13\" class=\"sk-toggleable__label sk-toggleable__label-arrow\">MinMaxScaler</label><div class=\"sk-toggleable__content\"><pre>MinMaxScaler()</pre></div></div></div></div></div></div></div></div><div class=\"sk-parallel-item\"><div class=\"sk-item\"><div class=\"sk-label-container\"><div class=\"sk-label sk-toggleable\"><input class=\"sk-toggleable__control sk-hidden--visually\" id=\"sk-estimator-id-14\" type=\"checkbox\" ><label for=\"sk-estimator-id-14\" class=\"sk-toggleable__label sk-toggleable__label-arrow\">remainder</label><div class=\"sk-toggleable__content\"><pre></pre></div></div></div><div class=\"sk-serial\"><div class=\"sk-item\"><div class=\"sk-estimator sk-toggleable\"><input class=\"sk-toggleable__control sk-hidden--visually\" id=\"sk-estimator-id-15\" type=\"checkbox\" ><label for=\"sk-estimator-id-15\" class=\"sk-toggleable__label sk-toggleable__label-arrow\">passthrough</label><div class=\"sk-toggleable__content\"><pre>passthrough</pre></div></div></div></div></div></div></div></div><div class=\"sk-item\"><div class=\"sk-estimator sk-toggleable\"><input class=\"sk-toggleable__control sk-hidden--visually\" id=\"sk-estimator-id-16\" type=\"checkbox\" ><label for=\"sk-estimator-id-16\" class=\"sk-toggleable__label sk-toggleable__label-arrow\">LinearRegression</label><div class=\"sk-toggleable__content\"><pre>LinearRegression(n_jobs=-1)</pre></div></div></div></div></div></div></div>"
      ],
      "text/plain": [
       "Pipeline(steps=[('preprocessor',\n",
       "                 ColumnTransformer(remainder='passthrough',\n",
       "                                   transformers=[('num',\n",
       "                                                  Pipeline(steps=[('SimpleImputer_num',\n",
       "                                                                   SimpleImputer(strategy='median')),\n",
       "                                                                  ('Scaler',\n",
       "                                                                   MinMaxScaler())]),\n",
       "                                                  ['f0', 'f1', 'f2'])])),\n",
       "                ('model', LinearRegression(n_jobs=-1))])"
      ]
     },
     "execution_count": 25,
     "metadata": {},
     "output_type": "execute_result"
    }
   ],
   "source": [
    "##Scalers -  Standart/Robust/Quantile/Min/Max - лучший вариант оказался с 'Min/Max'\n",
    "lin_model = prediction_model(argument_col, 'Min/Max', 'LinearRegression')\n",
    "lin_model"
   ]
  },
  {
   "cell_type": "code",
   "execution_count": 26,
   "metadata": {},
   "outputs": [],
   "source": [
    "dummy_test_model = prediction_model(argument_col, 'Min/Max', 'DummyRegressor')"
   ]
  },
  {
   "cell_type": "markdown",
   "metadata": {},
   "source": [
    "### Формирование обучающих и валидационных выборок в соотношении 75:25"
   ]
  },
  {
   "cell_type": "code",
   "execution_count": 28,
   "metadata": {},
   "outputs": [],
   "source": [
    "def get_spliting (arguments, target):\n",
    "    Xtrain, Xtest, Ytrain, Ytest = train_test_split(arguments, target, test_size=TEST_SIZE, random_state=RANDOM_STATE)\n",
    "    return Xtrain, Xtest, Ytrain, Ytest"
   ]
  },
  {
   "cell_type": "code",
   "execution_count": 29,
   "metadata": {},
   "outputs": [],
   "source": [
    "Xtrain1a, Xtest1a, Ytrain1a, Ytest1a = get_spliting(derrick1area[argument_col], derrick1area[target])\n",
    "Xtrain2a, Xtest2a, Ytrain2a, Ytest2a = get_spliting(derrick2area[argument_col], derrick2area[target])\n",
    "Xtrain3a, Xtest3a, Ytrain3a, Ytest3a = get_spliting(derrick3area[argument_col], derrick3area[target])"
   ]
  },
  {
   "cell_type": "markdown",
   "metadata": {},
   "source": [
    "Постараемся сделать в цикле для всех трех групп скважин"
   ]
  },
  {
   "cell_type": "code",
   "execution_count": 32,
   "metadata": {},
   "outputs": [],
   "source": [
    "Xtrain = [Xtrain1a, Xtrain2a, Xtrain3a]\n",
    "Xtest  = [Xtest1a, Xtest2a, Xtest3a]\n",
    "Ytrain = [Ytrain1a, Ytrain2a, Ytrain3a]\n",
    "Ytest  = [Ytest1a, Ytest2a, Ytest3a]"
   ]
  },
  {
   "cell_type": "code",
   "execution_count": 36,
   "metadata": {},
   "outputs": [
    {
     "data": {
      "text/html": [
       "<div>\n",
       "<style scoped>\n",
       "    .dataframe tbody tr th:only-of-type {\n",
       "        vertical-align: middle;\n",
       "    }\n",
       "\n",
       "    .dataframe tbody tr th {\n",
       "        vertical-align: top;\n",
       "    }\n",
       "\n",
       "    .dataframe thead th {\n",
       "        text-align: right;\n",
       "    }\n",
       "</style>\n",
       "<table border=\"1\" class=\"dataframe\">\n",
       "  <thead>\n",
       "    <tr style=\"text-align: right;\">\n",
       "      <th></th>\n",
       "      <th>Модель</th>\n",
       "      <th>Метрика R2</th>\n",
       "      <th>Метрика RMSE</th>\n",
       "      <th>Метрика RMSE(Dummy)</th>\n",
       "    </tr>\n",
       "  </thead>\n",
       "  <tbody>\n",
       "    <tr>\n",
       "      <th>группа скажин-1</th>\n",
       "      <td>LinearRegression(n_jobs=-1)</td>\n",
       "      <td>0.272829</td>\n",
       "      <td>5.572045</td>\n",
       "      <td>6.135782</td>\n",
       "    </tr>\n",
       "    <tr>\n",
       "      <th>группа скажин-2</th>\n",
       "      <td>LinearRegression(n_jobs=-1)</td>\n",
       "      <td>0.999625</td>\n",
       "      <td>0.846766</td>\n",
       "      <td>6.348551</td>\n",
       "    </tr>\n",
       "    <tr>\n",
       "      <th>группа скажин-3</th>\n",
       "      <td>LinearRegression(n_jobs=-1)</td>\n",
       "      <td>0.196347</td>\n",
       "      <td>5.735587</td>\n",
       "      <td>6.150650</td>\n",
       "    </tr>\n",
       "  </tbody>\n",
       "</table>\n",
       "</div>"
      ],
      "text/plain": [
       "                                      Модель  Метрика R2  Метрика RMSE  \\\n",
       "группа скажин-1  LinearRegression(n_jobs=-1)    0.272829      5.572045   \n",
       "группа скажин-2  LinearRegression(n_jobs=-1)    0.999625      0.846766   \n",
       "группа скажин-3  LinearRegression(n_jobs=-1)    0.196347      5.735587   \n",
       "\n",
       "                 Метрика RMSE(Dummy)  \n",
       "группа скажин-1             6.135782  \n",
       "группа скажин-2             6.348551  \n",
       "группа скажин-3             6.150650  "
      ]
     },
     "execution_count": 36,
     "metadata": {},
     "output_type": "execute_result"
    }
   ],
   "source": [
    "metrics = []\n",
    "for i, model in enumerate(table_names):\n",
    "    lin_model.fit(Xtrain[i], Ytrain[i])\n",
    "    Ytest_predict = lin_model.predict(Xtest[i])\n",
    "    r2_score  =  lin_model.score(Xtest[i], Ytest[i])\n",
    "    rmse_score =  np.sqrt(mean_absolute_error(Ytest[i], Ytest_predict))\n",
    "    dummy_test_model.fit(Xtrain[i], Ytrain[i])\n",
    "    Ytest_predict_dummy =  dummy_test_model.predict(Xtest[i])\n",
    "    rmse_score_dummy    =  np.sqrt(mean_absolute_error(Ytest[i], Ytest_predict_dummy))\n",
    "    metrics.append([str(lin_model.get_params()['model']), r2_score, rmse_score, rmse_score_dummy])\n",
    "metrics = pd.DataFrame(metrics)\n",
    "metrics.columns = ['Модель', 'Метрика R2', 'Метрика RMSE', 'Метрика RMSE(Dummy)']\n",
    "metrics.index  = table_names\n",
    "metrics"
   ]
  },
  {
   "cell_type": "markdown",
   "metadata": {},
   "source": [
    "Можно отметить, что:\n",
    "   - для \"группы скважин-2\" высокое значение коэффициента детерминации говорит о наличии практически однозначного соответствия между признаками и целевым параметром;\n",
    "   - предсказания для моделей \"группа скажин-1\" и \"группа скажин-3\" немногим лучше константной модели DummyRegressor\n",
    "    "
   ]
  },
  {
   "cell_type": "markdown",
   "metadata": {},
   "source": [
    "### Подбор признаков"
   ]
  },
  {
   "cell_type": "markdown",
   "metadata": {},
   "source": [
    "Скорее всего с такими данными ничего не поможет, но можно попробовать поискать нелинейные зависимости, добавив полиномиальные признаки с помощью PolynomialFeatures (выполним для третьей группы скважин и посмотрим, что получится на остальных)"
   ]
  },
  {
   "cell_type": "code",
   "execution_count": 37,
   "metadata": {},
   "outputs": [],
   "source": [
    "poly = PolynomialFeatures(2)\n",
    "X_train = poly.fit_transform(Xtrain[2])\n",
    "X_test = poly.transform(Xtest[2])"
   ]
  },
  {
   "cell_type": "code",
   "execution_count": 38,
   "metadata": {},
   "outputs": [],
   "source": [
    "X_train = pd.DataFrame(X_train, columns = poly.get_feature_names_out())\n",
    "X_test  = pd.DataFrame(X_test, columns = poly.get_feature_names_out())\n",
    "Y_train = Ytrain[2]\n",
    "Y_test  = Ytest[2]"
   ]
  },
  {
   "cell_type": "code",
   "execution_count": 39,
   "metadata": {},
   "outputs": [
    {
     "name": "stdout",
     "output_type": "stream",
     "text": [
      "Метрика R2 для третьей группы скважин 0.2462627802574744\n",
      "Метрика RMSE для третьей группы скважин 5.65983976805112\n"
     ]
    }
   ],
   "source": [
    "drop_cols = []\n",
    "cols = X_train.columns[~np.isin(X_train.columns, drop_cols)]\n",
    "lin_model = prediction_model(cols, 'Min/Max', 'LinearRegression')\n",
    "lin_model.fit(X_train[cols], Y_train)\n",
    "Y_test_predict = lin_model.predict(X_test)\n",
    "r2_score  =  lin_model.score(X_test[cols], Y_test)\n",
    "rmse_score =  np.sqrt(mean_absolute_error(Y_test, Y_test_predict))\n",
    "print('Метрика R2 для третьей группы скважин', r2_score)\n",
    "print('Метрика RMSE для третьей группы скважин', rmse_score)"
   ]
  },
  {
   "cell_type": "markdown",
   "metadata": {},
   "source": [
    "Попробуем отсеять признаки с помощью SHAP"
   ]
  },
  {
   "cell_type": "code",
   "execution_count": 40,
   "metadata": {},
   "outputs": [],
   "source": [
    "X_train_scaled = lin_model['preprocessor'].fit_transform(X_train[cols])\n",
    "model  = lin_model['model']\n",
    "prepr =  lin_model['preprocessor']"
   ]
  },
  {
   "cell_type": "code",
   "execution_count": 41,
   "metadata": {},
   "outputs": [
    {
     "data": {
      "image/png": "[encoded data removed]",
      "text/plain": [
       "<Figure size 576x468 with 1 Axes>"
      ]
     },
     "metadata": {},
     "output_type": "display_data"
    },
    {
     "name": "stdout",
     "output_type": "stream",
     "text": [
      "CPU times: total: 2.77 s\n",
      "Wall time: 2.76 s\n"
     ]
    }
   ],
   "source": [
    "%%time\n",
    "explainer = shap.Explainer(model, X_train_scaled)\n",
    "feature_names = prepr.get_feature_names_out()\n",
    "X_train_scaled = pd.DataFrame(X_train_scaled, columns = feature_names)\n",
    "plt.title('Важность признаков (Модель запасов группы скважин-3)')\n",
    "plt.ylabel('Значения признаков')\n",
    "shap.plots.bar(explainer(X_train_scaled))\n",
    "plt.show()"
   ]
  },
  {
   "cell_type": "markdown",
   "metadata": {},
   "source": [
    "Таким образом, можно отбросить следующие признаки (но все таки оставим изначальные):"
   ]
  },
  {
   "cell_type": "code",
   "execution_count": 42,
   "metadata": {},
   "outputs": [],
   "source": [
    "drop_cols = ['1', 'f0 f1', 'f1 f2', 'f0 f2']"
   ]
  },
  {
   "cell_type": "code",
   "execution_count": 43,
   "metadata": {},
   "outputs": [
    {
     "name": "stdout",
     "output_type": "stream",
     "text": [
      "Метрика R2 для третьей группы скважин 0.24630957022531197\n",
      "Метрика RMSE для третьей группы скважин 5.659759095906094\n"
     ]
    }
   ],
   "source": [
    "cols = X_train.columns[~np.isin(X_train.columns, drop_cols)]\n",
    "lin_model = prediction_model(cols, 'Min/Max', 'LinearRegression')\n",
    "lin_model.fit(X_train[cols], Y_train)\n",
    "Y_test_predict = lin_model.predict(X_test)\n",
    "r2_score  =  lin_model.score(X_test[cols], Y_test)\n",
    "rmse_score =  np.sqrt(mean_absolute_error(Y_test, Y_test_predict))\n",
    "print('Метрика R2 для третьей группы скважин', r2_score)\n",
    "print('Метрика RMSE для третьей группы скважин', rmse_score)"
   ]
  },
  {
   "cell_type": "markdown",
   "metadata": {},
   "source": [
    " - Как было отмечено ранее основное влияние оказывет параметр \"f2\";\n",
    " - Использование полиномизации признаков позволило на 5% улучшить качество модели для третьей группы скважин."
   ]
  },
  {
   "cell_type": "markdown",
   "metadata": {},
   "source": [
    "###  Предсказания, правильные ответы на валидационной выборке и средний запас предсказанного сырья с RMSE модели."
   ]
  },
  {
   "cell_type": "markdown",
   "metadata": {},
   "source": [
    "Тогда итоговый вариант моделей будет выглядеть следующим образом:"
   ]
  },
  {
   "cell_type": "code",
   "execution_count": 44,
   "metadata": {},
   "outputs": [
    {
     "data": {
      "text/html": [
       "<div>\n",
       "<style scoped>\n",
       "    .dataframe tbody tr th:only-of-type {\n",
       "        vertical-align: middle;\n",
       "    }\n",
       "\n",
       "    .dataframe tbody tr th {\n",
       "        vertical-align: top;\n",
       "    }\n",
       "\n",
       "    .dataframe thead th {\n",
       "        text-align: right;\n",
       "    }\n",
       "</style>\n",
       "<table border=\"1\" class=\"dataframe\">\n",
       "  <thead>\n",
       "    <tr style=\"text-align: right;\">\n",
       "      <th></th>\n",
       "      <th>Модель</th>\n",
       "      <th>Метрика R2</th>\n",
       "      <th>Метрика RMSE</th>\n",
       "    </tr>\n",
       "  </thead>\n",
       "  <tbody>\n",
       "    <tr>\n",
       "      <th>группа скажин-1</th>\n",
       "      <td>LinearRegression(n_jobs=-1)</td>\n",
       "      <td>0.272844</td>\n",
       "      <td>5.571931</td>\n",
       "    </tr>\n",
       "    <tr>\n",
       "      <th>группа скажин-2</th>\n",
       "      <td>LinearRegression(n_jobs=-1)</td>\n",
       "      <td>0.999625</td>\n",
       "      <td>0.846764</td>\n",
       "    </tr>\n",
       "    <tr>\n",
       "      <th>группа скажин-3</th>\n",
       "      <td>LinearRegression(n_jobs=-1)</td>\n",
       "      <td>0.246310</td>\n",
       "      <td>5.659759</td>\n",
       "    </tr>\n",
       "  </tbody>\n",
       "</table>\n",
       "</div>"
      ],
      "text/plain": [
       "                                      Модель  Метрика R2  Метрика RMSE\n",
       "группа скажин-1  LinearRegression(n_jobs=-1)    0.272844      5.571931\n",
       "группа скажин-2  LinearRegression(n_jobs=-1)    0.999625      0.846764\n",
       "группа скажин-3  LinearRegression(n_jobs=-1)    0.246310      5.659759"
      ]
     },
     "metadata": {},
     "output_type": "display_data"
    },
    {
     "data": {
      "text/html": [
       "<div>\n",
       "<style scoped>\n",
       "    .dataframe tbody tr th:only-of-type {\n",
       "        vertical-align: middle;\n",
       "    }\n",
       "\n",
       "    .dataframe tbody tr th {\n",
       "        vertical-align: top;\n",
       "    }\n",
       "\n",
       "    .dataframe thead th {\n",
       "        text-align: right;\n",
       "    }\n",
       "</style>\n",
       "<table border=\"1\" class=\"dataframe\">\n",
       "  <thead>\n",
       "    <tr style=\"text-align: right;\">\n",
       "      <th></th>\n",
       "      <th>группа скажин-1 index</th>\n",
       "      <th>группа скажин-1 true</th>\n",
       "      <th>группа скажин-1 predicted</th>\n",
       "      <th>группа скажин-2 index</th>\n",
       "      <th>группа скажин-2 true</th>\n",
       "      <th>группа скажин-2 predicted</th>\n",
       "      <th>группа скажин-3 index</th>\n",
       "      <th>группа скажин-3 true</th>\n",
       "      <th>группа скажин-3 predicted</th>\n",
       "    </tr>\n",
       "  </thead>\n",
       "  <tbody>\n",
       "    <tr>\n",
       "      <th>0</th>\n",
       "      <td>7C6bA</td>\n",
       "      <td>122.073350</td>\n",
       "      <td>102.021311</td>\n",
       "      <td>fYVDK</td>\n",
       "      <td>0.000000</td>\n",
       "      <td>0.842324</td>\n",
       "      <td>sPjbT</td>\n",
       "      <td>117.441301</td>\n",
       "      <td>100.452140</td>\n",
       "    </tr>\n",
       "    <tr>\n",
       "      <th>1</th>\n",
       "      <td>dVxsn</td>\n",
       "      <td>48.738540</td>\n",
       "      <td>78.448272</td>\n",
       "      <td>3SQcq</td>\n",
       "      <td>53.906522</td>\n",
       "      <td>52.924591</td>\n",
       "      <td>1u4uo</td>\n",
       "      <td>47.841249</td>\n",
       "      <td>93.343486</td>\n",
       "    </tr>\n",
       "    <tr>\n",
       "      <th>2</th>\n",
       "      <td>1Gm3l</td>\n",
       "      <td>131.338088</td>\n",
       "      <td>115.355655</td>\n",
       "      <td>hQ1gJ</td>\n",
       "      <td>134.766305</td>\n",
       "      <td>135.107791</td>\n",
       "      <td>kZ6HO</td>\n",
       "      <td>45.883483</td>\n",
       "      <td>54.131372</td>\n",
       "    </tr>\n",
       "    <tr>\n",
       "      <th>3</th>\n",
       "      <td>Nzg1t</td>\n",
       "      <td>88.327757</td>\n",
       "      <td>105.455945</td>\n",
       "      <td>Y4vux</td>\n",
       "      <td>107.813044</td>\n",
       "      <td>109.493186</td>\n",
       "      <td>gCZGK</td>\n",
       "      <td>139.014608</td>\n",
       "      <td>110.653410</td>\n",
       "    </tr>\n",
       "    <tr>\n",
       "      <th>4</th>\n",
       "      <td>Z7b4F</td>\n",
       "      <td>36.959266</td>\n",
       "      <td>97.740295</td>\n",
       "      <td>H1NUw</td>\n",
       "      <td>0.000000</td>\n",
       "      <td>-0.045065</td>\n",
       "      <td>rqJHx</td>\n",
       "      <td>84.004276</td>\n",
       "      <td>78.313991</td>\n",
       "    </tr>\n",
       "  </tbody>\n",
       "</table>\n",
       "</div>"
      ],
      "text/plain": [
       "  группа скажин-1 index  группа скажин-1 true  группа скажин-1 predicted  \\\n",
       "0                 7C6bA            122.073350                 102.021311   \n",
       "1                 dVxsn             48.738540                  78.448272   \n",
       "2                 1Gm3l            131.338088                 115.355655   \n",
       "3                 Nzg1t             88.327757                 105.455945   \n",
       "4                 Z7b4F             36.959266                  97.740295   \n",
       "\n",
       "  группа скажин-2 index  группа скажин-2 true  группа скажин-2 predicted  \\\n",
       "0                 fYVDK              0.000000                   0.842324   \n",
       "1                 3SQcq             53.906522                  52.924591   \n",
       "2                 hQ1gJ            134.766305                 135.107791   \n",
       "3                 Y4vux            107.813044                 109.493186   \n",
       "4                 H1NUw              0.000000                  -0.045065   \n",
       "\n",
       "  группа скажин-3 index  группа скажин-3 true  группа скажин-3 predicted  \n",
       "0                 sPjbT            117.441301                 100.452140  \n",
       "1                 1u4uo             47.841249                  93.343486  \n",
       "2                 kZ6HO             45.883483                  54.131372  \n",
       "3                 gCZGK            139.014608                 110.653410  \n",
       "4                 rqJHx             84.004276                  78.313991  "
      ]
     },
     "execution_count": 44,
     "metadata": {},
     "output_type": "execute_result"
    }
   ],
   "source": [
    "validation_rez = pd.DataFrame()\n",
    "metrics = []\n",
    "for i, name in enumerate(table_names):\n",
    "    X_train = poly.fit_transform(Xtrain[i])\n",
    "    X_test = poly.transform(Xtest[i])\n",
    "    X_train = pd.DataFrame(X_train, columns = poly.get_feature_names_out())\n",
    "    X_test  = pd.DataFrame(X_test, columns = poly.get_feature_names_out())\n",
    "    lin_model.fit(X_train[cols], Ytrain[i])\n",
    "    Ytest_predict = lin_model.predict(X_test[cols])\n",
    "    r2_score  =  lin_model.score(X_test[cols], Ytest[i])\n",
    "    rmse_score =  np.sqrt(mean_absolute_error(Ytest[i], Ytest_predict))\n",
    "    metrics.append([str(lin_model.get_params()['model']), r2_score, rmse_score])\n",
    "    validation_rez[name+' index'] = Ytest[i].index\n",
    "    validation_rez[name+' true'] = Ytest[i].values\n",
    "    validation_rez[name+' predicted'] = Ytest_predict\n",
    "metrics = pd.DataFrame(metrics)\n",
    "metrics.columns = ['Модель', 'Метрика R2', 'Метрика RMSE']\n",
    "metrics.index  = table_names\n",
    "display(metrics)\n",
    "validation_rez.head(5)"
   ]
  },
  {
   "cell_type": "markdown",
   "metadata": {},
   "source": [
    "Можно еще догнать полиномы до 4 степени и улучшить показатели модели на порядка 1 %............ но не нужно "
   ]
  },
  {
   "cell_type": "markdown",
   "metadata": {},
   "source": [
    "Разобьем большую таблицу по отдельных группам скважин."
   ]
  },
  {
   "cell_type": "code",
   "execution_count": 45,
   "metadata": {},
   "outputs": [
    {
     "data": {
      "text/html": [
       "<div>\n",
       "<style scoped>\n",
       "    .dataframe tbody tr th:only-of-type {\n",
       "        vertical-align: middle;\n",
       "    }\n",
       "\n",
       "    .dataframe tbody tr th {\n",
       "        vertical-align: top;\n",
       "    }\n",
       "\n",
       "    .dataframe thead th {\n",
       "        text-align: right;\n",
       "    }\n",
       "</style>\n",
       "<table border=\"1\" class=\"dataframe\">\n",
       "  <thead>\n",
       "    <tr style=\"text-align: right;\">\n",
       "      <th></th>\n",
       "      <th>true</th>\n",
       "      <th>predicted</th>\n",
       "    </tr>\n",
       "    <tr>\n",
       "      <th>id</th>\n",
       "      <th></th>\n",
       "      <th></th>\n",
       "    </tr>\n",
       "  </thead>\n",
       "  <tbody>\n",
       "    <tr>\n",
       "      <th>7C6bA</th>\n",
       "      <td>122.073350</td>\n",
       "      <td>102.021311</td>\n",
       "    </tr>\n",
       "    <tr>\n",
       "      <th>dVxsn</th>\n",
       "      <td>48.738540</td>\n",
       "      <td>78.448272</td>\n",
       "    </tr>\n",
       "    <tr>\n",
       "      <th>1Gm3l</th>\n",
       "      <td>131.338088</td>\n",
       "      <td>115.355655</td>\n",
       "    </tr>\n",
       "  </tbody>\n",
       "</table>\n",
       "</div>"
      ],
      "text/plain": [
       "             true   predicted\n",
       "id                           \n",
       "7C6bA  122.073350  102.021311\n",
       "dVxsn   48.738540   78.448272\n",
       "1Gm3l  131.338088  115.355655"
      ]
     },
     "metadata": {},
     "output_type": "display_data"
    },
    {
     "data": {
      "text/html": [
       "<div>\n",
       "<style scoped>\n",
       "    .dataframe tbody tr th:only-of-type {\n",
       "        vertical-align: middle;\n",
       "    }\n",
       "\n",
       "    .dataframe tbody tr th {\n",
       "        vertical-align: top;\n",
       "    }\n",
       "\n",
       "    .dataframe thead th {\n",
       "        text-align: right;\n",
       "    }\n",
       "</style>\n",
       "<table border=\"1\" class=\"dataframe\">\n",
       "  <thead>\n",
       "    <tr style=\"text-align: right;\">\n",
       "      <th></th>\n",
       "      <th>true</th>\n",
       "      <th>predicted</th>\n",
       "    </tr>\n",
       "    <tr>\n",
       "      <th>id</th>\n",
       "      <th></th>\n",
       "      <th></th>\n",
       "    </tr>\n",
       "  </thead>\n",
       "  <tbody>\n",
       "    <tr>\n",
       "      <th>fYVDK</th>\n",
       "      <td>0.000000</td>\n",
       "      <td>0.842324</td>\n",
       "    </tr>\n",
       "    <tr>\n",
       "      <th>3SQcq</th>\n",
       "      <td>53.906522</td>\n",
       "      <td>52.924591</td>\n",
       "    </tr>\n",
       "    <tr>\n",
       "      <th>hQ1gJ</th>\n",
       "      <td>134.766305</td>\n",
       "      <td>135.107791</td>\n",
       "    </tr>\n",
       "  </tbody>\n",
       "</table>\n",
       "</div>"
      ],
      "text/plain": [
       "             true   predicted\n",
       "id                           \n",
       "fYVDK    0.000000    0.842324\n",
       "3SQcq   53.906522   52.924591\n",
       "hQ1gJ  134.766305  135.107791"
      ]
     },
     "metadata": {},
     "output_type": "display_data"
    },
    {
     "data": {
      "text/html": [
       "<div>\n",
       "<style scoped>\n",
       "    .dataframe tbody tr th:only-of-type {\n",
       "        vertical-align: middle;\n",
       "    }\n",
       "\n",
       "    .dataframe tbody tr th {\n",
       "        vertical-align: top;\n",
       "    }\n",
       "\n",
       "    .dataframe thead th {\n",
       "        text-align: right;\n",
       "    }\n",
       "</style>\n",
       "<table border=\"1\" class=\"dataframe\">\n",
       "  <thead>\n",
       "    <tr style=\"text-align: right;\">\n",
       "      <th></th>\n",
       "      <th>true</th>\n",
       "      <th>predicted</th>\n",
       "    </tr>\n",
       "    <tr>\n",
       "      <th>id</th>\n",
       "      <th></th>\n",
       "      <th></th>\n",
       "    </tr>\n",
       "  </thead>\n",
       "  <tbody>\n",
       "    <tr>\n",
       "      <th>sPjbT</th>\n",
       "      <td>117.441301</td>\n",
       "      <td>100.452140</td>\n",
       "    </tr>\n",
       "    <tr>\n",
       "      <th>1u4uo</th>\n",
       "      <td>47.841249</td>\n",
       "      <td>93.343486</td>\n",
       "    </tr>\n",
       "    <tr>\n",
       "      <th>kZ6HO</th>\n",
       "      <td>45.883483</td>\n",
       "      <td>54.131372</td>\n",
       "    </tr>\n",
       "  </tbody>\n",
       "</table>\n",
       "</div>"
      ],
      "text/plain": [
       "             true   predicted\n",
       "id                           \n",
       "sPjbT  117.441301  100.452140\n",
       "1u4uo   47.841249   93.343486\n",
       "kZ6HO   45.883483   54.131372"
      ]
     },
     "metadata": {},
     "output_type": "display_data"
    }
   ],
   "source": [
    "derrick1predict=derrick2predict=derrick3predict= pd.DataFrame()\n",
    "list0pd = [derrick1predict, derrick2predict, derrick3predict]\n",
    "for i, df in enumerate(list0pd):\n",
    "    shift = 3*i\n",
    "    list0pd[i] = validation_rez[validation_rez.columns[0+shift:3+shift]]\n",
    "    list0pd[i].columns =  ['id', 'true', 'predicted']\n",
    "[derrick1predict, derrick2predict, derrick3predict] = list0pd\n",
    "[item.set_index('id', inplace=True) for item in [derrick1predict, derrick2predict, derrick3predict]];\n",
    "[display(item.head(3)) for item in [derrick1predict, derrick2predict, derrick3predict]];"
   ]
  },
  {
   "cell_type": "markdown",
   "metadata": {},
   "source": [
    "Для итоговой модели выполним анализ остатков и их дисперсии по каждой группе"
   ]
  },
  {
   "cell_type": "code",
   "execution_count": 46,
   "metadata": {},
   "outputs": [],
   "source": [
    "to_post = [derrick1predict['true']-derrick1predict['predicted'], \n",
    "           derrick2predict['true']-derrick2predict['predicted'], \n",
    "           derrick3predict['true']-derrick3predict['predicted']]"
   ]
  },
  {
   "cell_type": "code",
   "execution_count": 48,
   "metadata": {},
   "outputs": [
    {
     "data": {
      "image/png": "[encoded data removed]",
      "text/plain": [
       "<Figure size 1800x432 with 3 Axes>"
      ]
     },
     "metadata": {
      "needs_background": "light"
     },
     "output_type": "display_data"
    }
   ],
   "source": [
    "fig, ax = plt.subplots(1, 3, figsize=(25, 6))\n",
    "fig.suptitle('Гистограмма распределения остатков')\n",
    "for i in range(3):\n",
    "    sns.histplot(data=to_post[i], bins=25, ax= ax[i])\n",
    "    ax[i].axvline(x = to_post[i].mean(), color = 'r', linestyle='dashed')\n",
    "    ax[i].set_title(table_names[i])\n",
    "    ax[i].legend(['Среднее остатков'])\n",
    "    ax[i].set_ylabel('Коли-во скважин')\n",
    "    ax[i].set_xlabel('Ошибка модели, тыс. баррелей')\n",
    "plt.show()"
   ]
  },
  {
   "cell_type": "markdown",
   "metadata": {},
   "source": [
    "Cредние значения около 0, так что модель практически не завышает и одновременно не занижает показания - это хорошо. У модели для второй группы скажин ошибка минимальна. Для первой и третьей группы остатки практически одинаковы, но ошибки принципиально больше"
   ]
  },
  {
   "cell_type": "markdown",
   "metadata": {},
   "source": [
    "Оценим постоянство дисперсии"
   ]
  },
  {
   "cell_type": "code",
   "execution_count": 267,
   "metadata": {},
   "outputs": [
    {
     "data": {
      "image/png": "[encoded data removed]",
      "text/plain": [
       "<Figure size 1800x432 with 3 Axes>"
      ]
     },
     "metadata": {
      "needs_background": "light"
     },
     "output_type": "display_data"
    }
   ],
   "source": [
    "fig, ax = plt.subplots(1, 3, figsize=(25, 6))\n",
    "fig.suptitle('Диаграмма рассеяния остатков')\n",
    "for i in range(n):\n",
    "    sns.regplot(x=list0pd[i]['true'], y=to_post[i], ax=ax[i])\n",
    "    ax[i].set_title(table_names[i])\n",
    "    ax[i].set_ylabel('Ошибка модели, тыс. баррелей')\n",
    "    ax[i].set_xlabel('Значение добычи, тыс. баррелей')\n",
    "plt.show()"
   ]
  },
  {
   "cell_type": "markdown",
   "metadata": {},
   "source": [
    "Для первой и третьей группы разброс остатков постоянный, но среднее значение увеличивается в ростом добычи (но исследовать это не будем)."
   ]
  },
  {
   "cell_type": "markdown",
   "metadata": {},
   "source": [
    "Оценим средние значения запасов сырья по группам скважин:"
   ]
  },
  {
   "cell_type": "code",
   "execution_count": 76,
   "metadata": {},
   "outputs": [
    {
     "data": {
      "text/html": [
       "<div>\n",
       "<style scoped>\n",
       "    .dataframe tbody tr th:only-of-type {\n",
       "        vertical-align: middle;\n",
       "    }\n",
       "\n",
       "    .dataframe tbody tr th {\n",
       "        vertical-align: top;\n",
       "    }\n",
       "\n",
       "    .dataframe thead th {\n",
       "        text-align: right;\n",
       "    }\n",
       "</style>\n",
       "<table border=\"1\" class=\"dataframe\">\n",
       "  <thead>\n",
       "    <tr style=\"text-align: right;\">\n",
       "      <th></th>\n",
       "      <th>группа скважин-3</th>\n",
       "      <th>группа скважин-1</th>\n",
       "      <th>группа скважин-2</th>\n",
       "    </tr>\n",
       "  </thead>\n",
       "  <tbody>\n",
       "    <tr>\n",
       "      <th>Cредний запас сырья, тыс. баррелей</th>\n",
       "      <td>95.150999</td>\n",
       "      <td>92.325956</td>\n",
       "      <td>68.725381</td>\n",
       "    </tr>\n",
       "    <tr>\n",
       "      <th>Cредний запас предсказанного сырья, тыс. баррелей</th>\n",
       "      <td>94.760501</td>\n",
       "      <td>92.400454</td>\n",
       "      <td>68.712876</td>\n",
       "    </tr>\n",
       "    <tr>\n",
       "      <th>Метрика RMSE</th>\n",
       "      <td>5.660000</td>\n",
       "      <td>5.570000</td>\n",
       "      <td>0.850000</td>\n",
       "    </tr>\n",
       "  </tbody>\n",
       "</table>\n",
       "</div>"
      ],
      "text/plain": [
       "                                                   группа скважин-3  \\\n",
       "Cредний запас сырья, тыс. баррелей                        95.150999   \n",
       "Cредний запас предсказанного сырья, тыс. баррелей         94.760501   \n",
       "Метрика RMSE                                               5.660000   \n",
       "\n",
       "                                                   группа скважин-1  \\\n",
       "Cредний запас сырья, тыс. баррелей                        92.325956   \n",
       "Cредний запас предсказанного сырья, тыс. баррелей         92.400454   \n",
       "Метрика RMSE                                               5.570000   \n",
       "\n",
       "                                                   группа скважин-2  \n",
       "Cредний запас сырья, тыс. баррелей                        68.725381  \n",
       "Cредний запас предсказанного сырья, тыс. баррелей         68.712876  \n",
       "Метрика RMSE                                               0.850000  "
      ]
     },
     "execution_count": 76,
     "metadata": {},
     "output_type": "execute_result"
    }
   ],
   "source": [
    "accumulated_data = pd.DataFrame()\n",
    "accumulated_data['Cредний запас сырья, тыс. баррелей'] = (validation_rez[validation_rez.columns[['true' in name for name in validation_rez.columns]]].sum()).values/validation_rez.shape[0]\n",
    "accumulated_data['Cредний запас предсказанного сырья, тыс. баррелей'] = (validation_rez[validation_rez.columns[['predicted' in name for name in validation_rez.columns]]].sum()).values/validation_rez.shape[0]\n",
    "accumulated_data.index = table_names\n",
    "accumulated_data['Метрика RMSE'] = metrics['Метрика RMSE'].values.round(2)\n",
    "accumulated_data.sort_values(by = 'Cредний запас предсказанного сырья, тыс. баррелей', ascending=False).T"
   ]
  },
  {
   "cell_type": "markdown",
   "metadata": {},
   "source": [
    "Таким образом, лучшие показатели по среднему запасу предсказанного сырья показала группа скважин 3, далее группа скважин 1 и группа скважин 2"
   ]
  },
  {
   "cell_type": "markdown",
   "metadata": {},
   "source": [
    "**ВЫВОДЫ**\n",
    " - Обучена модель линейной регрессии;\n",
    " - использование полиномизации позволило повысить качество модели на 5% для третьей группы скважин;\n",
    " - сохранены предсказания и правильные ответы на валидационной выборке;\n",
    " - получены значения средного запаса предсказанного сырья и RMSE модели (представлены в итоговой таблице);\n",
    " - отмечено высокое качество модели для второй группы скважин и посредственное для первой и третьей группы."
   ]
  },
  {
   "cell_type": "markdown",
   "metadata": {},
   "source": [
    "## Расчёт прибыли"
   ]
  },
  {
   "cell_type": "markdown",
   "metadata": {},
   "source": [
    "Ключевые значения для расчета объявлены в начале исследования."
   ]
  },
  {
   "cell_type": "markdown",
   "metadata": {},
   "source": [
    "###  Достаточный объём сырья для безубыточной разработки новой скважины. Сравнить полученный объём сырья со средним запасом в каждом регионе."
   ]
  },
  {
   "cell_type": "markdown",
   "metadata": {},
   "source": [
    "Будем считать, что минимальное среднее количество продукта в месторождениях региона, достаточное для разработки определяется исходя из нулевого значения ROI («возврат на инвестиции») при текущей цене барреля нефти. То есть итоговая прибыль в пределе должна быть равна инвестициям:"
   ]
  },
  {
   "cell_type": "code",
   "execution_count": 56,
   "metadata": {},
   "outputs": [
    {
     "name": "stdout",
     "output_type": "stream",
     "text": [
      "Необходимое количество добытой нефти с группы скважин, тыс. баррелей: 22222.22\n"
     ]
    }
   ],
   "source": [
    "total_product = BUDGET/BARREL_PRICE\n",
    "print('Необходимое количество добытой нефти с группы скважин, тыс. баррелей:', round(total_product,2))"
   ]
  },
  {
   "cell_type": "markdown",
   "metadata": {},
   "source": [
    "Сравним полученный объём сырья со средним запасом в каждом регионе(по предсказанным моделью данным)"
   ]
  },
  {
   "cell_type": "code",
   "execution_count": 77,
   "metadata": {},
   "outputs": [
    {
     "data": {
      "text/html": [
       "<div>\n",
       "<style scoped>\n",
       "    .dataframe tbody tr th:only-of-type {\n",
       "        vertical-align: middle;\n",
       "    }\n",
       "\n",
       "    .dataframe tbody tr th {\n",
       "        vertical-align: top;\n",
       "    }\n",
       "\n",
       "    .dataframe thead th {\n",
       "        text-align: right;\n",
       "    }\n",
       "</style>\n",
       "<table border=\"1\" class=\"dataframe\">\n",
       "  <thead>\n",
       "    <tr style=\"text-align: right;\">\n",
       "      <th></th>\n",
       "      <th>группа скважин-1</th>\n",
       "      <th>группа скважин-2</th>\n",
       "      <th>группа скважин-3</th>\n",
       "    </tr>\n",
       "  </thead>\n",
       "  <tbody>\n",
       "    <tr>\n",
       "      <th>Cредний запас сырья, тыс. баррелей</th>\n",
       "      <td>92.325956</td>\n",
       "      <td>68.725381</td>\n",
       "      <td>95.150999</td>\n",
       "    </tr>\n",
       "    <tr>\n",
       "      <th>Cредний запас предсказанного сырья, тыс. баррелей</th>\n",
       "      <td>92.400454</td>\n",
       "      <td>68.712876</td>\n",
       "      <td>94.760501</td>\n",
       "    </tr>\n",
       "    <tr>\n",
       "      <th>Метрика RMSE</th>\n",
       "      <td>5.570000</td>\n",
       "      <td>0.850000</td>\n",
       "      <td>5.660000</td>\n",
       "    </tr>\n",
       "    <tr>\n",
       "      <th>Кол-во скважин для безубыточности, шт</th>\n",
       "      <td>240.000000</td>\n",
       "      <td>323.000000</td>\n",
       "      <td>234.000000</td>\n",
       "    </tr>\n",
       "  </tbody>\n",
       "</table>\n",
       "</div>"
      ],
      "text/plain": [
       "                                                   группа скважин-1  \\\n",
       "Cредний запас сырья, тыс. баррелей                        92.325956   \n",
       "Cредний запас предсказанного сырья, тыс. баррелей         92.400454   \n",
       "Метрика RMSE                                               5.570000   \n",
       "Кол-во скважин для безубыточности, шт                    240.000000   \n",
       "\n",
       "                                                   группа скважин-2  \\\n",
       "Cредний запас сырья, тыс. баррелей                        68.725381   \n",
       "Cредний запас предсказанного сырья, тыс. баррелей         68.712876   \n",
       "Метрика RMSE                                               0.850000   \n",
       "Кол-во скважин для безубыточности, шт                    323.000000   \n",
       "\n",
       "                                                   группа скважин-3  \n",
       "Cредний запас сырья, тыс. баррелей                        95.150999  \n",
       "Cредний запас предсказанного сырья, тыс. баррелей         94.760501  \n",
       "Метрика RMSE                                               5.660000  \n",
       "Кол-во скважин для безубыточности, шт                    234.000000  "
      ]
     },
     "execution_count": 77,
     "metadata": {},
     "output_type": "execute_result"
    }
   ],
   "source": [
    "accumulated_data['Кол-во скважин для безубыточности, шт'] = np.floor(total_product/accumulated_data['Cредний запас предсказанного сырья, тыс. баррелей'])\n",
    "accumulated_data.T"
   ]
  },
  {
   "cell_type": "markdown",
   "metadata": {},
   "source": [
    "Вывод: \n",
    " - Исходя из средней производительности скважин в группах не удается обеспечить безубыточность производства на 200 скважинах. "
   ]
  },
  {
   "cell_type": "markdown",
   "metadata": {},
   "source": [
    "### Расчёт прибыли по лучшим 200 предсказанным скважинам для каждой группы"
   ]
  },
  {
   "cell_type": "markdown",
   "metadata": {},
   "source": [
    "Чистая прибыль учитывает почти все показатели бизнеса: себестоимость, операционные расходы, платежи государству и кредиторам. Поэтому из доходов от продажи нефти вычтем затраты на разработку. Тут странно, но: \n",
    "\n",
    " - x.1 Выберите скважины с максимальными значениями предсказаний;\n",
    " - x.2 Просуммируйте целевое значение объёма сырья, соответствующее этим предсказания;\n",
    " - x.3 Рассчитайте прибыль для полученного объёма сырья.\n"
   ]
  },
  {
   "cell_type": "code",
   "execution_count": 79,
   "metadata": {},
   "outputs": [],
   "source": [
    "def get_profit (data):\n",
    "    sorted_data = data.sort_values(by = 'predicted', ascending=False)\n",
    "    product = (sorted_data[:CHOSEN_POINTS])['true'].sum()\n",
    "    income = product*BARREL_PRICE\n",
    "    return (income-BUDGET)/1000"
   ]
  },
  {
   "cell_type": "code",
   "execution_count": 81,
   "metadata": {},
   "outputs": [
    {
     "data": {
      "text/html": [
       "<div>\n",
       "<style scoped>\n",
       "    .dataframe tbody tr th:only-of-type {\n",
       "        vertical-align: middle;\n",
       "    }\n",
       "\n",
       "    .dataframe tbody tr th {\n",
       "        vertical-align: top;\n",
       "    }\n",
       "\n",
       "    .dataframe thead th {\n",
       "        text-align: right;\n",
       "    }\n",
       "</style>\n",
       "<table border=\"1\" class=\"dataframe\">\n",
       "  <thead>\n",
       "    <tr style=\"text-align: right;\">\n",
       "      <th></th>\n",
       "      <th>группа скважин-1</th>\n",
       "      <th>группа скважин-2</th>\n",
       "      <th>группа скважин-3</th>\n",
       "    </tr>\n",
       "  </thead>\n",
       "  <tbody>\n",
       "    <tr>\n",
       "      <th>Cредний запас сырья, тыс. баррелей</th>\n",
       "      <td>92.325956</td>\n",
       "      <td>68.725381</td>\n",
       "      <td>95.150999</td>\n",
       "    </tr>\n",
       "    <tr>\n",
       "      <th>Cредний запас предсказанного сырья, тыс. баррелей</th>\n",
       "      <td>92.400454</td>\n",
       "      <td>68.712876</td>\n",
       "      <td>94.760501</td>\n",
       "    </tr>\n",
       "    <tr>\n",
       "      <th>Метрика RMSE</th>\n",
       "      <td>5.570000</td>\n",
       "      <td>0.850000</td>\n",
       "      <td>5.660000</td>\n",
       "    </tr>\n",
       "    <tr>\n",
       "      <th>Кол-во скважин для безубыточности, шт</th>\n",
       "      <td>240.000000</td>\n",
       "      <td>323.000000</td>\n",
       "      <td>234.000000</td>\n",
       "    </tr>\n",
       "    <tr>\n",
       "      <th>Прибыль, млн</th>\n",
       "      <td>3344.422316</td>\n",
       "      <td>2415.086697</td>\n",
       "      <td>2888.023863</td>\n",
       "    </tr>\n",
       "  </tbody>\n",
       "</table>\n",
       "</div>"
      ],
      "text/plain": [
       "                                                   группа скважин-1  \\\n",
       "Cредний запас сырья, тыс. баррелей                        92.325956   \n",
       "Cредний запас предсказанного сырья, тыс. баррелей         92.400454   \n",
       "Метрика RMSE                                               5.570000   \n",
       "Кол-во скважин для безубыточности, шт                    240.000000   \n",
       "Прибыль, млн                                            3344.422316   \n",
       "\n",
       "                                                   группа скважин-2  \\\n",
       "Cредний запас сырья, тыс. баррелей                        68.725381   \n",
       "Cредний запас предсказанного сырья, тыс. баррелей         68.712876   \n",
       "Метрика RMSE                                               0.850000   \n",
       "Кол-во скважин для безубыточности, шт                    323.000000   \n",
       "Прибыль, млн                                            2415.086697   \n",
       "\n",
       "                                                   группа скважин-3  \n",
       "Cредний запас сырья, тыс. баррелей                        95.150999  \n",
       "Cредний запас предсказанного сырья, тыс. баррелей         94.760501  \n",
       "Метрика RMSE                                               5.660000  \n",
       "Кол-во скважин для безубыточности, шт                    234.000000  \n",
       "Прибыль, млн                                            2888.023863  "
      ]
     },
     "execution_count": 81,
     "metadata": {},
     "output_type": "execute_result"
    }
   ],
   "source": [
    "accumulated_data['Прибыль, млн'] = [get_profit(item) for item in [derrick1predict, derrick2predict, derrick3predict]];\n",
    "accumulated_data.T"
   ]
  },
  {
   "cell_type": "markdown",
   "metadata": {},
   "source": [
    "**Выводы**\n",
    " - Исходя из **средней производительности** скважин в группах не удается обеспечить безубыточность производства на 200 скважинах;\n",
    " - По **средней производительность** лучшая группа - третья, далее первая и вторая; \n",
    " - Если бы удалось выбрать **самые лучшие** предсказанные скважины, наибольшая прибыль соответствовала бы первой группе скважин, далее третья и вторая группа;\n",
    " - Низкий уровень прибыли со второй группы скважин определяется не точностью модели, а невысоким уровнем запаса сырья;\n",
    " - Низкая точность модели для первой и третьей группы в предсказании прибыли для 200 лучших скважин, компенсируется низких уровнем запаса для второй группы, которая в итоге и проигрывает."
   ]
  },
  {
   "cell_type": "markdown",
   "metadata": {},
   "source": [
    "## Расчёт прибыли и рисков "
   ]
  },
  {
   "cell_type": "markdown",
   "metadata": {},
   "source": [
    "Найдем распределение средней прибыли с помощью Bootstrap на 1000 выборок для 500 скважин."
   ]
  },
  {
   "cell_type": "markdown",
   "metadata": {},
   "source": [
    "### Генерация выборок с помощью Bootstrap с 1000 выборок"
   ]
  },
  {
   "cell_type": "code",
   "execution_count": 82,
   "metadata": {},
   "outputs": [],
   "source": [
    "state = np.random.RandomState(RANDOM_STATE)"
   ]
  },
  {
   "cell_type": "markdown",
   "metadata": {},
   "source": [
    "Создадим функцию для генерации выборок и далее в цикле выполним ее для всех трех групп скважин"
   ]
  },
  {
   "cell_type": "code",
   "execution_count": 84,
   "metadata": {},
   "outputs": [],
   "source": [
    "def get_bootstrap_distribution(data):\n",
    "    profit = np.zeros((BS_SAMPLES, 1))\n",
    "    for i in range(BS_SAMPLES):\n",
    "        subsamples_index =(data.sample(n=INVESTIG_POINTS, replace=True, random_state=state)).index\n",
    "        subsample =  data.loc[subsamples_index]\n",
    "        profit[i] = get_profit(subsample)\n",
    "    profit = pd.DataFrame(profit)\n",
    "    profit.columns = ['средняя прибыль']\n",
    "    return profit"
   ]
  },
  {
   "cell_type": "code",
   "execution_count": 85,
   "metadata": {},
   "outputs": [],
   "source": [
    "derrick1_dist = derrick2_dist=derrick3_dist= pd.DataFrame()\n",
    "list0dist = [derrick1_dist, derrick2_dist, derrick3_dist]\n",
    "for i, df in enumerate([derrick1predict, derrick2predict, derrick3predict]):\n",
    "    list0dist[i] = get_bootstrap_distribution(df)\n",
    "[derrick1_dist, derrick2_dist, derrick3_dist] = list0dist"
   ]
  },
  {
   "cell_type": "markdown",
   "metadata": {},
   "source": [
    "Построим гистограммы распределения прибыли для всех трех групп:"
   ]
  },
  {
   "cell_type": "code",
   "execution_count": 87,
   "metadata": {},
   "outputs": [
    {
     "data": {
      "image/png": "[encoded data removed]",
      "text/plain": [
       "<Figure size 720x360 with 1 Axes>"
      ]
     },
     "metadata": {
      "needs_background": "light"
     },
     "output_type": "display_data"
    }
   ],
   "source": [
    "plt.figure(figsize=(10,5))\n",
    "sns.histplot(data=derrick1_dist, x ='средняя прибыль', bins = 25, label='Группа скажин-1')\n",
    "sns.histplot(data=derrick2_dist, x ='средняя прибыль', bins = 25, label='Группа скажин-2')\n",
    "sns.histplot(data=derrick3_dist, x ='средняя прибыль', bins = 25, label='Группа скажин-3')\n",
    "plt.title ('Гистограмма распределения средней прибыли для групп скважин')\n",
    "plt.ylabel('Средняя прибыль, млн')\n",
    "plt.legend()\n",
    "plt.show()"
   ]
  },
  {
   "cell_type": "markdown",
   "metadata": {},
   "source": [
    "### Cредняя прибыль, 95%-й доверительный интервал и риск убытков."
   ]
  },
  {
   "cell_type": "markdown",
   "metadata": {},
   "source": [
    "Посчитаем в цикле средную прибыль для случайной выборки из 500 скважин, 95 процентный доверительный интервал и риск возникновения убытков."
   ]
  },
  {
   "cell_type": "code",
   "execution_count": 88,
   "metadata": {},
   "outputs": [
    {
     "data": {
      "text/html": [
       "<div>\n",
       "<style scoped>\n",
       "    .dataframe tbody tr th:only-of-type {\n",
       "        vertical-align: middle;\n",
       "    }\n",
       "\n",
       "    .dataframe tbody tr th {\n",
       "        vertical-align: top;\n",
       "    }\n",
       "\n",
       "    .dataframe thead th {\n",
       "        text-align: right;\n",
       "    }\n",
       "</style>\n",
       "<table border=\"1\" class=\"dataframe\">\n",
       "  <thead>\n",
       "    <tr style=\"text-align: right;\">\n",
       "      <th></th>\n",
       "      <th>группа скважин-1</th>\n",
       "      <th>группа скважин-2</th>\n",
       "      <th>группа скважин-3</th>\n",
       "    </tr>\n",
       "  </thead>\n",
       "  <tbody>\n",
       "    <tr>\n",
       "      <th>Среднее значение прибыли для случайной выборки, млн</th>\n",
       "      <td>399.087502</td>\n",
       "      <td>452.576594</td>\n",
       "      <td>575.662222</td>\n",
       "    </tr>\n",
       "    <tr>\n",
       "      <th>Границы 95%-ого доверительного интервала, млн</th>\n",
       "      <td>[-121.54, 897.46]</td>\n",
       "      <td>[52.31, 830.15]</td>\n",
       "      <td>[74.55, 1072.16]</td>\n",
       "    </tr>\n",
       "    <tr>\n",
       "      <th>Ширина 95%-ого доверительного интервала, млн</th>\n",
       "      <td>1019.003727</td>\n",
       "      <td>777.836903</td>\n",
       "      <td>997.617297</td>\n",
       "    </tr>\n",
       "    <tr>\n",
       "      <th>Вероятность отрицательной прибыли, %</th>\n",
       "      <td>6.2</td>\n",
       "      <td>0.9</td>\n",
       "      <td>0.9</td>\n",
       "    </tr>\n",
       "  </tbody>\n",
       "</table>\n",
       "</div>"
      ],
      "text/plain": [
       "                                                     группа скважин-1  \\\n",
       "Среднее значение прибыли для случайной выборки,...         399.087502   \n",
       "Границы 95%-ого доверительного интервала, млн       [-121.54, 897.46]   \n",
       "Ширина 95%-ого доверительного интервала, млн              1019.003727   \n",
       "Вероятность отрицательной прибыли, %                              6.2   \n",
       "\n",
       "                                                   группа скважин-2  \\\n",
       "Среднее значение прибыли для случайной выборки,...       452.576594   \n",
       "Границы 95%-ого доверительного интервала, млн       [52.31, 830.15]   \n",
       "Ширина 95%-ого доверительного интервала, млн             777.836903   \n",
       "Вероятность отрицательной прибыли, %                            0.9   \n",
       "\n",
       "                                                    группа скважин-3  \n",
       "Среднее значение прибыли для случайной выборки,...        575.662222  \n",
       "Границы 95%-ого доверительного интервала, млн       [74.55, 1072.16]  \n",
       "Ширина 95%-ого доверительного интервала, млн              997.617297  \n",
       "Вероятность отрицательной прибыли, %                             0.9  "
      ]
     },
     "execution_count": 88,
     "metadata": {},
     "output_type": "execute_result"
    }
   ],
   "source": [
    "comparation_tab = []\n",
    "for i, item in enumerate(list0dist):\n",
    "    comparation_tab.append([item.mean().values[0], [item.quantile(0.025).values[0].round(2), \n",
    "                            item.quantile(0.975).values[0].round(2)], \n",
    "                            item.quantile(0.975).values[0]-item.quantile(0.025).values[0],\n",
    "                            item.loc[item['средняя прибыль']<0].count().values[0]/BS_SAMPLES*100])\n",
    "comparation_tab = pd.DataFrame(comparation_tab)\n",
    "comparation_tab.columns = ['Среднее значение прибыли для случайной выборки, млн', \n",
    "                           'Границы 95%-ого доверительного интервала, млн',\n",
    "                           'Ширина 95%-ого доверительного интервала, млн',\n",
    "                           'Вероятность отрицательной прибыли, %']\n",
    "comparation_tab.index = table_names\n",
    "comparation_tab.T"
   ]
  },
  {
   "cell_type": "markdown",
   "metadata": {},
   "source": [
    "**Выводы**\n",
    "\n",
    " - Самый большой риск убытков соответствует первой группе скважин и достигает {{ comparation_tab['Вероятность отрицательной прибыли, %']['группа скважин-1'] }} процентов;\n",
    " - Самый низкий риск убытков соответствует второй группе скважин {{ comparation_tab['Вероятность отрицательной прибыли, %']['группа скважин-2'] }}, сопоставимый с ним уровень для третьей группы {{ comparation_tab['Вероятность отрицательной прибыли, %']['группа скважин-3'] }};\n",
    " - Для второй группы скважин самый \"узкий\" доверительный интервал {{ comparation_tab['Ширина 95%-ого доверительного интервала, млн']['группа скважин-2'] }}, что определяется высокой предсказательной способностью используемой модели;\n",
    " - Ширина доверительного интервала для первой и третьей группы - {{ comparation_tab['Ширина 95%-ого доверительного интервала, млн']['группа скважин-1'] }} и {{ comparation_tab['Ширина 95%-ого доверительного интервала, млн']['группа скважин-3'] }}сопоставимы, соответственно;\n",
    " - самое высокий уровень прибыли на случайной выборке найден для третьей группы скважин {{ comparation_tab['Среднее значение прибыли для случайной выборки, млн']['группа скважин-3'] }}, далее первая группа с {{ comparation_tab['Среднее значение прибыли для случайной выборки, млн']['группа скважин-1'] }} и вторая {{ comparation_tab['Среднее значение прибыли для случайной выборки, млн']['группа скважин-2'] }}."
   ]
  },
  {
   "cell_type": "markdown",
   "metadata": {},
   "source": [
    "## Выводы по подбору региона"
   ]
  },
  {
   "cell_type": "markdown",
   "metadata": {},
   "source": [
    "* высокая предсказательная способность модели для второго региона определяет стабильность (доверительный интервал) добычи, однако низкий уровень запасов не позволяет предложить этот регион в качестве основного;\n",
    "* дополнительными факторами неопределенности являются: дискретное распределение параметра \"f2\" и наличие скважин с около нулевой производительностью;\n",
    "* высокий уровень запасов нефти в среднем по региону и высокая средняя прибыль на случайной выборке с использованием разработанной модели позволяет **рекоменовать в качестве основного варианта - регион три**.\n",
    "\n",
    "\n",
    "\n",
    "\n",
    "Предложен регион для разработки месторождения\n",
    " Выбор региона обоснован"
   ]
  },
  {
   "cell_type": "markdown",
   "metadata": {},
   "source": [
    "## Чек-лист готовности проекта"
   ]
  },
  {
   "cell_type": "markdown",
   "metadata": {},
   "source": [
    "Поставьте 'x' в выполненных пунктах. Далее нажмите Shift+Enter."
   ]
  },
  {
   "cell_type": "markdown",
   "metadata": {},
   "source": [
    "- [x]  Jupyter Notebook открыт\n",
    "- [x]  Весь код выполняется без ошибок\n",
    "- [x]  Ячейки с кодом расположены в порядке исполнения\n",
    "- [x]  Выполнен шаг 1: данные подготовлены\n",
    "- [x]  Выполнен шаг 2: модели обучены и проверены\n",
    "    - [x]  Данные корректно разбиты на обучающую и валидационную выборки\n",
    "    - [x]  Модели обучены, предсказания сделаны\n",
    "    - [x]  Предсказания и правильные ответы на валидационной выборке сохранены\n",
    "    - [x]  На экране напечатаны результаты\n",
    "    - [x]  Сделаны выводы\n",
    "- [x]  Выполнен шаг 3: проведена подготовка к расчёту прибыли\n",
    "    - [x]  Для всех ключевых значений созданы константы Python\n",
    "    - [x]  Посчитано минимальное среднее количество продукта в месторождениях региона, достаточное для разработки\n",
    "    - [x]  По предыдущему пункту сделаны выводы\n",
    "    - [x]  Написана функция расчёта прибыли\n",
    "- [x]  Выполнен шаг 4: посчитаны риски и прибыль\n",
    "    - [x]  Проведена процедура *Bootstrap*\n",
    "    - [x]  Все параметры бутстрепа соответствуют условию\n",
    "    - [x]  Найдены все нужные величины\n",
    "    - [x]  Предложен регион для разработки месторождения\n",
    "    - [x]  Выбор региона обоснован"
   ]
  },
  {
   "cell_type": "code",
   "execution_count": null,
   "metadata": {},
   "outputs": [],
   "source": []
  }
 ],
 "metadata": {
  "kernelspec": {
   "display_name": "Python 3 (ipykernel)",
   "language": "python",
   "name": "python3"
  },
  "language_info": {
   "codemirror_mode": {
    "name": "ipython",
    "version": 3
   },
   "file_extension": ".py",
   "mimetype": "text/x-python",
   "name": "python",
   "nbconvert_exporter": "python",
   "pygments_lexer": "ipython3",
   "version": "3.9.7"
  },
  "toc": {
   "base_numbering": 1,
   "nav_menu": {},
   "number_sections": true,
   "sideBar": true,
   "skip_h1_title": true,
   "title_cell": "Table of Contents",
   "title_sidebar": "Contents",
   "toc_cell": false,
   "toc_position": {},
   "toc_section_display": true,
   "toc_window_display": false
  }
 },
 "nbformat": 4,
 "nbformat_minor": 4
}
