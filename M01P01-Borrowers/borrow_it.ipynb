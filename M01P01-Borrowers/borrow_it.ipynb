{
 "cells": [
  {
   "cell_type": "markdown",
   "id": "fcc6783e",
   "metadata": {
    "deletable": false,
    "editable": false,
    "id": "c81daeeb"
   },
   "source": [
    "# Исследование надежности заемщиков\n"
   ]
  },
  {
   "cell_type": "markdown",
   "id": "ed781e33",
   "metadata": {
    "deletable": false,
    "editable": false,
    "id": "827c20bf"
   },
   "source": [
    "Во второй части проекта вы выполните шаги 3 и 4. Их вручную проверит ревьюер.\n",
    "Чтобы вам не пришлось писать код заново для шагов 1 и 2, мы добавили авторские решения в ячейки с кодом. \n",
    "\n"
   ]
  },
  {
   "cell_type": "markdown",
   "id": "d8017a1d",
   "metadata": {
    "deletable": false,
    "editable": false,
    "id": "744d7639"
   },
   "source": [
    "## Откройте таблицу и изучите общую информацию о данных"
   ]
  },
  {
   "cell_type": "markdown",
   "id": "1a6ddb6e",
   "metadata": {
    "deletable": false,
    "editable": false,
    "id": "e7a14c31"
   },
   "source": [
    "**Задание 1. Импортируйте библиотеку pandas. Считайте данные из csv-файла в датафрейм и сохраните в переменную `data`. Путь к файлу:**\n",
    "\n",
    "`/datasets/data.csv`"
   ]
  },
  {
   "cell_type": "code",
   "execution_count": 1,
   "id": "5be112ff",
   "metadata": {
    "deletable": false,
    "id": "7bcf75c9"
   },
   "outputs": [],
   "source": [
    "import pandas as pd\n",
    "import seaborn as sns\n",
    "import numpy as np\n",
    "import matplotlib.pyplot as plt\n",
    "\n",
    "try:\n",
    "    data = pd.read_csv('data.csv')\n",
    "except:\n",
    "    data = pd.read_csv('https://code.s3.yandex.net/datasets/data.csv')"
   ]
  },
  {
   "cell_type": "markdown",
   "id": "b6a5a756",
   "metadata": {
    "deletable": false,
    "editable": false,
    "id": "b8038fe3"
   },
   "source": [
    "**Задание 2. Выведите первые 20 строчек датафрейма `data` на экран.**"
   ]
  },
  {
   "cell_type": "code",
   "execution_count": 2,
   "id": "df6b7576",
   "metadata": {
    "deletable": false,
    "id": "2a7cab99",
    "outputId": "1a8f3ef2-d323-4ec2-ddf7-89670b5944c4"
   },
   "outputs": [
    {
     "data": {
      "text/html": [
       "<div>\n",
       "<style scoped>\n",
       "    .dataframe tbody tr th:only-of-type {\n",
       "        vertical-align: middle;\n",
       "    }\n",
       "\n",
       "    .dataframe tbody tr th {\n",
       "        vertical-align: top;\n",
       "    }\n",
       "\n",
       "    .dataframe thead th {\n",
       "        text-align: right;\n",
       "    }\n",
       "</style>\n",
       "<table border=\"1\" class=\"dataframe\">\n",
       "  <thead>\n",
       "    <tr style=\"text-align: right;\">\n",
       "      <th></th>\n",
       "      <th>children</th>\n",
       "      <th>days_employed</th>\n",
       "      <th>dob_years</th>\n",
       "      <th>education</th>\n",
       "      <th>education_id</th>\n",
       "      <th>family_status</th>\n",
       "      <th>family_status_id</th>\n",
       "      <th>gender</th>\n",
       "      <th>income_type</th>\n",
       "      <th>debt</th>\n",
       "      <th>total_income</th>\n",
       "      <th>purpose</th>\n",
       "    </tr>\n",
       "  </thead>\n",
       "  <tbody>\n",
       "    <tr>\n",
       "      <th>0</th>\n",
       "      <td>1</td>\n",
       "      <td>-8437.673028</td>\n",
       "      <td>42</td>\n",
       "      <td>высшее</td>\n",
       "      <td>0</td>\n",
       "      <td>женат / замужем</td>\n",
       "      <td>0</td>\n",
       "      <td>F</td>\n",
       "      <td>сотрудник</td>\n",
       "      <td>0</td>\n",
       "      <td>253875.639453</td>\n",
       "      <td>покупка жилья</td>\n",
       "    </tr>\n",
       "    <tr>\n",
       "      <th>1</th>\n",
       "      <td>1</td>\n",
       "      <td>-4024.803754</td>\n",
       "      <td>36</td>\n",
       "      <td>среднее</td>\n",
       "      <td>1</td>\n",
       "      <td>женат / замужем</td>\n",
       "      <td>0</td>\n",
       "      <td>F</td>\n",
       "      <td>сотрудник</td>\n",
       "      <td>0</td>\n",
       "      <td>112080.014102</td>\n",
       "      <td>приобретение автомобиля</td>\n",
       "    </tr>\n",
       "    <tr>\n",
       "      <th>2</th>\n",
       "      <td>0</td>\n",
       "      <td>-5623.422610</td>\n",
       "      <td>33</td>\n",
       "      <td>Среднее</td>\n",
       "      <td>1</td>\n",
       "      <td>женат / замужем</td>\n",
       "      <td>0</td>\n",
       "      <td>M</td>\n",
       "      <td>сотрудник</td>\n",
       "      <td>0</td>\n",
       "      <td>145885.952297</td>\n",
       "      <td>покупка жилья</td>\n",
       "    </tr>\n",
       "    <tr>\n",
       "      <th>3</th>\n",
       "      <td>3</td>\n",
       "      <td>-4124.747207</td>\n",
       "      <td>32</td>\n",
       "      <td>среднее</td>\n",
       "      <td>1</td>\n",
       "      <td>женат / замужем</td>\n",
       "      <td>0</td>\n",
       "      <td>M</td>\n",
       "      <td>сотрудник</td>\n",
       "      <td>0</td>\n",
       "      <td>267628.550329</td>\n",
       "      <td>дополнительное образование</td>\n",
       "    </tr>\n",
       "    <tr>\n",
       "      <th>4</th>\n",
       "      <td>0</td>\n",
       "      <td>340266.072047</td>\n",
       "      <td>53</td>\n",
       "      <td>среднее</td>\n",
       "      <td>1</td>\n",
       "      <td>гражданский брак</td>\n",
       "      <td>1</td>\n",
       "      <td>F</td>\n",
       "      <td>пенсионер</td>\n",
       "      <td>0</td>\n",
       "      <td>158616.077870</td>\n",
       "      <td>сыграть свадьбу</td>\n",
       "    </tr>\n",
       "    <tr>\n",
       "      <th>5</th>\n",
       "      <td>0</td>\n",
       "      <td>-926.185831</td>\n",
       "      <td>27</td>\n",
       "      <td>высшее</td>\n",
       "      <td>0</td>\n",
       "      <td>гражданский брак</td>\n",
       "      <td>1</td>\n",
       "      <td>M</td>\n",
       "      <td>компаньон</td>\n",
       "      <td>0</td>\n",
       "      <td>255763.565419</td>\n",
       "      <td>покупка жилья</td>\n",
       "    </tr>\n",
       "    <tr>\n",
       "      <th>6</th>\n",
       "      <td>0</td>\n",
       "      <td>-2879.202052</td>\n",
       "      <td>43</td>\n",
       "      <td>высшее</td>\n",
       "      <td>0</td>\n",
       "      <td>женат / замужем</td>\n",
       "      <td>0</td>\n",
       "      <td>F</td>\n",
       "      <td>компаньон</td>\n",
       "      <td>0</td>\n",
       "      <td>240525.971920</td>\n",
       "      <td>операции с жильем</td>\n",
       "    </tr>\n",
       "    <tr>\n",
       "      <th>7</th>\n",
       "      <td>0</td>\n",
       "      <td>-152.779569</td>\n",
       "      <td>50</td>\n",
       "      <td>СРЕДНЕЕ</td>\n",
       "      <td>1</td>\n",
       "      <td>женат / замужем</td>\n",
       "      <td>0</td>\n",
       "      <td>M</td>\n",
       "      <td>сотрудник</td>\n",
       "      <td>0</td>\n",
       "      <td>135823.934197</td>\n",
       "      <td>образование</td>\n",
       "    </tr>\n",
       "    <tr>\n",
       "      <th>8</th>\n",
       "      <td>2</td>\n",
       "      <td>-6929.865299</td>\n",
       "      <td>35</td>\n",
       "      <td>ВЫСШЕЕ</td>\n",
       "      <td>0</td>\n",
       "      <td>гражданский брак</td>\n",
       "      <td>1</td>\n",
       "      <td>F</td>\n",
       "      <td>сотрудник</td>\n",
       "      <td>0</td>\n",
       "      <td>95856.832424</td>\n",
       "      <td>на проведение свадьбы</td>\n",
       "    </tr>\n",
       "    <tr>\n",
       "      <th>9</th>\n",
       "      <td>0</td>\n",
       "      <td>-2188.756445</td>\n",
       "      <td>41</td>\n",
       "      <td>среднее</td>\n",
       "      <td>1</td>\n",
       "      <td>женат / замужем</td>\n",
       "      <td>0</td>\n",
       "      <td>M</td>\n",
       "      <td>сотрудник</td>\n",
       "      <td>0</td>\n",
       "      <td>144425.938277</td>\n",
       "      <td>покупка жилья для семьи</td>\n",
       "    </tr>\n",
       "    <tr>\n",
       "      <th>10</th>\n",
       "      <td>2</td>\n",
       "      <td>-4171.483647</td>\n",
       "      <td>36</td>\n",
       "      <td>высшее</td>\n",
       "      <td>0</td>\n",
       "      <td>женат / замужем</td>\n",
       "      <td>0</td>\n",
       "      <td>M</td>\n",
       "      <td>компаньон</td>\n",
       "      <td>0</td>\n",
       "      <td>113943.491460</td>\n",
       "      <td>покупка недвижимости</td>\n",
       "    </tr>\n",
       "    <tr>\n",
       "      <th>11</th>\n",
       "      <td>0</td>\n",
       "      <td>-792.701887</td>\n",
       "      <td>40</td>\n",
       "      <td>среднее</td>\n",
       "      <td>1</td>\n",
       "      <td>женат / замужем</td>\n",
       "      <td>0</td>\n",
       "      <td>F</td>\n",
       "      <td>сотрудник</td>\n",
       "      <td>0</td>\n",
       "      <td>77069.234271</td>\n",
       "      <td>покупка коммерческой недвижимости</td>\n",
       "    </tr>\n",
       "    <tr>\n",
       "      <th>12</th>\n",
       "      <td>0</td>\n",
       "      <td>NaN</td>\n",
       "      <td>65</td>\n",
       "      <td>среднее</td>\n",
       "      <td>1</td>\n",
       "      <td>гражданский брак</td>\n",
       "      <td>1</td>\n",
       "      <td>M</td>\n",
       "      <td>пенсионер</td>\n",
       "      <td>0</td>\n",
       "      <td>NaN</td>\n",
       "      <td>сыграть свадьбу</td>\n",
       "    </tr>\n",
       "    <tr>\n",
       "      <th>13</th>\n",
       "      <td>0</td>\n",
       "      <td>-1846.641941</td>\n",
       "      <td>54</td>\n",
       "      <td>неоконченное высшее</td>\n",
       "      <td>2</td>\n",
       "      <td>женат / замужем</td>\n",
       "      <td>0</td>\n",
       "      <td>F</td>\n",
       "      <td>сотрудник</td>\n",
       "      <td>0</td>\n",
       "      <td>130458.228857</td>\n",
       "      <td>приобретение автомобиля</td>\n",
       "    </tr>\n",
       "    <tr>\n",
       "      <th>14</th>\n",
       "      <td>0</td>\n",
       "      <td>-1844.956182</td>\n",
       "      <td>56</td>\n",
       "      <td>высшее</td>\n",
       "      <td>0</td>\n",
       "      <td>гражданский брак</td>\n",
       "      <td>1</td>\n",
       "      <td>F</td>\n",
       "      <td>компаньон</td>\n",
       "      <td>1</td>\n",
       "      <td>165127.911772</td>\n",
       "      <td>покупка жилой недвижимости</td>\n",
       "    </tr>\n",
       "    <tr>\n",
       "      <th>15</th>\n",
       "      <td>1</td>\n",
       "      <td>-972.364419</td>\n",
       "      <td>26</td>\n",
       "      <td>среднее</td>\n",
       "      <td>1</td>\n",
       "      <td>женат / замужем</td>\n",
       "      <td>0</td>\n",
       "      <td>F</td>\n",
       "      <td>сотрудник</td>\n",
       "      <td>0</td>\n",
       "      <td>116820.904450</td>\n",
       "      <td>строительство собственной недвижимости</td>\n",
       "    </tr>\n",
       "    <tr>\n",
       "      <th>16</th>\n",
       "      <td>0</td>\n",
       "      <td>-1719.934226</td>\n",
       "      <td>35</td>\n",
       "      <td>среднее</td>\n",
       "      <td>1</td>\n",
       "      <td>женат / замужем</td>\n",
       "      <td>0</td>\n",
       "      <td>F</td>\n",
       "      <td>сотрудник</td>\n",
       "      <td>0</td>\n",
       "      <td>289202.704229</td>\n",
       "      <td>недвижимость</td>\n",
       "    </tr>\n",
       "    <tr>\n",
       "      <th>17</th>\n",
       "      <td>0</td>\n",
       "      <td>-2369.999720</td>\n",
       "      <td>33</td>\n",
       "      <td>высшее</td>\n",
       "      <td>0</td>\n",
       "      <td>гражданский брак</td>\n",
       "      <td>1</td>\n",
       "      <td>M</td>\n",
       "      <td>сотрудник</td>\n",
       "      <td>0</td>\n",
       "      <td>90410.586745</td>\n",
       "      <td>строительство недвижимости</td>\n",
       "    </tr>\n",
       "    <tr>\n",
       "      <th>18</th>\n",
       "      <td>0</td>\n",
       "      <td>400281.136913</td>\n",
       "      <td>53</td>\n",
       "      <td>среднее</td>\n",
       "      <td>1</td>\n",
       "      <td>вдовец / вдова</td>\n",
       "      <td>2</td>\n",
       "      <td>F</td>\n",
       "      <td>пенсионер</td>\n",
       "      <td>0</td>\n",
       "      <td>56823.777243</td>\n",
       "      <td>на покупку подержанного автомобиля</td>\n",
       "    </tr>\n",
       "    <tr>\n",
       "      <th>19</th>\n",
       "      <td>0</td>\n",
       "      <td>-10038.818549</td>\n",
       "      <td>48</td>\n",
       "      <td>СРЕДНЕЕ</td>\n",
       "      <td>1</td>\n",
       "      <td>в разводе</td>\n",
       "      <td>3</td>\n",
       "      <td>F</td>\n",
       "      <td>сотрудник</td>\n",
       "      <td>0</td>\n",
       "      <td>242831.107982</td>\n",
       "      <td>на покупку своего автомобиля</td>\n",
       "    </tr>\n",
       "  </tbody>\n",
       "</table>\n",
       "</div>"
      ],
      "text/plain": [
       "    children  days_employed  dob_years            education  education_id  \\\n",
       "0          1   -8437.673028         42               высшее             0   \n",
       "1          1   -4024.803754         36              среднее             1   \n",
       "2          0   -5623.422610         33              Среднее             1   \n",
       "3          3   -4124.747207         32              среднее             1   \n",
       "4          0  340266.072047         53              среднее             1   \n",
       "5          0    -926.185831         27               высшее             0   \n",
       "6          0   -2879.202052         43               высшее             0   \n",
       "7          0    -152.779569         50              СРЕДНЕЕ             1   \n",
       "8          2   -6929.865299         35               ВЫСШЕЕ             0   \n",
       "9          0   -2188.756445         41              среднее             1   \n",
       "10         2   -4171.483647         36               высшее             0   \n",
       "11         0    -792.701887         40              среднее             1   \n",
       "12         0            NaN         65              среднее             1   \n",
       "13         0   -1846.641941         54  неоконченное высшее             2   \n",
       "14         0   -1844.956182         56               высшее             0   \n",
       "15         1    -972.364419         26              среднее             1   \n",
       "16         0   -1719.934226         35              среднее             1   \n",
       "17         0   -2369.999720         33               высшее             0   \n",
       "18         0  400281.136913         53              среднее             1   \n",
       "19         0  -10038.818549         48              СРЕДНЕЕ             1   \n",
       "\n",
       "       family_status  family_status_id gender income_type  debt  \\\n",
       "0    женат / замужем                 0      F   сотрудник     0   \n",
       "1    женат / замужем                 0      F   сотрудник     0   \n",
       "2    женат / замужем                 0      M   сотрудник     0   \n",
       "3    женат / замужем                 0      M   сотрудник     0   \n",
       "4   гражданский брак                 1      F   пенсионер     0   \n",
       "5   гражданский брак                 1      M   компаньон     0   \n",
       "6    женат / замужем                 0      F   компаньон     0   \n",
       "7    женат / замужем                 0      M   сотрудник     0   \n",
       "8   гражданский брак                 1      F   сотрудник     0   \n",
       "9    женат / замужем                 0      M   сотрудник     0   \n",
       "10   женат / замужем                 0      M   компаньон     0   \n",
       "11   женат / замужем                 0      F   сотрудник     0   \n",
       "12  гражданский брак                 1      M   пенсионер     0   \n",
       "13   женат / замужем                 0      F   сотрудник     0   \n",
       "14  гражданский брак                 1      F   компаньон     1   \n",
       "15   женат / замужем                 0      F   сотрудник     0   \n",
       "16   женат / замужем                 0      F   сотрудник     0   \n",
       "17  гражданский брак                 1      M   сотрудник     0   \n",
       "18    вдовец / вдова                 2      F   пенсионер     0   \n",
       "19         в разводе                 3      F   сотрудник     0   \n",
       "\n",
       "     total_income                                 purpose  \n",
       "0   253875.639453                           покупка жилья  \n",
       "1   112080.014102                 приобретение автомобиля  \n",
       "2   145885.952297                           покупка жилья  \n",
       "3   267628.550329              дополнительное образование  \n",
       "4   158616.077870                         сыграть свадьбу  \n",
       "5   255763.565419                           покупка жилья  \n",
       "6   240525.971920                       операции с жильем  \n",
       "7   135823.934197                             образование  \n",
       "8    95856.832424                   на проведение свадьбы  \n",
       "9   144425.938277                 покупка жилья для семьи  \n",
       "10  113943.491460                    покупка недвижимости  \n",
       "11   77069.234271       покупка коммерческой недвижимости  \n",
       "12            NaN                         сыграть свадьбу  \n",
       "13  130458.228857                 приобретение автомобиля  \n",
       "14  165127.911772              покупка жилой недвижимости  \n",
       "15  116820.904450  строительство собственной недвижимости  \n",
       "16  289202.704229                            недвижимость  \n",
       "17   90410.586745              строительство недвижимости  \n",
       "18   56823.777243      на покупку подержанного автомобиля  \n",
       "19  242831.107982            на покупку своего автомобиля  "
      ]
     },
     "execution_count": 2,
     "metadata": {},
     "output_type": "execute_result"
    }
   ],
   "source": [
    "data.head(20)"
   ]
  },
  {
   "cell_type": "markdown",
   "id": "dad00c81",
   "metadata": {
    "deletable": false,
    "editable": false,
    "id": "1c12e233"
   },
   "source": [
    "**Задание 3. Выведите основную информацию о датафрейме с помощью метода `info()`.**"
   ]
  },
  {
   "cell_type": "markdown",
   "id": "a2c25771-63da-446e-bdc7-304ac62dfa27",
   "metadata": {},
   "source": [
    "Добавил подсчет количества, строк таблицы: 1) с потерянными данными, чтобы сделать вывод о качестве предоставленной информации (broken_data), 2) исходное количество (full_data)"
   ]
  },
  {
   "cell_type": "code",
   "execution_count": 3,
   "id": "d1405735",
   "metadata": {
    "deletable": false,
    "id": "2b757bca",
    "outputId": "15376089-8dad-46c9-b520-c05248d43158"
   },
   "outputs": [
    {
     "name": "stdout",
     "output_type": "stream",
     "text": [
      "<class 'pandas.core.frame.DataFrame'>\n",
      "RangeIndex: 21525 entries, 0 to 21524\n",
      "Data columns (total 12 columns):\n",
      " #   Column            Non-Null Count  Dtype  \n",
      "---  ------            --------------  -----  \n",
      " 0   children          21525 non-null  int64  \n",
      " 1   days_employed     19351 non-null  float64\n",
      " 2   dob_years         21525 non-null  int64  \n",
      " 3   education         21525 non-null  object \n",
      " 4   education_id      21525 non-null  int64  \n",
      " 5   family_status     21525 non-null  object \n",
      " 6   family_status_id  21525 non-null  int64  \n",
      " 7   gender            21525 non-null  object \n",
      " 8   income_type       21525 non-null  object \n",
      " 9   debt              21525 non-null  int64  \n",
      " 10  total_income      19351 non-null  float64\n",
      " 11  purpose           21525 non-null  object \n",
      "dtypes: float64(2), int64(5), object(5)\n",
      "memory usage: 2.0+ MB\n"
     ]
    }
   ],
   "source": [
    "full_data   = len(data)\n",
    "broken_data = data.isna().any(axis=1).sum()\n",
    "data.info()"
   ]
  },
  {
   "cell_type": "markdown",
   "id": "a2357fff",
   "metadata": {
    "deletable": false,
    "editable": false,
    "id": "333ec665"
   },
   "source": [
    "## Предобработка данных"
   ]
  },
  {
   "cell_type": "markdown",
   "id": "fb6d1949",
   "metadata": {
    "deletable": false,
    "editable": false,
    "id": "02d92d53"
   },
   "source": [
    "### Удаление пропусков"
   ]
  },
  {
   "cell_type": "markdown",
   "id": "25c76847",
   "metadata": {
    "deletable": false,
    "editable": false,
    "id": "cd84967c"
   },
   "source": [
    "**Задание 4. Выведите количество пропущенных значений для каждого столбца. Используйте комбинацию двух методов.**"
   ]
  },
  {
   "cell_type": "code",
   "execution_count": 4,
   "id": "1c6d4258",
   "metadata": {
    "deletable": false,
    "id": "7f9b2309",
    "outputId": "81f4d817-781c-465c-ed15-91ce4446810d"
   },
   "outputs": [
    {
     "data": {
      "text/plain": [
       "children               0\n",
       "days_employed       2174\n",
       "dob_years              0\n",
       "education              0\n",
       "education_id           0\n",
       "family_status          0\n",
       "family_status_id       0\n",
       "gender                 0\n",
       "income_type            0\n",
       "debt                   0\n",
       "total_income        2174\n",
       "purpose                0\n",
       "dtype: int64"
      ]
     },
     "execution_count": 4,
     "metadata": {},
     "output_type": "execute_result"
    }
   ],
   "source": [
    "data.isna().sum()"
   ]
  },
  {
   "cell_type": "markdown",
   "id": "385bef0a",
   "metadata": {
    "deletable": false,
    "editable": false,
    "id": "db86e27b"
   },
   "source": [
    "**Задание 5. В двух столбцах есть пропущенные значения. Один из них — `days_employed`. Пропуски в этом столбце вы обработаете на следующем этапе. Другой столбец с пропущенными значениями — `total_income` — хранит данные о доходах. На сумму дохода сильнее всего влияет тип занятости, поэтому заполнить пропуски в этом столбце нужно медианным значением по каждому типу из столбца `income_type`. Например, у человека с типом занятости `сотрудник` пропуск в столбце `total_income` должен быть заполнен медианным доходом среди всех записей с тем же типом.**"
   ]
  },
  {
   "cell_type": "markdown",
   "id": "1fcab97f",
   "metadata": {},
   "source": [
    "\n",
    "Для вывода о причинах пропуска можно соотнести - совпадают ли пропуски в \"днях на работе\" и в \"доходах\".\n"
   ]
  },
  {
   "cell_type": "code",
   "execution_count": 5,
   "id": "079adce1",
   "metadata": {},
   "outputs": [
    {
     "name": "stdout",
     "output_type": "stream",
     "text": [
      "В скольких графах совпадение по дням без работы и доходу: 2174 \n"
     ]
    }
   ],
   "source": [
    "errors_coinc = data.loc[(data['days_employed'].isna()) & (data['total_income'].isna())].shape[0]\n",
    "print (f'В скольких графах совпадение по дням без работы и доходу: {errors_coinc} ')\n"
   ]
  },
  {
   "cell_type": "markdown",
   "id": "83d6d1b3",
   "metadata": {},
   "source": [
    "\n",
    "Совпадает с общим числом пропусков, полученным выше.\n"
   ]
  },
  {
   "cell_type": "code",
   "execution_count": 6,
   "id": "1c4cffdb",
   "metadata": {
    "deletable": false,
    "id": "42006a93"
   },
   "outputs": [],
   "source": [
    "for t in data['income_type'].unique():\n",
    "    data.loc[(data['income_type'] == t) & (data['total_income'].isna()), 'total_income'] = \\\n",
    "    data.loc[(data['income_type'] == t), 'total_income'].median()"
   ]
  },
  {
   "cell_type": "markdown",
   "id": "4d853558",
   "metadata": {
    "deletable": false,
    "editable": false,
    "id": "89da5ece"
   },
   "source": [
    "### Обработка аномальных значений"
   ]
  },
  {
   "cell_type": "markdown",
   "id": "5419d602",
   "metadata": {
    "deletable": false,
    "editable": false,
    "id": "57964554"
   },
   "source": [
    "**Задание 6. В данных могут встречаться артефакты (аномалии) — значения, которые не отражают действительность и появились по какой-то ошибке. таким артефактом будет отрицательное количество дней трудового стажа в столбце `days_employed`. Для реальных данных это нормально. Обработайте значения в этом столбце: замените все отрицательные значения положительными с помощью метода `abs()`.**"
   ]
  },
  {
   "cell_type": "code",
   "execution_count": 7,
   "id": "44086b6d",
   "metadata": {
    "deletable": false,
    "id": "f6f055bf"
   },
   "outputs": [],
   "source": [
    "data['days_employed'] = data['days_employed'].abs()"
   ]
  },
  {
   "cell_type": "markdown",
   "id": "b1b49bda",
   "metadata": {
    "deletable": false,
    "editable": false,
    "id": "6107dd2f"
   },
   "source": [
    "**Задание 7. Для каждого типа занятости выведите медианное значение трудового стажа `days_employed` в днях.**"
   ]
  },
  {
   "cell_type": "code",
   "execution_count": 8,
   "id": "f724293b",
   "metadata": {
    "deletable": false,
    "id": "85a5faf6",
    "outputId": "801ef80e-522b-4668-f34e-565af7432bcf"
   },
   "outputs": [
    {
     "data": {
      "text/plain": [
       "income_type\n",
       "безработный        366413.652744\n",
       "в декрете            3296.759962\n",
       "госслужащий          2689.368353\n",
       "компаньон            1547.382223\n",
       "пенсионер          365213.306266\n",
       "предприниматель       520.848083\n",
       "сотрудник            1574.202821\n",
       "студент               578.751554\n",
       "Name: days_employed, dtype: float64"
      ]
     },
     "execution_count": 8,
     "metadata": {},
     "output_type": "execute_result"
    }
   ],
   "source": [
    "data.groupby('income_type')['days_employed'].agg('median')"
   ]
  },
  {
   "cell_type": "markdown",
   "id": "50b95781",
   "metadata": {
    "deletable": false,
    "editable": false,
    "id": "38d1a030"
   },
   "source": [
    "У двух типов (безработные и пенсионеры) получатся аномально большие значения. Исправить такие значения сложно, поэтому оставьте их как есть. Тем более этот столбец не понадобится вам для исследования."
   ]
  },
  {
   "cell_type": "markdown",
   "id": "71738610",
   "metadata": {
    "deletable": false,
    "editable": false,
    "id": "d8a9f147"
   },
   "source": [
    "**Задание 8. Выведите перечень уникальных значений столбца `children`.**"
   ]
  },
  {
   "cell_type": "code",
   "execution_count": 9,
   "id": "fa45bf48",
   "metadata": {
    "deletable": false,
    "id": "ef5056eb",
    "outputId": "6975b15c-7f95-4697-d16d-a0c79b657b03"
   },
   "outputs": [
    {
     "data": {
      "text/plain": [
       "array([ 1,  0,  3,  2, -1,  4, 20,  5], dtype=int64)"
      ]
     },
     "execution_count": 9,
     "metadata": {},
     "output_type": "execute_result"
    }
   ],
   "source": [
    "data['children'].unique()"
   ]
  },
  {
   "cell_type": "markdown",
   "id": "d7c45e26",
   "metadata": {
    "deletable": false,
    "editable": false,
    "id": "40b9ebf2"
   },
   "source": [
    "**Задание 9. В столбце `children` есть два аномальных значения. Удалите строки, в которых встречаются такие аномальные значения из датафрейма `data`.**"
   ]
  },
  {
   "cell_type": "code",
   "execution_count": 10,
   "id": "c2a3f67f",
   "metadata": {
    "deletable": false,
    "id": "3ff9801d"
   },
   "outputs": [],
   "source": [
    "data = data[(data['children'] != -1) & (data['children'] != 20)]"
   ]
  },
  {
   "cell_type": "markdown",
   "id": "65a4c779",
   "metadata": {
    "deletable": false,
    "editable": false,
    "id": "bbc4d0ce"
   },
   "source": [
    "**Задание 10. Ещё раз выведите перечень уникальных значений столбца `children`, чтобы убедиться, что артефакты удалены.**"
   ]
  },
  {
   "cell_type": "code",
   "execution_count": 11,
   "id": "9cd3f7ef",
   "metadata": {
    "deletable": false,
    "id": "ad4fa8b7",
    "outputId": "b2097101-d49d-44d9-901b-32a65c9463d1"
   },
   "outputs": [
    {
     "data": {
      "text/plain": [
       "array([1, 0, 3, 2, 4, 5], dtype=int64)"
      ]
     },
     "execution_count": 11,
     "metadata": {},
     "output_type": "execute_result"
    }
   ],
   "source": [
    "data['children'].unique()"
   ]
  },
  {
   "cell_type": "markdown",
   "id": "f9113c6b",
   "metadata": {
    "deletable": false,
    "editable": false,
    "id": "75440b63"
   },
   "source": [
    "### Удаление пропусков (продолжение)"
   ]
  },
  {
   "cell_type": "markdown",
   "id": "bc4a114e",
   "metadata": {
    "deletable": false,
    "editable": false,
    "id": "f4ea573f"
   },
   "source": [
    "**Задание 11. Заполните пропуски в столбце `days_employed` медианными значениями по каждого типа занятости `income_type`.**"
   ]
  },
  {
   "cell_type": "code",
   "execution_count": 12,
   "id": "01a8562e",
   "metadata": {
    "deletable": false,
    "id": "af6b1a7e"
   },
   "outputs": [],
   "source": [
    "for t in data['income_type'].unique():\n",
    "    data.loc[(data['income_type'] == t) & (data['days_employed'].isna()), 'days_employed'] = \\\n",
    "    data.loc[(data['income_type'] == t), 'days_employed'].median()"
   ]
  },
  {
   "cell_type": "markdown",
   "id": "aec313d7",
   "metadata": {
    "deletable": false,
    "editable": false,
    "id": "2753f40d"
   },
   "source": [
    "**Задание 12. Убедитесь, что все пропуски заполнены. Проверьте себя и ещё раз выведите количество пропущенных значений для каждого столбца с помощью двух методов.**"
   ]
  },
  {
   "cell_type": "code",
   "execution_count": 13,
   "id": "dcd72805",
   "metadata": {
    "deletable": false,
    "id": "55f78bc2",
    "outputId": "8da1e4e1-358e-4e87-98c9-f261bce0a7b2"
   },
   "outputs": [
    {
     "data": {
      "text/plain": [
       "children            0\n",
       "days_employed       0\n",
       "dob_years           0\n",
       "education           0\n",
       "education_id        0\n",
       "family_status       0\n",
       "family_status_id    0\n",
       "gender              0\n",
       "income_type         0\n",
       "debt                0\n",
       "total_income        0\n",
       "purpose             0\n",
       "dtype: int64"
      ]
     },
     "execution_count": 13,
     "metadata": {},
     "output_type": "execute_result"
    }
   ],
   "source": [
    "data.isna().sum()"
   ]
  },
  {
   "cell_type": "markdown",
   "id": "4c55d884",
   "metadata": {
    "deletable": false,
    "editable": false,
    "id": "ddc81e43"
   },
   "source": [
    "### Изменение типов данных"
   ]
  },
  {
   "cell_type": "markdown",
   "id": "6e76f7c2",
   "metadata": {
    "deletable": false,
    "editable": false,
    "id": "42d19d24"
   },
   "source": [
    "**Задание 13. Замените вещественный тип данных в столбце `total_income` на целочисленный с помощью метода `astype()`.**"
   ]
  },
  {
   "cell_type": "code",
   "execution_count": 14,
   "id": "67fa3af1",
   "metadata": {
    "deletable": false,
    "id": "920b65ad"
   },
   "outputs": [],
   "source": [
    "data['total_income'] = data['total_income'].astype(int)"
   ]
  },
  {
   "cell_type": "markdown",
   "id": "4a651766",
   "metadata": {
    "deletable": false,
    "editable": false,
    "id": "80c420ba"
   },
   "source": [
    "### Обработка дубликатов"
   ]
  },
  {
   "cell_type": "markdown",
   "id": "953b3007",
   "metadata": {
    "deletable": false,
    "editable": false
   },
   "source": [
    "**Задание 14. Обработайте неявные дубликаты в столбце `education`. В этом столбце есть одни и те же значения, но записанные по-разному: с использованием заглавных и строчных букв. Приведите их к нижнему регистру. Проверьте остальные столбцы.**"
   ]
  },
  {
   "cell_type": "code",
   "execution_count": 15,
   "id": "cdba3d31",
   "metadata": {
    "deletable": false
   },
   "outputs": [],
   "source": [
    "data['education'] = data['education'].str.lower()"
   ]
  },
  {
   "cell_type": "markdown",
   "id": "9083dac3",
   "metadata": {
    "deletable": false,
    "editable": false,
    "id": "dc587695"
   },
   "source": [
    "**Задание 15. Выведите на экран количество строк-дубликатов в данных. Если такие строки присутствуют, удалите их.**"
   ]
  },
  {
   "cell_type": "code",
   "execution_count": 16,
   "id": "6262fe99",
   "metadata": {
    "deletable": false,
    "id": "3ee445e4",
    "outputId": "9684deba-1934-42d1-99e1-cda61740f822"
   },
   "outputs": [
    {
     "data": {
      "text/plain": [
       "71"
      ]
     },
     "execution_count": 16,
     "metadata": {},
     "output_type": "execute_result"
    }
   ],
   "source": [
    "data.duplicated().sum()"
   ]
  },
  {
   "cell_type": "code",
   "execution_count": 17,
   "id": "e36606f8",
   "metadata": {
    "deletable": false,
    "id": "8575fe05"
   },
   "outputs": [],
   "source": [
    "data = data.drop_duplicates()"
   ]
  },
  {
   "cell_type": "markdown",
   "id": "ee76ed64",
   "metadata": {
    "deletable": false,
    "editable": false,
    "id": "9904cf55"
   },
   "source": [
    "### Категоризация данных"
   ]
  },
  {
   "cell_type": "markdown",
   "id": "f8ff9706",
   "metadata": {
    "deletable": false,
    "editable": false,
    "id": "72fcc8a2"
   },
   "source": [
    "**Задание 16. На основании диапазонов, указанных ниже, создайте в датафрейме `data` столбец `total_income_category` с категориями:**\n",
    "\n",
    "- 0–30000 — `'E'`;\n",
    "- 30001–50000 — `'D'`;\n",
    "- 50001–200000 — `'C'`;\n",
    "- 200001–1000000 — `'B'`;\n",
    "- 1000001 и выше — `'A'`.\n",
    "\n",
    "\n",
    "**Например, кредитополучателю с доходом 25000 нужно назначить категорию `'E'`, а клиенту, получающему 235000, — `'B'`. Используйте собственную функцию с именем `categorize_income()` и метод `apply()`.**"
   ]
  },
  {
   "cell_type": "code",
   "execution_count": 18,
   "id": "ed7dd452",
   "metadata": {
    "deletable": false,
    "id": "e1771346"
   },
   "outputs": [],
   "source": [
    "def categorize_income(income):\n",
    "    try:\n",
    "        if 0 <= income <= 30000:\n",
    "            return 'E'\n",
    "        elif 30001 <= income <= 50000:\n",
    "            return 'D'\n",
    "        elif 50001 <= income <= 200000:\n",
    "            return 'C'\n",
    "        elif 200001 <= income <= 1000000:\n",
    "            return 'B'\n",
    "        elif income >= 1000001:\n",
    "            return 'A'\n",
    "    except:\n",
    "        pass"
   ]
  },
  {
   "cell_type": "code",
   "execution_count": 19,
   "id": "d8a827c5",
   "metadata": {
    "deletable": false,
    "id": "d5f3586d"
   },
   "outputs": [],
   "source": [
    "data['total_income_category'] = data['total_income'].apply(categorize_income)"
   ]
  },
  {
   "cell_type": "markdown",
   "id": "6ff61519",
   "metadata": {
    "deletable": false,
    "editable": false,
    "id": "dde49b5c"
   },
   "source": [
    "**Задание 17. Выведите на экран перечень уникальных целей взятия кредита из столбца `purpose`.**"
   ]
  },
  {
   "cell_type": "code",
   "execution_count": 20,
   "id": "c5918e9f",
   "metadata": {
    "deletable": false,
    "id": "f67ce9b3",
    "outputId": "673c12d9-7d7e-4ae0-9812-c622c89dd244"
   },
   "outputs": [
    {
     "data": {
      "text/plain": [
       "array(['покупка жилья', 'приобретение автомобиля',\n",
       "       'дополнительное образование', 'сыграть свадьбу',\n",
       "       'операции с жильем', 'образование', 'на проведение свадьбы',\n",
       "       'покупка жилья для семьи', 'покупка недвижимости',\n",
       "       'покупка коммерческой недвижимости', 'покупка жилой недвижимости',\n",
       "       'строительство собственной недвижимости', 'недвижимость',\n",
       "       'строительство недвижимости', 'на покупку подержанного автомобиля',\n",
       "       'на покупку своего автомобиля',\n",
       "       'операции с коммерческой недвижимостью',\n",
       "       'строительство жилой недвижимости', 'жилье',\n",
       "       'операции со своей недвижимостью', 'автомобили',\n",
       "       'заняться образованием', 'сделка с подержанным автомобилем',\n",
       "       'получение образования', 'автомобиль', 'свадьба',\n",
       "       'получение дополнительного образования', 'покупка своего жилья',\n",
       "       'операции с недвижимостью', 'получение высшего образования',\n",
       "       'свой автомобиль', 'сделка с автомобилем',\n",
       "       'профильное образование', 'высшее образование',\n",
       "       'покупка жилья для сдачи', 'на покупку автомобиля', 'ремонт жилью',\n",
       "       'заняться высшим образованием'], dtype=object)"
      ]
     },
     "execution_count": 20,
     "metadata": {},
     "output_type": "execute_result"
    }
   ],
   "source": [
    "data['purpose'].unique()"
   ]
  },
  {
   "cell_type": "markdown",
   "id": "7082ab00",
   "metadata": {
    "deletable": false,
    "editable": false,
    "id": "85d0aef0"
   },
   "source": [
    "**Задание 18. Создайте функцию, которая на основании данных из столбца `purpose` сформирует новый столбец `purpose_category`, в который войдут следующие категории:**\n",
    "\n",
    "- `'операции с автомобилем'`,\n",
    "- `'операции с недвижимостью'`,\n",
    "- `'проведение свадьбы'`,\n",
    "- `'получение образования'`.\n",
    "\n",
    "**Например, если в столбце `purpose` находится подстрока `'на покупку автомобиля'`, то в столбце `purpose_category` должна появиться строка `'операции с автомобилем'`.**\n",
    "\n",
    "**Используйте собственную функцию с именем `categorize_purpose()` и метод `apply()`. Изучите данные в столбце `purpose` и определите, какие подстроки помогут вам правильно определить категорию.**"
   ]
  },
  {
   "cell_type": "code",
   "execution_count": 21,
   "id": "2f24ea44",
   "metadata": {
    "deletable": false,
    "id": "e149fab4"
   },
   "outputs": [],
   "source": [
    "def categorize_purpose(row):\n",
    "    try:\n",
    "        if 'автом' in row:\n",
    "            return 'операции с автомобилем'\n",
    "        elif 'жил' in row or 'недвиж' in row:\n",
    "            return 'операции с недвижимостью'\n",
    "        elif 'свад' in row:\n",
    "            return 'проведение свадьбы'\n",
    "        elif 'образов' in row:\n",
    "            return 'получение образования'\n",
    "    except:\n",
    "        return 'нет категории'"
   ]
  },
  {
   "cell_type": "code",
   "execution_count": 22,
   "id": "473e4903",
   "metadata": {
    "deletable": false,
    "id": "bf36e69b"
   },
   "outputs": [],
   "source": [
    "data['purpose_category'] = data['purpose'].apply(categorize_purpose)"
   ]
  },
  {
   "cell_type": "markdown",
   "id": "5fbbaa95",
   "metadata": {
    "deletable": false,
    "editable": false,
    "id": "09b242bf"
   },
   "source": [
    "### Шаг 3. Исследуйте данные и ответьте на вопросы"
   ]
  },
  {
   "cell_type": "markdown",
   "id": "134433c4-eab1-4735-a62e-c2c045c3224b",
   "metadata": {},
   "source": [
    "Определим общие параметры используемые во всех дальнейших ответах:"
   ]
  },
  {
   "cell_type": "code",
   "execution_count": 23,
   "id": "736df3b9-47cc-4ba7-9b0d-581a63ff16e0",
   "metadata": {},
   "outputs": [
    {
     "name": "stdout",
     "output_type": "stream",
     "text": [
      "Общее число займов: 21331\n",
      "Процент некачественных данных (в начале): 0.10191739721532042 %\n",
      "Процент безвозвратно утерянных строк: 0.009094744737705687 %\n",
      "Процент восстановленных строк: 0.09282265247761474 %\n",
      "Процент некачественных данных (в итоге): 0.009094744737705687 %\n",
      "Средневзвешенная доля должников: 8.12 %\n"
     ]
    }
   ],
   "source": [
    "total_count = len(data)\n",
    "print(f'Общее число займов: {total_count}')\n",
    "print(f'Процент некачественных данных (в начале): {broken_data/total_count} %')\n",
    "print(f'Процент безвозвратно утерянных строк: {(full_data-total_count)/total_count} %')\n",
    "print(f'Процент восстановленных строк: {(broken_data -(full_data-total_count))/total_count} %')\n",
    "print(f'Процент некачественных данных (в итоге): {(full_data-total_count)/total_count} %')\n",
    "debt_relat  = (data['debt'].sum()/total_count*100).round(2)\n",
    "print(f'Средневзвешенная доля должников: {debt_relat} %')"
   ]
  },
  {
   "cell_type": "markdown",
   "id": "9424f68b-acb3-4db4-a62d-7fb443294b88",
   "metadata": {},
   "source": [
    "1) Доля некачественных данных в изначальной таблице крайне низка ~ 0.11 %;\n",
    "2) После обработки доля безвозвратно утеряных для анализа ~ 0.01 %;\n",
    "3) Средневзвешенная доля должников: 8.12 %."
   ]
  },
  {
   "cell_type": "markdown",
   "id": "41fcbdac",
   "metadata": {
    "deletable": false,
    "editable": false,
    "id": "c5d66278"
   },
   "source": [
    "#### 3.1 Есть ли зависимость между количеством детей и возвратом кредита в срок?"
   ]
  },
  {
   "cell_type": "markdown",
   "id": "154a2cfd-4d46-4cd2-afd1-df0a12eded41",
   "metadata": {},
   "source": [
    "Для наглядности данных, целесообразно создать таблицу со следующими столбцами, в зависимости от количества детей в семьях:\n",
    "   - активность заемщиков (общее число действий с кредитами);\n",
    "   - доля каждой группы к общему числу займов;\n",
    "   - количество имевших задолжности;\n",
    "   - доля имевших задолжности.\n",
    "\n",
    "Цели:\n",
    "1. Соотнести значимость групп по доли займов к общему числу займов;\n",
    "2. Определить процент невозврата кредитов по группам;\n",
    "3. Сделать вывод о необходимости учета количества детей при выдачи кредитов."
   ]
  },
  {
   "cell_type": "code",
   "execution_count": 24,
   "id": "1993bb65",
   "metadata": {
    "deletable": false,
    "id": "2cacfc4a"
   },
   "outputs": [
    {
     "name": "stdout",
     "output_type": "stream",
     "text": [
      "Средневзвешенная доля должников: 8.12 %\n"
     ]
    },
    {
     "data": {
      "text/html": [
       "<div>\n",
       "<style scoped>\n",
       "    .dataframe tbody tr th:only-of-type {\n",
       "        vertical-align: middle;\n",
       "    }\n",
       "\n",
       "    .dataframe tbody tr th {\n",
       "        vertical-align: top;\n",
       "    }\n",
       "\n",
       "    .dataframe thead th {\n",
       "        text-align: right;\n",
       "    }\n",
       "</style>\n",
       "<table border=\"1\" class=\"dataframe\">\n",
       "  <thead>\n",
       "    <tr style=\"text-align: right;\">\n",
       "      <th></th>\n",
       "      <th>Всего людей с кредитами, ч</th>\n",
       "      <th>Доля группы от общего числа заемщиков, %</th>\n",
       "      <th>Имевшие задолжность, ч</th>\n",
       "      <th>Доля имевших задолжности по группам, %</th>\n",
       "    </tr>\n",
       "    <tr>\n",
       "      <th>Кол-во детей в семье, ч</th>\n",
       "      <th></th>\n",
       "      <th></th>\n",
       "      <th></th>\n",
       "      <th></th>\n",
       "    </tr>\n",
       "  </thead>\n",
       "  <tbody>\n",
       "    <tr>\n",
       "      <th>5</th>\n",
       "      <td>9</td>\n",
       "      <td>0.04</td>\n",
       "      <td>0</td>\n",
       "      <td>0.00</td>\n",
       "    </tr>\n",
       "    <tr>\n",
       "      <th>0</th>\n",
       "      <td>14091</td>\n",
       "      <td>66.06</td>\n",
       "      <td>1063</td>\n",
       "      <td>7.54</td>\n",
       "    </tr>\n",
       "    <tr>\n",
       "      <th>3</th>\n",
       "      <td>330</td>\n",
       "      <td>1.55</td>\n",
       "      <td>27</td>\n",
       "      <td>8.18</td>\n",
       "    </tr>\n",
       "    <tr>\n",
       "      <th>1</th>\n",
       "      <td>4808</td>\n",
       "      <td>22.54</td>\n",
       "      <td>444</td>\n",
       "      <td>9.23</td>\n",
       "    </tr>\n",
       "    <tr>\n",
       "      <th>2</th>\n",
       "      <td>2052</td>\n",
       "      <td>9.62</td>\n",
       "      <td>194</td>\n",
       "      <td>9.45</td>\n",
       "    </tr>\n",
       "    <tr>\n",
       "      <th>4</th>\n",
       "      <td>41</td>\n",
       "      <td>0.19</td>\n",
       "      <td>4</td>\n",
       "      <td>9.76</td>\n",
       "    </tr>\n",
       "  </tbody>\n",
       "</table>\n",
       "</div>"
      ],
      "text/plain": [
       "                         Всего людей с кредитами, ч  \\\n",
       "Кол-во детей в семье, ч                               \n",
       "5                                                 9   \n",
       "0                                             14091   \n",
       "3                                               330   \n",
       "1                                              4808   \n",
       "2                                              2052   \n",
       "4                                                41   \n",
       "\n",
       "                         Доля группы от общего числа заемщиков, %  \\\n",
       "Кол-во детей в семье, ч                                             \n",
       "5                                                            0.04   \n",
       "0                                                           66.06   \n",
       "3                                                            1.55   \n",
       "1                                                           22.54   \n",
       "2                                                            9.62   \n",
       "4                                                            0.19   \n",
       "\n",
       "                         Имевшие задолжность, ч  \\\n",
       "Кол-во детей в семье, ч                           \n",
       "5                                             0   \n",
       "0                                          1063   \n",
       "3                                            27   \n",
       "1                                           444   \n",
       "2                                           194   \n",
       "4                                             4   \n",
       "\n",
       "                         Доля имевших задолжности по группам, %  \n",
       "Кол-во детей в семье, ч                                          \n",
       "5                                                          0.00  \n",
       "0                                                          7.54  \n",
       "3                                                          8.18  \n",
       "1                                                          9.23  \n",
       "2                                                          9.45  \n",
       "4                                                          9.76  "
      ]
     },
     "execution_count": 24,
     "metadata": {},
     "output_type": "execute_result"
    }
   ],
   "source": [
    "names_of_rows = ['Всего людей с кредитами, ч', 'Имевшие задолжность, ч']\n",
    "category = 'children'\n",
    "group_comp = data.groupby(by=category).aggregate({'debt':['count','sum']}).reset_index(drop=True)\n",
    "group_comp.columns = names_of_rows\n",
    "group_comp.insert (1, \"Доля группы от общего числа заемщиков, %\", (group_comp['Всего людей с кредитами, ч']/total_count/0.01).round(2))\n",
    "group_comp[\"Доля имевших задолжности по группам, %\"] = (group_comp['Имевшие задолжность, ч']/group_comp['Всего людей с кредитами, ч']/0.01).round(2)\n",
    "group_comp.index.name = 'Кол-во детей в семье, ч'\n",
    "print(f'Средневзвешенная доля должников: {debt_relat} %')\n",
    "group_comp.sort_values(by='Доля имевших задолжности по группам, %')"
   ]
  },
  {
   "cell_type": "markdown",
   "id": "03906a28-aa5b-4c92-82af-ea06186ecfc9",
   "metadata": {},
   "source": [
    "#### Результаты:\n",
    "1)  Количественная оценка по распределению заемщиков показала, что доля займов людей с 4 и 5 детьми не превышает 0.2 % от общего числа займов, а заемщиков с 3 детьми около 1.5 %;\n",
    "2)  Средневзвешенный процент людей с задолжностями составил 8.12 %;\n",
    "3)  Для всех группа с детьми процент выше, чем для бездетных заемщиков (Распределение приведено на диаграмме ниже);\n",
    "4)  Для заемщиков с 5 детьми отсутствуют задолжности по кредитам, но так как их всего 9 человек (0.042 % от общего числа заемщиков) это может быть случайностью.\n",
    "    "
   ]
  },
  {
   "cell_type": "code",
   "execution_count": 25,
   "id": "66b7cacd-28c8-47c5-add0-069bab1be845",
   "metadata": {},
   "outputs": [
    {
     "data": {
      "image/png": "[encoded data removed]",
      "text/plain": [
       "<Figure size 432x288 with 1 Axes>"
      ]
     },
     "metadata": {},
     "output_type": "display_data"
    }
   ],
   "source": [
    "name_of_status= ['Без детей', 'Один ребенок', 'Два ребенка', 'Три ребенка', 'Четыре ребенка', 'Пять детей' ]\n",
    "N = len(name_of_status)\n",
    "plt.rcParams['font.size'] = 12\n",
    "# Данные для диаграммы\n",
    "theta = np.linspace(0, 2 * np.pi, N, endpoint=False) \n",
    "theta = np.append(theta, theta[:1])\n",
    "radii = group_comp[\"Доля имевших задолжности по группам, %\"].values\n",
    "radii = np.append(radii, radii[:1])\n",
    "# Отображение srider диаграммы для анализа\n",
    "plt.subplot(111, polar=True)\n",
    "plt.rcParams[\"figure.figsize\"]=5,8\n",
    "plt.title('Лепестковая диаграмма наличия задолжностей по группам с детьми, %')\n",
    "plt.xticks(theta[:-1], name_of_status, color=\"grey\", size=10)\n",
    "yticks_vals = [ 2, 4 , 6 , 8 , 10]\n",
    "yticks_names= [\"2\", \"4\", \"6\", \"8\", \"10\"]\n",
    "plt.yticks(yticks_vals, yticks_names, size=13)\n",
    "plt.ylim(0,1.15*max(radii))\n",
    "plt.plot(theta, radii, linewidth=1, linestyle='solid')\n",
    "plt.fill(theta, radii, 'b', alpha=0.1)\n",
    "# Среднее значение просрочки кредитов\n",
    "theta1 = np.linspace(0, 2 * np.pi, 250, endpoint=False) \n",
    "theta1 = np.append(theta1, theta1[:-1])\n",
    "radii1 = debt_relat*np.ones(250)\n",
    "radii1 = np.append(radii1, radii1[:-1])\n",
    "plt.plot(theta1, radii1, linewidth=1, linestyle='--', label=\"Средневзвешенная доля должников\",  color=\"#3CB371\")\n",
    "plt.fill(theta1, radii1, \"#3CB371\", alpha=0.1)\n",
    "plt.legend(loc='upper right', bbox_to_anchor=(0.1, 0.1))\n",
    "plt.show()"
   ]
  },
  {
   "cell_type": "markdown",
   "id": "14a6503d-5412-4732-8fac-50567426863d",
   "metadata": {},
   "source": [
    "В следствии малого числа заемщиков в категориях 3-5 детей, можно объединить эти группы с группой 3 ребенка. Таком образом получиться общая группа \"3 и более детей\". "
   ]
  },
  {
   "cell_type": "code",
   "execution_count": 26,
   "id": "04b7931c-d681-47f4-bd5f-593a34c36dbf",
   "metadata": {},
   "outputs": [
    {
     "data": {
      "text/html": [
       "<div>\n",
       "<style scoped>\n",
       "    .dataframe tbody tr th:only-of-type {\n",
       "        vertical-align: middle;\n",
       "    }\n",
       "\n",
       "    .dataframe tbody tr th {\n",
       "        vertical-align: top;\n",
       "    }\n",
       "\n",
       "    .dataframe thead th {\n",
       "        text-align: right;\n",
       "    }\n",
       "</style>\n",
       "<table border=\"1\" class=\"dataframe\">\n",
       "  <thead>\n",
       "    <tr style=\"text-align: right;\">\n",
       "      <th></th>\n",
       "      <th>Всего людей с кредитами, ч</th>\n",
       "      <th>Доля группы от общего числа заемщиков, %</th>\n",
       "      <th>Имевшие задолжность, ч</th>\n",
       "      <th>Доля имевших задолжности по группам, %</th>\n",
       "    </tr>\n",
       "    <tr>\n",
       "      <th>Кол-во детей в семье, ч</th>\n",
       "      <th></th>\n",
       "      <th></th>\n",
       "      <th></th>\n",
       "      <th></th>\n",
       "    </tr>\n",
       "  </thead>\n",
       "  <tbody>\n",
       "    <tr>\n",
       "      <th>0</th>\n",
       "      <td>14091.0</td>\n",
       "      <td>66.06</td>\n",
       "      <td>1063.0</td>\n",
       "      <td>7.54</td>\n",
       "    </tr>\n",
       "    <tr>\n",
       "      <th>1</th>\n",
       "      <td>4808.0</td>\n",
       "      <td>22.54</td>\n",
       "      <td>444.0</td>\n",
       "      <td>9.23</td>\n",
       "    </tr>\n",
       "    <tr>\n",
       "      <th>2</th>\n",
       "      <td>2052.0</td>\n",
       "      <td>9.62</td>\n",
       "      <td>194.0</td>\n",
       "      <td>9.45</td>\n",
       "    </tr>\n",
       "    <tr>\n",
       "      <th>3</th>\n",
       "      <td>380.0</td>\n",
       "      <td>1.78</td>\n",
       "      <td>31.0</td>\n",
       "      <td>8.16</td>\n",
       "    </tr>\n",
       "  </tbody>\n",
       "</table>\n",
       "</div>"
      ],
      "text/plain": [
       "                         Всего людей с кредитами, ч  \\\n",
       "Кол-во детей в семье, ч                               \n",
       "0                                           14091.0   \n",
       "1                                            4808.0   \n",
       "2                                            2052.0   \n",
       "3                                             380.0   \n",
       "\n",
       "                         Доля группы от общего числа заемщиков, %  \\\n",
       "Кол-во детей в семье, ч                                             \n",
       "0                                                           66.06   \n",
       "1                                                           22.54   \n",
       "2                                                            9.62   \n",
       "3                                                            1.78   \n",
       "\n",
       "                         Имевшие задолжность, ч  \\\n",
       "Кол-во детей в семье, ч                           \n",
       "0                                        1063.0   \n",
       "1                                         444.0   \n",
       "2                                         194.0   \n",
       "3                                          31.0   \n",
       "\n",
       "                         Доля имевших задолжности по группам, %  \n",
       "Кол-во детей в семье, ч                                          \n",
       "0                                                          7.54  \n",
       "1                                                          9.23  \n",
       "2                                                          9.45  \n",
       "3                                                          8.16  "
      ]
     },
     "execution_count": 26,
     "metadata": {},
     "output_type": "execute_result"
    }
   ],
   "source": [
    "group_comp_next = group_comp.loc['0':'2'].copy()\n",
    "all_people = group_comp.loc['3':'5', 'Всего людей с кредитами, ч'].sum() \n",
    "dept_people = group_comp.loc['3':'5', 'Имевшие задолжность, ч'].sum() \n",
    "row = [all_people, all_people/total_count*100, dept_people, dept_people/all_people*100]\n",
    "group_comp_next.loc[3]= np.round(row,2)\n",
    "group_comp_next"
   ]
  },
  {
   "cell_type": "markdown",
   "id": "8da22496-259b-4c28-a73c-579ddfbbcac2",
   "metadata": {},
   "source": [
    "После сведения в строку \"3 и более детей\" ничего приницпиально не поменялось. Без детей возвращают кредиты лучше. Для новой группы показатель чуть-чуть лучше (в сравнении с 1-2 ребенка), но вполне возможна статистическая ошибка. Можно попробовать свернуть в группу до \"2 и более детей\""
   ]
  },
  {
   "cell_type": "code",
   "execution_count": 27,
   "id": "f395da74-8d34-432b-8da3-809fde4d3547",
   "metadata": {},
   "outputs": [
    {
     "data": {
      "text/html": [
       "<div>\n",
       "<style scoped>\n",
       "    .dataframe tbody tr th:only-of-type {\n",
       "        vertical-align: middle;\n",
       "    }\n",
       "\n",
       "    .dataframe tbody tr th {\n",
       "        vertical-align: top;\n",
       "    }\n",
       "\n",
       "    .dataframe thead th {\n",
       "        text-align: right;\n",
       "    }\n",
       "</style>\n",
       "<table border=\"1\" class=\"dataframe\">\n",
       "  <thead>\n",
       "    <tr style=\"text-align: right;\">\n",
       "      <th></th>\n",
       "      <th>Всего людей с кредитами, ч</th>\n",
       "      <th>Доля группы от общего числа заемщиков, %</th>\n",
       "      <th>Имевшие задолжность, ч</th>\n",
       "      <th>Доля имевших задолжности по группам, %</th>\n",
       "    </tr>\n",
       "    <tr>\n",
       "      <th>Кол-во детей в семье, ч</th>\n",
       "      <th></th>\n",
       "      <th></th>\n",
       "      <th></th>\n",
       "      <th></th>\n",
       "    </tr>\n",
       "  </thead>\n",
       "  <tbody>\n",
       "    <tr>\n",
       "      <th>0</th>\n",
       "      <td>14091.0</td>\n",
       "      <td>66.06</td>\n",
       "      <td>1063.0</td>\n",
       "      <td>7.54</td>\n",
       "    </tr>\n",
       "    <tr>\n",
       "      <th>1</th>\n",
       "      <td>4808.0</td>\n",
       "      <td>22.54</td>\n",
       "      <td>444.0</td>\n",
       "      <td>9.23</td>\n",
       "    </tr>\n",
       "    <tr>\n",
       "      <th>2</th>\n",
       "      <td>2432.0</td>\n",
       "      <td>11.40</td>\n",
       "      <td>225.0</td>\n",
       "      <td>9.25</td>\n",
       "    </tr>\n",
       "  </tbody>\n",
       "</table>\n",
       "</div>"
      ],
      "text/plain": [
       "                         Всего людей с кредитами, ч  \\\n",
       "Кол-во детей в семье, ч                               \n",
       "0                                           14091.0   \n",
       "1                                            4808.0   \n",
       "2                                            2432.0   \n",
       "\n",
       "                         Доля группы от общего числа заемщиков, %  \\\n",
       "Кол-во детей в семье, ч                                             \n",
       "0                                                           66.06   \n",
       "1                                                           22.54   \n",
       "2                                                           11.40   \n",
       "\n",
       "                         Имевшие задолжность, ч  \\\n",
       "Кол-во детей в семье, ч                           \n",
       "0                                        1063.0   \n",
       "1                                         444.0   \n",
       "2                                         225.0   \n",
       "\n",
       "                         Доля имевших задолжности по группам, %  \n",
       "Кол-во детей в семье, ч                                          \n",
       "0                                                          7.54  \n",
       "1                                                          9.23  \n",
       "2                                                          9.25  "
      ]
     },
     "execution_count": 27,
     "metadata": {},
     "output_type": "execute_result"
    }
   ],
   "source": [
    "group_comp_next2 = group_comp.loc['0':'1'].copy()\n",
    "all_people = group_comp.loc['2':'5', 'Всего людей с кредитами, ч'].sum() \n",
    "dept_people = group_comp.loc['2':'5', 'Имевшие задолжность, ч'].sum() \n",
    "row = [all_people, all_people/total_count*100, dept_people, dept_people/all_people*100]\n",
    "group_comp_next2.loc[2]= np.round(row,2)\n",
    "group_comp_next2"
   ]
  },
  {
   "cell_type": "markdown",
   "id": "3452f21f-a474-42be-89f9-af871c142a21",
   "metadata": {},
   "source": [
    "Теперь группы могут быть соотнесены по доли заемщиков в каждой - 66 %, 22.5% и 11.5 %. В таком представлении количество детей не влияет на задолжность, но сам факт наличия ребенка, немного повышает шанс ee иметь 9.2% против 7.5% у бездетных."
   ]
  },
  {
   "cell_type": "markdown",
   "id": "89fd9129",
   "metadata": {
    "deletable": false,
    "id": "3a6b99ec"
   },
   "source": [
    "**Вывод:** \n",
    "- Данные по кредитам для группы с 4-5 детьми не кажутся значимыми ввиду малого числа заемщиков ( до ~ 0.6 % );\n",
    "- При объединении данных в новую группу 3+ детей, для нее уровень возврата стал несколько ниже чем для групп с 1 и 2 ребенком, но выше чем для группы без детей;\n",
    "- Группы 1 или 2+ детей имеют равный процент задолжностей 9.2% против 7.5% у бездетных, что характеризует людей с детьми как несколько более худших плательщиков.\n",
    "  \n",
    "**Рекомендации:**\n",
    "- Учесть наличие 1 и 2 детей при выдачи кредитов, как приводящее к росту задолжности(+ 1.7%);\n",
    "- В целях привлечения новых клиентов и проведения рекламной компании можно применить дополнительные меры поощрения к семьям с 3+ детей,  ввиду их малого количества (предварительно оценить финансовую целесообразность). Хотя процент возврата здесь несколько хуже чем у бездетных (+0.62%), но лучше чем у семей с 1-2 ребенка (-1.1%)."
   ]
  },
  {
   "cell_type": "markdown",
   "id": "4297f5fb",
   "metadata": {
    "deletable": false,
    "editable": false,
    "id": "97be82ca"
   },
   "source": [
    "#### 3.2 Есть ли зависимость между семейным положением и возвратом кредита в срок?"
   ]
  },
  {
   "cell_type": "markdown",
   "id": "208ac432-e0d6-47e5-bb40-b4e58deb2563",
   "metadata": {},
   "source": [
    "Для наглядности данных (по аналогии с оценкой влияния детей), целесообразно создать таблицу со следующими столбцами, в зависимости от семейного статуса:\n",
    "   - активность заемщиков (общее число действий с кредитами);\n",
    "   - доля каждой группы к общему числу займов;\n",
    "   - количество имевших задолжности;\n",
    "   - доля имевших задолжности.\n",
    "     \n",
    "Цели:\n",
    "1. Соотнести значимость групп по доли займов к общему числу займов;\n",
    "2. Определить процент невозврата кредитов по группам;\n",
    "3. Сделать вывод о необходимости учета семейного статуса при выдачи кредитов."
   ]
  },
  {
   "cell_type": "code",
   "execution_count": 28,
   "id": "c6ca736d",
   "metadata": {
    "deletable": false,
    "id": "dc3f7ee8"
   },
   "outputs": [
    {
     "name": "stdout",
     "output_type": "stream",
     "text": [
      "Средневзвешенная доля должников: 8.12 %\n"
     ]
    },
    {
     "data": {
      "text/html": [
       "<div>\n",
       "<style scoped>\n",
       "    .dataframe tbody tr th:only-of-type {\n",
       "        vertical-align: middle;\n",
       "    }\n",
       "\n",
       "    .dataframe tbody tr th {\n",
       "        vertical-align: top;\n",
       "    }\n",
       "\n",
       "    .dataframe thead th {\n",
       "        text-align: right;\n",
       "    }\n",
       "</style>\n",
       "<table border=\"1\" class=\"dataframe\">\n",
       "  <thead>\n",
       "    <tr style=\"text-align: right;\">\n",
       "      <th></th>\n",
       "      <th>Семейное положение</th>\n",
       "      <th>Всего людей с кредитами, ч</th>\n",
       "      <th>Доля группы от общего числа заемщиков, %</th>\n",
       "      <th>Имевшие задолжность, ч</th>\n",
       "      <th>Доля имевших задолжности по группам, %</th>\n",
       "    </tr>\n",
       "  </thead>\n",
       "  <tbody>\n",
       "    <tr>\n",
       "      <th>2</th>\n",
       "      <td>вдовец / вдова</td>\n",
       "      <td>951</td>\n",
       "      <td>4.46</td>\n",
       "      <td>63</td>\n",
       "      <td>6.62</td>\n",
       "    </tr>\n",
       "    <tr>\n",
       "      <th>3</th>\n",
       "      <td>в разводе</td>\n",
       "      <td>1189</td>\n",
       "      <td>5.57</td>\n",
       "      <td>84</td>\n",
       "      <td>7.06</td>\n",
       "    </tr>\n",
       "    <tr>\n",
       "      <th>0</th>\n",
       "      <td>женат / замужем</td>\n",
       "      <td>12261</td>\n",
       "      <td>57.48</td>\n",
       "      <td>927</td>\n",
       "      <td>7.56</td>\n",
       "    </tr>\n",
       "    <tr>\n",
       "      <th>1</th>\n",
       "      <td>гражданский брак</td>\n",
       "      <td>4134</td>\n",
       "      <td>19.38</td>\n",
       "      <td>385</td>\n",
       "      <td>9.31</td>\n",
       "    </tr>\n",
       "    <tr>\n",
       "      <th>4</th>\n",
       "      <td>Не женат / не замужем</td>\n",
       "      <td>2796</td>\n",
       "      <td>13.11</td>\n",
       "      <td>273</td>\n",
       "      <td>9.76</td>\n",
       "    </tr>\n",
       "  </tbody>\n",
       "</table>\n",
       "</div>"
      ],
      "text/plain": [
       "      Семейное положение  Всего людей с кредитами, ч  \\\n",
       "2         вдовец / вдова                         951   \n",
       "3              в разводе                        1189   \n",
       "0        женат / замужем                       12261   \n",
       "1       гражданский брак                        4134   \n",
       "4  Не женат / не замужем                        2796   \n",
       "\n",
       "   Доля группы от общего числа заемщиков, %  Имевшие задолжность, ч  \\\n",
       "2                                      4.46                      63   \n",
       "3                                      5.57                      84   \n",
       "0                                     57.48                     927   \n",
       "1                                     19.38                     385   \n",
       "4                                     13.11                     273   \n",
       "\n",
       "   Доля имевших задолжности по группам, %  \n",
       "2                                    6.62  \n",
       "3                                    7.06  \n",
       "0                                    7.56  \n",
       "1                                    9.31  \n",
       "4                                    9.76  "
      ]
     },
     "execution_count": 28,
     "metadata": {},
     "output_type": "execute_result"
    }
   ],
   "source": [
    "# Ваш код будет здесь. Вы можете создавать новые ячейки.\n",
    "names_of_rows = ['Всего людей с кредитами, ч', 'Имевшие задолжность, ч']\n",
    "name_of_status = data['family_status'].unique()\n",
    "category = 'family_status_id'\n",
    "group_comp1 = data.groupby(by=category).aggregate({'debt':['count','sum']}).reset_index(drop=True)\n",
    "group_comp1.columns = names_of_rows\n",
    "group_comp1.insert (1, \"Доля группы от общего числа заемщиков, %\", (group_comp1['Всего людей с кредитами, ч']/total_count/0.01).round(2))\n",
    "group_comp1[\"Доля имевших задолжности по группам, %\"] = (group_comp1['Имевшие задолжность, ч']/group_comp1['Всего людей с кредитами, ч']/0.01).round(2)\n",
    "group_comp1.insert (0, \"Семейное положение\", name_of_status)\n",
    "print(f'Средневзвешенная доля должников: {debt_relat} %')\n",
    "group_comp1.sort_values(by='Доля имевших задолжности по группам, %')\n"
   ]
  },
  {
   "cell_type": "markdown",
   "id": "116636dd-e611-42b8-b12f-355c3e11a059",
   "metadata": {},
   "source": [
    "#### Результаты:\n",
    "1) Группы выборки соизмеримы по размеру и может быть проведена оценка в представленной конфигурации (можно объединить \"вдовец / вдова\" и \"в разводе\", но на числа это не повлияет)\n",
    "2) Количественная оценка по распределению заемщиков показала, наибольшее число людей имеющих кредиты состоят в браке (57 %),  а наименьшее по тем или иным причинам с браком завязало (6 % - \"в разводе\", 4 % - \"потеря партнера\");\n",
    "3) Хуже всего с возвратом кредитов обстоят дела у группы  \"Не женат / не замужем\" - 9.76% или состоящих \"в гражданском браке\" - 9.31 %;\n",
    "4) Лучше всего возвращают кредиты - закончившие официальные отношения (7.06% и 6.62%, в разводе и вдовец / вдова соответственно )"
   ]
  },
  {
   "cell_type": "code",
   "execution_count": 29,
   "id": "b7b9e0c6-5fe3-4580-846a-d84ec5ec970d",
   "metadata": {},
   "outputs": [
    {
     "data": {
      "image/png": "[encoded data removed]",
      "text/plain": [
       "<Figure size 360x576 with 1 Axes>"
      ]
     },
     "metadata": {},
     "output_type": "display_data"
    }
   ],
   "source": [
    "# Данные для диаграммы\n",
    "N = len(name_of_status)\n",
    "theta = np.linspace(0, 2 * np.pi, N, endpoint=False) \n",
    "theta = np.append(theta, theta[:1])\n",
    "radii = group_comp1[\"Доля имевших задолжности по группам, %\"].values\n",
    "radii = np.append(radii, radii[:1])\n",
    "# Отображение srider диаграммы для анализа\n",
    "plt.subplot(111, polar=True)\n",
    "plt.rcParams[\"figure.figsize\"]=5,8\n",
    "plt.title('Лепестковая диаграмма наличия задолжностей по семейному положению, %')\n",
    "plt.xticks(theta[:-1], name_of_status, color=\"grey\", size=10)\n",
    "yticks_vals = [ 2, 4 , 6 , 8 , 10]\n",
    "yticks_names= [\"2\", \"4\", \"6\", \"8\", \"10\"]\n",
    "plt.yticks(yticks_vals, yticks_names, size=13)\n",
    "plt.ylim(0,1.15*max(radii))\n",
    "plt.plot(theta, radii, linewidth=1, linestyle='solid')\n",
    "plt.fill(theta, radii, 'b', alpha=0.1)\n",
    "# Среднее значение просрочки кредитов\n",
    "theta1 = np.linspace(0, 2 * np.pi, 250, endpoint=False) \n",
    "theta1 = np.append(theta1, theta1[:-1])\n",
    "radii1 = debt_relat*np.ones(250)\n",
    "radii1 = np.append(radii1, radii1[:-1])\n",
    "plt.plot(theta1, radii1, linewidth=1, linestyle='--', label=\"Средневзвешенная доля должников\",  color=\"#3CB371\")\n",
    "plt.fill(theta1, radii1, \"#3CB371\", alpha=0.1)\n",
    "plt.legend(loc='upper right', bbox_to_anchor=(0.1, 0.1))\n",
    "plt.show()"
   ]
  },
  {
   "cell_type": "markdown",
   "id": "bfe62c11-08e2-473f-a3a2-003d4a1b3772",
   "metadata": {},
   "source": [
    "Так как некоторые группы схожи по доли задолжностей по кредитам, можно попробовать несколько перегруппировать данные"
   ]
  },
  {
   "cell_type": "code",
   "execution_count": 30,
   "id": "34b26167-9869-47b5-8a44-18be74286af1",
   "metadata": {},
   "outputs": [
    {
     "name": "stdout",
     "output_type": "stream",
     "text": [
      "Средневзвешенная доля должников: 8.12 %\n"
     ]
    },
    {
     "data": {
      "text/html": [
       "<div>\n",
       "<style scoped>\n",
       "    .dataframe tbody tr th:only-of-type {\n",
       "        vertical-align: middle;\n",
       "    }\n",
       "\n",
       "    .dataframe tbody tr th {\n",
       "        vertical-align: top;\n",
       "    }\n",
       "\n",
       "    .dataframe thead th {\n",
       "        text-align: right;\n",
       "    }\n",
       "</style>\n",
       "<table border=\"1\" class=\"dataframe\">\n",
       "  <thead>\n",
       "    <tr style=\"text-align: right;\">\n",
       "      <th></th>\n",
       "      <th>Семейное положение</th>\n",
       "      <th>Всего людей с кредитами, ч</th>\n",
       "      <th>Доля группы от общего числа заемщиков, %</th>\n",
       "      <th>Имевшие задолжность, ч</th>\n",
       "      <th>Доля имевших задолжности по группам, %</th>\n",
       "    </tr>\n",
       "  </thead>\n",
       "  <tbody>\n",
       "    <tr>\n",
       "      <th>2</th>\n",
       "      <td>Развод/потеря партнера</td>\n",
       "      <td>2140.0</td>\n",
       "      <td>10.03</td>\n",
       "      <td>147.0</td>\n",
       "      <td>6.87</td>\n",
       "    </tr>\n",
       "    <tr>\n",
       "      <th>0</th>\n",
       "      <td>Оформленные отношения</td>\n",
       "      <td>12261.0</td>\n",
       "      <td>57.48</td>\n",
       "      <td>927.0</td>\n",
       "      <td>7.56</td>\n",
       "    </tr>\n",
       "    <tr>\n",
       "      <th>1</th>\n",
       "      <td>Вне брака/гражданский брак</td>\n",
       "      <td>6930.0</td>\n",
       "      <td>32.49</td>\n",
       "      <td>658.0</td>\n",
       "      <td>9.49</td>\n",
       "    </tr>\n",
       "  </tbody>\n",
       "</table>\n",
       "</div>"
      ],
      "text/plain": [
       "           Семейное положение  Всего людей с кредитами, ч  \\\n",
       "2      Развод/потеря партнера                      2140.0   \n",
       "0       Оформленные отношения                     12261.0   \n",
       "1  Вне брака/гражданский брак                      6930.0   \n",
       "\n",
       "   Доля группы от общего числа заемщиков, %  Имевшие задолжность, ч  \\\n",
       "2                                     10.03                   147.0   \n",
       "0                                     57.48                   927.0   \n",
       "1                                     32.49                   658.0   \n",
       "\n",
       "   Доля имевших задолжности по группам, %  \n",
       "2                                    6.87  \n",
       "0                                    7.56  \n",
       "1                                    9.49  "
      ]
     },
     "execution_count": 30,
     "metadata": {},
     "output_type": "execute_result"
    }
   ],
   "source": [
    "name_of_status_new = ['Оформленные отношения', 'Вне брака/гражданский брак', 'Развод/потеря партнера']\n",
    "group_comp1_next = group_comp1.iloc[0:1].copy().reset_index(drop=True)\n",
    "group_comp1_next = group_comp1_next.drop(columns='Семейное положение')\n",
    "\n",
    "all_people = group_comp1.loc[[1, 4], 'Всего людей с кредитами, ч'].sum() \n",
    "dept_people = group_comp1.loc[[1, 4], 'Имевшие задолжность, ч'].sum() \n",
    "row = [all_people, all_people/total_count*100, dept_people, dept_people/all_people*100]\n",
    "group_comp1_next.loc[1]= np.round(row,2)\n",
    "\n",
    "all_people = group_comp1.loc[[2, 3], 'Всего людей с кредитами, ч'].sum() \n",
    "dept_people = group_comp1.loc[[2, 3],  'Имевшие задолжность, ч'].sum() \n",
    "row = [all_people, all_people/total_count*100, dept_people, dept_people/all_people*100]\n",
    "group_comp1_next.loc[2]= np.round(row,2)\n",
    "\n",
    "group_comp1_next.insert (0, \"Семейное положение\", name_of_status_new)\n",
    "print(f'Средневзвешенная доля должников: {debt_relat} %')\n",
    "group_comp1_next.sort_values(by='Доля имевших задолжности по группам, %')"
   ]
  },
  {
   "cell_type": "code",
   "execution_count": 31,
   "id": "dc4f24b3-6365-40be-80da-c36042d94040",
   "metadata": {},
   "outputs": [
    {
     "data": {
      "image/png": "[encoded data removed]",
      "text/plain": [
       "<Figure size 360x576 with 1 Axes>"
      ]
     },
     "metadata": {},
     "output_type": "display_data"
    }
   ],
   "source": [
    "# Данные для диаграммы\n",
    "N = len(name_of_status_new)\n",
    "theta = np.linspace(0, 2 * np.pi, N, endpoint=False) \n",
    "theta = np.append(theta, theta[:1])\n",
    "radii = group_comp1_next[\"Доля имевших задолжности по группам, %\"].values\n",
    "radii = np.append(radii, radii[:1])\n",
    "# Отображение srider диаграммы для анализа\n",
    "plt.subplot(111, polar=True)\n",
    "plt.rcParams[\"figure.figsize\"]=5,8\n",
    "plt.title('Лепестковая диаграмма наличия задолжностей по семейному положению, %')\n",
    "plt.xticks(theta[:-1], name_of_status_new, color=\"grey\", size=10)\n",
    "yticks_vals = [ 2, 4 , 6 , 8 , 10]\n",
    "yticks_names= [\"2\", \"4\", \"6\", \"8\", \"10\"]\n",
    "plt.yticks(yticks_vals, yticks_names, size=13)\n",
    "plt.ylim(0,1.15*max(radii))\n",
    "plt.plot(theta, radii, linewidth=1, linestyle='solid')\n",
    "plt.fill(theta, radii, 'b', alpha=0.1)\n",
    "# Среднее значение просрочки кредитов\n",
    "theta1 = np.linspace(0, 2 * np.pi, 250, endpoint=False) \n",
    "theta1 = np.append(theta1, theta1[:-1])\n",
    "radii1 = debt_relat*np.ones(250)\n",
    "radii1 = np.append(radii1, radii1[:-1])\n",
    "plt.plot(theta1, radii1, linewidth=1, linestyle='--', label=\"Средневзвешенная доля должников\",  color=\"#3CB371\")\n",
    "plt.fill(theta1, radii1, \"#3CB371\", alpha=0.1)\n",
    "plt.legend(loc='upper right', bbox_to_anchor=(0.1, 0.1))\n",
    "plt.show()"
   ]
  },
  {
   "cell_type": "markdown",
   "id": "167efc91",
   "metadata": {
    "deletable": false,
    "id": "1cef7837"
   },
   "source": [
    "**Вывод:** \n",
    "- Наличие официально оформенных отношений, улучшает показатели наличия задолжности по кредитам, по сравнению с групами  \"не женат/ не замужем\", \"гражданский брак\"\t\n",
    "- При этом группы  \"вдовец / вдова\" и \"в разводе\" являются самыми дисциплинированными - 7.06% и 6.62%;\n",
    "  \n",
    "**Рекомендации:**\n",
    "- Учесть семейное положение при выдачи кредитов в порядке убывания ответственности \"вдовец / вдова\" - \"в разводе\" - \"женат / замужем\" - \"гражданский брак\" - \"Не женат / не замужем\"\n",
    "- Ввиду схожести процента возврата по некоторым из групп, можно использовать следующую шкалу:\n",
    "\n",
    "      1: \"вдовец / вдова\" и \"в разводе\",\n",
    "      2: \"женат / замужем\",\n",
    "      3: \"гражданский брак\" и \"Не женат / не замужем\"\n",
    "  \n",
    "- Хотя группы \"вдовец / вдова\" и \"в разводе\" схожи по размеру и проценту задолжностей, объединять их может быть и нецелесообразно в контексте возраста заемщика (скорее всего потеря партнера связана с естественными причинами - возрастом и соответственно \"вдовец / вдова\" косвенно характеризует заемщика по этому критерию). Может потребоваться дополнительное исследование."
   ]
  },
  {
   "cell_type": "markdown",
   "id": "39f99195",
   "metadata": {
    "deletable": false,
    "editable": false,
    "id": "1e8b2fca"
   },
   "source": [
    "#### 3.3 Есть ли зависимость между уровнем дохода и возвратом кредита в срок?"
   ]
  },
  {
   "cell_type": "markdown",
   "id": "a32dccd2-c38a-469c-94d2-083bb59c4b57",
   "metadata": {},
   "source": [
    "Для наглядности данных (по аналогии с предыдущими оценками), целесообразно создать таблицу со следующими столбцами, в зависимости от дохода:\n",
    "   - активность заемщиков (общее число действий с кредитами);\n",
    "   - доля каждой группы к общему числу займов;\n",
    "   - количество имевших задолжности;\n",
    "   - доля имевших задолжности.\n",
    "     \n",
    "Цели:\n",
    "1. Соотнести значимость групп по доли займов к общему числу займов;\n",
    "2. Определить процент невозврата кредитов по группам;\n",
    "3. Сделать вывод о необходимости учета дохода по группам при выдачи кредитов."
   ]
  },
  {
   "cell_type": "code",
   "execution_count": 32,
   "id": "10783b66",
   "metadata": {
    "deletable": false,
    "id": "cd7e3720",
    "scrolled": true
   },
   "outputs": [
    {
     "name": "stdout",
     "output_type": "stream",
     "text": [
      "Средневзвешенная доля должников: 8.12 %\n"
     ]
    },
    {
     "data": {
      "text/html": [
       "<div>\n",
       "<style scoped>\n",
       "    .dataframe tbody tr th:only-of-type {\n",
       "        vertical-align: middle;\n",
       "    }\n",
       "\n",
       "    .dataframe tbody tr th {\n",
       "        vertical-align: top;\n",
       "    }\n",
       "\n",
       "    .dataframe thead th {\n",
       "        text-align: right;\n",
       "    }\n",
       "</style>\n",
       "<table border=\"1\" class=\"dataframe\">\n",
       "  <thead>\n",
       "    <tr style=\"text-align: right;\">\n",
       "      <th></th>\n",
       "      <th>Группа дохода</th>\n",
       "      <th>Всего людей с кредитами, ч</th>\n",
       "      <th>Доля группы от общего числа заемщиков, %</th>\n",
       "      <th>Имевшие задолжность, ч</th>\n",
       "      <th>Доля имевших задолжности по группам, %</th>\n",
       "    </tr>\n",
       "    <tr>\n",
       "      <th>total_income_category</th>\n",
       "      <th></th>\n",
       "      <th></th>\n",
       "      <th></th>\n",
       "      <th></th>\n",
       "      <th></th>\n",
       "    </tr>\n",
       "  </thead>\n",
       "  <tbody>\n",
       "    <tr>\n",
       "      <th>D</th>\n",
       "      <td>30001-50000</td>\n",
       "      <td>349</td>\n",
       "      <td>1.64</td>\n",
       "      <td>21</td>\n",
       "      <td>6.02</td>\n",
       "    </tr>\n",
       "    <tr>\n",
       "      <th>B</th>\n",
       "      <td>200001-1000000</td>\n",
       "      <td>5014</td>\n",
       "      <td>23.51</td>\n",
       "      <td>354</td>\n",
       "      <td>7.06</td>\n",
       "    </tr>\n",
       "    <tr>\n",
       "      <th>A</th>\n",
       "      <td>&gt;&gt; 1000001</td>\n",
       "      <td>25</td>\n",
       "      <td>0.12</td>\n",
       "      <td>2</td>\n",
       "      <td>8.00</td>\n",
       "    </tr>\n",
       "    <tr>\n",
       "      <th>C</th>\n",
       "      <td>50001-200000</td>\n",
       "      <td>15921</td>\n",
       "      <td>74.64</td>\n",
       "      <td>1353</td>\n",
       "      <td>8.50</td>\n",
       "    </tr>\n",
       "    <tr>\n",
       "      <th>E</th>\n",
       "      <td>&lt;&lt; 30000</td>\n",
       "      <td>22</td>\n",
       "      <td>0.10</td>\n",
       "      <td>2</td>\n",
       "      <td>9.09</td>\n",
       "    </tr>\n",
       "  </tbody>\n",
       "</table>\n",
       "</div>"
      ],
      "text/plain": [
       "                        Группа дохода  Всего людей с кредитами, ч  \\\n",
       "total_income_category                                               \n",
       "D                         30001-50000                         349   \n",
       "B                      200001-1000000                        5014   \n",
       "A                          >> 1000001                          25   \n",
       "C                        50001-200000                       15921   \n",
       "E                            << 30000                          22   \n",
       "\n",
       "                       Доля группы от общего числа заемщиков, %  \\\n",
       "total_income_category                                             \n",
       "D                                                          1.64   \n",
       "B                                                         23.51   \n",
       "A                                                          0.12   \n",
       "C                                                         74.64   \n",
       "E                                                          0.10   \n",
       "\n",
       "                       Имевшие задолжность, ч  \\\n",
       "total_income_category                           \n",
       "D                                          21   \n",
       "B                                         354   \n",
       "A                                           2   \n",
       "C                                        1353   \n",
       "E                                           2   \n",
       "\n",
       "                       Доля имевших задолжности по группам, %  \n",
       "total_income_category                                          \n",
       "D                                                        6.02  \n",
       "B                                                        7.06  \n",
       "A                                                        8.00  \n",
       "C                                                        8.50  \n",
       "E                                                        9.09  "
      ]
     },
     "execution_count": 32,
     "metadata": {},
     "output_type": "execute_result"
    }
   ],
   "source": [
    "names_of_rows = ['Всего людей с кредитами, ч', 'Имевшие задолжность, ч']\n",
    "category = 'total_income_category'\n",
    "names_of_rows = ['Всего людей с кредитами, ч', 'Имевшие задолжность, ч']\n",
    "name_of_status = ['<< 30000','30001-50000',  '50001-200000' , '200001-1000000' ,  '>> 1000001']\n",
    "name_of_status.reverse()\n",
    "group_comp2 = data.groupby(by=category).aggregate({'debt':['count','sum']})\n",
    "group_comp2.columns = names_of_rows\n",
    "group_comp2.insert (1, \"Доля группы от общего числа заемщиков, %\", (group_comp2['Всего людей с кредитами, ч']/total_count/0.01).round(2))\n",
    "group_comp2[\"Доля имевших задолжности по группам, %\"] = (group_comp2['Имевшие задолжность, ч']/group_comp2['Всего людей с кредитами, ч']/0.01).round(2)\n",
    "group_comp2.insert (0, \"Группа дохода\", name_of_status)\n",
    "print(f'Средневзвешенная доля должников: {debt_relat} %')\n",
    "group_comp2.sort_values(by='Доля имевших задолжности по группам, %')\n"
   ]
  },
  {
   "cell_type": "markdown",
   "id": "fd9cfe2f-3975-4e0e-ae11-a89a9444aba7",
   "metadata": {},
   "source": [
    "#### Результаты:\n",
    "1) Фактически существуют две большие группы по доходу - \"50001-200000\" и \"200001-1000000\",  74.64% и 23.51% заемщиков;\n",
    "2) Сравнивая результат для этих двух групп видно, что с увеличением дохода доля задолжностей падает (-1.44%) \n",
    "3) Остальные группы по численности минимальны;\n",
    "\n",
    "Так как группы дохода основаны на количественной величине, целесообразнее строить не лепестковую диаграмму, а обычную столбцами. Тогда значения по X будут сортированными по возрастанию и можно попробовать выявить какую либо тенденцию.\n"
   ]
  },
  {
   "cell_type": "code",
   "execution_count": 33,
   "id": "134f8360-ba07-4f54-bdea-798b000012b8",
   "metadata": {},
   "outputs": [
    {
     "data": {
      "text/plain": [
       "<matplotlib.legend.Legend at 0x23f858a2f10>"
      ]
     },
     "execution_count": 33,
     "metadata": {},
     "output_type": "execute_result"
    },
    {
     "data": {
      "image/png": "[encoded data removed]",
      "text/plain": [
       "<Figure size 720x432 with 1 Axes>"
      ]
     },
     "metadata": {
      "needs_background": "light"
     },
     "output_type": "display_data"
    }
   ],
   "source": [
    "group_comp2[\"Доля имевших задолжности по группам, %\"].plot(kind='bar',  figsize=(10,6), fontsize=13, label='Доля имевших задолжности по группам');\n",
    "group_comp2[\"Доля имевших задолжности по группам, %\"].plot(kind='line', figsize=(10,6), fontsize=13, color = \"r\");\n",
    "plt.title(\"Имевшие задолжности по группам дохода\", fontsize=15)\n",
    "plt.ylabel(\"Доля, %\", fontsize=10)\n",
    "plt.xlabel(\"Группы дохода\", fontsize=10);\n",
    "plt.axhline(y = debt_relat, color = \"#3CB371\", linestyle = '--', label='Средневзвешенная доля должников')\n",
    "plt.ylim(0, 11) \n",
    "plt.legend(loc='upper right', bbox_to_anchor=(0.5, 1))\n"
   ]
  },
  {
   "cell_type": "markdown",
   "id": "a62efeef",
   "metadata": {
    "deletable": false,
    "id": "e8593def"
   },
   "source": [
    "**Вывод:** \n",
    "- Полученные на текущий момент результаты недостаточно формализуют критерий дохода, оставляя возможным сделать только общий вывод о  снижении задолжностей по кредитам с ростом доходов (в рамках двух больших групп);\n",
    "- В отличии от категорий с количеством детей, здесь категоризация была выполнено некорректно или требует дополнительных пояснений (может быть сделать группы более равновесными по количеству людей в них и т.п.).\n",
    "  \n",
    "**Рекомендации:**\n",
    "- Скорректировать категоризацию по доходу при постановки задачи, для более точной оценки его влияния."
   ]
  },
  {
   "cell_type": "code",
   "execution_count": 34,
   "id": "c9b3dfa3",
   "metadata": {},
   "outputs": [
    {
     "data": {
      "image/png": "[encoded data removed]",
      "text/plain": [
       "<Figure size 410.825x360 with 1 Axes>"
      ]
     },
     "metadata": {
      "needs_background": "light"
     },
     "output_type": "display_data"
    },
    {
     "name": "stdout",
     "output_type": "stream",
     "text": [
      "Медиана по добропорядочным  142594.0\n",
      "Медиана по имевшим задолжность 142594.0\n"
     ]
    }
   ],
   "source": [
    "good_boys = data['total_income'].loc[data['debt']==0].median()\n",
    "bad_boys = data['total_income'].loc[data['debt']==1].median()\n",
    "\n",
    "sns.displot(data = data, x = 'total_income', hue = 'debt', kind='kde', multiple = 'stack' )\n",
    "plt.axvline(x=good_boys, label = 'Медиана по добропорядочным', color ='#1874CD', linestyle='dashed')\n",
    "plt.axvline(x=bad_boys,  label = 'Медиана по имевшим задолжность', color ='orange', linestyle='dashed')\n",
    "plt.xlim([0, 750000])\n",
    "plt.legend(loc='upper right', bbox_to_anchor=(2, 1))\n",
    "plt.show()\n",
    "print(f'Медиана по добропорядочным  {good_boys}')\n",
    "print(f'Медиана по имевшим задолжность {bad_boys}')"
   ]
  },
  {
   "cell_type": "markdown",
   "id": "454ce503",
   "metadata": {
    "deletable": false,
    "editable": false,
    "id": "99ecbd1f"
   },
   "source": [
    "#### 3.4 Как разные цели кредита влияют на его возврат в срок?"
   ]
  },
  {
   "cell_type": "markdown",
   "id": "f8ebad6f-c060-404e-ac2e-d06ac3be71dd",
   "metadata": {},
   "source": [
    "Для наглядности данных (по аналогии с предыдущими оценками), целесообразно создать таблицу со следующими столбцами, в зависимости от дохода:\n",
    "   - активность заемщиков (общее число действий с кредитами);\n",
    "   - доля каждой группы к общему числу займов;\n",
    "   - количество имевших задолжности;\n",
    "   - доля имевших задолжности.\n",
    "     \n",
    "Цели:\n",
    "1. Соотнести значимость групп по доли займов к общему числу займов;\n",
    "2. Определить процент невозврата кредитов по группам;\n",
    "3. Сделать вывод о необходимости учета дохода по группам при выдачи кредитов."
   ]
  },
  {
   "cell_type": "code",
   "execution_count": 35,
   "id": "b705ca6c",
   "metadata": {
    "deletable": false,
    "id": "2b687290"
   },
   "outputs": [
    {
     "name": "stdout",
     "output_type": "stream",
     "text": [
      "Средневзвешенная доля должников: 8.12 %\n"
     ]
    },
    {
     "data": {
      "text/html": [
       "<div>\n",
       "<style scoped>\n",
       "    .dataframe tbody tr th:only-of-type {\n",
       "        vertical-align: middle;\n",
       "    }\n",
       "\n",
       "    .dataframe tbody tr th {\n",
       "        vertical-align: top;\n",
       "    }\n",
       "\n",
       "    .dataframe thead th {\n",
       "        text-align: right;\n",
       "    }\n",
       "</style>\n",
       "<table border=\"1\" class=\"dataframe\">\n",
       "  <thead>\n",
       "    <tr style=\"text-align: right;\">\n",
       "      <th></th>\n",
       "      <th>Всего людей с кредитами, ч</th>\n",
       "      <th>Доля группы от общего числа заемщиков, %</th>\n",
       "      <th>Имевшие задолжность, ч</th>\n",
       "      <th>Доля имевших задолжности по группам, %</th>\n",
       "    </tr>\n",
       "    <tr>\n",
       "      <th>purpose_category</th>\n",
       "      <th></th>\n",
       "      <th></th>\n",
       "      <th></th>\n",
       "      <th></th>\n",
       "    </tr>\n",
       "  </thead>\n",
       "  <tbody>\n",
       "    <tr>\n",
       "      <th>операции с недвижимостью</th>\n",
       "      <td>10751</td>\n",
       "      <td>50.40</td>\n",
       "      <td>780</td>\n",
       "      <td>7.26</td>\n",
       "    </tr>\n",
       "    <tr>\n",
       "      <th>проведение свадьбы</th>\n",
       "      <td>2313</td>\n",
       "      <td>10.84</td>\n",
       "      <td>183</td>\n",
       "      <td>7.91</td>\n",
       "    </tr>\n",
       "    <tr>\n",
       "      <th>получение образования</th>\n",
       "      <td>3988</td>\n",
       "      <td>18.70</td>\n",
       "      <td>369</td>\n",
       "      <td>9.25</td>\n",
       "    </tr>\n",
       "    <tr>\n",
       "      <th>операции с автомобилем</th>\n",
       "      <td>4279</td>\n",
       "      <td>20.06</td>\n",
       "      <td>400</td>\n",
       "      <td>9.35</td>\n",
       "    </tr>\n",
       "  </tbody>\n",
       "</table>\n",
       "</div>"
      ],
      "text/plain": [
       "                          Всего людей с кредитами, ч  \\\n",
       "purpose_category                                       \n",
       "операции с недвижимостью                       10751   \n",
       "проведение свадьбы                              2313   \n",
       "получение образования                           3988   \n",
       "операции с автомобилем                          4279   \n",
       "\n",
       "                          Доля группы от общего числа заемщиков, %  \\\n",
       "purpose_category                                                     \n",
       "операции с недвижимостью                                     50.40   \n",
       "проведение свадьбы                                           10.84   \n",
       "получение образования                                        18.70   \n",
       "операции с автомобилем                                       20.06   \n",
       "\n",
       "                          Имевшие задолжность, ч  \\\n",
       "purpose_category                                   \n",
       "операции с недвижимостью                     780   \n",
       "проведение свадьбы                           183   \n",
       "получение образования                        369   \n",
       "операции с автомобилем                       400   \n",
       "\n",
       "                          Доля имевших задолжности по группам, %  \n",
       "purpose_category                                                  \n",
       "операции с недвижимостью                                    7.26  \n",
       "проведение свадьбы                                          7.91  \n",
       "получение образования                                       9.25  \n",
       "операции с автомобилем                                      9.35  "
      ]
     },
     "execution_count": 35,
     "metadata": {},
     "output_type": "execute_result"
    }
   ],
   "source": [
    "# Ваш код будет здесь. Вы можете создавать новые ячейки.\n",
    "names_of_rows = ['Всего людей с кредитами, ч', 'Имевшие задолжность, ч']\n",
    "category = 'purpose_category'\n",
    "names_of_rows = ['Всего людей с кредитами, ч', 'Имевшие задолжность, ч']\n",
    "name_of_status = ['операции с автомобилем', 'операции с недвижимостью',\n",
    "       'получение образования', 'проведение свадьбы']\n",
    "group_comp3 = data.groupby(by=category).aggregate({'debt':['count','sum']})\n",
    "group_comp3.columns = names_of_rows\n",
    "group_comp3.insert (1, \"Доля группы от общего числа заемщиков, %\", (group_comp3['Всего людей с кредитами, ч']/total_count/0.01).round(2))\n",
    "group_comp3[\"Доля имевших задолжности по группам, %\"] = (group_comp3['Имевшие задолжность, ч']/group_comp3['Всего людей с кредитами, ч']/0.01).round(2)\n",
    "print(f'Средневзвешенная доля должников: {debt_relat} %')\n",
    "group_comp3.sort_values(by='Доля имевших задолжности по группам, %')\n"
   ]
  },
  {
   "cell_type": "markdown",
   "id": "99ef8d9c-f2c5-4152-8c15-086d371e53c4",
   "metadata": {},
   "source": [
    "#### Результаты:\n",
    "1) Группы сопоставимы по размеру;\n",
    "2) \"операции с недвижимостью\" и \"проведение свадьбы\" значение задолжности составляет 7.26% и 7.91% соответственно;\n",
    "3) \"получение образования\" и \"операции с автомобилем\" значение задолжности составляет 9.25% и 9.35% соответственно."
   ]
  },
  {
   "cell_type": "code",
   "execution_count": 36,
   "id": "7d762ba5-bd22-4ba5-a2d4-1949b6b6491b",
   "metadata": {},
   "outputs": [
    {
     "data": {
      "image/png": "[encoded data removed]",
      "text/plain": [
       "<Figure size 360x576 with 1 Axes>"
      ]
     },
     "metadata": {},
     "output_type": "display_data"
    }
   ],
   "source": [
    "# Данные для диаграммы\n",
    "N = len(name_of_status)\n",
    "theta = np.linspace(0, 2 * np.pi, N, endpoint=False) \n",
    "theta = np.append(theta, theta[:1])\n",
    "radii = group_comp3[\"Доля имевших задолжности по группам, %\"].values\n",
    "radii = np.append(radii, radii[:1])\n",
    "# Отображение srider диаграммы для анализа\n",
    "plt.subplot(111, polar=True)\n",
    "plt.rcParams[\"figure.figsize\"]=5,8\n",
    "plt.title('Лепестковая диаграмма наличия задолжностей по цели кредита, %')\n",
    "plt.xticks(theta[:-1], name_of_status, color=\"grey\", size=10)\n",
    "yticks_vals = [ 2, 4 , 6 , 8 , 10]\n",
    "yticks_names= [\"2\", \"4\", \"6\", \"8\", \"10\"]\n",
    "plt.yticks(yticks_vals, yticks_names, size=13)\n",
    "plt.ylim(0,1.15*max(radii))\n",
    "plt.plot(theta, radii, linewidth=1, linestyle='solid')\n",
    "plt.fill(theta, radii, 'b', alpha=0.1)\n",
    "# Среднее значение просрочки кредитов\n",
    "theta1 = np.linspace(0, 2 * np.pi, 250, endpoint=False) \n",
    "theta1 = np.append(theta1, theta1[:-1])\n",
    "radii1 = debt_relat*np.ones(250)\n",
    "radii1 = np.append(radii1, radii1[:-1])\n",
    "plt.plot(theta1, radii1, linewidth=1, linestyle='--', label=\"Средневзвешенная доля должников\",  color=\"#3CB371\")\n",
    "plt.fill(theta1, radii1, \"#3CB371\", alpha=0.1)\n",
    "plt.legend(loc='upper right', bbox_to_anchor=(0.1, 0.1))\n",
    "plt.show()"
   ]
  },
  {
   "cell_type": "markdown",
   "id": "7056f307-efa0-4b6d-9d7e-920e9b10a784",
   "metadata": {},
   "source": [
    "**Вывод:** \n",
    "- По наличию задолжности и цели кредита можно выделить две большие группы (1) \"операции с недвижимостью\"/\"проведение свадьбы\" и (2) \"получение образования\"/\"операции с автомобилем\". В первом случае наличие задолжности составляет порядка 7.5 %, а во втором 9.3 %\n",
    "\n",
    "**Рекомендации:**\n",
    "- Учесть категорию по цели кредита при его выдачи, как влияющую на возникновение задолжности. Учитывать, что для групп \"операции с недвижимостью\", \"проведение свадьбы\" по сравнению с \"получение образования\",\"операции с автомобилем\" доля задолжностей ниже на порядка 1.8 %\n"
   ]
  },
  {
   "cell_type": "markdown",
   "id": "91631bb2",
   "metadata": {
    "deletable": false,
    "id": "b4bb2ce6"
   },
   "source": [
    "**Вывод:** "
   ]
  },
  {
   "cell_type": "markdown",
   "id": "497468d8",
   "metadata": {
    "deletable": false,
    "editable": false,
    "id": "09c3ac4c"
   },
   "source": [
    "#### 3.5 Приведите возможные причины появления пропусков в исходных данных."
   ]
  },
  {
   "cell_type": "markdown",
   "id": "fbd20c62",
   "metadata": {
    "deletable": false,
    "id": "9da2ceda"
   },
   "source": [
    "*Ответ:* \n",
    "Так как на стадии обработки данных, получено, что количество пропусков в графах \"дней на работе\" и \"заработок\" совпадает с суммарным числом пропусков. Можно заключить, что это связанно с тем, что эти люди были безработными."
   ]
  },
  {
   "cell_type": "markdown",
   "id": "671506c9",
   "metadata": {
    "deletable": false,
    "editable": false,
    "id": "7b0487d6"
   },
   "source": [
    "#### 3.6 Объясните, почему заполнить пропуски медианным значением — лучшее решение для количественных переменных."
   ]
  },
  {
   "cell_type": "markdown",
   "id": "64b602d9",
   "metadata": {
    "deletable": false,
    "id": "7ecf2b8e"
   },
   "source": [
    "*Ответ:* \n",
    "Это консервативное решение, увеличивающее вклад средневзвешенного значения при анализе данных, при этом недопускающее необоснованный роста дисперсии иследуемой величины"
   ]
  },
  {
   "cell_type": "markdown",
   "id": "60c0fb5f",
   "metadata": {
    "deletable": false,
    "editable": false,
    "id": "6db5255a"
   },
   "source": [
    "### Шаг 4: общий вывод."
   ]
  },
  {
   "cell_type": "markdown",
   "id": "559091c9",
   "metadata": {
    "deletable": false,
    "id": "bad65432"
   },
   "source": [
    "1) Качество данных:\n",
    "   - предоставленные данные высокого качества, нетребующие значительной корректировки (доля потерянных строк таблицы ~ 0.01%).\n",
    "   \n",
    "2) Выявленные пропуски в данных связаны с тем, что люди являясь безработными не заполняли графы связанные со временем прибывания на работе и среднему доходу.\n",
    "\n",
    "3)  Категоризация для анализа\n",
    "   - количеством детей  (корректно);\n",
    "   - семейное положение (корректно);\n",
    "   - по доходу (требует дополнительного исследования);\n",
    "   - цели кредита (корректно).\n",
    "   \n",
    "4)  Результаты\n",
    "\n",
    "**Количество детей:**\n",
    "    \n",
    "            - семьи без детей лучше всего возвращают кредиты;\n",
    "            - наличие 1 и 2 детей при выдачи кредитов приводит к незначительному росту задолжности(+ 1.7%);\n",
    "            - для семей с более чем 3 детьми процент возврата хуже чем у бездетных (+0.62%), но лучше чем у семей с \n",
    "              1-2 детьми (-1.1%);\n",
    "            - количество операций с кредитами для семей с 3+ детей незначительно  и составляет 1.5% от общего числа,\n",
    "              целесообразно объединить их в общую группу.\n",
    "            \n",
    "**По семейному положению:**\n",
    "\n",
    "    \n",
    "            - группы  \"вдовец / вдова\" и \"в разводе\" являются самыми дисциплинированными - 7.06% и 6.62%;\n",
    "            - семейное положение при выдачи кредитов влияет в порядке убывания ответственности(роста задолжностей) \"вдовец /  \n",
    "              вдова\" - \"в разводе\" - \"женат / замужем\" - \"гражданский брак\" - \"Не женат / не замужем\";\n",
    "            - ввиду схожести процента возврата по некоторым из групп, можно использовать следующие обобщенные группы:  \n",
    "             \"вдовец/вдова /в разводе\", \"женат / замужем\", \"гражданский брак/ Не женат / не замужем\";\n",
    "            - следует обратить внимание на возможную корреляцию группы \"вдовец / вдова\" с возрастными группами;\n",
    "            - следует обратить внимание на возможную корреляцию  критерия \"семейного положения\" с \"количеством детей\".\n",
    "\n",
    "**По доходу:**\n",
    "\n",
    "            - предложенная категоризация привела к формированию неравнозначных по размеру групп заемщиков;\n",
    "            - по двум наиболее представленным группам, можно сделать достаточно общий вывод о росте задолжностей с \n",
    "              уменьшением дохода;\n",
    "            - необходимо уточнение при формировании критерия распределения по группам дохода;\n",
    "            - хотя выполнено заполнение пропусков с помощью медианных значений, в данном случае целесообразно рассматривать\n",
    "              отдельную группу людей неимеющих работу и не получающих дохода;\n",
    "            - желательно дополнительно проверить источник данных, так как выявлено совпадение медианных значений дохода для\n",
    "              групп имеющих задолжности и без задолжностей.\n",
    "\n",
    "**По целе кредита:**\n",
    "\n",
    "            - сформированные группы сопоставимы по количеству заемщиков;\n",
    "            - для групп \"получение образования\"/\"операции с автомобилем\" сформировалось порядка 9.3 % задолжностей, а \n",
    "              для групп \"операции с недвижимостью\"/\"проведение свадьбы\" она составила  7.5 % ;\n",
    "            - при выдачи кредита необходимо учитывать категорию его цели, как влияющую на возникновение задолжности.\n",
    "\n",
    "  \n"
   ]
  }
 ],
 "metadata": {
  "ExecuteTimeLog": [
   {
    "duration": 111,
    "start_time": "2023-09-18T18:42:47.276Z"
   },
   {
    "duration": 94,
    "start_time": "2023-09-18T18:42:51.215Z"
   },
   {
    "duration": 120,
    "start_time": "2023-09-18T18:43:24.657Z"
   },
   {
    "duration": 130,
    "start_time": "2023-09-18T18:45:34.209Z"
   },
   {
    "duration": 105,
    "start_time": "2023-09-18T18:45:38.755Z"
   },
   {
    "duration": 115,
    "start_time": "2023-09-18T18:45:43.350Z"
   },
   {
    "duration": 1919,
    "start_time": "2023-09-18T19:06:52.357Z"
   },
   {
    "duration": 23,
    "start_time": "2023-09-18T19:06:54.281Z"
   },
   {
    "duration": 39,
    "start_time": "2023-09-18T19:06:54.306Z"
   },
   {
    "duration": 27,
    "start_time": "2023-09-18T19:06:54.347Z"
   },
   {
    "duration": 45,
    "start_time": "2023-09-18T19:06:54.380Z"
   },
   {
    "duration": 6,
    "start_time": "2023-09-18T19:06:54.429Z"
   },
   {
    "duration": 22,
    "start_time": "2023-09-18T19:06:54.436Z"
   },
   {
    "duration": 6,
    "start_time": "2023-09-18T19:06:54.467Z"
   },
   {
    "duration": 10,
    "start_time": "2023-09-18T19:06:54.475Z"
   },
   {
    "duration": 5,
    "start_time": "2023-09-18T19:06:54.487Z"
   },
   {
    "duration": 75,
    "start_time": "2023-09-18T19:06:54.494Z"
   },
   {
    "duration": 18,
    "start_time": "2023-09-18T19:06:54.571Z"
   },
   {
    "duration": 5,
    "start_time": "2023-09-18T19:06:54.591Z"
   },
   {
    "duration": 29,
    "start_time": "2023-09-18T19:06:54.600Z"
   },
   {
    "duration": 30,
    "start_time": "2023-09-18T19:06:54.631Z"
   },
   {
    "duration": 30,
    "start_time": "2023-09-18T19:06:54.663Z"
   },
   {
    "duration": 5,
    "start_time": "2023-09-18T19:06:54.695Z"
   },
   {
    "duration": 28,
    "start_time": "2023-09-18T19:06:54.702Z"
   },
   {
    "duration": 10,
    "start_time": "2023-09-18T19:06:54.732Z"
   },
   {
    "duration": 10,
    "start_time": "2023-09-18T19:06:54.748Z"
   },
   {
    "duration": 17,
    "start_time": "2023-09-18T19:06:54.761Z"
   },
   {
    "duration": 6,
    "start_time": "2023-09-18T19:06:54.780Z"
   },
   {
    "duration": 18,
    "start_time": "2023-09-18T19:06:54.788Z"
   },
   {
    "duration": 565,
    "start_time": "2023-09-18T19:06:54.808Z"
   },
   {
    "duration": 15,
    "start_time": "2023-09-18T19:06:55.375Z"
   },
   {
    "duration": 18,
    "start_time": "2023-09-18T19:06:55.392Z"
   },
   {
    "duration": 32,
    "start_time": "2023-09-18T19:06:55.425Z"
   },
   {
    "duration": 763,
    "start_time": "2023-09-18T19:06:55.459Z"
   },
   {
    "duration": 44,
    "start_time": "2023-09-18T19:06:56.224Z"
   },
   {
    "duration": 421,
    "start_time": "2023-09-18T19:06:56.271Z"
   },
   {
    "duration": 20,
    "start_time": "2023-09-18T19:06:56.694Z"
   },
   {
    "duration": 366,
    "start_time": "2023-09-18T19:06:56.734Z"
   },
   {
    "duration": 809,
    "start_time": "2023-09-18T19:06:57.103Z"
   },
   {
    "duration": 50,
    "start_time": "2023-09-18T19:06:57.913Z"
   },
   {
    "duration": 684,
    "start_time": "2023-09-18T19:06:57.968Z"
   },
   {
    "duration": 7,
    "start_time": "2023-09-18T19:11:36.514Z"
   },
   {
    "duration": 291,
    "start_time": "2023-09-18T19:12:45.122Z"
   },
   {
    "duration": 22,
    "start_time": "2023-09-18T19:12:47.675Z"
   },
   {
    "duration": 39,
    "start_time": "2023-09-18T19:12:53.322Z"
   },
   {
    "duration": 25,
    "start_time": "2023-09-18T19:13:04.239Z"
   },
   {
    "duration": 12,
    "start_time": "2023-09-18T19:13:07.940Z"
   },
   {
    "duration": 35,
    "start_time": "2023-09-18T19:13:26.650Z"
   },
   {
    "duration": 37,
    "start_time": "2023-09-18T19:14:11.196Z"
   },
   {
    "duration": 14,
    "start_time": "2023-09-18T19:14:22.468Z"
   },
   {
    "duration": 7,
    "start_time": "2023-09-18T19:15:12.906Z"
   },
   {
    "duration": 6,
    "start_time": "2023-09-18T19:15:17.351Z"
   },
   {
    "duration": 22,
    "start_time": "2023-09-18T19:15:27.298Z"
   },
   {
    "duration": 122,
    "start_time": "2023-09-18T19:15:56.365Z"
   },
   {
    "duration": 14,
    "start_time": "2023-09-18T19:16:04.157Z"
   },
   {
    "duration": 16,
    "start_time": "2023-09-18T19:16:20.371Z"
   },
   {
    "duration": 33,
    "start_time": "2023-09-18T19:16:34.379Z"
   },
   {
    "duration": 11,
    "start_time": "2023-09-18T19:16:47.195Z"
   },
   {
    "duration": 7,
    "start_time": "2023-09-18T19:17:11.788Z"
   },
   {
    "duration": 12,
    "start_time": "2023-09-18T19:17:46.024Z"
   },
   {
    "duration": 23,
    "start_time": "2023-09-18T19:17:54.249Z"
   },
   {
    "duration": 37,
    "start_time": "2023-09-18T19:18:12.045Z"
   },
   {
    "duration": 15,
    "start_time": "2023-09-18T19:18:32.942Z"
   },
   {
    "duration": 311,
    "start_time": "2023-09-18T19:19:39.012Z"
   },
   {
    "duration": 88,
    "start_time": "2023-09-18T19:19:54.045Z"
   },
   {
    "duration": 152,
    "start_time": "2023-09-18T19:20:08.950Z"
   },
   {
    "duration": 98,
    "start_time": "2023-09-18T19:21:26.812Z"
   },
   {
    "duration": 83,
    "start_time": "2023-09-18T19:21:35.261Z"
   },
   {
    "duration": 4,
    "start_time": "2023-09-18T19:21:50.670Z"
   },
   {
    "duration": 3,
    "start_time": "2023-09-18T19:22:02.115Z"
   },
   {
    "duration": 106,
    "start_time": "2023-09-18T19:22:15.356Z"
   },
   {
    "duration": 99,
    "start_time": "2023-09-18T19:22:32.749Z"
   },
   {
    "duration": 5,
    "start_time": "2023-09-18T19:22:51.102Z"
   },
   {
    "duration": 9,
    "start_time": "2023-09-18T19:22:54.884Z"
   },
   {
    "duration": 102,
    "start_time": "2023-09-18T19:23:06.473Z"
   },
   {
    "duration": 6,
    "start_time": "2023-09-18T19:23:46.866Z"
   },
   {
    "duration": 10,
    "start_time": "2023-09-18T19:23:52.547Z"
   },
   {
    "duration": 119,
    "start_time": "2023-09-18T19:26:23.167Z"
   },
   {
    "duration": 8,
    "start_time": "2023-09-18T19:26:30.799Z"
   },
   {
    "duration": 75,
    "start_time": "2023-09-18T19:58:37.151Z"
   },
   {
    "duration": 443,
    "start_time": "2023-09-18T20:09:35.655Z"
   },
   {
    "duration": 28,
    "start_time": "2023-09-18T20:09:36.101Z"
   },
   {
    "duration": 116,
    "start_time": "2023-09-18T20:09:36.131Z"
   },
   {
    "duration": 25,
    "start_time": "2023-09-18T20:09:36.249Z"
   },
   {
    "duration": 26,
    "start_time": "2023-09-18T20:09:36.276Z"
   },
   {
    "duration": 76,
    "start_time": "2023-09-18T20:09:36.303Z"
   },
   {
    "duration": 13,
    "start_time": "2023-09-18T20:09:36.385Z"
   },
   {
    "duration": 15,
    "start_time": "2023-09-18T20:09:36.412Z"
   },
   {
    "duration": 19,
    "start_time": "2023-09-18T20:09:36.433Z"
   },
   {
    "duration": 21,
    "start_time": "2023-09-18T20:09:36.456Z"
   },
   {
    "duration": 18,
    "start_time": "2023-09-18T20:09:36.479Z"
   },
   {
    "duration": 73,
    "start_time": "2023-09-18T20:09:36.500Z"
   },
   {
    "duration": 28,
    "start_time": "2023-09-18T20:09:36.575Z"
   },
   {
    "duration": 4,
    "start_time": "2023-09-18T20:09:36.606Z"
   },
   {
    "duration": 26,
    "start_time": "2023-09-18T20:09:36.621Z"
   },
   {
    "duration": 40,
    "start_time": "2023-09-18T20:09:36.651Z"
   },
   {
    "duration": 28,
    "start_time": "2023-09-18T20:09:36.694Z"
   },
   {
    "duration": 8,
    "start_time": "2023-09-18T20:09:36.724Z"
   },
   {
    "duration": 20,
    "start_time": "2023-09-18T20:09:36.743Z"
   },
   {
    "duration": 15,
    "start_time": "2023-09-18T20:09:36.765Z"
   },
   {
    "duration": 4,
    "start_time": "2023-09-18T20:09:36.784Z"
   },
   {
    "duration": 12,
    "start_time": "2023-09-18T20:09:36.790Z"
   },
   {
    "duration": 14,
    "start_time": "2023-09-18T20:09:36.804Z"
   },
   {
    "duration": 29,
    "start_time": "2023-09-18T20:09:36.826Z"
   },
   {
    "duration": 531,
    "start_time": "2023-09-18T20:09:36.857Z"
   },
   {
    "duration": 22,
    "start_time": "2023-09-18T20:09:37.391Z"
   },
   {
    "duration": 57,
    "start_time": "2023-09-18T20:09:37.427Z"
   },
   {
    "duration": 24,
    "start_time": "2023-09-18T20:09:37.489Z"
   },
   {
    "duration": 791,
    "start_time": "2023-09-18T20:09:37.515Z"
   },
   {
    "duration": 46,
    "start_time": "2023-09-18T20:09:38.308Z"
   },
   {
    "duration": 560,
    "start_time": "2023-09-18T20:09:38.375Z"
   },
   {
    "duration": 32,
    "start_time": "2023-09-18T20:09:38.938Z"
   },
   {
    "duration": 520,
    "start_time": "2023-09-18T20:09:38.972Z"
   },
   {
    "duration": 1067,
    "start_time": "2023-09-18T20:09:39.498Z"
   },
   {
    "duration": 31,
    "start_time": "2023-09-18T20:09:40.570Z"
   },
   {
    "duration": 765,
    "start_time": "2023-09-18T20:09:40.603Z"
   },
   {
    "duration": 80,
    "start_time": "2023-09-18T20:19:47.048Z"
   },
   {
    "duration": 293,
    "start_time": "2023-09-18T20:20:42.266Z"
   },
   {
    "duration": 17,
    "start_time": "2023-09-18T20:20:42.565Z"
   },
   {
    "duration": 138,
    "start_time": "2023-09-18T20:20:42.583Z"
   },
   {
    "duration": 32,
    "start_time": "2023-09-18T20:20:42.723Z"
   },
   {
    "duration": 60,
    "start_time": "2023-09-18T20:20:42.760Z"
   },
   {
    "duration": 141,
    "start_time": "2023-09-18T20:20:42.822Z"
   },
   {
    "duration": 4,
    "start_time": "2023-09-18T20:20:42.965Z"
   },
   {
    "duration": 29,
    "start_time": "2023-09-18T20:20:42.971Z"
   },
   {
    "duration": 5,
    "start_time": "2023-09-18T20:20:43.002Z"
   },
   {
    "duration": 59,
    "start_time": "2023-09-18T20:20:43.009Z"
   },
   {
    "duration": 29,
    "start_time": "2023-09-18T20:20:43.070Z"
   },
   {
    "duration": 79,
    "start_time": "2023-09-18T20:20:43.101Z"
   },
   {
    "duration": 11,
    "start_time": "2023-09-18T20:20:43.182Z"
   },
   {
    "duration": 19,
    "start_time": "2023-09-18T20:20:43.197Z"
   },
   {
    "duration": 43,
    "start_time": "2023-09-18T20:20:43.218Z"
   },
   {
    "duration": 35,
    "start_time": "2023-09-18T20:20:43.263Z"
   },
   {
    "duration": 18,
    "start_time": "2023-09-18T20:20:43.299Z"
   },
   {
    "duration": 32,
    "start_time": "2023-09-18T20:20:43.319Z"
   },
   {
    "duration": 32,
    "start_time": "2023-09-18T20:20:43.353Z"
   },
   {
    "duration": 40,
    "start_time": "2023-09-18T20:20:43.387Z"
   },
   {
    "duration": 18,
    "start_time": "2023-09-18T20:20:43.429Z"
   },
   {
    "duration": 67,
    "start_time": "2023-09-18T20:20:43.453Z"
   },
   {
    "duration": 51,
    "start_time": "2023-09-18T20:20:43.522Z"
   },
   {
    "duration": 45,
    "start_time": "2023-09-18T20:20:43.576Z"
   },
   {
    "duration": 520,
    "start_time": "2023-09-18T20:20:43.623Z"
   },
   {
    "duration": 22,
    "start_time": "2023-09-18T20:20:44.145Z"
   },
   {
    "duration": 30,
    "start_time": "2023-09-18T20:20:44.169Z"
   },
   {
    "duration": 58,
    "start_time": "2023-09-18T20:20:44.201Z"
   },
   {
    "duration": 698,
    "start_time": "2023-09-18T20:20:44.265Z"
   },
   {
    "duration": 28,
    "start_time": "2023-09-18T20:20:44.965Z"
   },
   {
    "duration": 608,
    "start_time": "2023-09-18T20:20:44.996Z"
   },
   {
    "duration": 36,
    "start_time": "2023-09-18T20:20:45.606Z"
   },
   {
    "duration": 641,
    "start_time": "2023-09-18T20:20:45.645Z"
   },
   {
    "duration": 851,
    "start_time": "2023-09-18T20:20:46.289Z"
   },
   {
    "duration": 27,
    "start_time": "2023-09-18T20:20:47.147Z"
   },
   {
    "duration": 704,
    "start_time": "2023-09-18T20:20:47.176Z"
   },
   {
    "duration": 52,
    "start_time": "2023-10-03T06:56:49.855Z"
   }
  ],
  "colab": {
   "name": "dpp_template_part2.ipynb",
   "provenance": []
  },
  "kernelspec": {
   "display_name": "Python 3 (ipykernel)",
   "language": "python",
   "name": "python3"
  },
  "language_info": {
   "codemirror_mode": {
    "name": "ipython",
    "version": 3
   },
   "file_extension": ".py",
   "mimetype": "text/x-python",
   "name": "python",
   "nbconvert_exporter": "python",
   "pygments_lexer": "ipython3",
   "version": "3.9.7"
  },
  "toc": {
   "base_numbering": 1,
   "nav_menu": {},
   "number_sections": true,
   "sideBar": true,
   "skip_h1_title": true,
   "title_cell": "Table of Contents",
   "title_sidebar": "Contents",
   "toc_cell": false,
   "toc_position": {},
   "toc_section_display": true,
   "toc_window_display": false
  }
 },
 "nbformat": 4,
 "nbformat_minor": 5
}
