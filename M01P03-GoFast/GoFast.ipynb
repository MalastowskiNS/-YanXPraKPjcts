{
 "cells": [
  {
   "cell_type": "code",
   "execution_count": 4,
   "id": "72576667",
   "metadata": {},
   "outputs": [],
   "source": [
    "import pandas as pd\n",
    "import seaborn as sns\n",
    "import numpy as np\n",
    "import matplotlib.pyplot as plt\n",
    "import scipy.stats as st"
   ]
  },
  {
   "cell_type": "markdown",
   "id": "92430651",
   "metadata": {},
   "source": [
    "# Исследование сервиса аренды самокатов GoFast.\n",
    "\n",
    "- Компанией предоставлены данные о некоторых пользователях из нескольких городов, а также об их поездках в трех исходных таблицах:\n",
    " * Пользователи — users_go\n",
    " \n",
    "             user_id\tуникальный идентификатор пользователя\n",
    "             name\tимя пользователя\n",
    "             age\tвозраст\n",
    "             city\tгород\n",
    "             subscription_type\tтип подписки (free, ultra) \n",
    " \n",
    " * Поездки — rides_go.csv\n",
    " \n",
    "             user_id\tуникальный идентификатор пользователя\n",
    "             distance\tрасстояние, которое пользователь проехал в текущей сессии (в метрах)\n",
    "             duration\tпродолжительность сессии (в минутах) — время с того момента, как пользователь нажал кнопку «Начать поездку» до момента, как он нажал кнопку «Завершить поездку»\n",
    "             date\tдата совершения поездки\n",
    "             \n",
    " * Подписки — subscriptions_go.csv\n",
    " \n",
    "             subscription_type\tтип подписки\n",
    "             minute_price\tстоимость одной минуты поездки по данной подписке\n",
    "             start_ride_price\tстоимость начала поездки\n",
    "             subscription_fee\tстоимость ежемесячного платежа\n",
    " \n",
    "- Необходимо провести исследование данные и проверьте некоторые гипотезы, которые могут помочь бизнесу вырасти\n",
    "- Общий план работы с предоставленными данными можно представить следующим образом:\n",
    " * Загрузка и предварительных анализ данных(на наличие дефектов);\n",
    " * Агрегация данных по таблицам в соответствии с задачами исследования(требованиями заказчика);\n",
    " * Предварительное исследование данных (влияние частоты встречаемости городов, соотношение пользователей по типу подписки, возрастные категории пользователей, расстояние преодолеваемое пользователями за одну поездку, продолжительность поездок);\n",
    " * Оценить выручку получаемую с пользователей с подпиской и без;\n",
    " * Проверить гипотезы: \n",
    "         - тратят ли пользователи с подпиской больше времени на поездки;\n",
    "         - можно ли сказать, что среднее расстояние, которое проезжают пользователи с подпиской за одну поездку, не превышает 3130 метров;\n",
    "         - будет ли помесячная выручка от пользователей с подпиской по месяцам выше, чем выручка от пользователей без подписки.\n",
    "  * Определить тип теста  для проверки гипотезы о снижении количества обращения в службу поддержки при обновлении мобильного приложения;\n",
    "  * Определить необходимое число промокодов по привлечению клиентов к подписке \"ultra\" исходя из требования о 100 новых подписчиках с 95 % вероятностью по итогам акции;\n",
    "  * Оценить вероятность открытия push-уведомлений клиентами мобильного приложения;\n",
    "  * Сделать выводы про проведенной работе."
   ]
  },
  {
   "cell_type": "markdown",
   "id": "c42cbe00",
   "metadata": {
    "jp-MarkdownHeadingCollapsed": true
   },
   "source": [
    "### Шаг 1. Загрузка данных"
   ]
  },
  {
   "cell_type": "markdown",
   "id": "48a04311-1bf3-449d-8a41-0164c87afd2e",
   "metadata": {},
   "source": [
    "Чтение исходных данных в таблицы:"
   ]
  },
  {
   "cell_type": "code",
   "execution_count": 5,
   "id": "eff9f206",
   "metadata": {},
   "outputs": [],
   "source": [
    "sept = \",\"\n",
    "try:\n",
    "    rides = pd.read_csv('rides_go.csv', sep = sept)\n",
    "    subscriptions = pd.read_csv('subscriptions_go.csv', sep = sept)\n",
    "    users = pd.read_csv('users_go.csv', sep = sept)\n",
    "except:\n",
    "    rides = pd.read_csv('https://code.s3.yandex.net/datasets/rides_go.csv', sep = sept)\n",
    "    subscriptions = pd.read_csv('https://code.s3.yandex.net/datasets/subscriptions_go.csv', sep = sept)\n",
    "    users = pd.read_csv('https://code.s3.yandex.net/datasets/users_go.csv', sep = sept)"
   ]
  },
  {
   "cell_type": "markdown",
   "id": "eabba59a-f2f4-4eb0-a6ce-56247e17492b",
   "metadata": {},
   "source": [
    "Для автоматизации предобработки данных создадим функцию prep_data:"
   ]
  },
  {
   "cell_type": "code",
   "execution_count": 6,
   "id": "1c6938b8-ed44-486e-9f25-293720c3f07b",
   "metadata": {},
   "outputs": [],
   "source": [
    "def prep_data (set):\n",
    "    print(f'------------------------------------------------------------------------------------')\n",
    "    count_nan = set.isna().sum().sum()\n",
    "    count_dubl = set.duplicated().sum()\n",
    "    n= set.shape[1]\n",
    "    l= set.shape[0]\n",
    "    k=len(set.select_dtypes(['number']).columns)\n",
    "    print('Количество NaN в таблице:', count_nan)\n",
    "    print('Количество строк в таблице:', l)\n",
    "    print('Количество столбцов в таблице:', n )\n",
    "    print('Количество числовых столбцов в таблице:', k)\n",
    "    if count_dubl == 0:\n",
    "        print('Явных дубликатов нет')\n",
    "    else:\n",
    "        print('Количество явных дубликатов в таблице:', count_dubl)\n",
    "        set.drop_duplicates(inplace = True)\n",
    "        print('Kоличество дубликатов после удаления явных:', set.duplicated().sum())\n",
    "    print ('Информация о таблице:')\n",
    "    set.info();\n",
    "    fig, ax = plt.subplots(1, k, figsize=(10, 3))\n",
    "    set.hist(bins = 100, ax=ax)\n",
    "    #set.hist(bins = 50)\n",
    "    plt.show()\n",
    "    print(f'------------------------------------------------------------------------------------')"
   ]
  },
  {
   "cell_type": "markdown",
   "id": "0a251658-46cd-4387-8b15-39c97b62d1dd",
   "metadata": {},
   "source": [
    "Исследуем исходные данные: на пропуски, наличие дубликатов, формат данных в столбцах, построим для цифровых столбцов гистограммы для предварительной оценки:"
   ]
  },
  {
   "cell_type": "code",
   "execution_count": 7,
   "id": "2794452e-63c6-4133-bd13-8ccbb7b873fb",
   "metadata": {},
   "outputs": [
    {
     "name": "stdout",
     "output_type": "stream",
     "text": [
      "------------------------------------------------------------------------------------\n",
      "Количество NaN в таблице: 0\n",
      "Количество строк в таблице: 18068\n",
      "Количество столбцов в таблице: 4\n",
      "Количество числовых столбцов в таблице: 3\n",
      "Явных дубликатов нет\n",
      "Информация о таблице:\n",
      "<class 'pandas.core.frame.DataFrame'>\n",
      "RangeIndex: 18068 entries, 0 to 18067\n",
      "Data columns (total 4 columns):\n",
      " #   Column    Non-Null Count  Dtype  \n",
      "---  ------    --------------  -----  \n",
      " 0   user_id   18068 non-null  int64  \n",
      " 1   distance  18068 non-null  float64\n",
      " 2   duration  18068 non-null  float64\n",
      " 3   date      18068 non-null  object \n",
      "dtypes: float64(2), int64(1), object(1)\n",
      "memory usage: 564.8+ KB\n"
     ]
    },
    {
     "data": {
      "image/png": "[encoded data removed]",
      "text/plain": [
       "<Figure size 720x216 with 3 Axes>"
      ]
     },
     "metadata": {
      "needs_background": "light"
     },
     "output_type": "display_data"
    },
    {
     "name": "stdout",
     "output_type": "stream",
     "text": [
      "------------------------------------------------------------------------------------\n",
      "------------------------------------------------------------------------------------\n",
      "Количество NaN в таблице: 0\n",
      "Количество строк в таблице: 2\n",
      "Количество столбцов в таблице: 4\n",
      "Количество числовых столбцов в таблице: 3\n",
      "Явных дубликатов нет\n",
      "Информация о таблице:\n",
      "<class 'pandas.core.frame.DataFrame'>\n",
      "RangeIndex: 2 entries, 0 to 1\n",
      "Data columns (total 4 columns):\n",
      " #   Column             Non-Null Count  Dtype \n",
      "---  ------             --------------  ----- \n",
      " 0   subscription_type  2 non-null      object\n",
      " 1   minute_price       2 non-null      int64 \n",
      " 2   start_ride_price   2 non-null      int64 \n",
      " 3   subscription_fee   2 non-null      int64 \n",
      "dtypes: int64(3), object(1)\n",
      "memory usage: 192.0+ bytes\n"
     ]
    },
    {
     "data": {
      "image/png": "[encoded data removed]",
      "text/plain": [
       "<Figure size 720x216 with 3 Axes>"
      ]
     },
     "metadata": {
      "needs_background": "light"
     },
     "output_type": "display_data"
    },
    {
     "name": "stdout",
     "output_type": "stream",
     "text": [
      "------------------------------------------------------------------------------------\n",
      "------------------------------------------------------------------------------------\n",
      "Количество NaN в таблице: 0\n",
      "Количество строк в таблице: 1565\n",
      "Количество столбцов в таблице: 5\n",
      "Количество числовых столбцов в таблице: 2\n",
      "Количество явных дубликатов в таблице: 31\n",
      "Kоличество дубликатов после удаления явных: 0\n",
      "Информация о таблице:\n",
      "<class 'pandas.core.frame.DataFrame'>\n",
      "Int64Index: 1534 entries, 0 to 1533\n",
      "Data columns (total 5 columns):\n",
      " #   Column             Non-Null Count  Dtype \n",
      "---  ------             --------------  ----- \n",
      " 0   user_id            1534 non-null   int64 \n",
      " 1   name               1534 non-null   object\n",
      " 2   age                1534 non-null   int64 \n",
      " 3   city               1534 non-null   object\n",
      " 4   subscription_type  1534 non-null   object\n",
      "dtypes: int64(2), object(3)\n",
      "memory usage: 71.9+ KB\n"
     ]
    },
    {
     "data": {
      "image/png": "[encoded data removed]",
      "text/plain": [
       "<Figure size 720x216 with 2 Axes>"
      ]
     },
     "metadata": {
      "needs_background": "light"
     },
     "output_type": "display_data"
    },
    {
     "name": "stdout",
     "output_type": "stream",
     "text": [
      "------------------------------------------------------------------------------------\n"
     ]
    }
   ],
   "source": [
    "[prep_data(set) for set in [rides, subscriptions, users]];    "
   ]
  },
  {
   "cell_type": "markdown",
   "id": "561c989b-effa-452d-ba0b-865e7cf8a44d",
   "metadata": {},
   "source": [
    " - данные включают три таблицы: rides, subscriptions и users;\n",
    " - пропусков значений нет;\n",
    " - в таблице users было удален 31 дубликат;\n",
    " - таблица rides содержит стоблец с датами, который требует преобразования;\n",
    " - данные в столбце duration таблицы rides, похоже содержат аномальные значения в районе 0 и может потребоваться дополнительно исследование;\n",
    " - таблица rides и users могут быть объединены по столбцу users_id (не факт, что нужно добавлять данные и из subscriptions, я бы просто сделал столбец типа bool, а данные по подпискам хранил бы отдельно, потому что расскидывать два столбца по всей объединенной тоаблице, может быть не выходно с точки зрения хранения данных - но нас далее просят объединить, значит объединим)"
   ]
  },
  {
   "cell_type": "markdown",
   "id": "e95ebca7",
   "metadata": {},
   "source": [
    "### Шаг 2. Предобработка данных"
   ]
  },
  {
   "cell_type": "markdown",
   "id": "5033c2a8-a00e-4410-9ed5-2e7fd496cf4e",
   "metadata": {},
   "source": [
    "2.1 Приводим столбец date к типу даты pandas:"
   ]
  },
  {
   "cell_type": "code",
   "execution_count": 8,
   "id": "45ba1869-717b-412d-b01b-0d6b50719535",
   "metadata": {},
   "outputs": [],
   "source": [
    "rides['date'] = pd.to_datetime(rides['date'], format='%Y-%m-%d')"
   ]
  },
  {
   "cell_type": "markdown",
   "id": "cc4401fe-a783-4e5b-abb4-89754b022192",
   "metadata": {},
   "source": [
    "2.2 Создаем новый столбец с номером месяца на основе столбца"
   ]
  },
  {
   "cell_type": "code",
   "execution_count": 9,
   "id": "c8bd33d5-5d54-4939-b4aa-31d0a9118c76",
   "metadata": {},
   "outputs": [],
   "source": [
    "rides['month_of_ride'] = rides['date'].dt.month"
   ]
  },
  {
   "cell_type": "markdown",
   "id": "212593c7",
   "metadata": {},
   "source": [
    "### Шаг 3. Исследовательский анализ данных"
   ]
  },
  {
   "cell_type": "markdown",
   "id": "37d674f1-c1dc-4104-91fa-a97197fa8073",
   "metadata": {},
   "source": [
    "Описание и визуализация общей информации о пользователях и поездках. Анализ целесообразно выполнять, после систематизации исходных данных, в том числе объединения в единый dataframe"
   ]
  },
  {
   "cell_type": "markdown",
   "id": "656dafaa-8baa-4aca-a997-a84531d390e3",
   "metadata": {},
   "source": [
    "Конструкция итоговой таблицы (столбцы):\n",
    "\n",
    "user_id (float) - city (object) - date (time) - month_of_ride(int) - duration (float) - distance (float) - name(object) - age (float) - subscription_type (object) - minute_price (int) - start_ride_price(int) - subscription_fee(int)\n"
   ]
  },
  {
   "cell_type": "code",
   "execution_count": 10,
   "id": "568650bf-366d-4de8-8a2b-2d8a01e0b36c",
   "metadata": {},
   "outputs": [],
   "source": [
    "full_data = ( rides.merge(users, how='outer', left_on='user_id', right_on='user_id')\n",
    "             .merge(subscriptions, how='outer', left_on='subscription_type', right_on='subscription_type')\n",
    "            )"
   ]
  },
  {
   "cell_type": "code",
   "execution_count": 11,
   "id": "142d54a8-c817-4577-b2c7-46e4b57ebc95",
   "metadata": {},
   "outputs": [],
   "source": [
    "full_data = full_data[['user_id', 'city', 'date', 'month_of_ride', 'duration', 'distance', 'name', \\\n",
    "                       'age', 'subscription_type', 'minute_price', 'start_ride_price', 'subscription_fee']]"
   ]
  },
  {
   "cell_type": "markdown",
   "id": "b330f6d8-1919-47f0-871e-271172c2748c",
   "metadata": {},
   "source": [
    "3.1 Частота встречаемости городов:"
   ]
  },
  {
   "cell_type": "markdown",
   "id": "2740b42d-ddf9-4e7e-915d-8b2cc6f5c5fc",
   "metadata": {},
   "source": [
    "При анализе встречаемости городов, вероятно интерес могут представлять две характеристики:\n",
    "\n",
    "- распределение городов по количеству поездок;\n",
    "- распределение городов по числу уникальных зарегистрированных пользователей.\n",
    "\n",
    "  В первом случае это показатель, насколько активно используется сервис клиентами, а во втором случае это показатель охвата пользователей.\n",
    "  Выведем обе метрики"
   ]
  },
  {
   "cell_type": "code",
   "execution_count": 12,
   "id": "96f2fd82-4cd1-4492-a303-5fcc5ad9aa48",
   "metadata": {},
   "outputs": [],
   "source": [
    "town_analize= pd.pivot_table(full_data, index=['city', 'user_id'], values = 'name', aggfunc = ['count']).reset_index()\n",
    "town_analize.columns = ['city', 'user_id','frequently']"
   ]
  },
  {
   "cell_type": "code",
   "execution_count": 13,
   "id": "18050a9d-6da6-43d8-b9f9-2120299f4307",
   "metadata": {},
   "outputs": [
    {
     "data": {
      "text/html": [
       "<div>\n",
       "<style scoped>\n",
       "    .dataframe tbody tr th:only-of-type {\n",
       "        vertical-align: middle;\n",
       "    }\n",
       "\n",
       "    .dataframe tbody tr th {\n",
       "        vertical-align: top;\n",
       "    }\n",
       "\n",
       "    .dataframe thead th {\n",
       "        text-align: right;\n",
       "    }\n",
       "</style>\n",
       "<table border=\"1\" class=\"dataframe\">\n",
       "  <thead>\n",
       "    <tr style=\"text-align: right;\">\n",
       "      <th></th>\n",
       "      <th>city</th>\n",
       "      <th>per_person</th>\n",
       "      <th>per_ride</th>\n",
       "      <th>ride_per_person</th>\n",
       "    </tr>\n",
       "  </thead>\n",
       "  <tbody>\n",
       "    <tr>\n",
       "      <th>0</th>\n",
       "      <td>Екатеринбург</td>\n",
       "      <td>204</td>\n",
       "      <td>2461</td>\n",
       "      <td>12.063725</td>\n",
       "    </tr>\n",
       "    <tr>\n",
       "      <th>1</th>\n",
       "      <td>Краснодар</td>\n",
       "      <td>193</td>\n",
       "      <td>2301</td>\n",
       "      <td>11.922280</td>\n",
       "    </tr>\n",
       "    <tr>\n",
       "      <th>2</th>\n",
       "      <td>Москва</td>\n",
       "      <td>168</td>\n",
       "      <td>1875</td>\n",
       "      <td>11.160714</td>\n",
       "    </tr>\n",
       "    <tr>\n",
       "      <th>3</th>\n",
       "      <td>Омск</td>\n",
       "      <td>183</td>\n",
       "      <td>2077</td>\n",
       "      <td>11.349727</td>\n",
       "    </tr>\n",
       "    <tr>\n",
       "      <th>4</th>\n",
       "      <td>Пятигорск</td>\n",
       "      <td>219</td>\n",
       "      <td>2524</td>\n",
       "      <td>11.525114</td>\n",
       "    </tr>\n",
       "    <tr>\n",
       "      <th>5</th>\n",
       "      <td>Ростов-на-Дону</td>\n",
       "      <td>198</td>\n",
       "      <td>2450</td>\n",
       "      <td>12.373737</td>\n",
       "    </tr>\n",
       "    <tr>\n",
       "      <th>6</th>\n",
       "      <td>Сочи</td>\n",
       "      <td>189</td>\n",
       "      <td>2259</td>\n",
       "      <td>11.952381</td>\n",
       "    </tr>\n",
       "    <tr>\n",
       "      <th>7</th>\n",
       "      <td>Тюмень</td>\n",
       "      <td>180</td>\n",
       "      <td>2121</td>\n",
       "      <td>11.783333</td>\n",
       "    </tr>\n",
       "  </tbody>\n",
       "</table>\n",
       "</div>"
      ],
      "text/plain": [
       "             city  per_person  per_ride  ride_per_person\n",
       "0    Екатеринбург         204      2461        12.063725\n",
       "1       Краснодар         193      2301        11.922280\n",
       "2          Москва         168      1875        11.160714\n",
       "3            Омск         183      2077        11.349727\n",
       "4       Пятигорск         219      2524        11.525114\n",
       "5  Ростов-на-Дону         198      2450        12.373737\n",
       "6            Сочи         189      2259        11.952381\n",
       "7          Тюмень         180      2121        11.783333"
      ]
     },
     "execution_count": 13,
     "metadata": {},
     "output_type": "execute_result"
    }
   ],
   "source": [
    "freq_town_per_smthg = pd.pivot_table(town_analize, index=['city'], values = 'frequently', aggfunc = ['count', 'sum']).reset_index()\n",
    "freq_town_per_smthg.columns = ['city', 'per_person', 'per_ride']\n",
    "freq_town_per_smthg['ride_per_person'] =  freq_town_per_smthg['per_ride'] /freq_town_per_smthg['per_person'] \n",
    "freq_town_per_smthg"
   ]
  },
  {
   "cell_type": "code",
   "execution_count": 14,
   "id": "6a5bd7a7-e888-4ee0-87db-870b31069f13",
   "metadata": {},
   "outputs": [],
   "source": [
    "freq_town_per_smthg['per_ride'] = freq_town_per_smthg['per_ride']/freq_town_per_smthg['per_ride'].sum()\n",
    "freq_town_per_smthg['per_person'] = freq_town_per_smthg['per_person'] / freq_town_per_smthg['per_person'].sum()\n",
    "freq_town_per_smthg.sort_values(by ='per_ride', ascending=False, inplace = True)"
   ]
  },
  {
   "cell_type": "code",
   "execution_count": 52,
   "id": "0283e383-8516-4edb-904b-a6ce4daa6d77",
   "metadata": {},
   "outputs": [
    {
     "data": {
      "image/png": "[encoded data removed]",
      "text/plain": [
       "<Figure size 576x432 with 1 Axes>"
      ]
     },
     "metadata": {
      "needs_background": "light"
     },
     "output_type": "display_data"
    }
   ],
   "source": [
    "ax= freq_town_per_smthg.plot(x='city', y=['per_person', 'per_ride'], kind='bar',\\\n",
    "                             figsize=(8,6), title=\"Распределение поездок по городам\");\n",
    "ax.set_xlabel(\"Города представленные в выборке\")\n",
    "ax.set_ylabel(\"Доли от общего количества поездок\")\n",
    "plt.ylim(0.10,0.16);"
   ]
  },
  {
   "cell_type": "markdown",
   "id": "4127cadb-1382-472c-8418-57974f8bbb18",
   "metadata": {},
   "source": [
    "- Интересно, что сервис пользуется наибольшей популярностью в Пятигорске, а наименьшей в Москве;\n",
    "- В Пятигорске, Омске и Москве пользователи наименее активны, а в Екатеринбурге и Ростове-на-Дону наоборот в среднем каждый совершает больше поездок;\n",
    "- Доли городов варьируются от 10 до 14%, таким образом аномалий на представленных данных отсутствуют;\n",
    "- Для более подробного анализа, вероятно требуется знать размер парка самокатов в каждом городе и объем целевой аудитории."
   ]
  },
  {
   "cell_type": "markdown",
   "id": "e3c5d1d9-f96e-4f70-9ce2-461aa137b2c3",
   "metadata": {},
   "source": [
    "3.2. Соотношение пользователей с подпиской и без подписки"
   ]
  },
  {
   "cell_type": "markdown",
   "id": "393d9362-09ef-45bd-a94b-03fd908ac306",
   "metadata": {},
   "source": [
    "Раз уже разбили по городам, можно сделать здесь оценку так же в зависимости от города."
   ]
  },
  {
   "cell_type": "code",
   "execution_count": 16,
   "id": "c40e144e-1b1d-4757-8253-74c4bbe7fd6e",
   "metadata": {
    "scrolled": true
   },
   "outputs": [],
   "source": [
    "subscribe_analize= pd.pivot_table(full_data, index=['city', 'subscription_type'], values = 'user_id', aggfunc = lambda x: len(x.unique())).reset_index()\n",
    "#subscribe_analize.columns = ['city', 'subscription_type','frequently']"
   ]
  },
  {
   "cell_type": "code",
   "execution_count": 17,
   "id": "1876c819-80a2-4350-81aa-e97b47da4c88",
   "metadata": {},
   "outputs": [
    {
     "data": {
      "text/html": [
       "<div>\n",
       "<style scoped>\n",
       "    .dataframe tbody tr th:only-of-type {\n",
       "        vertical-align: middle;\n",
       "    }\n",
       "\n",
       "    .dataframe tbody tr th {\n",
       "        vertical-align: top;\n",
       "    }\n",
       "\n",
       "    .dataframe thead th {\n",
       "        text-align: right;\n",
       "    }\n",
       "</style>\n",
       "<table border=\"1\" class=\"dataframe\">\n",
       "  <thead>\n",
       "    <tr style=\"text-align: right;\">\n",
       "      <th></th>\n",
       "      <th>city</th>\n",
       "      <th>subscription == ultra</th>\n",
       "      <th>subscription == free</th>\n",
       "    </tr>\n",
       "  </thead>\n",
       "  <tbody>\n",
       "    <tr>\n",
       "      <th>0</th>\n",
       "      <td>Москва</td>\n",
       "      <td>0.500000</td>\n",
       "      <td>0.500000</td>\n",
       "    </tr>\n",
       "    <tr>\n",
       "      <th>1</th>\n",
       "      <td>Омск</td>\n",
       "      <td>0.497268</td>\n",
       "      <td>0.502732</td>\n",
       "    </tr>\n",
       "    <tr>\n",
       "      <th>2</th>\n",
       "      <td>Тюмень</td>\n",
       "      <td>0.455556</td>\n",
       "      <td>0.544444</td>\n",
       "    </tr>\n",
       "    <tr>\n",
       "      <th>3</th>\n",
       "      <td>Сочи</td>\n",
       "      <td>0.455026</td>\n",
       "      <td>0.544974</td>\n",
       "    </tr>\n",
       "    <tr>\n",
       "      <th>4</th>\n",
       "      <td>Екатеринбург</td>\n",
       "      <td>0.450980</td>\n",
       "      <td>0.549020</td>\n",
       "    </tr>\n",
       "    <tr>\n",
       "      <th>5</th>\n",
       "      <td>Ростов-на-Дону</td>\n",
       "      <td>0.449495</td>\n",
       "      <td>0.550505</td>\n",
       "    </tr>\n",
       "    <tr>\n",
       "      <th>6</th>\n",
       "      <td>Пятигорск</td>\n",
       "      <td>0.429224</td>\n",
       "      <td>0.570776</td>\n",
       "    </tr>\n",
       "    <tr>\n",
       "      <th>7</th>\n",
       "      <td>Краснодар</td>\n",
       "      <td>0.419689</td>\n",
       "      <td>0.580311</td>\n",
       "    </tr>\n",
       "  </tbody>\n",
       "</table>\n",
       "</div>"
      ],
      "text/plain": [
       "             city  subscription == ultra  subscription == free\n",
       "0          Москва               0.500000              0.500000\n",
       "1            Омск               0.497268              0.502732\n",
       "2          Тюмень               0.455556              0.544444\n",
       "3            Сочи               0.455026              0.544974\n",
       "4    Екатеринбург               0.450980              0.549020\n",
       "5  Ростов-на-Дону               0.449495              0.550505\n",
       "6       Пятигорск               0.429224              0.570776\n",
       "7       Краснодар               0.419689              0.580311"
      ]
     },
     "execution_count": 17,
     "metadata": {},
     "output_type": "execute_result"
    }
   ],
   "source": [
    "subscribe_per_city = (subscribe_analize[(subscribe_analize['subscription_type']=='ultra')][['city', 'user_id']]\n",
    "             .merge(subscribe_analize[subscribe_analize['subscription_type']=='free'][['city', 'user_id']], how='outer', left_on='city', right_on='city')\n",
    "            )\n",
    "subscribe_per_city.columns = ['city', 'subscription == ultra', 'subscription == free']\n",
    "subscribe_per_city ['subscription == ultra']= subscribe_per_city ['subscription == ultra']/ (subscribe_per_city ['subscription == ultra'] + subscribe_per_city ['subscription == free'])\n",
    "subscribe_per_city ['subscription == free'] = 1-subscribe_per_city ['subscription == ultra']\n",
    "subscribe_per_city.sort_values(by ='subscription == ultra', ascending=False, inplace = True)\n",
    "subscribe_per_city.reset_index(drop=True)"
   ]
  },
  {
   "cell_type": "code",
   "execution_count": 18,
   "id": "d2d2d8aa-4f4b-444e-91b4-a36bd212f017",
   "metadata": {},
   "outputs": [
    {
     "name": "stdout",
     "output_type": "stream",
     "text": [
      "Общая доля пользователей с подпиской  ultra: 0.4571547469074858\n",
      "Общая доля пользователей с подпиской  free: 0.5428452530925143\n"
     ]
    }
   ],
   "source": [
    "print ('Общая доля пользователей с подпиской  ultra:', subscribe_per_city ['subscription == ultra'].sum()/8)\n",
    "print ('Общая доля пользователей с подпиской  free:', subscribe_per_city ['subscription == free'].sum()/8)"
   ]
  },
  {
   "cell_type": "code",
   "execution_count": 53,
   "id": "f9674255-70eb-4415-93e4-9d4c53039668",
   "metadata": {},
   "outputs": [
    {
     "data": {
      "image/png": "[encoded data removed]",
      "text/plain": [
       "<Figure size 576x432 with 1 Axes>"
      ]
     },
     "metadata": {
      "needs_background": "light"
     },
     "output_type": "display_data"
    }
   ],
   "source": [
    "ax =subscribe_per_city.plot(x='city', kind = 'barh',  stacked = True,  title = 'Доли подписок по городам',\\\n",
    "                            mark_right = True, figsize=(8,6));\n",
    "plt.axvline(x=0.5, color = 'k', linestyle='dashed', label = '50/50');\n",
    "ax.set_xlabel(\"Доли от общего количества подписок по городам\")\n",
    "ax.set_ylabel(\"Города представленные в выборке\")\n",
    "plt.legend();"
   ]
  },
  {
   "cell_type": "markdown",
   "id": "5413f36d-39ba-46d0-861f-69d8111efc8a",
   "metadata": {},
   "source": [
    " - Во всех города количество пользователей с подпиской free, больше чем в ultra (только в Москве и Омске, их практически одинаковое количество);\n",
    " - Аномальных значений в распределении по городам нет - значения соответствуют общим средним; \n",
    " - Самое большое значение подписки ultra в Москве и Омске, самое низкое в Краснодаре и Пятигорске."
   ]
  },
  {
   "cell_type": "markdown",
   "id": "e0a2fc97-c004-4570-b220-34896a45f282",
   "metadata": {},
   "source": [
    "3.3 Возраст пользователей"
   ]
  },
  {
   "cell_type": "markdown",
   "id": "74db9816-99a8-43af-8e7c-8cb881101f85",
   "metadata": {},
   "source": [
    "Скорее всего по городам различий нет, интересно посмотреть наличие подписки по возрасту......  вполне возможно, что более молодые активнее подписываются на платные опции."
   ]
  },
  {
   "cell_type": "code",
   "execution_count": 20,
   "id": "3498c520-5a42-47e8-8848-6fe999cf5f82",
   "metadata": {},
   "outputs": [],
   "source": [
    "age_analize= pd.pivot_table(full_data, index=['city', 'user_id', 'subscription_type'], values = ['age']).reset_index()"
   ]
  },
  {
   "cell_type": "code",
   "execution_count": 21,
   "id": "bbce9ecb-f413-4d89-92c7-86149738ef82",
   "metadata": {},
   "outputs": [
    {
     "data": {
      "image/png": "[encoded data removed]",
      "text/plain": [
       "<Figure size 432x288 with 1 Axes>"
      ]
     },
     "metadata": {
      "needs_background": "light"
     },
     "output_type": "display_data"
    }
   ],
   "source": [
    "ax= sns.histplot(data = age_analize, x = 'age', bins=20, hue=\"city\", kde=True, stat=\"density\", common_norm=False); \n",
    "ax.set_title(\"Распределение пользователей в городах по возрастам\");\n",
    "ax.set_xlabel(\"Возраст пользователей сервиса GoFast\");\n",
    "ax.set_ylabel(\"Доля пользователей\");"
   ]
  },
  {
   "cell_type": "markdown",
   "id": "c0f67dbf-ad14-474c-9e9e-4f01c37885e0",
   "metadata": {},
   "source": [
    "Оно конечно наслаивается, но похоже, что максимум примерно в одном и том же месте - около 25 лет, дисперсия похожа. В Москве есть немного пользователей старшего возраста, около 40 лет (прогрессивные люди). На данном этапе нет смысла продолжать исследование в этом направлении."
   ]
  },
  {
   "cell_type": "code",
   "execution_count": 22,
   "id": "ab6ee1a9-73fe-4b52-a5b6-0d8c956cabf3",
   "metadata": {},
   "outputs": [
    {
     "data": {
      "image/png": "[encoded data removed]",
      "text/plain": [
       "<Figure size 432x288 with 1 Axes>"
      ]
     },
     "metadata": {
      "needs_background": "light"
     },
     "output_type": "display_data"
    }
   ],
   "source": [
    "ax = sns.histplot(data = age_analize, x = 'age', bins=20, hue=\"subscription_type\", kde=True, stat=\"density\", common_norm=False); \n",
    "ax.set_title(\"Распределение пользователей с подписками 'ultra' и 'free' по возрастам\")\n",
    "ax.set_xlabel(\"Возраст пользователей сервиса GoFast\");\n",
    "ax.set_ylabel(\"Доля пользователей\");"
   ]
  },
  {
   "cell_type": "code",
   "execution_count": 23,
   "id": "cb8303b6-13ff-4633-8cd3-b74b08060bc8",
   "metadata": {},
   "outputs": [
    {
     "name": "stdout",
     "output_type": "stream",
     "text": [
      "Медианное значение возраста людей с подпиской 25.0\n",
      "Медианное значение возраста людей без подписки 25.0\n"
     ]
    }
   ],
   "source": [
    "print('Медианное значение возраста людей с подпиской', age_analize[age_analize[\"subscription_type\"]=='free']['age'].quantile(0.5))\n",
    "print('Медианное значение возраста людей без подписки', age_analize[age_analize[\"subscription_type\"]=='ultra']['age'].quantile(0.5))"
   ]
  },
  {
   "cell_type": "markdown",
   "id": "eb248376-d60f-4dbb-a2ef-1e136b5bcfbe",
   "metadata": {},
   "source": [
    "Интересно отметить, что эти значения \"очень\" равны"
   ]
  },
  {
   "cell_type": "markdown",
   "id": "c06ac40b-0932-4977-ab00-e91021b3f3d3",
   "metadata": {},
   "source": [
    "3.4 Расстояние, которое пользователь преодолел за одну поездку"
   ]
  },
  {
   "cell_type": "code",
   "execution_count": 24,
   "id": "4b89c158-0d37-42a2-a886-f1cbb7489327",
   "metadata": {},
   "outputs": [],
   "source": [
    "dist_analize= pd.pivot_table(full_data, index=['city', 'user_id', 'subscription_type'], values = ['distance'], aggfunc = 'mean').reset_index()"
   ]
  },
  {
   "cell_type": "code",
   "execution_count": 25,
   "id": "d173458c",
   "metadata": {},
   "outputs": [
    {
     "data": {
      "text/html": [
       "<div>\n",
       "<style scoped>\n",
       "    .dataframe tbody tr th:only-of-type {\n",
       "        vertical-align: middle;\n",
       "    }\n",
       "\n",
       "    .dataframe tbody tr th {\n",
       "        vertical-align: top;\n",
       "    }\n",
       "\n",
       "    .dataframe thead th {\n",
       "        text-align: right;\n",
       "    }\n",
       "</style>\n",
       "<table border=\"1\" class=\"dataframe\">\n",
       "  <thead>\n",
       "    <tr style=\"text-align: right;\">\n",
       "      <th></th>\n",
       "      <th>city</th>\n",
       "      <th>user_id</th>\n",
       "      <th>subscription_type</th>\n",
       "      <th>distance</th>\n",
       "    </tr>\n",
       "  </thead>\n",
       "  <tbody>\n",
       "    <tr>\n",
       "      <th>0</th>\n",
       "      <td>Екатеринбург</td>\n",
       "      <td>10</td>\n",
       "      <td>ultra</td>\n",
       "      <td>2952.822611</td>\n",
       "    </tr>\n",
       "    <tr>\n",
       "      <th>1</th>\n",
       "      <td>Екатеринбург</td>\n",
       "      <td>41</td>\n",
       "      <td>ultra</td>\n",
       "      <td>3566.522091</td>\n",
       "    </tr>\n",
       "    <tr>\n",
       "      <th>2</th>\n",
       "      <td>Екатеринбург</td>\n",
       "      <td>42</td>\n",
       "      <td>ultra</td>\n",
       "      <td>2847.760236</td>\n",
       "    </tr>\n",
       "    <tr>\n",
       "      <th>3</th>\n",
       "      <td>Екатеринбург</td>\n",
       "      <td>59</td>\n",
       "      <td>ultra</td>\n",
       "      <td>2865.230001</td>\n",
       "    </tr>\n",
       "    <tr>\n",
       "      <th>4</th>\n",
       "      <td>Екатеринбург</td>\n",
       "      <td>63</td>\n",
       "      <td>ultra</td>\n",
       "      <td>3589.391414</td>\n",
       "    </tr>\n",
       "    <tr>\n",
       "      <th>...</th>\n",
       "      <td>...</td>\n",
       "      <td>...</td>\n",
       "      <td>...</td>\n",
       "      <td>...</td>\n",
       "    </tr>\n",
       "    <tr>\n",
       "      <th>1529</th>\n",
       "      <td>Тюмень</td>\n",
       "      <td>1513</td>\n",
       "      <td>free</td>\n",
       "      <td>3140.981561</td>\n",
       "    </tr>\n",
       "    <tr>\n",
       "      <th>1530</th>\n",
       "      <td>Тюмень</td>\n",
       "      <td>1514</td>\n",
       "      <td>free</td>\n",
       "      <td>2729.940458</td>\n",
       "    </tr>\n",
       "    <tr>\n",
       "      <th>1531</th>\n",
       "      <td>Тюмень</td>\n",
       "      <td>1517</td>\n",
       "      <td>free</td>\n",
       "      <td>3099.206698</td>\n",
       "    </tr>\n",
       "    <tr>\n",
       "      <th>1532</th>\n",
       "      <td>Тюмень</td>\n",
       "      <td>1519</td>\n",
       "      <td>free</td>\n",
       "      <td>3240.691224</td>\n",
       "    </tr>\n",
       "    <tr>\n",
       "      <th>1533</th>\n",
       "      <td>Тюмень</td>\n",
       "      <td>1532</td>\n",
       "      <td>free</td>\n",
       "      <td>2607.861784</td>\n",
       "    </tr>\n",
       "  </tbody>\n",
       "</table>\n",
       "<p>1534 rows × 4 columns</p>\n",
       "</div>"
      ],
      "text/plain": [
       "              city  user_id subscription_type     distance\n",
       "0     Екатеринбург       10             ultra  2952.822611\n",
       "1     Екатеринбург       41             ultra  3566.522091\n",
       "2     Екатеринбург       42             ultra  2847.760236\n",
       "3     Екатеринбург       59             ultra  2865.230001\n",
       "4     Екатеринбург       63             ultra  3589.391414\n",
       "...            ...      ...               ...          ...\n",
       "1529        Тюмень     1513              free  3140.981561\n",
       "1530        Тюмень     1514              free  2729.940458\n",
       "1531        Тюмень     1517              free  3099.206698\n",
       "1532        Тюмень     1519              free  3240.691224\n",
       "1533        Тюмень     1532              free  2607.861784\n",
       "\n",
       "[1534 rows x 4 columns]"
      ]
     },
     "execution_count": 25,
     "metadata": {},
     "output_type": "execute_result"
    }
   ],
   "source": [
    "dist_analize"
   ]
  },
  {
   "cell_type": "code",
   "execution_count": 26,
   "id": "54852a6d-922f-4a1b-9f01-d91202a2e8da",
   "metadata": {},
   "outputs": [
    {
     "data": {
      "image/png": "[encoded data removed]",
      "text/plain": [
       "<Figure size 432x288 with 1 Axes>"
      ]
     },
     "metadata": {
      "needs_background": "light"
     },
     "output_type": "display_data"
    }
   ],
   "source": [
    "ax = sns.histplot(data = dist_analize, x = 'distance', bins=20, hue=\"city\", kde=True, stat=\"density\", common_norm=False); \n",
    "ax.set_title(\"Распределение пользователей в городах по средней дистанции поездки\")\n",
    "ax.set_xlabel(\"Средняя дистанция поездки\");\n",
    "ax.set_ylabel(\"Доля пользователей\");"
   ]
  },
  {
   "cell_type": "markdown",
   "id": "5a41d712-e565-4980-b771-d277d38f1b38",
   "metadata": {},
   "source": [
    "Интересно, что средняя дистанция поездки практически не зависит от города, хотя Москва больше Пятигорска"
   ]
  },
  {
   "cell_type": "code",
   "execution_count": 27,
   "id": "c4761db1-ac30-4638-a31a-06047d8e8592",
   "metadata": {},
   "outputs": [
    {
     "data": {
      "image/png": "[encoded data removed]",
      "text/plain": [
       "<Figure size 432x288 with 1 Axes>"
      ]
     },
     "metadata": {
      "needs_background": "light"
     },
     "output_type": "display_data"
    }
   ],
   "source": [
    "ax =sns.histplot(data = dist_analize, x = 'distance', bins=20, hue=\"subscription_type\", kde=True, stat=\"density\", common_norm=False);\n",
    "ax.set_title(\"Распределение пользователей с подписками 'ultra' и 'free' по средней дистанции поездки\")\n",
    "ax.set_xlabel(\"Средняя дистанция поездки\");\n",
    "ax.set_ylabel(\"Доля пользователей\");"
   ]
  },
  {
   "cell_type": "code",
   "execution_count": 28,
   "id": "bffa66ef-1959-472a-9974-423764d41240",
   "metadata": {},
   "outputs": [
    {
     "name": "stdout",
     "output_type": "stream",
     "text": [
      "Медианное значение расстояния без подписки  3057.9409092252563\n",
      "Медианное значение расстояния с подпиской 3134.34918640824\n"
     ]
    }
   ],
   "source": [
    "print('Медианное значение расстояния без подписки ',dist_analize[dist_analize[\"subscription_type\"]=='free']['distance'].quantile(0.5))\n",
    "print('Медианное значение расстояния с подпиской',dist_analize[dist_analize[\"subscription_type\"]=='ultra']['distance'].quantile(0.5))"
   ]
  },
  {
   "cell_type": "markdown",
   "id": "b54f6ff7-5f6c-4444-b1d9-18e208f62d78",
   "metadata": {},
   "source": [
    "А вот у людей с подпиской средняя продолжительность поездки несколько выше, на 100 метров. Если отнести эту разницу к любому из средних значений это совсем немного, но заметно по диаграммам."
   ]
  },
  {
   "cell_type": "markdown",
   "id": "16c2ea1a-1e42-499b-b768-84a5b55a0686",
   "metadata": {},
   "source": [
    "3.5 Продолжительность поездок"
   ]
  },
  {
   "cell_type": "code",
   "execution_count": 29,
   "id": "443b2379-4100-4086-88b9-4beeeeb1616c",
   "metadata": {},
   "outputs": [
    {
     "data": {
      "image/png": "[encoded data removed]",
      "text/plain": [
       "<Figure size 432x288 with 1 Axes>"
      ]
     },
     "metadata": {
      "needs_background": "light"
     },
     "output_type": "display_data"
    }
   ],
   "source": [
    "ax =sns.histplot(data = full_data, x = 'duration', bins=20, hue=\"city\", kde=True, stat=\"density\", common_norm=False); \n",
    "ax.set_title(\"Распределение пользователей в городах по средней продолжительности поездки\")\n",
    "ax.set_xlabel(\"Средняя продолжительность поездки\");\n",
    "ax.set_ylabel(\"Доля пользователей\");"
   ]
  },
  {
   "cell_type": "markdown",
   "id": "cef32295-c8ff-403c-927b-53e8242533f9",
   "metadata": {},
   "source": [
    "Продолжительность поездки не сильно зависит от города."
   ]
  },
  {
   "cell_type": "code",
   "execution_count": 30,
   "id": "4ed49d88-fb4d-41e3-b1b8-af710378dffc",
   "metadata": {},
   "outputs": [
    {
     "name": "stdout",
     "output_type": "stream",
     "text": [
      "Медианное значение продолжительности поездки, мин: 17.678394530393803\n"
     ]
    }
   ],
   "source": [
    "print('Медианное значение продолжительности поездки, мин:',full_data['duration'].quantile(0.5))"
   ]
  },
  {
   "cell_type": "code",
   "execution_count": 31,
   "id": "a8014458-3bef-492f-a45c-7e88f9d5fd91",
   "metadata": {},
   "outputs": [
    {
     "data": {
      "image/png": "[encoded data removed]",
      "text/plain": [
       "<Figure size 432x288 with 1 Axes>"
      ]
     },
     "metadata": {
      "needs_background": "light"
     },
     "output_type": "display_data"
    }
   ],
   "source": [
    "ax =sns.histplot(data = full_data, x = 'duration', bins=20, hue=\"subscription_type\", kde=True, stat=\"density\", common_norm=False); \n",
    "ax.set_title(\"Распределение пользователей с подписками 'ultra' и 'free' по средней продолжительности поездки\")\n",
    "ax.set_xlabel(\"Средняя продолжительность поездки\");\n",
    "ax.set_ylabel(\"Доля пользователей\");"
   ]
  },
  {
   "cell_type": "code",
   "execution_count": 32,
   "id": "52f82869",
   "metadata": {},
   "outputs": [
    {
     "name": "stdout",
     "output_type": "stream",
     "text": [
      "Медианное значение продолжительности поездки без подписки  17.326890226082043\n",
      "Медианное значение продолжительности поездки с подпиской 18.17815320055055\n"
     ]
    }
   ],
   "source": [
    "print('Медианное значение продолжительности поездки без подписки ',full_data[full_data[\"subscription_type\"]=='free']['duration'].quantile(0.5))\n",
    "print('Медианное значение продолжительности поездки с подпиской',full_data[full_data[\"subscription_type\"]=='ultra']['duration'].quantile(0.5))"
   ]
  },
  {
   "cell_type": "markdown",
   "id": "46bcd714-fd57-4130-9748-660b050cea1b",
   "metadata": {},
   "source": [
    "Похоже, что длительность поездок не сильно зависит от типа подписки(+1 минута), но мы еще проверим более подробно в пункте 6.1"
   ]
  },
  {
   "cell_type": "markdown",
   "id": "4ef51331",
   "metadata": {},
   "source": [
    "### Шаг 4. Объединение данных"
   ]
  },
  {
   "cell_type": "markdown",
   "id": "3fca18e7-9398-4d9e-be25-aa6859d05e88",
   "metadata": {},
   "source": [
    "4.1 Объединение данных о пользователях, поездках и подписках в один датафрейм выполнее ранее, здесь разобьем по типу подписки free и ultra (пункт 4.2)"
   ]
  },
  {
   "cell_type": "code",
   "execution_count": 33,
   "id": "1886db75-b851-4364-b433-02a2f844fd32",
   "metadata": {},
   "outputs": [],
   "source": [
    "full_data_subsc_free  = full_data[(full_data['subscription_type']=='free')].reset_index(drop = True)\n",
    "full_data_subsc_ultra = full_data[(full_data['subscription_type']=='ultra')].reset_index(drop = True)"
   ]
  },
  {
   "cell_type": "markdown",
   "id": "b657b697-dd9f-46a6-a49b-3aa6b8e99eab",
   "metadata": {},
   "source": [
    "4.3 Информация о расстоянии и времени поездок для пользователей обеих категорий. Так как речь идет о всех поездках, то нет смысла группировать по пользователям. При этом визуализация для длительности поездок по категории подписки была выполнена в пунтке 3.5, а вот по расстоянию для всех поездок выполним тут. И при использовании sns.histplot подойдет и исходная таблица full_data."
   ]
  },
  {
   "cell_type": "code",
   "execution_count": 34,
   "id": "895a5398-e4e5-4fbe-b8f6-cff887b50f88",
   "metadata": {},
   "outputs": [
    {
     "data": {
      "image/png": "[encoded data removed]",
      "text/plain": [
       "<Figure size 432x288 with 1 Axes>"
      ]
     },
     "metadata": {
      "needs_background": "light"
     },
     "output_type": "display_data"
    }
   ],
   "source": [
    "ax = sns.histplot(data = full_data, x = 'distance', bins=20, hue=\"subscription_type\", kde=True, stat=\"density\", common_norm=False);\n",
    "ax.set_title(\"Распределение поездок пользователей с подписками 'ultra' и 'free' по средней дистанции\")\n",
    "ax.set_xlabel(\"Средняя дистанция поездки\");\n",
    "ax.set_ylabel(\"Доля пользователей\");"
   ]
  },
  {
   "cell_type": "markdown",
   "id": "192a531b-1bb7-4b39-876a-256014589095",
   "metadata": {},
   "source": [
    "Если не осреднять дистанцию поезкди по отдельному пользователю, а рассматривать всю их совокупность, можно отметить следующее: "
   ]
  },
  {
   "cell_type": "markdown",
   "id": "68eb1ec4-adbf-4585-a203-e9254a7604ae",
   "metadata": {},
   "source": [
    "- люди с подпиской более системно относятся к перемещению на самокатах, решая прикладные задачи перемещения по городу - здесь наблюдается меньшая дисперсия вокруг медианного расстояния около 3148 м;\n",
    "- дистация поездки для людей без подписки более равномерно распределена, по сравнению с подпиской ultra, что может характеризовать \"развлекательную\" цель поездок, при этом средняя дистанция составляет порядка 3114 м;\n",
    "- разница медианных значений расстояния по подписки и без - незначительна;\n",
    "- в районе 1 км наблюдается локальный максимум \"коротких\" поездок, который отсутствует при рассмотрении данных \"по пользователям\"."
   ]
  },
  {
   "cell_type": "code",
   "execution_count": 35,
   "id": "1fca27f1-d52d-4ed4-9bdf-aa37c444f44e",
   "metadata": {
    "scrolled": true
   },
   "outputs": [
    {
     "name": "stdout",
     "output_type": "stream",
     "text": [
      "Медианное значение расстояния без подписки 3114.648464847295\n",
      "Медианное значение расстояния с подписки 3148.6372291760854\n"
     ]
    }
   ],
   "source": [
    "print('Медианное значение расстояния без подписки',full_data[full_data[\"subscription_type\"]=='free']['distance'].quantile(0.5))\n",
    "print('Медианное значение расстояния с подписки',full_data[full_data[\"subscription_type\"]=='ultra']['distance'].quantile(0.5))"
   ]
  },
  {
   "cell_type": "markdown",
   "id": "402d620f",
   "metadata": {},
   "source": [
    "### Шаг 5. Подсчёт выручки"
   ]
  },
  {
   "cell_type": "markdown",
   "id": "12e9064c-d3b0-448b-9ab4-0bdeb12f6480",
   "metadata": {},
   "source": [
    "5.1.Суммарное расстояние, количество поездок и суммарное время для каждого пользователя за каждый месяц."
   ]
  },
  {
   "cell_type": "code",
   "execution_count": 36,
   "id": "dae06383-97f1-4b5f-aa58-868ccba685ca",
   "metadata": {},
   "outputs": [
    {
     "data": {
      "text/html": [
       "<div>\n",
       "<style scoped>\n",
       "    .dataframe tbody tr th:only-of-type {\n",
       "        vertical-align: middle;\n",
       "    }\n",
       "\n",
       "    .dataframe tbody tr th {\n",
       "        vertical-align: top;\n",
       "    }\n",
       "\n",
       "    .dataframe thead th {\n",
       "        text-align: right;\n",
       "    }\n",
       "</style>\n",
       "<table border=\"1\" class=\"dataframe\">\n",
       "  <thead>\n",
       "    <tr style=\"text-align: right;\">\n",
       "      <th></th>\n",
       "      <th>month_of_ride</th>\n",
       "      <th>user_id</th>\n",
       "      <th>sum_distance</th>\n",
       "      <th>sum_duration</th>\n",
       "      <th>count_ride</th>\n",
       "      <th>subscription_type</th>\n",
       "    </tr>\n",
       "  </thead>\n",
       "  <tbody>\n",
       "    <tr>\n",
       "      <th>0</th>\n",
       "      <td>1</td>\n",
       "      <td>1</td>\n",
       "      <td>7027.511294</td>\n",
       "      <td>42.0</td>\n",
       "      <td>2</td>\n",
       "      <td>ultra</td>\n",
       "    </tr>\n",
       "    <tr>\n",
       "      <th>1</th>\n",
       "      <td>1</td>\n",
       "      <td>3</td>\n",
       "      <td>3061.777147</td>\n",
       "      <td>13.0</td>\n",
       "      <td>1</td>\n",
       "      <td>ultra</td>\n",
       "    </tr>\n",
       "    <tr>\n",
       "      <th>2</th>\n",
       "      <td>1</td>\n",
       "      <td>5</td>\n",
       "      <td>3914.646990</td>\n",
       "      <td>13.0</td>\n",
       "      <td>1</td>\n",
       "      <td>ultra</td>\n",
       "    </tr>\n",
       "    <tr>\n",
       "      <th>3</th>\n",
       "      <td>1</td>\n",
       "      <td>7</td>\n",
       "      <td>6478.080979</td>\n",
       "      <td>28.0</td>\n",
       "      <td>2</td>\n",
       "      <td>ultra</td>\n",
       "    </tr>\n",
       "    <tr>\n",
       "      <th>4</th>\n",
       "      <td>1</td>\n",
       "      <td>12</td>\n",
       "      <td>3577.151148</td>\n",
       "      <td>33.0</td>\n",
       "      <td>1</td>\n",
       "      <td>ultra</td>\n",
       "    </tr>\n",
       "    <tr>\n",
       "      <th>5</th>\n",
       "      <td>1</td>\n",
       "      <td>13</td>\n",
       "      <td>6687.987446</td>\n",
       "      <td>42.0</td>\n",
       "      <td>2</td>\n",
       "      <td>ultra</td>\n",
       "    </tr>\n",
       "    <tr>\n",
       "      <th>6</th>\n",
       "      <td>1</td>\n",
       "      <td>14</td>\n",
       "      <td>7699.643820</td>\n",
       "      <td>35.0</td>\n",
       "      <td>2</td>\n",
       "      <td>ultra</td>\n",
       "    </tr>\n",
       "    <tr>\n",
       "      <th>7</th>\n",
       "      <td>1</td>\n",
       "      <td>15</td>\n",
       "      <td>4187.621459</td>\n",
       "      <td>39.0</td>\n",
       "      <td>1</td>\n",
       "      <td>ultra</td>\n",
       "    </tr>\n",
       "    <tr>\n",
       "      <th>8</th>\n",
       "      <td>1</td>\n",
       "      <td>20</td>\n",
       "      <td>3516.719208</td>\n",
       "      <td>29.0</td>\n",
       "      <td>1</td>\n",
       "      <td>ultra</td>\n",
       "    </tr>\n",
       "    <tr>\n",
       "      <th>9</th>\n",
       "      <td>1</td>\n",
       "      <td>22</td>\n",
       "      <td>3058.692225</td>\n",
       "      <td>13.0</td>\n",
       "      <td>1</td>\n",
       "      <td>ultra</td>\n",
       "    </tr>\n",
       "    <tr>\n",
       "      <th>10</th>\n",
       "      <td>1</td>\n",
       "      <td>25</td>\n",
       "      <td>3440.353053</td>\n",
       "      <td>17.0</td>\n",
       "      <td>1</td>\n",
       "      <td>ultra</td>\n",
       "    </tr>\n",
       "    <tr>\n",
       "      <th>11</th>\n",
       "      <td>1</td>\n",
       "      <td>26</td>\n",
       "      <td>6545.964099</td>\n",
       "      <td>28.0</td>\n",
       "      <td>2</td>\n",
       "      <td>ultra</td>\n",
       "    </tr>\n",
       "    <tr>\n",
       "      <th>12</th>\n",
       "      <td>1</td>\n",
       "      <td>30</td>\n",
       "      <td>7774.720501</td>\n",
       "      <td>25.0</td>\n",
       "      <td>2</td>\n",
       "      <td>ultra</td>\n",
       "    </tr>\n",
       "    <tr>\n",
       "      <th>13</th>\n",
       "      <td>1</td>\n",
       "      <td>32</td>\n",
       "      <td>3734.993902</td>\n",
       "      <td>25.0</td>\n",
       "      <td>1</td>\n",
       "      <td>ultra</td>\n",
       "    </tr>\n",
       "    <tr>\n",
       "      <th>14</th>\n",
       "      <td>1</td>\n",
       "      <td>35</td>\n",
       "      <td>9707.810053</td>\n",
       "      <td>57.0</td>\n",
       "      <td>3</td>\n",
       "      <td>ultra</td>\n",
       "    </tr>\n",
       "  </tbody>\n",
       "</table>\n",
       "</div>"
      ],
      "text/plain": [
       "    month_of_ride  user_id  sum_distance  sum_duration  count_ride  \\\n",
       "0               1        1   7027.511294          42.0           2   \n",
       "1               1        3   3061.777147          13.0           1   \n",
       "2               1        5   3914.646990          13.0           1   \n",
       "3               1        7   6478.080979          28.0           2   \n",
       "4               1       12   3577.151148          33.0           1   \n",
       "5               1       13   6687.987446          42.0           2   \n",
       "6               1       14   7699.643820          35.0           2   \n",
       "7               1       15   4187.621459          39.0           1   \n",
       "8               1       20   3516.719208          29.0           1   \n",
       "9               1       22   3058.692225          13.0           1   \n",
       "10              1       25   3440.353053          17.0           1   \n",
       "11              1       26   6545.964099          28.0           2   \n",
       "12              1       30   7774.720501          25.0           2   \n",
       "13              1       32   3734.993902          25.0           1   \n",
       "14              1       35   9707.810053          57.0           3   \n",
       "\n",
       "   subscription_type  \n",
       "0              ultra  \n",
       "1              ultra  \n",
       "2              ultra  \n",
       "3              ultra  \n",
       "4              ultra  \n",
       "5              ultra  \n",
       "6              ultra  \n",
       "7              ultra  \n",
       "8              ultra  \n",
       "9              ultra  \n",
       "10             ultra  \n",
       "11             ultra  \n",
       "12             ultra  \n",
       "13             ultra  \n",
       "14             ultra  "
      ]
     },
     "execution_count": 36,
     "metadata": {},
     "output_type": "execute_result"
    }
   ],
   "source": [
    "months_data= pd.pivot_table(full_data, index=[ 'month_of_ride', 'user_id'], values = ['distance', 'name', 'duration', 'subscription_type'], \\\n",
    "                            aggfunc ={\"distance\":\"sum\", \"name\":\"count\", \"duration\":lambda x: np.ceil(x).sum(), 'subscription_type': 'first'}).reset_index()\n",
    "months_data.columns = ['month_of_ride' ,'user_id' ,'sum_distance', 'sum_duration', 'count_ride' , 'subscription_type']\n",
    "months_data.head(15)"
   ]
  },
  {
   "cell_type": "markdown",
   "id": "93e9f96b-9dd0-4d9f-ab39-17a4921a55be",
   "metadata": {},
   "source": [
    "5.2. Добавить столбец с помесячной выручкой, которую принёс каждый пользователь"
   ]
  },
  {
   "cell_type": "code",
   "execution_count": 37,
   "id": "dae77767-7794-40c4-867e-c5900eb19fd7",
   "metadata": {},
   "outputs": [],
   "source": [
    "def money_spent (row):\n",
    "    x = row['subscription_type'] == 'ultra'\n",
    "    return  x*(row['sum_duration']*6 + 199) + (1-x)*(row['sum_duration']*8 + 50*row['count_ride'])    "
   ]
  },
  {
   "cell_type": "code",
   "execution_count": 38,
   "id": "22030283-3b52-489a-ace0-5880b3b6db43",
   "metadata": {},
   "outputs": [],
   "source": [
    "def money_spent_dyn (row):\n",
    "    x = int(row['subscription_type'] == 'ultra')                         # просто очень хотелось без явных if/else\n",
    "    return subscriptions.loc[x]['minute_price']*row['sum_duration'] \\\n",
    "    + subscriptions.loc[x]['start_ride_price']*row['count_ride'] +subscriptions.loc[x]['subscription_fee']"
   ]
  },
  {
   "cell_type": "code",
   "execution_count": 39,
   "id": "04c39030-e682-4821-8bc2-8a752090d868",
   "metadata": {},
   "outputs": [
    {
     "data": {
      "text/html": [
       "<div>\n",
       "<style scoped>\n",
       "    .dataframe tbody tr th:only-of-type {\n",
       "        vertical-align: middle;\n",
       "    }\n",
       "\n",
       "    .dataframe tbody tr th {\n",
       "        vertical-align: top;\n",
       "    }\n",
       "\n",
       "    .dataframe thead th {\n",
       "        text-align: right;\n",
       "    }\n",
       "</style>\n",
       "<table border=\"1\" class=\"dataframe\">\n",
       "  <thead>\n",
       "    <tr style=\"text-align: right;\">\n",
       "      <th></th>\n",
       "      <th>month_of_ride</th>\n",
       "      <th>user_id</th>\n",
       "      <th>sum_distance</th>\n",
       "      <th>sum_duration</th>\n",
       "      <th>count_ride</th>\n",
       "      <th>subscription_type</th>\n",
       "      <th>profit</th>\n",
       "    </tr>\n",
       "  </thead>\n",
       "  <tbody>\n",
       "    <tr>\n",
       "      <th>0</th>\n",
       "      <td>1</td>\n",
       "      <td>1</td>\n",
       "      <td>7027.511294</td>\n",
       "      <td>42.0</td>\n",
       "      <td>2</td>\n",
       "      <td>ultra</td>\n",
       "      <td>451.0</td>\n",
       "    </tr>\n",
       "    <tr>\n",
       "      <th>1</th>\n",
       "      <td>1</td>\n",
       "      <td>3</td>\n",
       "      <td>3061.777147</td>\n",
       "      <td>13.0</td>\n",
       "      <td>1</td>\n",
       "      <td>ultra</td>\n",
       "      <td>277.0</td>\n",
       "    </tr>\n",
       "    <tr>\n",
       "      <th>2</th>\n",
       "      <td>1</td>\n",
       "      <td>5</td>\n",
       "      <td>3914.646990</td>\n",
       "      <td>13.0</td>\n",
       "      <td>1</td>\n",
       "      <td>ultra</td>\n",
       "      <td>277.0</td>\n",
       "    </tr>\n",
       "    <tr>\n",
       "      <th>3</th>\n",
       "      <td>1</td>\n",
       "      <td>7</td>\n",
       "      <td>6478.080979</td>\n",
       "      <td>28.0</td>\n",
       "      <td>2</td>\n",
       "      <td>ultra</td>\n",
       "      <td>367.0</td>\n",
       "    </tr>\n",
       "    <tr>\n",
       "      <th>4</th>\n",
       "      <td>1</td>\n",
       "      <td>12</td>\n",
       "      <td>3577.151148</td>\n",
       "      <td>33.0</td>\n",
       "      <td>1</td>\n",
       "      <td>ultra</td>\n",
       "      <td>397.0</td>\n",
       "    </tr>\n",
       "  </tbody>\n",
       "</table>\n",
       "</div>"
      ],
      "text/plain": [
       "   month_of_ride  user_id  sum_distance  sum_duration  count_ride  \\\n",
       "0              1        1   7027.511294          42.0           2   \n",
       "1              1        3   3061.777147          13.0           1   \n",
       "2              1        5   3914.646990          13.0           1   \n",
       "3              1        7   6478.080979          28.0           2   \n",
       "4              1       12   3577.151148          33.0           1   \n",
       "\n",
       "  subscription_type  profit  \n",
       "0             ultra   451.0  \n",
       "1             ultra   277.0  \n",
       "2             ultra   277.0  \n",
       "3             ultra   367.0  \n",
       "4             ultra   397.0  "
      ]
     },
     "execution_count": 39,
     "metadata": {},
     "output_type": "execute_result"
    }
   ],
   "source": [
    "months_data['profit'] = months_data.apply(money_spent_dyn, axis=1)\n",
    "months_data.head(5)"
   ]
  },
  {
   "cell_type": "markdown",
   "id": "41545ac0",
   "metadata": {},
   "source": [
    "### Шаг 6. Проверка гипотез"
   ]
  },
  {
   "cell_type": "markdown",
   "id": "3482890b-b537-46ef-8847-ae23adb65ed6",
   "metadata": {},
   "source": [
    "6.1. Тратят ли пользователи с подпиской больше времени на поездки"
   ]
  },
  {
   "cell_type": "markdown",
   "id": "42aa1bc6-2451-48db-a00b-53456909f7ab",
   "metadata": {},
   "source": [
    "Проверим гипотезу о том, что пользователи с подпиской \"ultra\" катаются на самокатах дольше:\n",
    "\n",
    "- Нулевая гипотеза: средние значения времени для двух групп равны.\n",
    "- Альтернативная гипотеза: среднее значение времени использования самоката пользователями с подпиской \"ultra\" больше, чем среднее значение пользователей с подпиской \"free\""
   ]
  },
  {
   "cell_type": "code",
   "execution_count": 40,
   "id": "9caf2273-3bb2-4b93-8fb7-45ed425889f1",
   "metadata": {},
   "outputs": [
    {
     "name": "stdout",
     "output_type": "stream",
     "text": [
      "p-value: 1.2804098316645618e-34\n",
      "Отвергаем H0 гипотезу\n",
      "Среднее значение продолжительности поездки без подписки, мин 17.39090929866399\n",
      "Среднее значение продолжительности поездки с подпиской, мин 18.54198516280583\n"
     ]
    }
   ],
   "source": [
    "alpha = 0.05\n",
    "ultra_group = full_data_subsc_ultra['duration']\n",
    "free_group  = full_data_subsc_free['duration']\n",
    "\n",
    "results = st.ttest_ind(ultra_group, free_group, alternative='greater')\n",
    "\n",
    "print(f'p-value: {results.pvalue}')\n",
    "\n",
    "if results.pvalue < alpha:\n",
    "    print('Отвергаем H0 гипотезу')\n",
    "else:\n",
    "    print('Нет оснований отвергнуть H0 гипотезу')\n",
    "print('Среднее значение продолжительности поездки без подписки, мин', full_data_subsc_free['duration'].mean())\n",
    "print('Среднее значение продолжительности поездки с подпиской, мин',  full_data_subsc_ultra['duration'].mean())"
   ]
  },
  {
   "cell_type": "markdown",
   "id": "dc2fcc54-9ea1-4e6b-920b-24cc83e56fb5",
   "metadata": {},
   "source": [
    "Есть основания говорить, что пользователи с подпиской \"ultra\" катаются дольше."
   ]
  },
  {
   "cell_type": "markdown",
   "id": "9f238bea-5349-404e-85b9-8590e1f4467a",
   "metadata": {},
   "source": [
    "6.2 Расстояние одной поездки в 3130 метров — оптимальное с точки зрения износа самоката. Можно ли сказать, что среднее расстояние, которое проезжают пользователи с подпиской за одну поездку, не превышает 3130 метров?"
   ]
  },
  {
   "cell_type": "markdown",
   "id": "9cb03a79-1dad-4994-84cd-17d4ad95ab97",
   "metadata": {},
   "source": [
    "Проверим гипотезу о том, что пользователи с подпиской \"ultra\" катаясь на самокатах не превышают оптимальное расстояние для износа самоката:\n",
    "\n",
    "- Нулевая гипотеза: средние значения расстояния поездки равно 3130 метров для пользователей с подпиской.\n",
    "- Альтернативная гипотеза: средние значения расстояния поездки пользователями с подпиской \"ultra\" больше, чем 3130 метров."
   ]
  },
  {
   "cell_type": "code",
   "execution_count": 41,
   "id": "16c95e77-ee7a-426f-8b4a-362e823f195d",
   "metadata": {},
   "outputs": [
    {
     "name": "stdout",
     "output_type": "stream",
     "text": [
      "p-value: 0.9195368847849785\n",
      "Нет оснований отвергнуть H0 гипотезу\n",
      "Оптимальное расстояние поездки с точки зрения износа самоката, м 3130\n",
      "Среднее значение продолжительности поездки с подпиской, м 3115.4453880370247\n"
     ]
    }
   ],
   "source": [
    "alpha = 0.1\n",
    "ultra_distance = full_data_subsc_ultra['distance']\n",
    "wearing_limit = 3130 \n",
    "\n",
    "results = st.ttest_1samp(ultra_distance, wearing_limit, alternative='greater')\n",
    "\n",
    "print(f'p-value: {results.pvalue}')\n",
    "\n",
    "if results.pvalue < alpha:\n",
    "    print('Отвергаем H0 гипотезу')\n",
    "else:\n",
    "    print('Нет оснований отвергнуть H0 гипотезу')\n",
    "print('Оптимальное расстояние поездки с точки зрения износа самоката, м', wearing_limit)\n",
    "print('Среднее значение продолжительности поездки с подпиской, м',  full_data_subsc_ultra['distance'].mean())"
   ]
  },
  {
   "cell_type": "markdown",
   "id": "93a6571a-f2b0-4556-97e3-3f725b067f54",
   "metadata": {},
   "source": [
    "По имеющимся данным мы не можем утверждать, что пользователи с подпиской совершают поездки в среднем длинее чем 3130 м"
   ]
  },
  {
   "cell_type": "markdown",
   "id": "e399424d-07f3-41f2-a093-ca28f3ead67c",
   "metadata": {},
   "source": [
    "6.3 Будет ли помесячная выручка от пользователей с подпиской по месяцам выше, чем выручка от пользователей без подписки"
   ]
  },
  {
   "cell_type": "code",
   "execution_count": 42,
   "id": "b1578d00-b616-4527-8cc4-2d029fd9a43e",
   "metadata": {},
   "outputs": [
    {
     "data": {
      "text/html": [
       "<div>\n",
       "<style scoped>\n",
       "    .dataframe tbody tr th:only-of-type {\n",
       "        vertical-align: middle;\n",
       "    }\n",
       "\n",
       "    .dataframe tbody tr th {\n",
       "        vertical-align: top;\n",
       "    }\n",
       "\n",
       "    .dataframe thead th {\n",
       "        text-align: right;\n",
       "    }\n",
       "</style>\n",
       "<table border=\"1\" class=\"dataframe\">\n",
       "  <thead>\n",
       "    <tr style=\"text-align: right;\">\n",
       "      <th></th>\n",
       "      <th>month_of_ride</th>\n",
       "      <th>profit == ultra</th>\n",
       "      <th>profit == free</th>\n",
       "      <th>profit == ultra(%)</th>\n",
       "      <th>profit == free(%)</th>\n",
       "    </tr>\n",
       "  </thead>\n",
       "  <tbody>\n",
       "    <tr>\n",
       "      <th>0</th>\n",
       "      <td>1</td>\n",
       "      <td>144108.0</td>\n",
       "      <td>193850.0</td>\n",
       "      <td>0.426408</td>\n",
       "      <td>0.573592</td>\n",
       "    </tr>\n",
       "    <tr>\n",
       "      <th>1</th>\n",
       "      <td>2</td>\n",
       "      <td>124572.0</td>\n",
       "      <td>165856.0</td>\n",
       "      <td>0.428926</td>\n",
       "      <td>0.571074</td>\n",
       "    </tr>\n",
       "    <tr>\n",
       "      <th>2</th>\n",
       "      <td>3</td>\n",
       "      <td>142608.0</td>\n",
       "      <td>187214.0</td>\n",
       "      <td>0.432379</td>\n",
       "      <td>0.567621</td>\n",
       "    </tr>\n",
       "    <tr>\n",
       "      <th>3</th>\n",
       "      <td>4</td>\n",
       "      <td>137318.0</td>\n",
       "      <td>185598.0</td>\n",
       "      <td>0.425244</td>\n",
       "      <td>0.574756</td>\n",
       "    </tr>\n",
       "    <tr>\n",
       "      <th>4</th>\n",
       "      <td>5</td>\n",
       "      <td>149235.0</td>\n",
       "      <td>188030.0</td>\n",
       "      <td>0.442486</td>\n",
       "      <td>0.557514</td>\n",
       "    </tr>\n",
       "    <tr>\n",
       "      <th>5</th>\n",
       "      <td>6</td>\n",
       "      <td>143834.0</td>\n",
       "      <td>192144.0</td>\n",
       "      <td>0.428105</td>\n",
       "      <td>0.571895</td>\n",
       "    </tr>\n",
       "    <tr>\n",
       "      <th>6</th>\n",
       "      <td>7</td>\n",
       "      <td>143466.0</td>\n",
       "      <td>185038.0</td>\n",
       "      <td>0.436725</td>\n",
       "      <td>0.563275</td>\n",
       "    </tr>\n",
       "    <tr>\n",
       "      <th>7</th>\n",
       "      <td>8</td>\n",
       "      <td>138534.0</td>\n",
       "      <td>187116.0</td>\n",
       "      <td>0.425408</td>\n",
       "      <td>0.574592</td>\n",
       "    </tr>\n",
       "    <tr>\n",
       "      <th>8</th>\n",
       "      <td>9</td>\n",
       "      <td>129337.0</td>\n",
       "      <td>193700.0</td>\n",
       "      <td>0.400378</td>\n",
       "      <td>0.599622</td>\n",
       "    </tr>\n",
       "    <tr>\n",
       "      <th>9</th>\n",
       "      <td>10</td>\n",
       "      <td>133932.0</td>\n",
       "      <td>181428.0</td>\n",
       "      <td>0.424696</td>\n",
       "      <td>0.575304</td>\n",
       "    </tr>\n",
       "    <tr>\n",
       "      <th>10</th>\n",
       "      <td>11</td>\n",
       "      <td>126546.0</td>\n",
       "      <td>179076.0</td>\n",
       "      <td>0.414061</td>\n",
       "      <td>0.585939</td>\n",
       "    </tr>\n",
       "    <tr>\n",
       "      <th>11</th>\n",
       "      <td>12</td>\n",
       "      <td>131047.0</td>\n",
       "      <td>195054.0</td>\n",
       "      <td>0.401860</td>\n",
       "      <td>0.598140</td>\n",
       "    </tr>\n",
       "  </tbody>\n",
       "</table>\n",
       "</div>"
      ],
      "text/plain": [
       "    month_of_ride  profit == ultra  profit == free  profit == ultra(%)  \\\n",
       "0               1         144108.0        193850.0            0.426408   \n",
       "1               2         124572.0        165856.0            0.428926   \n",
       "2               3         142608.0        187214.0            0.432379   \n",
       "3               4         137318.0        185598.0            0.425244   \n",
       "4               5         149235.0        188030.0            0.442486   \n",
       "5               6         143834.0        192144.0            0.428105   \n",
       "6               7         143466.0        185038.0            0.436725   \n",
       "7               8         138534.0        187116.0            0.425408   \n",
       "8               9         129337.0        193700.0            0.400378   \n",
       "9              10         133932.0        181428.0            0.424696   \n",
       "10             11         126546.0        179076.0            0.414061   \n",
       "11             12         131047.0        195054.0            0.401860   \n",
       "\n",
       "    profit == free(%)  \n",
       "0            0.573592  \n",
       "1            0.571074  \n",
       "2            0.567621  \n",
       "3            0.574756  \n",
       "4            0.557514  \n",
       "5            0.571895  \n",
       "6            0.563275  \n",
       "7            0.574592  \n",
       "8            0.599622  \n",
       "9            0.575304  \n",
       "10           0.585939  \n",
       "11           0.598140  "
      ]
     },
     "execution_count": 42,
     "metadata": {},
     "output_type": "execute_result"
    }
   ],
   "source": [
    "profit_by_month =pd.pivot_table(months_data, index=['month_of_ride', 'subscription_type'], values = ['profit'], \n",
    "                            aggfunc ='sum').reset_index()\n",
    "profit_by_month = (profit_by_month[(profit_by_month['subscription_type']=='ultra')][['month_of_ride', 'profit']]\n",
    "             .merge(profit_by_month[profit_by_month['subscription_type']=='free'][['month_of_ride', 'profit']], how='outer', left_on='month_of_ride', right_on='month_of_ride')\n",
    "            )\n",
    "profit_by_month.columns = ['month_of_ride', 'profit == ultra', 'profit == free']\n",
    "profit_by_month ['profit == ultra(%)']= profit_by_month ['profit == ultra']/ (profit_by_month ['profit == ultra'] + profit_by_month ['profit == free'])\n",
    "profit_by_month ['profit == free(%)'] = 1-profit_by_month ['profit == ultra(%)']\n",
    "profit_by_month"
   ]
  },
  {
   "cell_type": "code",
   "execution_count": 43,
   "id": "50025c55-18f0-44fe-82b1-13ed82884044",
   "metadata": {},
   "outputs": [
    {
     "data": {
      "image/png": "[encoded data removed]",
      "text/plain": [
       "<Figure size 432x288 with 1 Axes>"
      ]
     },
     "metadata": {
      "needs_background": "light"
     },
     "output_type": "display_data"
    }
   ],
   "source": [
    "ax =profit_by_month[['month_of_ride', 'profit == ultra(%)', 'profit == free(%)']].plot(x='month_of_ride', kind = 'barh',  stacked = True,  title = 'Доли выручки по месяцам',  mark_right = True);\n",
    "plt.axvline(x=0.5, color = 'k', linestyle='dashed', label = '50/50');\n",
    "ax.set_xlabel(\"Доли от общей выручки по месяцам\");\n",
    "ax.set_ylabel(\"Месяц поездков\");\n",
    "plt.legend();"
   ]
  },
  {
   "cell_type": "markdown",
   "id": "3fc59849",
   "metadata": {},
   "source": [
    "Проверим данную гипотезу классическим образом:\n",
    "\n",
    "- Нулевая гипотеза: средние значения выручки по месяцам поездок равно для пользователей с подпиской и без.\n",
    "- Альтернативная гипотеза: средние значения  выручки по месяцам поездок пользователей с подпиской \"ultra\" больше, чем для пользователей без подписки."
   ]
  },
  {
   "cell_type": "markdown",
   "id": "f746c57b",
   "metadata": {},
   "source": [
    "Так как это t-test и 12 месяцев сойдет за выборку"
   ]
  },
  {
   "cell_type": "code",
   "execution_count": 44,
   "id": "edd7182c",
   "metadata": {},
   "outputs": [
    {
     "name": "stdout",
     "output_type": "stream",
     "text": [
      "p-value: 0.9999999999997602\n",
      "Нет оснований отвергнуть H0 гипотезу\n",
      "Среднее значение трат за месяц пользователей без подписки, руб 186175.33333333334\n",
      "Среднее значение трат за месяц пользователей с подпиской, руб 137044.75\n"
     ]
    }
   ],
   "source": [
    "alpha = 0.05\n",
    "ultra_group = profit_by_month['profit == ultra']\n",
    "free_group  = profit_by_month['profit == free']\n",
    "\n",
    "results = st.ttest_ind(ultra_group, free_group, alternative='greater')\n",
    "\n",
    "print(f'p-value: {results.pvalue}')\n",
    "\n",
    "if results.pvalue < alpha:\n",
    "    print('Отвергаем H0 гипотезу')\n",
    "else:\n",
    "    print('Нет оснований отвергнуть H0 гипотезу')\n",
    "print('Среднее значение трат за месяц пользователей без подписки, руб', profit_by_month['profit == free'].mean())\n",
    "print('Среднее значение трат за месяц пользователей с подпиской, руб',  profit_by_month['profit == ultra'].mean())"
   ]
  },
  {
   "cell_type": "markdown",
   "id": "9c2a4e45-b565-450e-8328-7b3efb9cfe71",
   "metadata": {},
   "source": [
    "Гипотеза о том, что помесячная выручка от пользователей с подпиской по месяцам выше, чем выручка от пользователей без подписки не подтверждается."
   ]
  },
  {
   "cell_type": "markdown",
   "id": "f5afe390-86ea-4797-bc33-6785d2a75e18",
   "metadata": {},
   "source": [
    "6.4 Представьте такую ситуацию: техническая команда сервиса обновила сервера, с которыми взаимодействует мобильное приложение. Она надеется, что из-за этого количество обращений в техподдержку значимо снизилось. Некоторый файл содержит для каждого пользователя данные о количестве обращений до обновления и после него. Какой тест вам понадобился бы для проверки этой гипотезы?"
   ]
  },
  {
   "cell_type": "markdown",
   "id": "676a75a2-9610-4098-a1a5-20d3c40387c0",
   "metadata": {},
   "source": [
    "Односторонная(правая) гипотеза о равенстве среднего генеральной совокупности для зависимых (парных) выборок.\n",
    "\n",
    "- Нулевая гипотеза: средние значения обращений пользователей из двух групп равны.\n",
    "- Альтернативная гипотеза: среднее значение обращений пользователей до обновления больше, чем среднее значение обращений пользователей после обновления."
   ]
  },
  {
   "cell_type": "markdown",
   "id": "6c8004e1-7b16-4ffa-b598-d99425d5e420",
   "metadata": {},
   "source": [
    "Метод: scipy.stats.ttest_rel(before_group, after_group, alternative='greater')"
   ]
  },
  {
   "cell_type": "markdown",
   "id": "61213c5e",
   "metadata": {},
   "source": [
    "### Шаг 7. Распределения"
   ]
  },
  {
   "cell_type": "markdown",
   "id": "7d5ebc7a-8b5a-40ad-83b2-3192dfd2d32e",
   "metadata": {},
   "source": [
    "7.1 Отделу маркетинга GoFast поставили задачу: нужно провести акцию с раздачей промокодов на один бесплатный месяц подписки, в рамках которой как минимум 100 существующих клиентов должны продлить эту подписку. То есть по завершении периода действия подписки пользователь может либо отказаться от неё, либо продлить, совершив соответствующий платёж. Эта акция уже проводилась ранее и по итогу выяснилось, что после бесплатного пробного периода подписку продлевают 10 % пользователей. Выясните, какое минимальное количество промокодов нужно разослать, чтобы вероятность не выполнить план была примерно \n",
    "5 %. Подберите параметры распределения, описывающего эту ситуацию, постройте график распределения и сформулируйте ответ на вопрос о количестве промокодо.в"
   ]
  },
  {
   "cell_type": "code",
   "execution_count": 45,
   "id": "37c679e2-e59f-43f3-8229-b733be5c933e",
   "metadata": {},
   "outputs": [
    {
     "name": "stdout",
     "output_type": "stream",
     "text": [
      "Hеобходимое число розданных промокодов 851\n"
     ]
    }
   ],
   "source": [
    "p=0.1                              # вероятность успеха из предыдущего опыта\n",
    "q=0.05                             # вероятность не выполнить план сейчас\n",
    "target = 100                       # целевое значение подписок\n",
    "N=int(target*p)                    # стартовое значение розданных промокодов\n",
    "value = 0                          # инициализация значения подписок\n",
    "while value<target:\n",
    "    value = st.binom.ppf(1-q, N, p)\n",
    "    N +=1\n",
    "print('Hеобходимое число розданных промокодов',N)"
   ]
  },
  {
   "cell_type": "code",
   "execution_count": 46,
   "id": "c122f978-a472-4157-9635-690356edc69a",
   "metadata": {},
   "outputs": [
    {
     "name": "stderr",
     "output_type": "stream",
     "text": [
      "/opt/conda/lib/python3.9/site-packages/scipy/stats/_discrete_distns.py:78: RuntimeWarning: divide by zero encountered in _binom_pdf\n",
      "  return _boost._binom_pdf(x, n, p)\n"
     ]
    },
    {
     "data": {
      "image/png": "[encoded data removed]",
      "text/plain": [
       "<Figure size 1440x360 with 2 Axes>"
      ]
     },
     "metadata": {
      "needs_background": "light"
     },
     "output_type": "display_data"
    }
   ],
   "source": [
    "distr_bi_pmf = []\n",
    "distr_bi_cdf = []\n",
    "for k in range(0, N + 1):\n",
    "    current_value = st.binom.pmf(k, N, p)\n",
    "    distr_bi_pmf.append(current_value)\n",
    "    current_value = st.binom.cdf(k, N, p)\n",
    "    distr_bi_cdf.append(current_value)\n",
    "fig, ax = plt.subplots(1, 2, figsize=(20, 5))   \n",
    "fig.suptitle('Данные по распределению 100 случайных подписок на 851 промокодов c c вероятностью успеха 95%', fontsize=16)\n",
    "ax[0].bar(range(0, N + 1), distr_bi_pmf, label = 'Функция плотности распределения');\n",
    "ax[0].set_xlabel(\"количество выданных промокодов\");\n",
    "ax[0].set_ylabel(\"плотность вероятности подписки на тариф ultra\");\n",
    "ax[0].set_title(\"График плотности вероятности подписки на тариф ultra\")\n",
    "ax[0].legend(loc='upper right');\n",
    "ax[1].bar(range(0, N + 1), distr_bi_cdf, label = 'Кумулятивная функция');\n",
    "ax[1].axvline(x=100, color = 'r', linestyle='dashed', label = '100 подписок');\n",
    "ax[1].axhline(y=0.95, color = 'r', linestyle='dashed');\n",
    "ax[1].set_title(\"График вероятности подписки на тариф ultra\")\n",
    "ax[1].set_xlabel(\"количество выданных промокодов\");\n",
    "ax[1].set_ylabel(\"Вероятность подписки на тариф ultra\");\n",
    "ax[1].legend(loc='upper right');\n",
    "ax[1].set_xlim([0, 200]);\n"
   ]
  },
  {
   "cell_type": "markdown",
   "id": "5c6de2ca-1785-4f94-a83e-4cf8a26894e2",
   "metadata": {},
   "source": [
    "7.2 Отдел маркетинга рассылает клиентам push-уведомления в мобильном приложении. Клиенты могут открыть его или не открывать. Известно, что уведомления открывают около 40 % получивших клиентов. Отдел планирует разослать 1 млн уведомлений. С помощью аппроксимации постройте примерный график распределения и оцените вероятность того, что уведомление откроют не более 399,5 тыс. пользователей"
   ]
  },
  {
   "cell_type": "code",
   "execution_count": 47,
   "id": "52fc39ab-2a23-47eb-9bb4-2afd7ddee5ae",
   "metadata": {},
   "outputs": [
    {
     "name": "stdout",
     "output_type": "stream",
     "text": [
      "Можно использовать эквивалентное нормальное распределение\n"
     ]
    }
   ],
   "source": [
    "p=0.4\n",
    "N = 1e6\n",
    "k = 399.5e3\n",
    "left  = p*N-3*np.sqrt(N * p * (1 - p))\n",
    "right = p*N+3*np.sqrt(N * p * (1 - p))\n",
    "if (right<= N) and (left>=0):\n",
    "    print ('Можно использовать эквивалентное нормальное распределение')\n",
    "else:\n",
    "    print ('Нельзя использовать эквивалентное нормальное распределение')"
   ]
  },
  {
   "cell_type": "markdown",
   "id": "90937ec6-db22-40b0-a6d4-c98f17fe8053",
   "metadata": {},
   "source": [
    "Эквивалетное нормальное распределение"
   ]
  },
  {
   "cell_type": "code",
   "execution_count": 48,
   "id": "e400d3c1-4d8e-4d55-a325-9d45bdcfc555",
   "metadata": {},
   "outputs": [
    {
     "name": "stdout",
     "output_type": "stream",
     "text": [
      "Вероятность что уведомления откроют не более 399,5 тыс. пользователей: 0.15371708296369768\n"
     ]
    }
   ],
   "source": [
    "mu = N * p\n",
    "sigma = np.sqrt(N * p * (1 - p))\n",
    "distr = st.norm(mu, sigma) \n",
    "print('Вероятность что уведомления откроют не более 399,5 тыс. пользователей:',distr.cdf(k))"
   ]
  },
  {
   "cell_type": "code",
   "execution_count": 49,
   "id": "c433170a-d1c1-40ea-b6c9-b8440719a432",
   "metadata": {},
   "outputs": [
    {
     "data": {
      "image/png": "[encoded data removed]",
      "text/plain": [
       "<Figure size 1440x504 with 2 Axes>"
      ]
     },
     "metadata": {
      "needs_background": "light"
     },
     "output_type": "display_data"
    }
   ],
   "source": [
    "x = np.linspace(left, right, 1000)\n",
    "fig, ax = plt.subplots(1, 2, figsize=(20, 7))\n",
    "fig.suptitle('Данные по распределению вероятности открытия push уведомления пользователем на 1-000-000 рассылок', fontsize=16)\n",
    "ax[0].plot(x, distr.pdf(x), label = 'Функция плотности распределения')\n",
    "ax[0].axvline(x=k, color = 'r', linestyle='dashed', label = '399.5 тыс. пользователей');\n",
    "ax[0].fill_between(x,distr.pdf(x),0,where=(x>left) & (x<=k),color='g', alpha=0.1)\n",
    "ax[0].grid()\n",
    "ax[0].set_xlabel(\"количество отправленных push-уведомлений\");\n",
    "ax[0].set_ylabel(\"плотность вероятности открытия push-уведомления пользователем\");\n",
    "ax[0].set_title(\"График плотности вероятности подписки на тариф ultra\")\n",
    "ax[0].legend(loc='upper right');\n",
    "ax[1].plot(x, distr.cdf(x), label = 'Кумулятивная функция')\n",
    "ax[1].axvline(x=k, color = 'r', linestyle='dashed', label = '399.5 тыс. пользователей');\n",
    "ax[1].axhline(y=distr.cdf(k), color = 'r', linestyle='dashed');\n",
    "ax[1].grid()\n",
    "ax[1].set_title(\"График вероятности подписки на тариф ultra\")\n",
    "ax[1].set_xlabel(\"количество отправленных push-уведомлений\");\n",
    "ax[1].set_ylabel(\"Вероятность открытия push-уведомления пользователем\");\n",
    "ax[1].legend(loc='upper right');\n",
    "plt.show()"
   ]
  },
  {
   "cell_type": "markdown",
   "id": "3b6fb983-7ca2-48f4-b12e-eb874b48e9b0",
   "metadata": {},
   "source": [
    "### Шаг 8. Общие выводы"
   ]
  },
  {
   "cell_type": "markdown",
   "id": "1a31a280-ccf9-4dd0-b4e7-dc2b39565099",
   "metadata": {},
   "source": [
    "* Загрузка данных\n",
    "    * Загружено три таблицы с системным разделителем - запятой;\n",
    "    * Пропусков данных нет ни в одном из файлов;\n",
    "    * Файл user содержал 31 явных дубликат;\n",
    "    * Определены числовые и строчные столбцы, один столбец необходимо переформатировать в тип данных time;\n",
    "    * Выявлена необходимость в объединении данных в один dataframe.\n",
    "* Предобработка данных\n",
    "    * Cтолбец date приведен к типу даты pandas;\n",
    "    * Создан новый столбец с номером месяца на основе столбца date.\n",
    "* Исследовательский анализ данных\n",
    "    * Выполнено объединение в единый dataframe;\n",
    "    * Cервис пользуется наибольшей популярностью в Пятигорске, а наименьшей в Москве;\n",
    "    * В Пятигорске, Омске и Москве пользователи наименее активны, а в Екатеринбурге и Ростове-на-Дону наоборот в среднем каждый совершает больше поездок;\n",
    "    * Доли городов варьируются от 10 до 14%, таким образом аномалий на представленных данных отсутствуют;\n",
    "    * Для более подробного анализа, вероятно требуется знать размер парка самокатов в каждом городе и объем целевой аудитории;\n",
    "    * Во всех города количество пользователей с подпиской free, больше чем в ultra (только в Москве и Омске, их практически одинаковое количество);\n",
    "    * номальных значений в распределении по городам нет - значения соответствуют общим средним;\n",
    "    * Самое большое значение подписки ultra в Москве и Омске, самое низкое в Краснодаре и Пятигорске\n",
    "    * Среднее значение возраста составляет 25 лет;\n",
    "    * В Москве есть немного пользователей старшего возраста, около 40 лет (прогрессивные люди);\n",
    "    * Средняя дистанция поездки практически не зависит от города;\n",
    "    * Продолжительность поездки не сильно зависит от города;\n",
    "    * Медианное значение продолжительности поездки, мин: 18.\n",
    "* Объединение данных\n",
    "    * Составлены таблицы с агрегированными данными по типу подписки;\n",
    "    * Люди с подпиской более системно относятся к перемещению на самокатах, решая прикладные задачи перемещения по городу - здесь наблюдается меньшая дисперсия вокруг медианного расстояния около 3148 м;\n",
    "    * Дистация поездки для людей без подписки более равномерно распределена, по сравнению с подпиской ultra, что может характеризовать \"развлекательную\" цель поездок, при этом средняя дистанция составляет порядка 3114 м;\n",
    "    * Разница медианных значений расстояния по подписки и без - незначительна;\n",
    "    * В районе 1 км наблюдается локальный максимум \"коротких\" поездок, который отсутствует при рассмотрении данных \"по пользователям\".\n",
    "* Подсчёт выручки\n",
    "    * Добавлены столбцы с выручкой по месяцам и типу подписки.\n",
    "* Проверка гипотез\n",
    "    * Гипотеза 1: есть основания говорить, что пользователи с подпиской \"ultra\" катаются дольше;\n",
    "    * Гипотеза 2: по имеющимся данным мы не можем утверждать, что пользователи с подпиской совершают поездки в среднем длинее чем 3130 м. Таким образом, уровень износа находится в допустимых пределах;\n",
    "    * Гипотеза 3: не подтверждается, что помесячная выручка от пользователей с подпиской по месяцам выше, чем выручка от пользователей без подписки. Для компании пользователи с подпиской ultra являются постоянными клиентами и даже, то что они приносят меньше дохода не является большой проблемой на стадии развития бизнеса. Необходимо провести дополнительное исследование, что влияет на привлечение новых клиентов и ориентироваться на целевые значения удельной доли постоянных клиентов и прибыли от них для рынка самокатов;\n",
    "    * Сформулирована односторонная(правая) гипотеза для средних двух генеральных совокупностей для оценки обновления ПО на сервере. \n",
    "Нулевая гипотеза: средние значения обращений пользователей из двух групп равн .\n",
    "Альтернативная гипотеза: среднее значение обращений пользователей до обновления больше, чем среднее значение обращений пользователей после обновлен\n",
    "* Распределения\n",
    "    * Hеобходимое раздать 851 промокод, для 95 % уверенности в подписки 100 человек;\n",
    "    * Вероятность что уведомления откроют не более 399,5 тыс. пользователей составляет порядка 15.4%.\n",
    "ия."
   ]
  },
  {
   "cell_type": "code",
   "execution_count": null,
   "id": "8a529aab",
   "metadata": {},
   "outputs": [],
   "source": []
  }
 ],
 "metadata": {
  "ExecuteTimeLog": [
   {
    "duration": 1242,
    "start_time": "2023-10-18T09:30:56.899Z"
   },
   {
    "duration": 300,
    "start_time": "2023-10-18T09:30:58.155Z"
   },
   {
    "duration": 6,
    "start_time": "2023-10-18T09:30:58.457Z"
   },
   {
    "duration": 1807,
    "start_time": "2023-10-18T09:30:58.464Z"
   },
   {
    "duration": 8,
    "start_time": "2023-10-18T09:31:00.273Z"
   },
   {
    "duration": 38,
    "start_time": "2023-10-18T09:31:00.282Z"
   },
   {
    "duration": 45,
    "start_time": "2023-10-18T09:31:00.322Z"
   },
   {
    "duration": 62,
    "start_time": "2023-10-18T09:31:00.368Z"
   },
   {
    "duration": 40,
    "start_time": "2023-10-18T09:31:00.432Z"
   },
   {
    "duration": 61,
    "start_time": "2023-10-18T09:31:00.473Z"
   },
   {
    "duration": 57,
    "start_time": "2023-10-18T09:31:00.536Z"
   },
   {
    "duration": 233,
    "start_time": "2023-10-18T09:31:00.595Z"
   },
   {
    "duration": 24,
    "start_time": "2023-10-18T09:31:00.830Z"
   },
   {
    "duration": 57,
    "start_time": "2023-10-18T09:31:00.857Z"
   },
   {
    "duration": 202,
    "start_time": "2023-10-18T09:31:00.916Z"
   },
   {
    "duration": 450,
    "start_time": "2023-10-18T09:31:01.119Z"
   },
   {
    "duration": 15,
    "start_time": "2023-10-18T09:31:01.570Z"
   },
   {
    "duration": 573,
    "start_time": "2023-10-18T09:31:01.587Z"
   },
   {
    "duration": 245,
    "start_time": "2023-10-18T09:31:02.162Z"
   },
   {
    "duration": 8,
    "start_time": "2023-10-18T09:31:02.409Z"
   },
   {
    "duration": 104,
    "start_time": "2023-10-18T09:31:02.418Z"
   },
   {
    "duration": 756,
    "start_time": "2023-10-18T09:31:02.524Z"
   },
   {
    "duration": 253,
    "start_time": "2023-10-18T09:31:03.282Z"
   },
   {
    "duration": 12,
    "start_time": "2023-10-18T09:31:03.537Z"
   },
   {
    "duration": 879,
    "start_time": "2023-10-18T09:31:03.550Z"
   },
   {
    "duration": 6,
    "start_time": "2023-10-18T09:31:04.430Z"
   },
   {
    "duration": 652,
    "start_time": "2023-10-18T09:31:04.445Z"
   },
   {
    "duration": 9,
    "start_time": "2023-10-18T09:31:05.099Z"
   },
   {
    "duration": 27,
    "start_time": "2023-10-18T09:31:05.109Z"
   },
   {
    "duration": 647,
    "start_time": "2023-10-18T09:31:05.138Z"
   },
   {
    "duration": 13,
    "start_time": "2023-10-18T09:31:05.787Z"
   },
   {
    "duration": 49,
    "start_time": "2023-10-18T09:31:05.801Z"
   },
   {
    "duration": 3,
    "start_time": "2023-10-18T09:31:05.852Z"
   },
   {
    "duration": 13,
    "start_time": "2023-10-18T09:31:05.856Z"
   },
   {
    "duration": 3869,
    "start_time": "2023-10-18T09:31:05.871Z"
   },
   {
    "duration": 7,
    "start_time": "2023-10-18T09:31:09.744Z"
   },
   {
    "duration": 37,
    "start_time": "2023-10-18T09:31:09.753Z"
   },
   {
    "duration": 42,
    "start_time": "2023-10-18T09:31:09.792Z"
   },
   {
    "duration": 313,
    "start_time": "2023-10-18T09:31:09.836Z"
   },
   {
    "duration": 105,
    "start_time": "2023-10-18T09:31:10.151Z"
   },
   {
    "duration": 2744,
    "start_time": "2023-10-18T09:31:10.259Z"
   },
   {
    "duration": 5,
    "start_time": "2023-10-18T09:31:13.005Z"
   },
   {
    "duration": 39,
    "start_time": "2023-10-18T09:31:13.016Z"
   },
   {
    "duration": 473,
    "start_time": "2023-10-18T09:31:13.058Z"
   },
   {
    "duration": 712,
    "start_time": "2023-10-18T09:31:37.491Z"
   },
   {
    "duration": 680,
    "start_time": "2023-10-18T09:31:55.394Z"
   },
   {
    "duration": 634,
    "start_time": "2023-10-18T09:32:41.782Z"
   },
   {
    "duration": 5,
    "start_time": "2023-10-18T09:37:48.309Z"
   },
   {
    "duration": 81,
    "start_time": "2023-10-18T10:27:21.121Z"
   },
   {
    "duration": 50,
    "start_time": "2023-10-18T10:56:33.139Z"
   },
   {
    "duration": 8,
    "start_time": "2023-10-18T10:56:38.300Z"
   },
   {
    "duration": 7,
    "start_time": "2023-10-18T10:57:01.711Z"
   },
   {
    "duration": 1508,
    "start_time": "2023-10-18T10:57:18.293Z"
   },
   {
    "duration": 295,
    "start_time": "2023-10-18T10:57:19.804Z"
   },
   {
    "duration": 6,
    "start_time": "2023-10-18T10:57:20.101Z"
   },
   {
    "duration": 2120,
    "start_time": "2023-10-18T10:57:20.109Z"
   },
   {
    "duration": 7,
    "start_time": "2023-10-18T10:57:22.232Z"
   },
   {
    "duration": 43,
    "start_time": "2023-10-18T10:57:22.241Z"
   },
   {
    "duration": 34,
    "start_time": "2023-10-18T10:57:22.286Z"
   },
   {
    "duration": 17,
    "start_time": "2023-10-18T10:57:22.322Z"
   },
   {
    "duration": 72,
    "start_time": "2023-10-18T10:57:22.341Z"
   },
   {
    "duration": 34,
    "start_time": "2023-10-18T10:57:22.414Z"
   },
   {
    "duration": 43,
    "start_time": "2023-10-18T10:57:22.450Z"
   },
   {
    "duration": 216,
    "start_time": "2023-10-18T10:57:22.494Z"
   },
   {
    "duration": 16,
    "start_time": "2023-10-18T10:57:22.712Z"
   },
   {
    "duration": 40,
    "start_time": "2023-10-18T10:57:22.732Z"
   },
   {
    "duration": 37,
    "start_time": "2023-10-18T10:57:22.773Z"
   },
   {
    "duration": 432,
    "start_time": "2023-10-18T10:57:22.812Z"
   },
   {
    "duration": 16,
    "start_time": "2023-10-18T10:57:23.246Z"
   },
   {
    "duration": 658,
    "start_time": "2023-10-18T10:57:23.264Z"
   },
   {
    "duration": 280,
    "start_time": "2023-10-18T10:57:23.924Z"
   },
   {
    "duration": 10,
    "start_time": "2023-10-18T10:57:24.206Z"
   },
   {
    "duration": 120,
    "start_time": "2023-10-18T10:57:24.218Z"
   },
   {
    "duration": 850,
    "start_time": "2023-10-18T10:57:24.340Z"
   },
   {
    "duration": 280,
    "start_time": "2023-10-18T10:57:25.192Z"
   },
   {
    "duration": 10,
    "start_time": "2023-10-18T10:57:25.473Z"
   },
   {
    "duration": 922,
    "start_time": "2023-10-18T10:57:25.485Z"
   },
   {
    "duration": 6,
    "start_time": "2023-10-18T10:57:26.408Z"
   },
   {
    "duration": 748,
    "start_time": "2023-10-18T10:57:26.416Z"
   },
   {
    "duration": 9,
    "start_time": "2023-10-18T10:57:27.166Z"
   },
   {
    "duration": 700,
    "start_time": "2023-10-18T10:57:27.177Z"
   },
   {
    "duration": 22,
    "start_time": "2023-10-18T10:57:27.879Z"
   },
   {
    "duration": 102,
    "start_time": "2023-10-18T10:57:27.903Z"
   },
   {
    "duration": 91,
    "start_time": "2023-10-18T10:57:28.006Z"
   },
   {
    "duration": 72,
    "start_time": "2023-10-18T10:57:28.098Z"
   },
   {
    "duration": 4077,
    "start_time": "2023-10-18T10:57:28.172Z"
   },
   {
    "duration": 5,
    "start_time": "2023-10-18T10:57:32.251Z"
   },
   {
    "duration": 100,
    "start_time": "2023-10-18T10:57:32.258Z"
   },
   {
    "duration": 145,
    "start_time": "2023-10-18T10:57:32.360Z"
   },
   {
    "duration": 466,
    "start_time": "2023-10-18T10:57:32.507Z"
   },
   {
    "duration": 128,
    "start_time": "2023-10-18T10:57:32.975Z"
   },
   {
    "duration": 3297,
    "start_time": "2023-10-18T10:57:33.105Z"
   },
   {
    "duration": 5,
    "start_time": "2023-10-18T10:57:36.406Z"
   },
   {
    "duration": 15,
    "start_time": "2023-10-18T10:57:36.413Z"
   },
   {
    "duration": 538,
    "start_time": "2023-10-18T10:57:36.430Z"
   },
   {
    "duration": 205,
    "start_time": "2023-10-18T11:09:02.514Z"
   },
   {
    "duration": 215,
    "start_time": "2023-10-18T11:09:34.081Z"
   },
   {
    "duration": 442,
    "start_time": "2023-10-18T11:11:07.182Z"
   },
   {
    "duration": 211,
    "start_time": "2023-10-18T11:11:27.524Z"
   },
   {
    "duration": 210,
    "start_time": "2023-10-18T11:11:59.981Z"
   },
   {
    "duration": 207,
    "start_time": "2023-10-18T11:12:13.778Z"
   },
   {
    "duration": 92,
    "start_time": "2023-10-18T11:13:18.781Z"
   },
   {
    "duration": 309,
    "start_time": "2023-10-18T11:14:20.607Z"
   },
   {
    "duration": 318,
    "start_time": "2023-10-18T11:14:23.344Z"
   },
   {
    "duration": 333,
    "start_time": "2023-10-18T11:14:53.788Z"
   },
   {
    "duration": 313,
    "start_time": "2023-10-18T11:15:17.939Z"
   },
   {
    "duration": 19,
    "start_time": "2023-10-18T11:16:27.479Z"
   },
   {
    "duration": 336,
    "start_time": "2023-10-18T11:16:37.206Z"
   },
   {
    "duration": 119,
    "start_time": "2023-10-18T11:17:19.684Z"
   },
   {
    "duration": 21,
    "start_time": "2023-10-18T11:17:24.730Z"
   },
   {
    "duration": 20,
    "start_time": "2023-10-18T11:17:34.226Z"
   },
   {
    "duration": 18,
    "start_time": "2023-10-18T11:17:55.806Z"
   },
   {
    "duration": 20,
    "start_time": "2023-10-18T11:18:08.535Z"
   },
   {
    "duration": 347,
    "start_time": "2023-10-18T11:18:13.476Z"
   },
   {
    "duration": 109,
    "start_time": "2023-10-18T11:19:03.696Z"
   },
   {
    "duration": 745,
    "start_time": "2023-10-18T11:20:03.013Z"
   },
   {
    "duration": 624,
    "start_time": "2023-10-18T11:20:46.092Z"
   },
   {
    "duration": 621,
    "start_time": "2023-10-18T11:21:00.442Z"
   },
   {
    "duration": 191,
    "start_time": "2023-10-18T11:21:18.616Z"
   },
   {
    "duration": 95,
    "start_time": "2023-10-18T11:21:52.339Z"
   },
   {
    "duration": 736,
    "start_time": "2023-10-18T11:21:57.684Z"
   },
   {
    "duration": 636,
    "start_time": "2023-10-18T11:22:13.168Z"
   },
   {
    "duration": 635,
    "start_time": "2023-10-18T11:22:35.290Z"
   },
   {
    "duration": 634,
    "start_time": "2023-10-18T11:23:07.206Z"
   },
   {
    "duration": 783,
    "start_time": "2023-10-18T11:27:19.700Z"
   },
   {
    "duration": 617,
    "start_time": "2023-10-18T11:27:27.675Z"
   },
   {
    "duration": 263,
    "start_time": "2023-10-18T11:28:09.782Z"
   },
   {
    "duration": 283,
    "start_time": "2023-10-18T11:28:17.668Z"
   },
   {
    "duration": 274,
    "start_time": "2023-10-18T11:28:37.582Z"
   },
   {
    "duration": 282,
    "start_time": "2023-10-18T11:28:56.832Z"
   },
   {
    "duration": 4,
    "start_time": "2023-10-18T11:30:26.935Z"
   },
   {
    "duration": 278,
    "start_time": "2023-10-18T11:30:36.309Z"
   },
   {
    "duration": 752,
    "start_time": "2023-10-18T11:30:53.363Z"
   },
   {
    "duration": 594,
    "start_time": "2023-10-18T11:30:59.478Z"
   },
   {
    "duration": 644,
    "start_time": "2023-10-18T11:31:37.172Z"
   },
   {
    "duration": 616,
    "start_time": "2023-10-18T11:31:45.274Z"
   },
   {
    "duration": 89,
    "start_time": "2023-10-18T11:32:50.215Z"
   },
   {
    "duration": 167,
    "start_time": "2023-10-18T11:33:02.273Z"
   },
   {
    "duration": 427,
    "start_time": "2023-10-18T11:33:09.482Z"
   },
   {
    "duration": 124,
    "start_time": "2023-10-18T11:33:52.149Z"
   },
   {
    "duration": 690,
    "start_time": "2023-10-18T11:35:30.088Z"
   },
   {
    "duration": 656,
    "start_time": "2023-10-18T11:35:58.591Z"
   },
   {
    "duration": 733,
    "start_time": "2023-10-18T11:36:24.124Z"
   },
   {
    "duration": 837,
    "start_time": "2023-10-18T11:36:30.489Z"
   },
   {
    "duration": 644,
    "start_time": "2023-10-18T11:36:40.407Z"
   },
   {
    "duration": 630,
    "start_time": "2023-10-18T11:36:45.788Z"
   },
   {
    "duration": 689,
    "start_time": "2023-10-18T11:38:54.643Z"
   },
   {
    "duration": 474,
    "start_time": "2023-10-18T11:39:56.746Z"
   },
   {
    "duration": 93,
    "start_time": "2023-10-18T11:40:16.030Z"
   },
   {
    "duration": 892,
    "start_time": "2023-10-18T11:43:23.287Z"
   },
   {
    "duration": 696,
    "start_time": "2023-10-18T11:44:15.782Z"
   },
   {
    "duration": 884,
    "start_time": "2023-10-18T11:44:18.685Z"
   },
   {
    "duration": 740,
    "start_time": "2023-10-18T11:51:18.939Z"
   },
   {
    "duration": 10,
    "start_time": "2023-10-18T12:15:48.983Z"
   },
   {
    "duration": 704,
    "start_time": "2023-10-18T12:15:51.585Z"
   },
   {
    "duration": 3091,
    "start_time": "2023-10-18T12:16:00.937Z"
   },
   {
    "duration": 2970,
    "start_time": "2023-10-18T12:16:04.126Z"
   },
   {
    "duration": 12,
    "start_time": "2023-10-18T12:26:55.407Z"
   },
   {
    "duration": 12,
    "start_time": "2023-10-18T12:28:21.982Z"
   },
   {
    "duration": 11,
    "start_time": "2023-10-18T12:29:07.443Z"
   },
   {
    "duration": 9,
    "start_time": "2023-10-18T12:29:31.667Z"
   },
   {
    "duration": 8,
    "start_time": "2023-10-18T12:29:45.347Z"
   },
   {
    "duration": 11,
    "start_time": "2023-10-18T12:29:58.741Z"
   },
   {
    "duration": 12,
    "start_time": "2023-10-18T12:46:23.920Z"
   },
   {
    "duration": 145,
    "start_time": "2023-10-18T13:43:25.652Z"
   },
   {
    "duration": 272,
    "start_time": "2023-10-18T13:56:09.339Z"
   },
   {
    "duration": 227,
    "start_time": "2023-10-18T14:00:20.144Z"
   },
   {
    "duration": 63,
    "start_time": "2023-10-18T14:00:28.556Z"
   },
   {
    "duration": 2133,
    "start_time": "2023-10-18T14:00:39.924Z"
   },
   {
    "duration": 22,
    "start_time": "2023-10-18T14:01:11.248Z"
   },
   {
    "duration": 2230,
    "start_time": "2023-10-18T14:02:14.385Z"
   },
   {
    "duration": 35,
    "start_time": "2023-10-18T14:02:19.727Z"
   },
   {
    "duration": 32,
    "start_time": "2023-10-18T14:02:45.780Z"
   },
   {
    "duration": 54,
    "start_time": "2023-10-18T14:02:54.513Z"
   },
   {
    "duration": 2138,
    "start_time": "2023-10-18T14:05:26.603Z"
   },
   {
    "duration": 1336,
    "start_time": "2023-10-18T14:06:06.967Z"
   },
   {
    "duration": 263,
    "start_time": "2023-10-18T14:06:08.305Z"
   },
   {
    "duration": 6,
    "start_time": "2023-10-18T14:06:08.571Z"
   },
   {
    "duration": 1976,
    "start_time": "2023-10-18T14:06:08.579Z"
   },
   {
    "duration": 8,
    "start_time": "2023-10-18T14:06:10.557Z"
   },
   {
    "duration": 34,
    "start_time": "2023-10-18T14:06:10.567Z"
   },
   {
    "duration": 19,
    "start_time": "2023-10-18T14:06:10.603Z"
   },
   {
    "duration": 19,
    "start_time": "2023-10-18T14:06:10.624Z"
   },
   {
    "duration": 23,
    "start_time": "2023-10-18T14:06:10.644Z"
   },
   {
    "duration": 35,
    "start_time": "2023-10-18T14:06:10.670Z"
   },
   {
    "duration": 6,
    "start_time": "2023-10-18T14:06:10.707Z"
   },
   {
    "duration": 232,
    "start_time": "2023-10-18T14:06:10.714Z"
   },
   {
    "duration": 15,
    "start_time": "2023-10-18T14:06:10.947Z"
   },
   {
    "duration": 37,
    "start_time": "2023-10-18T14:06:10.964Z"
   },
   {
    "duration": 39,
    "start_time": "2023-10-18T14:06:11.003Z"
   },
   {
    "duration": 377,
    "start_time": "2023-10-18T14:06:11.043Z"
   },
   {
    "duration": 16,
    "start_time": "2023-10-18T14:06:11.422Z"
   },
   {
    "duration": 647,
    "start_time": "2023-10-18T14:06:11.440Z"
   },
   {
    "duration": 288,
    "start_time": "2023-10-18T14:06:12.089Z"
   },
   {
    "duration": 10,
    "start_time": "2023-10-18T14:06:12.379Z"
   },
   {
    "duration": 28,
    "start_time": "2023-10-18T14:06:12.402Z"
   },
   {
    "duration": 17,
    "start_time": "2023-10-18T14:06:12.432Z"
   },
   {
    "duration": 797,
    "start_time": "2023-10-18T14:06:12.451Z"
   },
   {
    "duration": 301,
    "start_time": "2023-10-18T14:06:13.250Z"
   },
   {
    "duration": 10,
    "start_time": "2023-10-18T14:06:13.553Z"
   },
   {
    "duration": 940,
    "start_time": "2023-10-18T14:06:13.565Z"
   },
   {
    "duration": 7,
    "start_time": "2023-10-18T14:06:14.507Z"
   },
   {
    "duration": 773,
    "start_time": "2023-10-18T14:06:14.518Z"
   },
   {
    "duration": 16,
    "start_time": "2023-10-18T14:06:15.293Z"
   },
   {
    "duration": 47,
    "start_time": "2023-10-18T14:06:15.311Z"
   },
   {
    "duration": 731,
    "start_time": "2023-10-18T14:06:15.360Z"
   },
   {
    "duration": 16,
    "start_time": "2023-10-18T14:06:16.093Z"
   },
   {
    "duration": 1999,
    "start_time": "2023-10-18T14:06:16.111Z"
   },
   {
    "duration": 3,
    "start_time": "2023-10-18T14:06:18.112Z"
   },
   {
    "duration": 13,
    "start_time": "2023-10-18T14:06:18.117Z"
   },
   {
    "duration": 3919,
    "start_time": "2023-10-18T14:06:18.132Z"
   },
   {
    "duration": 7,
    "start_time": "2023-10-18T14:06:22.053Z"
   },
   {
    "duration": 27,
    "start_time": "2023-10-18T14:06:22.062Z"
   },
   {
    "duration": 40,
    "start_time": "2023-10-18T14:06:22.091Z"
   },
   {
    "duration": 328,
    "start_time": "2023-10-18T14:06:22.133Z"
   },
   {
    "duration": 123,
    "start_time": "2023-10-18T14:06:22.462Z"
   },
   {
    "duration": 3116,
    "start_time": "2023-10-18T14:06:22.587Z"
   },
   {
    "duration": 4,
    "start_time": "2023-10-18T14:06:25.705Z"
   },
   {
    "duration": 27,
    "start_time": "2023-10-18T14:06:25.710Z"
   },
   {
    "duration": 449,
    "start_time": "2023-10-18T14:06:25.739Z"
   },
   {
    "duration": 2119,
    "start_time": "2023-10-18T14:08:38.863Z"
   },
   {
    "duration": 11,
    "start_time": "2023-10-18T14:10:53.172Z"
   },
   {
    "duration": 9,
    "start_time": "2023-10-18T14:11:24.434Z"
   },
   {
    "duration": 10,
    "start_time": "2023-10-18T14:12:45.502Z"
   },
   {
    "duration": 8,
    "start_time": "2023-10-18T14:15:59.927Z"
   },
   {
    "duration": 9,
    "start_time": "2023-10-18T14:16:29.683Z"
   },
   {
    "duration": 8,
    "start_time": "2023-10-18T14:16:37.127Z"
   },
   {
    "duration": 10,
    "start_time": "2023-10-18T14:16:42.543Z"
   },
   {
    "duration": 8,
    "start_time": "2023-10-18T14:16:55.058Z"
   },
   {
    "duration": 10,
    "start_time": "2023-10-18T14:17:03.173Z"
   },
   {
    "duration": 8,
    "start_time": "2023-10-18T14:17:27.315Z"
   },
   {
    "duration": 8,
    "start_time": "2023-10-18T14:17:37.055Z"
   },
   {
    "duration": 212,
    "start_time": "2023-10-18T14:18:10.262Z"
   },
   {
    "duration": 409,
    "start_time": "2023-10-18T14:19:35.418Z"
   },
   {
    "duration": 345,
    "start_time": "2023-10-18T14:19:48.001Z"
   },
   {
    "duration": 284,
    "start_time": "2023-10-18T14:20:15.712Z"
   },
   {
    "duration": 87,
    "start_time": "2023-10-18T14:21:47.953Z"
   },
   {
    "duration": 8,
    "start_time": "2023-10-18T14:27:36.158Z"
   },
   {
    "duration": 7,
    "start_time": "2023-10-18T14:28:23.419Z"
   },
   {
    "duration": 7,
    "start_time": "2023-10-18T14:28:35.058Z"
   },
   {
    "duration": 103,
    "start_time": "2023-10-18T14:29:28.292Z"
   },
   {
    "duration": 13,
    "start_time": "2023-10-18T14:38:21.809Z"
   },
   {
    "duration": 105,
    "start_time": "2023-10-18T14:38:32.381Z"
   },
   {
    "duration": 3149,
    "start_time": "2023-10-18T14:38:33.936Z"
   },
   {
    "duration": 3148,
    "start_time": "2023-10-18T14:46:09.216Z"
   },
   {
    "duration": 3205,
    "start_time": "2023-10-18T14:46:46.945Z"
   },
   {
    "duration": 3219,
    "start_time": "2023-10-18T14:47:44.063Z"
   },
   {
    "duration": 3231,
    "start_time": "2023-10-18T14:53:29.193Z"
   },
   {
    "duration": 506,
    "start_time": "2023-10-18T14:54:01.209Z"
   },
   {
    "duration": 5,
    "start_time": "2023-10-18T14:54:15.262Z"
   },
   {
    "duration": 6,
    "start_time": "2023-10-18T14:54:16.773Z"
   },
   {
    "duration": 583,
    "start_time": "2023-10-18T14:54:18.195Z"
   },
   {
    "duration": 797,
    "start_time": "2023-10-18T14:54:57.386Z"
   },
   {
    "duration": 512,
    "start_time": "2023-10-18T14:56:25.682Z"
   },
   {
    "duration": 531,
    "start_time": "2023-10-18T14:57:25.479Z"
   },
   {
    "duration": 516,
    "start_time": "2023-10-18T14:57:45.716Z"
   },
   {
    "duration": 565,
    "start_time": "2023-10-18T14:57:50.461Z"
   },
   {
    "duration": 546,
    "start_time": "2023-10-18T14:57:57.673Z"
   },
   {
    "duration": 120,
    "start_time": "2023-10-18T15:00:45.021Z"
   },
   {
    "duration": 113,
    "start_time": "2023-10-18T15:01:31.166Z"
   },
   {
    "duration": 1306,
    "start_time": "2023-10-18T15:06:10.696Z"
   },
   {
    "duration": 303,
    "start_time": "2023-10-18T15:06:12.004Z"
   },
   {
    "duration": 6,
    "start_time": "2023-10-18T15:06:12.309Z"
   },
   {
    "duration": 2006,
    "start_time": "2023-10-18T15:06:12.317Z"
   },
   {
    "duration": 8,
    "start_time": "2023-10-18T15:06:14.325Z"
   },
   {
    "duration": 18,
    "start_time": "2023-10-18T15:06:14.334Z"
   },
   {
    "duration": 27,
    "start_time": "2023-10-18T15:06:14.354Z"
   },
   {
    "duration": 26,
    "start_time": "2023-10-18T15:06:14.382Z"
   },
   {
    "duration": 39,
    "start_time": "2023-10-18T15:06:14.409Z"
   },
   {
    "duration": 25,
    "start_time": "2023-10-18T15:06:14.450Z"
   },
   {
    "duration": 6,
    "start_time": "2023-10-18T15:06:14.476Z"
   },
   {
    "duration": 288,
    "start_time": "2023-10-18T15:06:14.483Z"
   },
   {
    "duration": 31,
    "start_time": "2023-10-18T15:06:14.773Z"
   },
   {
    "duration": 18,
    "start_time": "2023-10-18T15:06:14.807Z"
   },
   {
    "duration": 18,
    "start_time": "2023-10-18T15:06:14.826Z"
   },
   {
    "duration": 335,
    "start_time": "2023-10-18T15:06:14.845Z"
   },
   {
    "duration": 28,
    "start_time": "2023-10-18T15:06:15.182Z"
   },
   {
    "duration": 616,
    "start_time": "2023-10-18T15:06:15.212Z"
   },
   {
    "duration": 287,
    "start_time": "2023-10-18T15:06:15.829Z"
   },
   {
    "duration": 9,
    "start_time": "2023-10-18T15:06:16.118Z"
   },
   {
    "duration": 22,
    "start_time": "2023-10-18T15:06:16.129Z"
   },
   {
    "duration": 14,
    "start_time": "2023-10-18T15:06:16.153Z"
   },
   {
    "duration": 766,
    "start_time": "2023-10-18T15:06:16.168Z"
   },
   {
    "duration": 306,
    "start_time": "2023-10-18T15:06:16.936Z"
   },
   {
    "duration": 9,
    "start_time": "2023-10-18T15:06:17.244Z"
   },
   {
    "duration": 896,
    "start_time": "2023-10-18T15:06:17.255Z"
   },
   {
    "duration": 5,
    "start_time": "2023-10-18T15:06:18.153Z"
   },
   {
    "duration": 726,
    "start_time": "2023-10-18T15:06:18.159Z"
   },
   {
    "duration": 21,
    "start_time": "2023-10-18T15:06:18.886Z"
   },
   {
    "duration": 12,
    "start_time": "2023-10-18T15:06:18.909Z"
   },
   {
    "duration": 768,
    "start_time": "2023-10-18T15:06:18.922Z"
   },
   {
    "duration": 15,
    "start_time": "2023-10-18T15:06:19.691Z"
   },
   {
    "duration": 1944,
    "start_time": "2023-10-18T15:06:19.708Z"
   },
   {
    "duration": 4,
    "start_time": "2023-10-18T15:06:21.654Z"
   },
   {
    "duration": 20,
    "start_time": "2023-10-18T15:06:21.659Z"
   },
   {
    "duration": 4053,
    "start_time": "2023-10-18T15:06:21.681Z"
   },
   {
    "duration": 9,
    "start_time": "2023-10-18T15:06:25.736Z"
   },
   {
    "duration": 30,
    "start_time": "2023-10-18T15:06:25.746Z"
   },
   {
    "duration": 39,
    "start_time": "2023-10-18T15:06:25.777Z"
   },
   {
    "duration": 321,
    "start_time": "2023-10-18T15:06:25.818Z"
   },
   {
    "duration": 7,
    "start_time": "2023-10-18T15:06:26.144Z"
   },
   {
    "duration": 233,
    "start_time": "2023-10-18T15:06:26.153Z"
   },
   {
    "duration": 2993,
    "start_time": "2023-10-18T15:06:26.388Z"
   },
   {
    "duration": 4,
    "start_time": "2023-10-18T15:06:29.384Z"
   },
   {
    "duration": 34,
    "start_time": "2023-10-18T15:06:29.403Z"
   },
   {
    "duration": 631,
    "start_time": "2023-10-18T15:06:29.439Z"
   },
   {
    "duration": 85,
    "start_time": "2023-10-19T07:11:49.825Z"
   },
   {
    "duration": 187,
    "start_time": "2023-10-19T07:14:46.160Z"
   },
   {
    "duration": 43,
    "start_time": "2023-10-19T07:15:45.374Z"
   },
   {
    "duration": 1233,
    "start_time": "2023-10-19T07:15:58.175Z"
   },
   {
    "duration": 397,
    "start_time": "2023-10-19T07:15:59.410Z"
   },
   {
    "duration": 6,
    "start_time": "2023-10-19T07:15:59.808Z"
   },
   {
    "duration": 1597,
    "start_time": "2023-10-19T07:15:59.815Z"
   },
   {
    "duration": 7,
    "start_time": "2023-10-19T07:16:01.413Z"
   },
   {
    "duration": 77,
    "start_time": "2023-10-19T07:16:01.421Z"
   },
   {
    "duration": 82,
    "start_time": "2023-10-19T07:16:01.500Z"
   },
   {
    "duration": 30,
    "start_time": "2023-10-19T07:16:01.584Z"
   },
   {
    "duration": 43,
    "start_time": "2023-10-19T07:16:01.615Z"
   },
   {
    "duration": 130,
    "start_time": "2023-10-19T07:16:01.661Z"
   },
   {
    "duration": 65,
    "start_time": "2023-10-19T07:16:01.793Z"
   },
   {
    "duration": 203,
    "start_time": "2023-10-19T07:16:01.859Z"
   },
   {
    "duration": 14,
    "start_time": "2023-10-19T07:16:02.063Z"
   },
   {
    "duration": 120,
    "start_time": "2023-10-19T07:16:02.078Z"
   },
   {
    "duration": 48,
    "start_time": "2023-10-19T07:16:02.199Z"
   },
   {
    "duration": 570,
    "start_time": "2023-10-19T07:16:02.248Z"
   },
   {
    "duration": 13,
    "start_time": "2023-10-19T07:16:02.819Z"
   },
   {
    "duration": 518,
    "start_time": "2023-10-19T07:16:02.840Z"
   },
   {
    "duration": 240,
    "start_time": "2023-10-19T07:16:03.359Z"
   },
   {
    "duration": 9,
    "start_time": "2023-10-19T07:16:03.601Z"
   },
   {
    "duration": 27,
    "start_time": "2023-10-19T07:16:03.612Z"
   },
   {
    "duration": 12,
    "start_time": "2023-10-19T07:16:03.641Z"
   },
   {
    "duration": 611,
    "start_time": "2023-10-19T07:16:03.655Z"
   },
   {
    "duration": 250,
    "start_time": "2023-10-19T07:16:04.268Z"
   },
   {
    "duration": 8,
    "start_time": "2023-10-19T07:16:04.520Z"
   },
   {
    "duration": 717,
    "start_time": "2023-10-19T07:16:04.539Z"
   },
   {
    "duration": 4,
    "start_time": "2023-10-19T07:16:05.258Z"
   },
   {
    "duration": 697,
    "start_time": "2023-10-19T07:16:05.266Z"
   },
   {
    "duration": 9,
    "start_time": "2023-10-19T07:16:05.965Z"
   },
   {
    "duration": 16,
    "start_time": "2023-10-19T07:16:05.976Z"
   },
   {
    "duration": 676,
    "start_time": "2023-10-19T07:16:05.994Z"
   },
   {
    "duration": 10,
    "start_time": "2023-10-19T07:16:06.672Z"
   },
   {
    "duration": 1589,
    "start_time": "2023-10-19T07:16:06.683Z"
   },
   {
    "duration": 3,
    "start_time": "2023-10-19T07:16:08.274Z"
   },
   {
    "duration": 8,
    "start_time": "2023-10-19T07:16:08.278Z"
   },
   {
    "duration": 3858,
    "start_time": "2023-10-19T07:16:08.287Z"
   },
   {
    "duration": 6,
    "start_time": "2023-10-19T07:16:12.146Z"
   },
   {
    "duration": 8,
    "start_time": "2023-10-19T07:16:12.154Z"
   },
   {
    "duration": 26,
    "start_time": "2023-10-19T07:16:12.163Z"
   },
   {
    "duration": 361,
    "start_time": "2023-10-19T07:16:12.191Z"
   },
   {
    "duration": 6,
    "start_time": "2023-10-19T07:16:12.554Z"
   },
   {
    "duration": 108,
    "start_time": "2023-10-19T07:16:12.561Z"
   },
   {
    "duration": 2536,
    "start_time": "2023-10-19T07:16:12.671Z"
   },
   {
    "duration": 4,
    "start_time": "2023-10-19T07:16:15.208Z"
   },
   {
    "duration": 19,
    "start_time": "2023-10-19T07:16:15.213Z"
   },
   {
    "duration": 516,
    "start_time": "2023-10-19T07:16:15.233Z"
   },
   {
    "duration": 133,
    "start_time": "2023-10-19T07:16:58.684Z"
   },
   {
    "duration": 82,
    "start_time": "2023-10-19T07:17:03.764Z"
   },
   {
    "duration": 175,
    "start_time": "2023-10-19T07:17:13.831Z"
   },
   {
    "duration": 415,
    "start_time": "2023-10-19T07:17:55.805Z"
   }
  ],
  "kernelspec": {
   "display_name": "Python 3 (ipykernel)",
   "language": "python",
   "name": "python3"
  },
  "language_info": {
   "codemirror_mode": {
    "name": "ipython",
    "version": 3
   },
   "file_extension": ".py",
   "mimetype": "text/x-python",
   "name": "python",
   "nbconvert_exporter": "python",
   "pygments_lexer": "ipython3",
   "version": "3.9.7"
  },
  "toc": {
   "base_numbering": 1,
   "nav_menu": {},
   "number_sections": true,
   "sideBar": true,
   "skip_h1_title": true,
   "title_cell": "Table of Contents",
   "title_sidebar": "Contents",
   "toc_cell": false,
   "toc_position": {},
   "toc_section_display": true,
   "toc_window_display": false
  }
 },
 "nbformat": 4,
 "nbformat_minor": 5
}
