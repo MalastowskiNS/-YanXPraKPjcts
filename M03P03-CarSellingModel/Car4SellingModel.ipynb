{
 "cells": [
  {
   "cell_type": "markdown",
   "id": "85a1609c-0e8d-4d14-aafd-22486d1bc79b",
   "metadata": {},
   "source": [
    "# Расчет стоимости автомобиля при продаже для компании «Не бит, не крашен»\n",
    "**Аннотация:** Сервис по продаже автомобилей с пробегом «Не бит, не крашен» разрабатывает приложение для привлечения новых клиентов. В нём можно быстро узнать рыночную стоимость своего автомобиля. В вашем распоряжении исторические данные: технические характеристики, комплектации и цены автомобилей. Вам нужно построить модель для определения стоимости. Заказчику важны:\n",
    " - качество предсказания;\n",
    " - скорость предсказания;\n",
    " - время обучения."
   ]
  },
  {
   "cell_type": "code",
   "execution_count": null,
   "id": "cc32318d-3729-4d50-bddc-cf14682af2ed",
   "metadata": {},
   "outputs": [],
   "source": []
  },
  {
   "cell_type": "markdown",
   "id": "ef36f050-d2e8-4605-b013-e137373444ad",
   "metadata": {},
   "source": [
    "Загрузка необходимых библиотек:"
   ]
  },
  {
   "cell_type": "code",
   "execution_count": 1,
   "id": "6e9dd02f-8ef0-4345-af3e-8b4105b5e193",
   "metadata": {},
   "outputs": [
    {
     "name": "stderr",
     "output_type": "stream",
     "text": [
      "WARNING: Ignoring invalid distribution -atplotlib (w:\\_practicumyandex\\practicum\\practicum_env\\lib\\site-packages)\n",
      "WARNING: Ignoring invalid distribution -atplotlib (w:\\_practicumyandex\\practicum\\practicum_env\\lib\\site-packages)\n",
      "\n",
      "[notice] A new release of pip is available: 23.3.2 -> 24.0\n",
      "[notice] To update, run: python.exe -m pip install --upgrade pip\n",
      "WARNING: Ignoring invalid distribution -atplotlib (w:\\_practicumyandex\\practicum\\practicum_env\\lib\\site-packages)\n",
      "WARNING: Ignoring invalid distribution -atplotlib (w:\\_practicumyandex\\practicum\\practicum_env\\lib\\site-packages)\n",
      "\n",
      "[notice] A new release of pip is available: 23.3.2 -> 24.0\n",
      "[notice] To update, run: python.exe -m pip install --upgrade pip\n",
      "WARNING: Ignoring invalid distribution -atplotlib (w:\\_practicumyandex\\practicum\\practicum_env\\lib\\site-packages)\n",
      "WARNING: Ignoring invalid distribution -atplotlib (w:\\_practicumyandex\\practicum\\practicum_env\\lib\\site-packages)\n",
      "\n",
      "[notice] A new release of pip is available: 23.3.2 -> 24.0\n",
      "[notice] To update, run: python.exe -m pip install --upgrade pip\n",
      "WARNING: Ignoring invalid distribution -atplotlib (w:\\_practicumyandex\\practicum\\practicum_env\\lib\\site-packages)\n",
      "WARNING: Ignoring invalid distribution -atplotlib (w:\\_practicumyandex\\practicum\\practicum_env\\lib\\site-packages)\n",
      "\n",
      "[notice] A new release of pip is available: 23.3.2 -> 24.0\n",
      "[notice] To update, run: python.exe -m pip install --upgrade pip\n",
      "WARNING: Ignoring invalid distribution -atplotlib (w:\\_practicumyandex\\practicum\\practicum_env\\lib\\site-packages)\n",
      "WARNING: visions 0.7.5 does not provide the extra 'type-image-path'\n",
      "WARNING: Ignoring invalid distribution -atplotlib (w:\\_practicumyandex\\practicum\\practicum_env\\lib\\site-packages)\n",
      "\n",
      "[notice] A new release of pip is available: 23.3.2 -> 24.0\n",
      "[notice] To update, run: python.exe -m pip install --upgrade pip\n"
     ]
    }
   ],
   "source": [
    "!pip install -q phik==0.11.1\n",
    "!pip install -q scikit-learn==1.1.3\n",
    "!pip install -q shap\n",
    "!pip install -q sweetviz\n",
    "!pip install -q ydata-profiling"
   ]
  },
  {
   "cell_type": "code",
   "execution_count": 2,
   "id": "5cd22736-ab9a-4db3-afa8-842e049dad38",
   "metadata": {},
   "outputs": [],
   "source": [
    "import pandas as pd\n",
    "import seaborn as sns\n",
    "import numpy as np\n",
    "import matplotlib.pyplot as plt\n",
    "from scipy.stats import shapiro\n",
    "from scipy import stats as st\n",
    "import phik\n",
    "import shap\n",
    "import sweetviz as sv\n",
    "from IPython.display import HTML\n",
    "from ydata_profiling import ProfileReport"
   ]
  },
  {
   "cell_type": "code",
   "execution_count": 3,
   "id": "2f730b39-fc92-4ecb-8df7-143cc6681f27",
   "metadata": {},
   "outputs": [],
   "source": [
    "# подготовка данных\n",
    "from sklearn.model_selection import train_test_split\n",
    "# модели\n",
    "from sklearn.linear_model import LinearRegression\n",
    "from sklearn.dummy import DummyRegressor\n",
    "# pipeline\n",
    "from sklearn.pipeline import Pipeline\n",
    "from sklearn.compose import ColumnTransformer\n",
    "from sklearn.impute import SimpleImputer\n",
    "from sklearn.preprocessing import StandardScaler, MinMaxScaler, RobustScaler, QuantileTransformer, PolynomialFeatures\n",
    "# метрики регрессии\n",
    "from sklearn.metrics import mean_absolute_error"
   ]
  },
  {
   "cell_type": "code",
   "execution_count": 4,
   "id": "df98ef66-b4c7-4c66-82b5-3369c97970fc",
   "metadata": {},
   "outputs": [],
   "source": [
    "# Константы\n",
    "RANDOM_STATE = 42\n",
    "TEST_SIZE = 0.25         # Размер тестовой выборки\n",
    "INVESTIG_POINTS = 500    # Cкважины при разведки региона\n",
    "CHOSEN_POINTS = 200      # Cкважины для разработки в регионе\n",
    "BS_SAMPLES = 1000        # Кол-во выборок для Bootstrap\n",
    "BUDGET = 10E6            # Бюджет на разработку скважин в регионе\n",
    "BARREL_PRICE = 450       # Цена одного барреля сырья \n",
    "LOSSES_PROP  = 0.025     # Предельная вероятность убытков"
   ]
  },
  {
   "cell_type": "markdown",
   "id": "b4822c7a-bab3-4ecc-9042-85c42910ab77",
   "metadata": {},
   "source": [
    "## Загрузка и подготовка данных"
   ]
  },
  {
   "cell_type": "markdown",
   "id": "d34f6a54-d414-422a-ba28-526213442382",
   "metadata": {},
   "source": [
    "Чтение исходных данных в таблицы:"
   ]
  },
  {
   "cell_type": "code",
   "execution_count": 7,
   "id": "9c28c21f-02ea-4ab9-91b0-7ce7ef3fd159",
   "metadata": {},
   "outputs": [],
   "source": [
    "try:\n",
    "    car4cell = pd.read_csv('autos.csv')\n",
    "except:\n",
    "    car4cell = pd.read_csv('/datasets/autos.csv')"
   ]
  },
  {
   "cell_type": "code",
   "execution_count": null,
   "id": "887b5373-c744-4ae9-b6d9-054293cf2357",
   "metadata": {},
   "outputs": [],
   "source": []
  },
  {
   "cell_type": "code",
   "execution_count": null,
   "id": "98e3677b-3ef4-4606-b9f4-95ab7721432a",
   "metadata": {},
   "outputs": [],
   "source": []
  },
  {
   "cell_type": "code",
   "execution_count": null,
   "id": "6ae8a157-6c2c-4173-bfa5-22b8a408b1f1",
   "metadata": {},
   "outputs": [],
   "source": []
  },
  {
   "cell_type": "code",
   "execution_count": null,
   "id": "0e283a63-16b9-4afa-8af4-0e0e8924e731",
   "metadata": {},
   "outputs": [],
   "source": []
  },
  {
   "cell_type": "code",
   "execution_count": null,
   "id": "15bda1e1-6a68-42aa-a6ef-93530d36137d",
   "metadata": {},
   "outputs": [],
   "source": []
  },
  {
   "cell_type": "code",
   "execution_count": null,
   "id": "7f2d9c86-52a9-482f-809b-2690b1bf069f",
   "metadata": {},
   "outputs": [],
   "source": []
  }
 ],
 "metadata": {
  "kernelspec": {
   "display_name": "Python 3 (ipykernel)",
   "language": "python",
   "name": "python3"
  },
  "language_info": {
   "codemirror_mode": {
    "name": "ipython",
    "version": 3
   },
   "file_extension": ".py",
   "mimetype": "text/x-python",
   "name": "python",
   "nbconvert_exporter": "python",
   "pygments_lexer": "ipython3",
   "version": "3.9.7"
  }
 },
 "nbformat": 4,
 "nbformat_minor": 5
}
